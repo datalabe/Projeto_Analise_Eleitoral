{
 "cells": [
  {
   "cell_type": "markdown",
   "metadata": {},
   "source": [
    " # Análise Eleitoral Estado de São Paulo\n",
    " \n",
    "  ### Objetivos: Entender a distibuicao racial, etária e de genero dos candidatos ao cargo de verador por partido e território\n",
    "  ### Dados: http://www.tse.jus.br/eleicoes/estatisticas/repositorio-de-dados-eleitorais-1/repositorio-de-dados-eleitorais\n",
    "  \n",
    "  "
   ]
  },
  {
   "cell_type": "code",
   "execution_count": 1,
   "metadata": {},
   "outputs": [
    {
     "data": {
      "text/html": [
       "        <script type=\"text/javascript\">\n",
       "        window.PlotlyConfig = {MathJaxConfig: 'local'};\n",
       "        if (window.MathJax) {MathJax.Hub.Config({SVG: {font: \"STIX-Web\"}});}\n",
       "        if (typeof require !== 'undefined') {\n",
       "        require.undef(\"plotly\");\n",
       "        requirejs.config({\n",
       "            paths: {\n",
       "                'plotly': ['https://cdn.plot.ly/plotly-2.2.0.min']\n",
       "            }\n",
       "        });\n",
       "        require(['plotly'], function(Plotly) {\n",
       "            window._Plotly = Plotly;\n",
       "        });\n",
       "        }\n",
       "        </script>\n",
       "        "
      ]
     },
     "metadata": {},
     "output_type": "display_data"
    }
   ],
   "source": [
    "import pandas as pd\n",
    "import matplotlib.pyplot as plt\n",
    "import plotly.offline as py\n",
    "from plotly.subplots import make_subplots\n",
    "import plotly.express as px\n",
    "import plotly.graph_objs as go\n",
    "import cufflinks as cf\n",
    "import numpy as np\n",
    "\n",
    "\n",
    "py.init_notebook_mode(connected=True)\n",
    "\n",
    "%matplotlib inline"
   ]
  },
  {
   "cell_type": "code",
   "execution_count": 2,
   "metadata": {},
   "outputs": [],
   "source": [
    "# Definindo casas decimais\n",
    "decimais = 1"
   ]
  },
  {
   "cell_type": "code",
   "execution_count": 3,
   "metadata": {},
   "outputs": [],
   "source": [
    "consulta = pd.read_csv('consulta_cand_2016_SP.csv', sep=';', encoding='latin-1', low_memory=False)"
   ]
  },
  {
   "cell_type": "code",
   "execution_count": 4,
   "metadata": {},
   "outputs": [],
   "source": [
    "consulta2016 = pd.DataFrame(consulta, columns= ['DS_CARGO','NM_CANDIDATO', 'NM_SOCIAL_CANDIDATO', 'NM_PARTIDO','DS_GENERO',\n",
    "                                                'DS_COR_RACA', 'NR_IDADE_DATA_POSSE', 'DS_GRAU_INSTRUCAO','NM_UE', 'VR_DESPESA_MAX_CAMPANHA'])"
   ]
  },
  {
   "cell_type": "code",
   "execution_count": 5,
   "metadata": {},
   "outputs": [],
   "source": [
    "consulta_Vereador_2016 = consulta2016.loc[consulta['DS_CARGO'] == 'VEREADOR']"
   ]
  },
  {
   "cell_type": "code",
   "execution_count": 6,
   "metadata": {},
   "outputs": [],
   "source": [
    "# Renomeando a coluna raça para os declarados pretos e pardos\n",
    "for (row, col) in consulta_Vereador_2016.iterrows():\n",
    "    if col.DS_COR_RACA == 'PRETA':\n",
    "        consulta_Vereador_2016['DS_COR_RACA'].replace(to_replace=col.DS_COR_RACA, value='NEGRA', inplace=True)\n",
    "    if col.DS_COR_RACA == 'PARDA':\n",
    "        consulta_Vereador_2016['DS_COR_RACA'].replace(to_replace=col.DS_COR_RACA, value='NEGRA', inplace=True)"
   ]
  },
  {
   "cell_type": "code",
   "execution_count": 7,
   "metadata": {},
   "outputs": [],
   "source": [
    "consulta_Vereador_2016.to_csv('consulta_Vereador_2016_SP.csv')"
   ]
  },
  {
   "cell_type": "markdown",
   "metadata": {},
   "source": [
    "### Visão Geral\n",
    "\n",
    "Há 79690 candidaturas ao cargo de vereador,35 partidos e 645 unidades eleitorais.\n",
    "\n",
    "O partido com maior número de candidaturas em São Paulo é o PARTIDO DA SOCIAL DEMOCRACIA BRASILEIRA, já o PARTIDO COMUNISTA BRASILEIRO tem o menor número de candidaturas. \n",
    "\n",
    "SÃO PAULO é a unidade eleitoral com maior número de candidaturas,1315, ao contrário de BALBINOS que possui apenas 18 candidaturas.\n",
    "\n",
    " 69% das candidaturas são de homens, 75% são de declarados negros,  média de idade é de 42 anos e maioria dos candidatos tem  o ensino médio completo\n",
    " \n",
    " \n",
    " \n",
    " \n",
    " \n",
    " \n",
    " \n",
    " \n",
    " \n",
    " \n",
    " ***OBS:*** *A análise de raça foi feita a partir do que é entendido como população negra no Brasil por parte das instituições Data Labe e Alma Preta, assim foi considerados negros a soma de pretos e pardos*\n"
   ]
  },
  {
   "cell_type": "code",
   "execution_count": 8,
   "metadata": {
    "collapsed": true
   },
   "outputs": [
    {
     "data": {
      "text/plain": [
       "DS_CARGO                       1\n",
       "NM_CANDIDATO               79690\n",
       "NM_SOCIAL_CANDIDATO            2\n",
       "NM_PARTIDO                    35\n",
       "DS_GENERO                      3\n",
       "DS_COR_RACA                    5\n",
       "NR_IDADE_DATA_POSSE           75\n",
       "DS_GRAU_INSTRUCAO              9\n",
       "NM_UE                        645\n",
       "VR_DESPESA_MAX_CAMPANHA        3\n",
       "dtype: int64"
      ]
     },
     "execution_count": 8,
     "metadata": {},
     "output_type": "execute_result"
    }
   ],
   "source": [
    "consulta_Vereador_2016.nunique()"
   ]
  },
  {
   "cell_type": "code",
   "execution_count": 9,
   "metadata": {
    "collapsed": true
   },
   "outputs": [
    {
     "data": {
      "text/plain": [
       "PARTIDO DA SOCIAL DEMOCRACIA BRASILEIRA           7030\n",
       "PARTIDO DO MOVIMENTO DEMOCRÁTICO BRASILEIRO       5550\n",
       "PARTIDO TRABALHISTA BRASILEIRO                    5032\n",
       "PARTIDO VERDE                                     4754\n",
       "PARTIDO SOCIAL DEMOCRÁTICO                        4634\n",
       "DEMOCRATAS                                        4371\n",
       "PARTIDO SOCIALISTA BRASILEIRO                     4290\n",
       "PARTIDO DA REPÚBLICA                              3872\n",
       "PARTIDO POPULAR SOCIALISTA                        3738\n",
       "PARTIDO REPUBLICANO BRASILEIRO                    3504\n",
       "SOLIDARIEDADE                                     3137\n",
       "PARTIDO DOS TRABALHADORES                         2990\n",
       "PARTIDO DEMOCRÁTICO TRABALHISTA                   2890\n",
       "PARTIDO PROGRESSISTA                              2611\n",
       "PARTIDO SOCIAL CRISTÃO                            2544\n",
       "PARTIDO ECOLÓGICO NACIONAL                        2411\n",
       "PARTIDO TRABALHISTA NACIONAL                      2031\n",
       "PARTIDO REPUBLICANO PROGRESSISTA                  1987\n",
       "PARTIDO HUMANISTA DA SOLIDARIEDADE                1852\n",
       "PARTIDO REPUBLICANO DA ORDEM SOCIAL               1688\n",
       "PARTIDO SOCIAL LIBERAL                            1652\n",
       "PARTIDO COMUNISTA DO BRASIL                       1429\n",
       "PARTIDO SOCIAL DEMOCRATA CRISTÃO                  1199\n",
       "PARTIDO SOCIALISMO E LIBERDADE                    1049\n",
       "PARTIDO TRABALHISTA CRISTÃO                       1002\n",
       "PARTIDO RENOVADOR TRABALHISTA BRASILEIRO           978\n",
       "PARTIDO DA MULHER BRASILEIRA                       977\n",
       "PARTIDO DA MOBILIZAÇÃO NACIONAL                    857\n",
       "PARTIDO TRABALHISTA DO BRASIL                      834\n",
       "REDE SUSTENTABILIDADE                              650\n",
       "PARTIDO PÁTRIA LIVRE                               423\n",
       "PARTIDO NOVO                                        45\n",
       "PARTIDO SOCIALISTA DOS TRABALHADORES UNIFICADO      42\n",
       "PARTIDO DA CAUSA OPERÁRIA                           17\n",
       "PARTIDO COMUNISTA BRASILEIRO                         4\n",
       "Name: NM_PARTIDO, dtype: int64"
      ]
     },
     "execution_count": 9,
     "metadata": {},
     "output_type": "execute_result"
    }
   ],
   "source": [
    "consulta_Vereador_2016['NM_PARTIDO'].value_counts()"
   ]
  },
  {
   "cell_type": "code",
   "execution_count": 11,
   "metadata": {
    "collapsed": true
   },
   "outputs": [
    {
     "data": {
      "text/plain": [
       "<AxesSubplot:title={'center':'DISTRIBUIÇÃO DE CANDIDATURAS POR PARTIDO'}>"
      ]
     },
     "execution_count": 11,
     "metadata": {},
     "output_type": "execute_result"
    },
    {
     "data": {
      "image/png": "[encoded data removed]",
      "text/plain": [
       "<Figure size 1080x720 with 1 Axes>"
      ]
     },
     "metadata": {
      "needs_background": "light"
     },
     "output_type": "display_data"
    }
   ],
   "source": [
    "consulta_Vereador_2016['NM_PARTIDO'].value_counts().plot(kind='barh', title='DISTRIBUIÇÃO DE CANDIDATURAS POR PARTIDO', figsize=(15,10))"
   ]
  },
  {
   "cell_type": "code",
   "execution_count": 12,
   "metadata": {
    "collapsed": true
   },
   "outputs": [
    {
     "data": {
      "text/plain": [
       "SÃO PAULO                   1315\n",
       "GUARULHOS                   1197\n",
       "CAMPINAS                     818\n",
       "SÃO BERNARDO DO CAMPO        724\n",
       "RIBEIRÃO PRETO               589\n",
       "                            ... \n",
       "ASPÁSIA                       24\n",
       "MESÓPOLIS                     24\n",
       "SÃO JOÃO DAS DUAS PONTES      20\n",
       "APARECIDA D'OESTE             20\n",
       "BALBINOS                      18\n",
       "Name: NM_UE, Length: 645, dtype: int64"
      ]
     },
     "execution_count": 12,
     "metadata": {},
     "output_type": "execute_result"
    }
   ],
   "source": [
    "consulta_Vereador_2016['NM_UE'].value_counts()"
   ]
  },
  {
   "cell_type": "code",
   "execution_count": 13,
   "metadata": {
    "collapsed": true
   },
   "outputs": [
    {
     "data": {
      "text/plain": [
       "count    82073.000000\n",
       "mean        45.766367\n",
       "std         11.632849\n",
       "min         18.000000\n",
       "25%         37.000000\n",
       "50%         46.000000\n",
       "75%         54.000000\n",
       "max         97.000000\n",
       "Name: NR_IDADE_DATA_POSSE, dtype: float64"
      ]
     },
     "execution_count": 13,
     "metadata": {},
     "output_type": "execute_result"
    }
   ],
   "source": [
    "consulta_Vereador_2016['NR_IDADE_DATA_POSSE'].describe()"
   ]
  },
  {
   "cell_type": "code",
   "execution_count": 22,
   "metadata": {},
   "outputs": [
    {
     "data": {
      "text/plain": [
       "MASCULINO         55036\n",
       "FEMININO          27037\n",
       "NÃO DIVULGÁVEL        1\n",
       "Name: DS_GENERO, dtype: int64"
      ]
     },
     "execution_count": 22,
     "metadata": {},
     "output_type": "execute_result"
    }
   ],
   "source": [
    "#Distribuição de Gênero\n",
    "consulta_Vereador_2016['DS_GENERO'].value_counts()*100/79690"
   ]
  },
  {
   "cell_type": "code",
   "execution_count": 17,
   "metadata": {
    "collapsed": true
   },
   "outputs": [
    {
     "data": {
      "text/plain": [
       "BRANCA            75.069645\n",
       "NEGRA             27.442590\n",
       "AMARELA            0.396537\n",
       "INDÍGENA           0.081566\n",
       "NÃO DIVULGÁVEL     0.001255\n",
       "Name: DS_COR_RACA, dtype: float64"
      ]
     },
     "execution_count": 17,
     "metadata": {},
     "output_type": "execute_result"
    }
   ],
   "source": [
    "consulta_Vereador_2016['DS_COR_RACA'].value_counts()*100/79690"
   ]
  },
  {
   "cell_type": "code",
   "execution_count": 16,
   "metadata": {
    "collapsed": true
   },
   "outputs": [
    {
     "data": {
      "text/plain": [
       "ENSINO MÉDIO COMPLETO            40.367675\n",
       "SUPERIOR COMPLETO                23.873761\n",
       "ENSINO FUNDAMENTAL COMPLETO      14.625424\n",
       "ENSINO FUNDAMENTAL INCOMPLETO    12.649015\n",
       "ENSINO MÉDIO INCOMPLETO           4.841260\n",
       "SUPERIOR INCOMPLETO               4.458527\n",
       "LÊ E ESCREVE                      2.172167\n",
       "ANALFABETO                        0.002510\n",
       "NÃO DIVULGÁVEL                    0.001255\n",
       "Name: DS_GRAU_INSTRUCAO, dtype: float64"
      ]
     },
     "execution_count": 16,
     "metadata": {},
     "output_type": "execute_result"
    }
   ],
   "source": [
    "consulta_Vereador_2016['DS_GRAU_INSTRUCAO'].value_counts()*100/79690"
   ]
  },
  {
   "cell_type": "markdown",
   "metadata": {},
   "source": [
    "### Relação de Raca e Gênero com os partidos e unidade eleitorais: Como é a representatividade em São Paulo?"
   ]
  },
  {
   "cell_type": "markdown",
   "metadata": {},
   "source": [
    "O Partido com maior número de candidatas de ambos os sexos é o PARTIDO DA SOCIAL DEMOCRACIA BRASILEIRA e assim como o partido com menor candidatura, PARTIDO COMUNISTA BRASILEIRO.\n",
    "\n",
    "São Paulo é a unidade eleitoral com maior número de candidatos de ambos os sexo ao cargo de vereador, já BALBINOS é unidade eleitoral com o menor número de candidatos de ambos os sexos. São Paulo tem a maioria dos candidatos de ambos os sexos declarados brancos, diferente de GUARULHOS que tem sua maioria declarados; seja homem ou mulher, negros.\n",
    "\n",
    "Quanto a candidatas, 68% são negras e em média tem 41 anos  . Já homens são a maioria negra, 73.6%, com 5 anos a mais que a média de idade das candidatas. Em ambos os sexos tem aproximadamente 39% dos candidatos com ensino médio completo e em torno de 2% que apenas lê  escreve.\n"
   ]
  },
  {
   "cell_type": "markdown",
   "metadata": {},
   "source": [
    "*feminino*"
   ]
  },
  {
   "cell_type": "code",
   "execution_count": 18,
   "metadata": {},
   "outputs": [],
   "source": [
    "# Criando um novo Dataframe só com mulheres\n",
    "fem = pd.DataFrame(consulta_Vereador_2016.loc[consulta_Vereador_2016['DS_GENERO'] == 'FEMININO'])"
   ]
  },
  {
   "cell_type": "code",
   "execution_count": 19,
   "metadata": {
    "collapsed": true
   },
   "outputs": [
    {
     "data": {
      "text/plain": [
       "PARTIDO DA SOCIAL DEMOCRACIA BRASILEIRA           2354\n",
       "PARTIDO DO MOVIMENTO DEMOCRÁTICO BRASILEIRO       1817\n",
       "PARTIDO TRABALHISTA BRASILEIRO                    1644\n",
       "PARTIDO VERDE                                     1601\n",
       "PARTIDO SOCIAL DEMOCRÁTICO                        1521\n",
       "DEMOCRATAS                                        1445\n",
       "PARTIDO SOCIALISTA BRASILEIRO                     1389\n",
       "PARTIDO DA REPÚBLICA                              1255\n",
       "PARTIDO POPULAR SOCIALISTA                        1198\n",
       "PARTIDO REPUBLICANO BRASILEIRO                    1154\n",
       "PARTIDO DOS TRABALHADORES                         1050\n",
       "SOLIDARIEDADE                                     1023\n",
       "PARTIDO DEMOCRÁTICO TRABALHISTA                    925\n",
       "PARTIDO PROGRESSISTA                               842\n",
       "PARTIDO ECOLÓGICO NACIONAL                         812\n",
       "PARTIDO SOCIAL CRISTÃO                             801\n",
       "PARTIDO TRABALHISTA NACIONAL                       661\n",
       "PARTIDO REPUBLICANO PROGRESSISTA                   626\n",
       "PARTIDO HUMANISTA DA SOLIDARIEDADE                 593\n",
       "PARTIDO SOCIAL LIBERAL                             536\n",
       "PARTIDO REPUBLICANO DA ORDEM SOCIAL                534\n",
       "PARTIDO COMUNISTA DO BRASIL                        467\n",
       "PARTIDO DA MULHER BRASILEIRA                       421\n",
       "PARTIDO SOCIAL DEMOCRATA CRISTÃO                   403\n",
       "PARTIDO SOCIALISMO E LIBERDADE                     367\n",
       "PARTIDO TRABALHISTA CRISTÃO                        319\n",
       "PARTIDO RENOVADOR TRABALHISTA BRASILEIRO           313\n",
       "PARTIDO TRABALHISTA DO BRASIL                      286\n",
       "PARTIDO DA MOBILIZAÇÃO NACIONAL                    274\n",
       "REDE SUSTENTABILIDADE                              213\n",
       "PARTIDO PÁTRIA LIVRE                               149\n",
       "PARTIDO SOCIALISTA DOS TRABALHADORES UNIFICADO      18\n",
       "PARTIDO NOVO                                        15\n",
       "PARTIDO DA CAUSA OPERÁRIA                            9\n",
       "PARTIDO COMUNISTA BRASILEIRO                         2\n",
       "Name: NM_PARTIDO, dtype: int64"
      ]
     },
     "execution_count": 19,
     "metadata": {},
     "output_type": "execute_result"
    }
   ],
   "source": [
    "# Distribuição dos Partidos\n",
    "fem['NM_PARTIDO'].value_counts()"
   ]
  },
  {
   "cell_type": "code",
   "execution_count": 20,
   "metadata": {
    "collapsed": true
   },
   "outputs": [
    {
     "data": {
      "text/plain": [
       "<AxesSubplot:title={'center':'DISTRIBUIÇÃO DE PARTIDOS POR GÊNERO - FEMININO'}>"
      ]
     },
     "execution_count": 20,
     "metadata": {},
     "output_type": "execute_result"
    },
    {
     "data": {
      "image/png": "[encoded data removed]",
      "text/plain": [
       "<Figure size 1080x720 with 1 Axes>"
      ]
     },
     "metadata": {
      "needs_background": "light"
     },
     "output_type": "display_data"
    }
   ],
   "source": [
    "fem['NM_PARTIDO'].value_counts().plot(kind='barh', title= 'DISTRIBUIÇÃO DE PARTIDOS POR GÊNERO - FEMININO', figsize=(15,10))"
   ]
  },
  {
   "cell_type": "code",
   "execution_count": 21,
   "metadata": {
    "collapsed": true
   },
   "outputs": [
    {
     "data": {
      "text/plain": [
       "SÃO PAULO                   412\n",
       "GUARULHOS                   375\n",
       "CAMPINAS                    260\n",
       "SÃO BERNARDO DO CAMPO       225\n",
       "RIBEIRÃO PRETO              188\n",
       "                           ... \n",
       "MESÓPOLIS                     8\n",
       "CRUZÁLIA                      8\n",
       "APARECIDA D'OESTE             7\n",
       "SÃO JOÃO DAS DUAS PONTES      7\n",
       "BALBINOS                      6\n",
       "Name: NM_UE, Length: 645, dtype: int64"
      ]
     },
     "execution_count": 21,
     "metadata": {},
     "output_type": "execute_result"
    }
   ],
   "source": [
    "# Distribuição por unidade eleitoral\n",
    "fem['NM_UE'].value_counts()"
   ]
  },
  {
   "cell_type": "code",
   "execution_count": 29,
   "metadata": {
    "collapsed": true
   },
   "outputs": [
    {
     "data": {
      "text/plain": [
       "NEGRA       68.181818\n",
       "BRANCA      30.681818\n",
       "AMARELA      0.772727\n",
       "INDÍGENA     0.363636\n",
       "Name: DS_COR_RACA, dtype: float64"
      ]
     },
     "execution_count": 29,
     "metadata": {},
     "output_type": "execute_result"
    }
   ],
   "source": [
    "# Distribuição racial\n",
    "fem['DS_COR_RACA'].value_counts()*100/27037"
   ]
  },
  {
   "cell_type": "code",
   "execution_count": 10,
   "metadata": {
    "collapsed": true
   },
   "outputs": [
    {
     "data": {
      "text/plain": [
       "count    2200.000000\n",
       "mean       41.482727\n",
       "std        12.178178\n",
       "min        18.000000\n",
       "25%        32.000000\n",
       "50%        41.000000\n",
       "75%        50.000000\n",
       "max        82.000000\n",
       "Name: NR_IDADE_DATA_POSSE, dtype: float64"
      ]
     },
     "execution_count": 10,
     "metadata": {},
     "output_type": "execute_result"
    }
   ],
   "source": [
    "fem['NR_IDADE_DATA_POSSE'].describe()"
   ]
  },
  {
   "cell_type": "code",
   "execution_count": 31,
   "metadata": {
    "collapsed": true
   },
   "outputs": [
    {
     "data": {
      "text/plain": [
       "ENSINO MÉDIO COMPLETO            39.397862\n",
       "SUPERIOR COMPLETO                25.579761\n",
       "ENSINO FUNDAMENTAL COMPLETO      12.675223\n",
       "ENSINO FUNDAMENTAL INCOMPLETO    10.603987\n",
       "SUPERIOR INCOMPLETO               4.774938\n",
       "ENSINO MÉDIO INCOMPLETO           4.652883\n",
       "LÊ E ESCREVE                      2.307948\n",
       "ANALFABETO                        0.007397\n",
       "Name: DS_GRAU_INSTRUCAO, dtype: float64"
      ]
     },
     "execution_count": 31,
     "metadata": {},
     "output_type": "execute_result"
    }
   ],
   "source": [
    "fem['DS_GRAU_INSTRUCAO'].value_counts()*100/27037"
   ]
  },
  {
   "cell_type": "code",
   "execution_count": 14,
   "metadata": {
    "collapsed": true
   },
   "outputs": [
    {
     "data": {
      "text/html": [
       "<div>\n",
       "<style scoped>\n",
       "    .dataframe tbody tr th:only-of-type {\n",
       "        vertical-align: middle;\n",
       "    }\n",
       "\n",
       "    .dataframe tbody tr th {\n",
       "        vertical-align: top;\n",
       "    }\n",
       "\n",
       "    .dataframe thead tr th {\n",
       "        text-align: left;\n",
       "    }\n",
       "\n",
       "    .dataframe thead tr:last-of-type th {\n",
       "        text-align: right;\n",
       "    }\n",
       "</style>\n",
       "<table border=\"1\" class=\"dataframe\">\n",
       "  <thead>\n",
       "    <tr>\n",
       "      <th></th>\n",
       "      <th colspan=\"4\" halign=\"left\">DS_GRAU_INSTRUCAO</th>\n",
       "    </tr>\n",
       "    <tr>\n",
       "      <th></th>\n",
       "      <th>count</th>\n",
       "      <th>unique</th>\n",
       "      <th>top</th>\n",
       "      <th>freq</th>\n",
       "    </tr>\n",
       "    <tr>\n",
       "      <th>DS_COR_RACA</th>\n",
       "      <th></th>\n",
       "      <th></th>\n",
       "      <th></th>\n",
       "      <th></th>\n",
       "    </tr>\n",
       "  </thead>\n",
       "  <tbody>\n",
       "    <tr>\n",
       "      <th>AMARELA</th>\n",
       "      <td>17</td>\n",
       "      <td>6</td>\n",
       "      <td>ENSINO MÉDIO COMPLETO</td>\n",
       "      <td>8</td>\n",
       "    </tr>\n",
       "    <tr>\n",
       "      <th>BRANCA</th>\n",
       "      <td>675</td>\n",
       "      <td>7</td>\n",
       "      <td>ENSINO MÉDIO COMPLETO</td>\n",
       "      <td>262</td>\n",
       "    </tr>\n",
       "    <tr>\n",
       "      <th>INDÍGENA</th>\n",
       "      <td>8</td>\n",
       "      <td>3</td>\n",
       "      <td>ENSINO FUNDAMENTAL INCOMPLETO</td>\n",
       "      <td>5</td>\n",
       "    </tr>\n",
       "    <tr>\n",
       "      <th>NEGRA</th>\n",
       "      <td>1500</td>\n",
       "      <td>7</td>\n",
       "      <td>ENSINO MÉDIO COMPLETO</td>\n",
       "      <td>595</td>\n",
       "    </tr>\n",
       "  </tbody>\n",
       "</table>\n",
       "</div>"
      ],
      "text/plain": [
       "            DS_GRAU_INSTRUCAO                                           \n",
       "                        count unique                            top freq\n",
       "DS_COR_RACA                                                             \n",
       "AMARELA                    17      6          ENSINO MÉDIO COMPLETO    8\n",
       "BRANCA                    675      7          ENSINO MÉDIO COMPLETO  262\n",
       "INDÍGENA                    8      3  ENSINO FUNDAMENTAL INCOMPLETO    5\n",
       "NEGRA                    1500      7          ENSINO MÉDIO COMPLETO  595"
      ]
     },
     "execution_count": 14,
     "metadata": {},
     "output_type": "execute_result"
    }
   ],
   "source": [
    "fem.filter(items=['DS_GRAU_INSTRUCAO']).groupby(fem['DS_COR_RACA']).describe()"
   ]
  },
  {
   "cell_type": "code",
   "execution_count": 27,
   "metadata": {
    "collapsed": true
   },
   "outputs": [
    {
     "data": {
      "text/html": [
       "<div>\n",
       "<style scoped>\n",
       "    .dataframe tbody tr th:only-of-type {\n",
       "        vertical-align: middle;\n",
       "    }\n",
       "\n",
       "    .dataframe tbody tr th {\n",
       "        vertical-align: top;\n",
       "    }\n",
       "\n",
       "    .dataframe thead tr th {\n",
       "        text-align: left;\n",
       "    }\n",
       "\n",
       "    .dataframe thead tr:last-of-type th {\n",
       "        text-align: right;\n",
       "    }\n",
       "</style>\n",
       "<table border=\"1\" class=\"dataframe\">\n",
       "  <thead>\n",
       "    <tr>\n",
       "      <th></th>\n",
       "      <th colspan=\"4\" halign=\"left\">NM_UE</th>\n",
       "    </tr>\n",
       "    <tr>\n",
       "      <th></th>\n",
       "      <th>count</th>\n",
       "      <th>unique</th>\n",
       "      <th>top</th>\n",
       "      <th>freq</th>\n",
       "    </tr>\n",
       "    <tr>\n",
       "      <th>DS_COR_RACA</th>\n",
       "      <th></th>\n",
       "      <th></th>\n",
       "      <th></th>\n",
       "      <th></th>\n",
       "    </tr>\n",
       "  </thead>\n",
       "  <tbody>\n",
       "    <tr>\n",
       "      <th>AMARELA</th>\n",
       "      <td>83</td>\n",
       "      <td>53</td>\n",
       "      <td>REGISTRO</td>\n",
       "      <td>7</td>\n",
       "    </tr>\n",
       "    <tr>\n",
       "      <th>BRANCA</th>\n",
       "      <td>20278</td>\n",
       "      <td>645</td>\n",
       "      <td>SÃO PAULO</td>\n",
       "      <td>276</td>\n",
       "    </tr>\n",
       "    <tr>\n",
       "      <th>INDÍGENA</th>\n",
       "      <td>30</td>\n",
       "      <td>26</td>\n",
       "      <td>GUARULHOS</td>\n",
       "      <td>2</td>\n",
       "    </tr>\n",
       "    <tr>\n",
       "      <th>NEGRA</th>\n",
       "      <td>6646</td>\n",
       "      <td>595</td>\n",
       "      <td>GUARULHOS</td>\n",
       "      <td>155</td>\n",
       "    </tr>\n",
       "  </tbody>\n",
       "</table>\n",
       "</div>"
      ],
      "text/plain": [
       "             NM_UE                       \n",
       "             count unique        top freq\n",
       "DS_COR_RACA                              \n",
       "AMARELA         83     53   REGISTRO    7\n",
       "BRANCA       20278    645  SÃO PAULO  276\n",
       "INDÍGENA        30     26  GUARULHOS    2\n",
       "NEGRA         6646    595  GUARULHOS  155"
      ]
     },
     "execution_count": 27,
     "metadata": {},
     "output_type": "execute_result"
    }
   ],
   "source": [
    "fem.filter(items=['NM_UE']).groupby(fem['DS_COR_RACA']).describe()"
   ]
  },
  {
   "cell_type": "markdown",
   "metadata": {},
   "source": [
    "*Masculino*"
   ]
  },
  {
   "cell_type": "code",
   "execution_count": 24,
   "metadata": {},
   "outputs": [],
   "source": [
    "#Criando DataFrame\n",
    "masc = pd.DataFrame(consulta_Vereador_2016.loc[consulta_Vereador_2016['DS_GENERO'] == 'MASCULINO'])"
   ]
  },
  {
   "cell_type": "code",
   "execution_count": 25,
   "metadata": {
    "collapsed": true
   },
   "outputs": [
    {
     "data": {
      "text/plain": [
       "PARTIDO DA SOCIAL DEMOCRACIA BRASILEIRA           4676\n",
       "PARTIDO DO MOVIMENTO DEMOCRÁTICO BRASILEIRO       3733\n",
       "PARTIDO TRABALHISTA BRASILEIRO                    3388\n",
       "PARTIDO VERDE                                     3153\n",
       "PARTIDO SOCIAL DEMOCRÁTICO                        3113\n",
       "DEMOCRATAS                                        2926\n",
       "PARTIDO SOCIALISTA BRASILEIRO                     2901\n",
       "PARTIDO DA REPÚBLICA                              2617\n",
       "PARTIDO POPULAR SOCIALISTA                        2540\n",
       "PARTIDO REPUBLICANO BRASILEIRO                    2350\n",
       "SOLIDARIEDADE                                     2114\n",
       "PARTIDO DEMOCRÁTICO TRABALHISTA                   1965\n",
       "PARTIDO DOS TRABALHADORES                         1940\n",
       "PARTIDO PROGRESSISTA                              1769\n",
       "PARTIDO SOCIAL CRISTÃO                            1743\n",
       "PARTIDO ECOLÓGICO NACIONAL                        1599\n",
       "PARTIDO TRABALHISTA NACIONAL                      1370\n",
       "PARTIDO REPUBLICANO PROGRESSISTA                  1361\n",
       "PARTIDO HUMANISTA DA SOLIDARIEDADE                1259\n",
       "PARTIDO REPUBLICANO DA ORDEM SOCIAL               1154\n",
       "PARTIDO SOCIAL LIBERAL                            1116\n",
       "PARTIDO COMUNISTA DO BRASIL                        962\n",
       "PARTIDO SOCIAL DEMOCRATA CRISTÃO                   795\n",
       "PARTIDO TRABALHISTA CRISTÃO                        683\n",
       "PARTIDO SOCIALISMO E LIBERDADE                     682\n",
       "PARTIDO RENOVADOR TRABALHISTA BRASILEIRO           665\n",
       "PARTIDO DA MOBILIZAÇÃO NACIONAL                    583\n",
       "PARTIDO DA MULHER BRASILEIRA                       556\n",
       "PARTIDO TRABALHISTA DO BRASIL                      548\n",
       "REDE SUSTENTABILIDADE                              437\n",
       "PARTIDO PÁTRIA LIVRE                               274\n",
       "PARTIDO NOVO                                        30\n",
       "PARTIDO SOCIALISTA DOS TRABALHADORES UNIFICADO      24\n",
       "PARTIDO DA CAUSA OPERÁRIA                            8\n",
       "PARTIDO COMUNISTA BRASILEIRO                         2\n",
       "Name: NM_PARTIDO, dtype: int64"
      ]
     },
     "execution_count": 25,
     "metadata": {},
     "output_type": "execute_result"
    }
   ],
   "source": [
    "# Distribuição dos Partidos\n",
    "masc['NM_PARTIDO'].value_counts()"
   ]
  },
  {
   "cell_type": "code",
   "execution_count": 26,
   "metadata": {
    "collapsed": true
   },
   "outputs": [
    {
     "data": {
      "text/plain": [
       "SÃO PAULO                   903\n",
       "GUARULHOS                   822\n",
       "CAMPINAS                    558\n",
       "SÃO BERNARDO DO CAMPO       499\n",
       "RIBEIRÃO PRETO              401\n",
       "                           ... \n",
       "ASPÁSIA                      16\n",
       "SANTA SALETE                 16\n",
       "SÃO JOÃO DAS DUAS PONTES     13\n",
       "APARECIDA D'OESTE            13\n",
       "BALBINOS                     12\n",
       "Name: NM_UE, Length: 645, dtype: int64"
      ]
     },
     "execution_count": 26,
     "metadata": {},
     "output_type": "execute_result"
    }
   ],
   "source": [
    "# Distribuição por unidade eleitoral\n",
    "masc['NM_UE'].value_counts()"
   ]
  },
  {
   "cell_type": "code",
   "execution_count": 40,
   "metadata": {
    "collapsed": true
   },
   "outputs": [
    {
     "data": {
      "text/plain": [
       "NEGRA       73.596392\n",
       "BRANCA      25.659526\n",
       "AMARELA      0.450958\n",
       "INDÍGENA     0.293123\n",
       "Name: DS_COR_RACA, dtype: float64"
      ]
     },
     "execution_count": 40,
     "metadata": {},
     "output_type": "execute_result"
    }
   ],
   "source": [
    "masc['DS_COR_RACA'].value_counts()*100/55036"
   ]
  },
  {
   "cell_type": "code",
   "execution_count": 29,
   "metadata": {
    "collapsed": true
   },
   "outputs": [
    {
     "data": {
      "text/plain": [
       "count    55036.000000\n",
       "mean        46.082946\n",
       "std         11.565050\n",
       "min         18.000000\n",
       "25%         38.000000\n",
       "50%         46.000000\n",
       "75%         54.000000\n",
       "max         97.000000\n",
       "Name: NR_IDADE_DATA_POSSE, dtype: float64"
      ]
     },
     "execution_count": 29,
     "metadata": {},
     "output_type": "execute_result"
    }
   ],
   "source": [
    "masc['NR_IDADE_DATA_POSSE'].describe()"
   ]
  },
  {
   "cell_type": "code",
   "execution_count": 30,
   "metadata": {
    "collapsed": true
   },
   "outputs": [
    {
     "data": {
      "text/plain": [
       "ENSINO MÉDIO COMPLETO            39.096228\n",
       "SUPERIOR COMPLETO                22.001962\n",
       "ENSINO FUNDAMENTAL COMPLETO      14.950214\n",
       "ENSINO FUNDAMENTAL INCOMPLETO    13.105967\n",
       "ENSINO MÉDIO INCOMPLETO           4.724181\n",
       "SUPERIOR INCOMPLETO               4.110037\n",
       "LÊ E ESCREVE                      2.011411\n",
       "Name: DS_GRAU_INSTRUCAO, dtype: float64"
      ]
     },
     "execution_count": 30,
     "metadata": {},
     "output_type": "execute_result"
    }
   ],
   "source": [
    "masc['DS_GRAU_INSTRUCAO'].value_counts()*100/55036"
   ]
  },
  {
   "cell_type": "code",
   "execution_count": 22,
   "metadata": {
    "collapsed": true
   },
   "outputs": [
    {
     "data": {
      "text/html": [
       "<div>\n",
       "<style scoped>\n",
       "    .dataframe tbody tr th:only-of-type {\n",
       "        vertical-align: middle;\n",
       "    }\n",
       "\n",
       "    .dataframe tbody tr th {\n",
       "        vertical-align: top;\n",
       "    }\n",
       "\n",
       "    .dataframe thead tr th {\n",
       "        text-align: left;\n",
       "    }\n",
       "\n",
       "    .dataframe thead tr:last-of-type th {\n",
       "        text-align: right;\n",
       "    }\n",
       "</style>\n",
       "<table border=\"1\" class=\"dataframe\">\n",
       "  <thead>\n",
       "    <tr>\n",
       "      <th></th>\n",
       "      <th colspan=\"4\" halign=\"left\">DS_GRAU_INSTRUCAO</th>\n",
       "    </tr>\n",
       "    <tr>\n",
       "      <th></th>\n",
       "      <th>count</th>\n",
       "      <th>unique</th>\n",
       "      <th>top</th>\n",
       "      <th>freq</th>\n",
       "    </tr>\n",
       "    <tr>\n",
       "      <th>DS_COR_RACA</th>\n",
       "      <th></th>\n",
       "      <th></th>\n",
       "      <th></th>\n",
       "      <th></th>\n",
       "    </tr>\n",
       "  </thead>\n",
       "  <tbody>\n",
       "    <tr>\n",
       "      <th>AMARELA</th>\n",
       "      <td>20</td>\n",
       "      <td>5</td>\n",
       "      <td>ENSINO MÉDIO COMPLETO</td>\n",
       "      <td>10</td>\n",
       "    </tr>\n",
       "    <tr>\n",
       "      <th>BRANCA</th>\n",
       "      <td>1138</td>\n",
       "      <td>7</td>\n",
       "      <td>ENSINO MÉDIO COMPLETO</td>\n",
       "      <td>413</td>\n",
       "    </tr>\n",
       "    <tr>\n",
       "      <th>INDÍGENA</th>\n",
       "      <td>13</td>\n",
       "      <td>5</td>\n",
       "      <td>ENSINO MÉDIO COMPLETO</td>\n",
       "      <td>6</td>\n",
       "    </tr>\n",
       "    <tr>\n",
       "      <th>NEGRA</th>\n",
       "      <td>3264</td>\n",
       "      <td>7</td>\n",
       "      <td>ENSINO MÉDIO COMPLETO</td>\n",
       "      <td>1295</td>\n",
       "    </tr>\n",
       "  </tbody>\n",
       "</table>\n",
       "</div>"
      ],
      "text/plain": [
       "            DS_GRAU_INSTRUCAO                                    \n",
       "                        count unique                    top  freq\n",
       "DS_COR_RACA                                                      \n",
       "AMARELA                    20      5  ENSINO MÉDIO COMPLETO    10\n",
       "BRANCA                   1138      7  ENSINO MÉDIO COMPLETO   413\n",
       "INDÍGENA                   13      5  ENSINO MÉDIO COMPLETO     6\n",
       "NEGRA                    3264      7  ENSINO MÉDIO COMPLETO  1295"
      ]
     },
     "execution_count": 22,
     "metadata": {},
     "output_type": "execute_result"
    }
   ],
   "source": [
    "masc.filter(items=['DS_GRAU_INSTRUCAO']).groupby(masc['DS_COR_RACA']).describe()"
   ]
  },
  {
   "cell_type": "code",
   "execution_count": 28,
   "metadata": {
    "collapsed": true
   },
   "outputs": [
    {
     "data": {
      "text/html": [
       "<div>\n",
       "<style scoped>\n",
       "    .dataframe tbody tr th:only-of-type {\n",
       "        vertical-align: middle;\n",
       "    }\n",
       "\n",
       "    .dataframe tbody tr th {\n",
       "        vertical-align: top;\n",
       "    }\n",
       "\n",
       "    .dataframe thead tr th {\n",
       "        text-align: left;\n",
       "    }\n",
       "\n",
       "    .dataframe thead tr:last-of-type th {\n",
       "        text-align: right;\n",
       "    }\n",
       "</style>\n",
       "<table border=\"1\" class=\"dataframe\">\n",
       "  <thead>\n",
       "    <tr>\n",
       "      <th></th>\n",
       "      <th colspan=\"4\" halign=\"left\">NM_UE</th>\n",
       "    </tr>\n",
       "    <tr>\n",
       "      <th></th>\n",
       "      <th>count</th>\n",
       "      <th>unique</th>\n",
       "      <th>top</th>\n",
       "      <th>freq</th>\n",
       "    </tr>\n",
       "    <tr>\n",
       "      <th>DS_COR_RACA</th>\n",
       "      <th></th>\n",
       "      <th></th>\n",
       "      <th></th>\n",
       "      <th></th>\n",
       "    </tr>\n",
       "  </thead>\n",
       "  <tbody>\n",
       "    <tr>\n",
       "      <th>AMARELA</th>\n",
       "      <td>233</td>\n",
       "      <td>123</td>\n",
       "      <td>SÃO PAULO</td>\n",
       "      <td>14</td>\n",
       "    </tr>\n",
       "    <tr>\n",
       "      <th>BRANCA</th>\n",
       "      <td>39545</td>\n",
       "      <td>645</td>\n",
       "      <td>SÃO PAULO</td>\n",
       "      <td>587</td>\n",
       "    </tr>\n",
       "    <tr>\n",
       "      <th>INDÍGENA</th>\n",
       "      <td>35</td>\n",
       "      <td>27</td>\n",
       "      <td>AVAÍ</td>\n",
       "      <td>4</td>\n",
       "    </tr>\n",
       "    <tr>\n",
       "      <th>NEGRA</th>\n",
       "      <td>15223</td>\n",
       "      <td>635</td>\n",
       "      <td>GUARULHOS</td>\n",
       "      <td>405</td>\n",
       "    </tr>\n",
       "  </tbody>\n",
       "</table>\n",
       "</div>"
      ],
      "text/plain": [
       "             NM_UE                       \n",
       "             count unique        top freq\n",
       "DS_COR_RACA                              \n",
       "AMARELA        233    123  SÃO PAULO   14\n",
       "BRANCA       39545    645  SÃO PAULO  587\n",
       "INDÍGENA        35     27       AVAÍ    4\n",
       "NEGRA        15223    635  GUARULHOS  405"
      ]
     },
     "execution_count": 28,
     "metadata": {},
     "output_type": "execute_result"
    }
   ],
   "source": [
    "masc.filter(items=['NM_UE']).groupby(masc['DS_COR_RACA']).describe()"
   ]
  },
  {
   "cell_type": "markdown",
   "metadata": {},
   "source": [
    " #### RAÇA\n"
   ]
  },
  {
   "cell_type": "code",
   "execution_count": 32,
   "metadata": {},
   "outputs": [
    {
     "data": {
      "text/plain": [
       "BRANCA            75.069645\n",
       "NEGRA             27.442590\n",
       "AMARELA            0.396537\n",
       "INDÍGENA           0.081566\n",
       "NÃO DIVULGÁVEL     0.001255\n",
       "Name: DS_COR_RACA, dtype: float64"
      ]
     },
     "execution_count": 32,
     "metadata": {},
     "output_type": "execute_result"
    }
   ],
   "source": [
    "# distribuição racial\n",
    "consulta_Vereador_2016['DS_COR_RACA'].value_counts()*100/79690"
   ]
  },
  {
   "cell_type": "code",
   "execution_count": 35,
   "metadata": {},
   "outputs": [],
   "source": [
    "# Criando novas colunas boleanas para raça\n",
    "consulta_Vereador_2016['NEGRA'] = consulta_Vereador_2016['DS_COR_RACA'].str.contains('NEGRA')\n",
    "consulta_Vereador_2016['BRANCA'] = consulta_Vereador_2016['DS_COR_RACA'].str.contains('BRANCA')\n",
    "consulta_Vereador_2016['AMARELA'] = consulta_Vereador_2016['DS_COR_RACA'].str.contains('AMARELA')\n",
    "consulta_Vereador_2016['INDÍGENA'] = consulta_Vereador_2016['DS_COR_RACA'].str.contains('INDÍGENA')\n",
    "consulta_Vereador_2016['NÃO DIVULGÁVEL'] = consulta_Vereador_2016['DS_COR_RACA'].str.contains('NÃO DIVULGÁVEL')\n"
   ]
  },
  {
   "cell_type": "code",
   "execution_count": 36,
   "metadata": {},
   "outputs": [],
   "source": [
    "# Criando dataframes por raça \n",
    "raca_cor = consulta_Vereador_2016['DS_COR_RACA'].unique().tolist()\n",
    "dfs = {}\n",
    "\n",
    "for raca in raca_cor:\n",
    "    selected_rows = consulta_Vereador_2016[consulta_Vereador_2016[raca] == True]\n",
    "    dfs[f'df_{raca}'] = selected_rows\n",
    "    print"
   ]
  },
  {
   "cell_type": "code",
   "execution_count": 37,
   "metadata": {},
   "outputs": [],
   "source": [
    "df_NEGRA = pd.DataFrame(dfs['df_NEGRA'])\n",
    "df_BRANCA = pd.DataFrame(dfs['df_BRANCA'])\n",
    "df_AMARELA = pd.DataFrame(dfs['df_AMARELA'])\n",
    "df_INDIGENA = pd.DataFrame(dfs['df_INDÍGENA'])"
   ]
  },
  {
   "cell_type": "markdown",
   "metadata": {},
   "source": [
    "*Negros*"
   ]
  },
  {
   "cell_type": "code",
   "execution_count": 38,
   "metadata": {
    "collapsed": true
   },
   "outputs": [
    {
     "data": {
      "text/plain": [
       "count         21869\n",
       "unique          640\n",
       "top       GUARULHOS\n",
       "freq            560\n",
       "Name: NM_UE, dtype: object"
      ]
     },
     "execution_count": 38,
     "metadata": {},
     "output_type": "execute_result"
    }
   ],
   "source": [
    "df_NEGRA['NM_UE'].describe()"
   ]
  },
  {
   "cell_type": "code",
   "execution_count": 39,
   "metadata": {
    "collapsed": true
   },
   "outputs": [
    {
     "data": {
      "text/plain": [
       "'ADAMANTINA'"
      ]
     },
     "execution_count": 39,
     "metadata": {},
     "output_type": "execute_result"
    }
   ],
   "source": [
    "df_NEGRA['NM_UE'].min()"
   ]
  },
  {
   "cell_type": "code",
   "execution_count": 40,
   "metadata": {
    "collapsed": true
   },
   "outputs": [
    {
     "data": {
      "text/plain": [
       "count                                       21869\n",
       "unique                                         34\n",
       "top       PARTIDO DA SOCIAL DEMOCRACIA BRASILEIRA\n",
       "freq                                         1441\n",
       "Name: NM_PARTIDO, dtype: object"
      ]
     },
     "execution_count": 40,
     "metadata": {},
     "output_type": "execute_result"
    }
   ],
   "source": [
    "df_NEGRA['NM_PARTIDO'].describe()"
   ]
  },
  {
   "cell_type": "code",
   "execution_count": 41,
   "metadata": {
    "collapsed": true
   },
   "outputs": [
    {
     "data": {
      "text/plain": [
       "'DEMOCRATAS'"
      ]
     },
     "execution_count": 41,
     "metadata": {},
     "output_type": "execute_result"
    }
   ],
   "source": [
    "df_NEGRA['NM_PARTIDO'].min()"
   ]
  },
  {
   "cell_type": "markdown",
   "metadata": {},
   "source": [
    "*Branco*"
   ]
  },
  {
   "cell_type": "code",
   "execution_count": 42,
   "metadata": {
    "collapsed": true
   },
   "outputs": [
    {
     "data": {
      "text/plain": [
       "count         59823\n",
       "unique          645\n",
       "top       SÃO PAULO\n",
       "freq            863\n",
       "Name: NM_UE, dtype: object"
      ]
     },
     "execution_count": 42,
     "metadata": {},
     "output_type": "execute_result"
    }
   ],
   "source": [
    "df_BRANCA['NM_UE'].describe()"
   ]
  },
  {
   "cell_type": "code",
   "execution_count": 43,
   "metadata": {
    "collapsed": true
   },
   "outputs": [
    {
     "data": {
      "text/plain": [
       "'ADAMANTINA'"
      ]
     },
     "execution_count": 43,
     "metadata": {},
     "output_type": "execute_result"
    }
   ],
   "source": [
    "df_BRANCA['NM_UE'].min()"
   ]
  },
  {
   "cell_type": "code",
   "execution_count": 44,
   "metadata": {
    "collapsed": true
   },
   "outputs": [
    {
     "data": {
      "text/plain": [
       "count                                       59823\n",
       "unique                                         35\n",
       "top       PARTIDO DA SOCIAL DEMOCRACIA BRASILEIRA\n",
       "freq                                         5542\n",
       "Name: NM_PARTIDO, dtype: object"
      ]
     },
     "execution_count": 44,
     "metadata": {},
     "output_type": "execute_result"
    }
   ],
   "source": [
    "df_BRANCA['NM_PARTIDO'].describe()"
   ]
  },
  {
   "cell_type": "code",
   "execution_count": 45,
   "metadata": {
    "collapsed": true
   },
   "outputs": [
    {
     "data": {
      "text/plain": [
       "'DEMOCRATAS'"
      ]
     },
     "execution_count": 45,
     "metadata": {},
     "output_type": "execute_result"
    }
   ],
   "source": [
    "df_BRANCA['NM_PARTIDO'].min()"
   ]
  },
  {
   "cell_type": "markdown",
   "metadata": {},
   "source": [
    "*Amarelos e Indigenas* "
   ]
  },
  {
   "cell_type": "code",
   "execution_count": 46,
   "metadata": {
    "collapsed": true
   },
   "outputs": [
    {
     "data": {
      "text/plain": [
       "count           316\n",
       "unique          146\n",
       "top       SÃO PAULO\n",
       "freq             17\n",
       "Name: NM_UE, dtype: object"
      ]
     },
     "execution_count": 46,
     "metadata": {},
     "output_type": "execute_result"
    }
   ],
   "source": [
    "df_AMARELA['NM_UE'].describe()"
   ]
  },
  {
   "cell_type": "code",
   "execution_count": 47,
   "metadata": {
    "collapsed": true
   },
   "outputs": [
    {
     "data": {
      "text/plain": [
       "count                                         316\n",
       "unique                                         33\n",
       "top       PARTIDO DA SOCIAL DEMOCRACIA BRASILEIRA\n",
       "freq                                           43\n",
       "Name: NM_PARTIDO, dtype: object"
      ]
     },
     "execution_count": 47,
     "metadata": {},
     "output_type": "execute_result"
    }
   ],
   "source": [
    "df_AMARELA['NM_PARTIDO'].describe()"
   ]
  },
  {
   "cell_type": "code",
   "execution_count": 48,
   "metadata": {
    "collapsed": true
   },
   "outputs": [
    {
     "data": {
      "text/plain": [
       "count       65\n",
       "unique      44\n",
       "top       AVAÍ\n",
       "freq         5\n",
       "Name: NM_UE, dtype: object"
      ]
     },
     "execution_count": 48,
     "metadata": {},
     "output_type": "execute_result"
    }
   ],
   "source": [
    "df_INDIGENA['NM_UE'].describe()"
   ]
  },
  {
   "cell_type": "code",
   "execution_count": 49,
   "metadata": {
    "collapsed": true
   },
   "outputs": [
    {
     "data": {
      "text/plain": [
       "count                            65\n",
       "unique                           24\n",
       "top       PARTIDO DOS TRABALHADORES\n",
       "freq                              8\n",
       "Name: NM_PARTIDO, dtype: object"
      ]
     },
     "execution_count": 49,
     "metadata": {},
     "output_type": "execute_result"
    }
   ],
   "source": [
    "df_INDIGENA['NM_PARTIDO'].describe()"
   ]
  },
  {
   "cell_type": "markdown",
   "metadata": {},
   "source": [
    " - GRAU DE INSTRUÇÃO"
   ]
  },
  {
   "cell_type": "code",
   "execution_count": 50,
   "metadata": {
    "collapsed": true
   },
   "outputs": [
    {
     "data": {
      "text/html": [
       "<div>\n",
       "<style scoped>\n",
       "    .dataframe tbody tr th:only-of-type {\n",
       "        vertical-align: middle;\n",
       "    }\n",
       "\n",
       "    .dataframe tbody tr th {\n",
       "        vertical-align: top;\n",
       "    }\n",
       "\n",
       "    .dataframe thead tr th {\n",
       "        text-align: left;\n",
       "    }\n",
       "\n",
       "    .dataframe thead tr:last-of-type th {\n",
       "        text-align: right;\n",
       "    }\n",
       "</style>\n",
       "<table border=\"1\" class=\"dataframe\">\n",
       "  <thead>\n",
       "    <tr>\n",
       "      <th></th>\n",
       "      <th colspan=\"4\" halign=\"left\">NM_UE</th>\n",
       "    </tr>\n",
       "    <tr>\n",
       "      <th></th>\n",
       "      <th>count</th>\n",
       "      <th>unique</th>\n",
       "      <th>top</th>\n",
       "      <th>freq</th>\n",
       "    </tr>\n",
       "    <tr>\n",
       "      <th>DS_GRAU_INSTRUCAO</th>\n",
       "      <th></th>\n",
       "      <th></th>\n",
       "      <th></th>\n",
       "      <th></th>\n",
       "    </tr>\n",
       "  </thead>\n",
       "  <tbody>\n",
       "    <tr>\n",
       "      <th>ANALFABETO</th>\n",
       "      <td>2</td>\n",
       "      <td>2</td>\n",
       "      <td>ÁLVARES MACHADO</td>\n",
       "      <td>1</td>\n",
       "    </tr>\n",
       "    <tr>\n",
       "      <th>ENSINO FUNDAMENTAL COMPLETO</th>\n",
       "      <td>11655</td>\n",
       "      <td>642</td>\n",
       "      <td>GUARULHOS</td>\n",
       "      <td>134</td>\n",
       "    </tr>\n",
       "    <tr>\n",
       "      <th>ENSINO FUNDAMENTAL INCOMPLETO</th>\n",
       "      <td>10080</td>\n",
       "      <td>637</td>\n",
       "      <td>GUARULHOS</td>\n",
       "      <td>83</td>\n",
       "    </tr>\n",
       "    <tr>\n",
       "      <th>ENSINO MÉDIO COMPLETO</th>\n",
       "      <td>32169</td>\n",
       "      <td>645</td>\n",
       "      <td>GUARULHOS</td>\n",
       "      <td>466</td>\n",
       "    </tr>\n",
       "    <tr>\n",
       "      <th>ENSINO MÉDIO INCOMPLETO</th>\n",
       "      <td>3858</td>\n",
       "      <td>594</td>\n",
       "      <td>OSASCO</td>\n",
       "      <td>66</td>\n",
       "    </tr>\n",
       "    <tr>\n",
       "      <th>LÊ E ESCREVE</th>\n",
       "      <td>1731</td>\n",
       "      <td>339</td>\n",
       "      <td>SERRANA</td>\n",
       "      <td>43</td>\n",
       "    </tr>\n",
       "    <tr>\n",
       "      <th>NÃO DIVULGÁVEL</th>\n",
       "      <td>1</td>\n",
       "      <td>1</td>\n",
       "      <td>GUAÍRA</td>\n",
       "      <td>1</td>\n",
       "    </tr>\n",
       "    <tr>\n",
       "      <th>SUPERIOR COMPLETO</th>\n",
       "      <td>19025</td>\n",
       "      <td>643</td>\n",
       "      <td>SÃO PAULO</td>\n",
       "      <td>636</td>\n",
       "    </tr>\n",
       "    <tr>\n",
       "      <th>SUPERIOR INCOMPLETO</th>\n",
       "      <td>3553</td>\n",
       "      <td>523</td>\n",
       "      <td>SÃO PAULO</td>\n",
       "      <td>115</td>\n",
       "    </tr>\n",
       "  </tbody>\n",
       "</table>\n",
       "</div>"
      ],
      "text/plain": [
       "                               NM_UE                             \n",
       "                               count unique              top freq\n",
       "DS_GRAU_INSTRUCAO                                                \n",
       "ANALFABETO                         2      2  ÁLVARES MACHADO    1\n",
       "ENSINO FUNDAMENTAL COMPLETO    11655    642        GUARULHOS  134\n",
       "ENSINO FUNDAMENTAL INCOMPLETO  10080    637        GUARULHOS   83\n",
       "ENSINO MÉDIO COMPLETO          32169    645        GUARULHOS  466\n",
       "ENSINO MÉDIO INCOMPLETO         3858    594           OSASCO   66\n",
       "LÊ E ESCREVE                    1731    339          SERRANA   43\n",
       "NÃO DIVULGÁVEL                     1      1           GUAÍRA    1\n",
       "SUPERIOR COMPLETO              19025    643        SÃO PAULO  636\n",
       "SUPERIOR INCOMPLETO             3553    523        SÃO PAULO  115"
      ]
     },
     "execution_count": 50,
     "metadata": {},
     "output_type": "execute_result"
    }
   ],
   "source": [
    "consulta_Vereador_2016.filter(items=['NM_UE']).groupby(consulta_Vereador_2016['DS_GRAU_INSTRUCAO']).describe()"
   ]
  },
  {
   "cell_type": "code",
   "execution_count": 51,
   "metadata": {
    "collapsed": true
   },
   "outputs": [
    {
     "data": {
      "text/html": [
       "<div>\n",
       "<style scoped>\n",
       "    .dataframe tbody tr th:only-of-type {\n",
       "        vertical-align: middle;\n",
       "    }\n",
       "\n",
       "    .dataframe tbody tr th {\n",
       "        vertical-align: top;\n",
       "    }\n",
       "\n",
       "    .dataframe thead tr th {\n",
       "        text-align: left;\n",
       "    }\n",
       "\n",
       "    .dataframe thead tr:last-of-type th {\n",
       "        text-align: right;\n",
       "    }\n",
       "</style>\n",
       "<table border=\"1\" class=\"dataframe\">\n",
       "  <thead>\n",
       "    <tr>\n",
       "      <th></th>\n",
       "      <th colspan=\"4\" halign=\"left\">NM_PARTIDO</th>\n",
       "    </tr>\n",
       "    <tr>\n",
       "      <th></th>\n",
       "      <th>count</th>\n",
       "      <th>unique</th>\n",
       "      <th>top</th>\n",
       "      <th>freq</th>\n",
       "    </tr>\n",
       "    <tr>\n",
       "      <th>DS_GRAU_INSTRUCAO</th>\n",
       "      <th></th>\n",
       "      <th></th>\n",
       "      <th></th>\n",
       "      <th></th>\n",
       "    </tr>\n",
       "  </thead>\n",
       "  <tbody>\n",
       "    <tr>\n",
       "      <th>ANALFABETO</th>\n",
       "      <td>2</td>\n",
       "      <td>2</td>\n",
       "      <td>PARTIDO DOS TRABALHADORES</td>\n",
       "      <td>1</td>\n",
       "    </tr>\n",
       "    <tr>\n",
       "      <th>ENSINO FUNDAMENTAL COMPLETO</th>\n",
       "      <td>11655</td>\n",
       "      <td>32</td>\n",
       "      <td>PARTIDO DA SOCIAL DEMOCRACIA BRASILEIRA</td>\n",
       "      <td>939</td>\n",
       "    </tr>\n",
       "    <tr>\n",
       "      <th>ENSINO FUNDAMENTAL INCOMPLETO</th>\n",
       "      <td>10080</td>\n",
       "      <td>31</td>\n",
       "      <td>PARTIDO DA SOCIAL DEMOCRACIA BRASILEIRA</td>\n",
       "      <td>794</td>\n",
       "    </tr>\n",
       "    <tr>\n",
       "      <th>ENSINO MÉDIO COMPLETO</th>\n",
       "      <td>32169</td>\n",
       "      <td>34</td>\n",
       "      <td>PARTIDO DA SOCIAL DEMOCRACIA BRASILEIRA</td>\n",
       "      <td>2624</td>\n",
       "    </tr>\n",
       "    <tr>\n",
       "      <th>ENSINO MÉDIO INCOMPLETO</th>\n",
       "      <td>3858</td>\n",
       "      <td>33</td>\n",
       "      <td>PARTIDO DO MOVIMENTO DEMOCRÁTICO BRASILEIRO</td>\n",
       "      <td>284</td>\n",
       "    </tr>\n",
       "    <tr>\n",
       "      <th>LÊ E ESCREVE</th>\n",
       "      <td>1731</td>\n",
       "      <td>32</td>\n",
       "      <td>PARTIDO DA SOCIAL DEMOCRACIA BRASILEIRA</td>\n",
       "      <td>158</td>\n",
       "    </tr>\n",
       "    <tr>\n",
       "      <th>NÃO DIVULGÁVEL</th>\n",
       "      <td>1</td>\n",
       "      <td>1</td>\n",
       "      <td>PARTIDO SOCIAL DEMOCRATA CRISTÃO</td>\n",
       "      <td>1</td>\n",
       "    </tr>\n",
       "    <tr>\n",
       "      <th>SUPERIOR COMPLETO</th>\n",
       "      <td>19025</td>\n",
       "      <td>35</td>\n",
       "      <td>PARTIDO DA SOCIAL DEMOCRACIA BRASILEIRA</td>\n",
       "      <td>1964</td>\n",
       "    </tr>\n",
       "    <tr>\n",
       "      <th>SUPERIOR INCOMPLETO</th>\n",
       "      <td>3553</td>\n",
       "      <td>34</td>\n",
       "      <td>PARTIDO DA SOCIAL DEMOCRACIA BRASILEIRA</td>\n",
       "      <td>283</td>\n",
       "    </tr>\n",
       "  </tbody>\n",
       "</table>\n",
       "</div>"
      ],
      "text/plain": [
       "                              NM_PARTIDO         \\\n",
       "                                   count unique   \n",
       "DS_GRAU_INSTRUCAO                                 \n",
       "ANALFABETO                             2      2   \n",
       "ENSINO FUNDAMENTAL COMPLETO        11655     32   \n",
       "ENSINO FUNDAMENTAL INCOMPLETO      10080     31   \n",
       "ENSINO MÉDIO COMPLETO              32169     34   \n",
       "ENSINO MÉDIO INCOMPLETO             3858     33   \n",
       "LÊ E ESCREVE                        1731     32   \n",
       "NÃO DIVULGÁVEL                         1      1   \n",
       "SUPERIOR COMPLETO                  19025     35   \n",
       "SUPERIOR INCOMPLETO                 3553     34   \n",
       "\n",
       "                                                                            \\\n",
       "                                                                       top   \n",
       "DS_GRAU_INSTRUCAO                                                            \n",
       "ANALFABETO                                       PARTIDO DOS TRABALHADORES   \n",
       "ENSINO FUNDAMENTAL COMPLETO        PARTIDO DA SOCIAL DEMOCRACIA BRASILEIRA   \n",
       "ENSINO FUNDAMENTAL INCOMPLETO      PARTIDO DA SOCIAL DEMOCRACIA BRASILEIRA   \n",
       "ENSINO MÉDIO COMPLETO              PARTIDO DA SOCIAL DEMOCRACIA BRASILEIRA   \n",
       "ENSINO MÉDIO INCOMPLETO        PARTIDO DO MOVIMENTO DEMOCRÁTICO BRASILEIRO   \n",
       "LÊ E ESCREVE                       PARTIDO DA SOCIAL DEMOCRACIA BRASILEIRA   \n",
       "NÃO DIVULGÁVEL                            PARTIDO SOCIAL DEMOCRATA CRISTÃO   \n",
       "SUPERIOR COMPLETO                  PARTIDO DA SOCIAL DEMOCRACIA BRASILEIRA   \n",
       "SUPERIOR INCOMPLETO                PARTIDO DA SOCIAL DEMOCRACIA BRASILEIRA   \n",
       "\n",
       "                                     \n",
       "                               freq  \n",
       "DS_GRAU_INSTRUCAO                    \n",
       "ANALFABETO                        1  \n",
       "ENSINO FUNDAMENTAL COMPLETO     939  \n",
       "ENSINO FUNDAMENTAL INCOMPLETO   794  \n",
       "ENSINO MÉDIO COMPLETO          2624  \n",
       "ENSINO MÉDIO INCOMPLETO         284  \n",
       "LÊ E ESCREVE                    158  \n",
       "NÃO DIVULGÁVEL                    1  \n",
       "SUPERIOR COMPLETO              1964  \n",
       "SUPERIOR INCOMPLETO             283  "
      ]
     },
     "execution_count": 51,
     "metadata": {},
     "output_type": "execute_result"
    }
   ],
   "source": [
    "consulta_Vereador_2016.filter(items=['NM_PARTIDO']).groupby(consulta_Vereador_2016['DS_GRAU_INSTRUCAO']).describe()"
   ]
  },
  {
   "cell_type": "markdown",
   "metadata": {},
   "source": [
    "### Criando DataFrame\n",
    " \n"
   ]
  },
  {
   "cell_type": "markdown",
   "metadata": {},
   "source": [
    "*Partido*"
   ]
  },
  {
   "cell_type": "code",
   "execution_count": 52,
   "metadata": {},
   "outputs": [],
   "source": [
    "# Variaveis de Gênero \n",
    "fem_partido = fem['NM_PARTIDO'].value_counts()\n",
    "masc_partido = masc['NM_PARTIDO'].value_counts()\n"
   ]
  },
  {
   "cell_type": "code",
   "execution_count": 53,
   "metadata": {},
   "outputs": [],
   "source": [
    "total_gen_partido = fem_partido + masc_partido"
   ]
  },
  {
   "cell_type": "code",
   "execution_count": 54,
   "metadata": {},
   "outputs": [],
   "source": [
    "percent_fem_partido = fem_partido * 100/total_gen_partido\n",
    "percent_masc_partido = masc_partido * 100/total_gen_partido"
   ]
  },
  {
   "cell_type": "code",
   "execution_count": 55,
   "metadata": {},
   "outputs": [],
   "source": [
    "percent_masc_partido = percent_masc_partido.apply(lambda x: round(x, decimais))\n",
    "percent_fem_partido = percent_fem_partido.apply(lambda x: round(x, decimais))"
   ]
  },
  {
   "cell_type": "code",
   "execution_count": 56,
   "metadata": {},
   "outputs": [],
   "source": [
    "# Variaveis de raça\n",
    "negra = df_NEGRA['NM_PARTIDO'].value_counts()\n",
    "branca = df_BRANCA['NM_PARTIDO'].value_counts()\n",
    "amarela = df_AMARELA['NM_PARTIDO'].value_counts()\n",
    "indigena = df_INDIGENA['NM_PARTIDO'].value_counts()"
   ]
  },
  {
   "cell_type": "code",
   "execution_count": 58,
   "metadata": {},
   "outputs": [],
   "source": [
    "total_raca_partido = consulta_Vereador_2016['NM_PARTIDO'].value_counts()"
   ]
  },
  {
   "cell_type": "code",
   "execution_count": 59,
   "metadata": {},
   "outputs": [],
   "source": [
    "percent_negra = negra *100/total_raca_partido\n",
    "percent_branca = branca *100/total_raca_partido\n",
    "percent_amarela = amarela *100/total_raca_partido\n",
    "percent_indigena = indigena *100/total_raca_partido"
   ]
  },
  {
   "cell_type": "code",
   "execution_count": 60,
   "metadata": {},
   "outputs": [],
   "source": [
    "percent_negra = percent_negra.apply(lambda x: round(x, decimais))\n",
    "percent_branca = percent_branca.apply(lambda x: round(x, decimais))\n",
    "percent_amarela = percent_amarela.apply(lambda x: round(x, decimais))\n",
    "percent_indigena = percent_indigena.apply(lambda x: round(x, decimais))"
   ]
  },
  {
   "cell_type": "code",
   "execution_count": 61,
   "metadata": {},
   "outputs": [],
   "source": [
    "# Variaveis de Grau de instrucao\n",
    "\n",
    "ens_Med = consulta_Vereador_2016.loc[(consulta_Vereador_2016['DS_GRAU_INSTRUCAO'] == 'ENSINO MÉDIO COMPLETO') + (consulta_Vereador_2016['DS_GRAU_INSTRUCAO'] == 'ENSINO MÉDIO INCOMPLETO')]\n",
    "ens_Fund = consulta_Vereador_2016.loc[(consulta_Vereador_2016['DS_GRAU_INSTRUCAO'] == 'ENSINO FUNDAMENTAL COMPLETO') + (consulta_Vereador_2016['DS_GRAU_INSTRUCAO'] == 'ENSINO FUNDAMENTAL INCOMPLETO')]\n",
    "ens_Sup = consulta_Vereador_2016.loc[(consulta_Vereador_2016['DS_GRAU_INSTRUCAO'] == 'SUPERIOR COMPLETO') + (consulta_Vereador_2016['DS_GRAU_INSTRUCAO'] == 'SUPERIOR INCOMPLETO')]\n",
    "ens_Le = consulta_Vereador_2016.loc[consulta_Vereador_2016['DS_GRAU_INSTRUCAO'] == 'LÊ E ESCREVE']\n"
   ]
  },
  {
   "cell_type": "code",
   "execution_count": 62,
   "metadata": {},
   "outputs": [],
   "source": [
    "fundamental = ens_Fund['NM_PARTIDO'].value_counts() \n",
    "medio = ens_Med['NM_PARTIDO'].value_counts() \n",
    "superior = ens_Sup['NM_PARTIDO'].value_counts() \n",
    "le_escreve = ens_Le['NM_PARTIDO'].value_counts()"
   ]
  },
  {
   "cell_type": "code",
   "execution_count": 63,
   "metadata": {},
   "outputs": [],
   "source": [
    "total_ens_partido = consulta_Vereador_2016['NM_PARTIDO'].value_counts() "
   ]
  },
  {
   "cell_type": "code",
   "execution_count": 64,
   "metadata": {},
   "outputs": [],
   "source": [
    "percent_ens_Med = medio*100/total_ens_partido\n",
    "percent_ens_Fund = fundamental*100/total_ens_partido\n",
    "percent_ens_Sup = superior*100/total_ens_partido \n",
    "percent_ens_Le = le_escreve*100/total_ens_partido\n"
   ]
  },
  {
   "cell_type": "code",
   "execution_count": 65,
   "metadata": {},
   "outputs": [],
   "source": [
    "percent_ens_Med= percent_ens_Med.apply(lambda x: round(x, decimais))\n",
    "percent_ens_Fund= percent_ens_Fund.apply(lambda x: round(x, decimais))\n",
    "percent_ens_Sup = percent_ens_Sup.apply(lambda x: round(x, decimais))\n",
    "percent_ens_Le = percent_ens_Le.apply(lambda x: round(x, decimais))\n"
   ]
  },
  {
   "cell_type": "code",
   "execution_count": 66,
   "metadata": {},
   "outputs": [],
   "source": [
    "# Criando Data Frame \n",
    "\n",
    "dic1 = {'FEMININO': fem_partido, '%FEMININO': percent_fem_partido , 'MASCULINO':masc_partido,'%MASCULINO': percent_masc_partido ,\n",
    "          'BRANCA': branca , '%BRANCA': percent_branca , 'NEGRA': negra, '%NEGRA': percent_negra, 'AMARELA': amarela, '%AMARELA': percent_amarela, \n",
    "         'INDÍGENA': indigena ,'%INDÍGENA': percent_indigena, 'ENSINO MÉDIO': medio ,'%ENSINO MÉDIO': percent_ens_Med , 'ENSINO FUNDAMENTAL': fundamental, '%ENSINO FUNDAMENTAL': percent_ens_Fund,\n",
    "          'ENSINO SUPERIOR': superior, '%ENSINO SUPERIOR': percent_ens_Sup, 'LÊ E ESCREVE': le_escreve, '%LÊ E ESCREVE':percent_ens_Le\n",
    "       }\n"
   ]
  },
  {
   "cell_type": "code",
   "execution_count": 67,
   "metadata": {},
   "outputs": [],
   "source": [
    "df_partidos = pd.DataFrame(dic1)"
   ]
  },
  {
   "cell_type": "code",
   "execution_count": 68,
   "metadata": {},
   "outputs": [],
   "source": [
    "df_partidos = df_partidos.fillna(0)"
   ]
  },
  {
   "cell_type": "code",
   "execution_count": 69,
   "metadata": {},
   "outputs": [],
   "source": [
    "df_partidos.to_csv('consultaVereador_SP_partidos.csv')"
   ]
  },
  {
   "cell_type": "code",
   "execution_count": 72,
   "metadata": {
    "collapsed": true
   },
   "outputs": [
    {
     "data": {
      "text/html": [
       "<div>\n",
       "<style scoped>\n",
       "    .dataframe tbody tr th:only-of-type {\n",
       "        vertical-align: middle;\n",
       "    }\n",
       "\n",
       "    .dataframe tbody tr th {\n",
       "        vertical-align: top;\n",
       "    }\n",
       "\n",
       "    .dataframe thead th {\n",
       "        text-align: right;\n",
       "    }\n",
       "</style>\n",
       "<table border=\"1\" class=\"dataframe\">\n",
       "  <thead>\n",
       "    <tr style=\"text-align: right;\">\n",
       "      <th></th>\n",
       "      <th>FEMININO</th>\n",
       "      <th>%FEMININO</th>\n",
       "      <th>MASCULINO</th>\n",
       "      <th>%MASCULINO</th>\n",
       "      <th>BRANCA</th>\n",
       "      <th>%BRANCA</th>\n",
       "      <th>NEGRA</th>\n",
       "      <th>%NEGRA</th>\n",
       "      <th>AMARELA</th>\n",
       "      <th>%AMARELA</th>\n",
       "      <th>INDÍGENA</th>\n",
       "      <th>%INDÍGENA</th>\n",
       "      <th>ENSINO MÉDIO</th>\n",
       "      <th>%ENSINO MÉDIO</th>\n",
       "      <th>ENSINO FUNDAMENTAL</th>\n",
       "      <th>%ENSINO FUNDAMENTAL</th>\n",
       "      <th>ENSINO SUPERIOR</th>\n",
       "      <th>%ENSINO SUPERIOR</th>\n",
       "      <th>LÊ E ESCREVE</th>\n",
       "      <th>%LÊ E ESCREVE</th>\n",
       "    </tr>\n",
       "  </thead>\n",
       "  <tbody>\n",
       "    <tr>\n",
       "      <th>DEMOCRATAS</th>\n",
       "      <td>1445</td>\n",
       "      <td>33.1</td>\n",
       "      <td>2926</td>\n",
       "      <td>66.9</td>\n",
       "      <td>3291</td>\n",
       "      <td>75.3</td>\n",
       "      <td>1060.0</td>\n",
       "      <td>24.3</td>\n",
       "      <td>16.0</td>\n",
       "      <td>0.4</td>\n",
       "      <td>4.0</td>\n",
       "      <td>0.1</td>\n",
       "      <td>1908.0</td>\n",
       "      <td>43.7</td>\n",
       "      <td>1247.0</td>\n",
       "      <td>28.5</td>\n",
       "      <td>1135</td>\n",
       "      <td>26.0</td>\n",
       "      <td>81.0</td>\n",
       "      <td>1.9</td>\n",
       "    </tr>\n",
       "    <tr>\n",
       "      <th>PARTIDO COMUNISTA BRASILEIRO</th>\n",
       "      <td>2</td>\n",
       "      <td>50.0</td>\n",
       "      <td>2</td>\n",
       "      <td>50.0</td>\n",
       "      <td>4</td>\n",
       "      <td>100.0</td>\n",
       "      <td>0.0</td>\n",
       "      <td>0.0</td>\n",
       "      <td>0.0</td>\n",
       "      <td>0.0</td>\n",
       "      <td>0.0</td>\n",
       "      <td>0.0</td>\n",
       "      <td>0.0</td>\n",
       "      <td>0.0</td>\n",
       "      <td>0.0</td>\n",
       "      <td>0.0</td>\n",
       "      <td>4</td>\n",
       "      <td>100.0</td>\n",
       "      <td>0.0</td>\n",
       "      <td>0.0</td>\n",
       "    </tr>\n",
       "    <tr>\n",
       "      <th>PARTIDO COMUNISTA DO BRASIL</th>\n",
       "      <td>467</td>\n",
       "      <td>32.7</td>\n",
       "      <td>962</td>\n",
       "      <td>67.3</td>\n",
       "      <td>858</td>\n",
       "      <td>60.0</td>\n",
       "      <td>565.0</td>\n",
       "      <td>39.5</td>\n",
       "      <td>4.0</td>\n",
       "      <td>0.3</td>\n",
       "      <td>2.0</td>\n",
       "      <td>0.1</td>\n",
       "      <td>646.0</td>\n",
       "      <td>45.2</td>\n",
       "      <td>342.0</td>\n",
       "      <td>23.9</td>\n",
       "      <td>416</td>\n",
       "      <td>29.1</td>\n",
       "      <td>25.0</td>\n",
       "      <td>1.7</td>\n",
       "    </tr>\n",
       "    <tr>\n",
       "      <th>PARTIDO DA CAUSA OPERÁRIA</th>\n",
       "      <td>9</td>\n",
       "      <td>52.9</td>\n",
       "      <td>8</td>\n",
       "      <td>47.1</td>\n",
       "      <td>11</td>\n",
       "      <td>64.7</td>\n",
       "      <td>5.0</td>\n",
       "      <td>29.4</td>\n",
       "      <td>1.0</td>\n",
       "      <td>5.9</td>\n",
       "      <td>0.0</td>\n",
       "      <td>0.0</td>\n",
       "      <td>9.0</td>\n",
       "      <td>52.9</td>\n",
       "      <td>0.0</td>\n",
       "      <td>0.0</td>\n",
       "      <td>7</td>\n",
       "      <td>41.2</td>\n",
       "      <td>1.0</td>\n",
       "      <td>5.9</td>\n",
       "    </tr>\n",
       "    <tr>\n",
       "      <th>PARTIDO DA MOBILIZAÇÃO NACIONAL</th>\n",
       "      <td>274</td>\n",
       "      <td>32.0</td>\n",
       "      <td>583</td>\n",
       "      <td>68.0</td>\n",
       "      <td>590</td>\n",
       "      <td>68.8</td>\n",
       "      <td>262.0</td>\n",
       "      <td>30.6</td>\n",
       "      <td>5.0</td>\n",
       "      <td>0.6</td>\n",
       "      <td>0.0</td>\n",
       "      <td>0.0</td>\n",
       "      <td>404.0</td>\n",
       "      <td>47.1</td>\n",
       "      <td>234.0</td>\n",
       "      <td>27.3</td>\n",
       "      <td>207</td>\n",
       "      <td>24.2</td>\n",
       "      <td>12.0</td>\n",
       "      <td>1.4</td>\n",
       "    </tr>\n",
       "    <tr>\n",
       "      <th>PARTIDO DA MULHER BRASILEIRA</th>\n",
       "      <td>421</td>\n",
       "      <td>43.1</td>\n",
       "      <td>556</td>\n",
       "      <td>56.9</td>\n",
       "      <td>647</td>\n",
       "      <td>66.2</td>\n",
       "      <td>326.0</td>\n",
       "      <td>33.4</td>\n",
       "      <td>4.0</td>\n",
       "      <td>0.4</td>\n",
       "      <td>0.0</td>\n",
       "      <td>0.0</td>\n",
       "      <td>451.0</td>\n",
       "      <td>46.2</td>\n",
       "      <td>261.0</td>\n",
       "      <td>26.7</td>\n",
       "      <td>247</td>\n",
       "      <td>25.3</td>\n",
       "      <td>18.0</td>\n",
       "      <td>1.8</td>\n",
       "    </tr>\n",
       "    <tr>\n",
       "      <th>PARTIDO DA REPÚBLICA</th>\n",
       "      <td>1255</td>\n",
       "      <td>32.4</td>\n",
       "      <td>2617</td>\n",
       "      <td>67.6</td>\n",
       "      <td>2829</td>\n",
       "      <td>73.1</td>\n",
       "      <td>1015.0</td>\n",
       "      <td>26.2</td>\n",
       "      <td>26.0</td>\n",
       "      <td>0.7</td>\n",
       "      <td>2.0</td>\n",
       "      <td>0.1</td>\n",
       "      <td>1691.0</td>\n",
       "      <td>43.7</td>\n",
       "      <td>1045.0</td>\n",
       "      <td>27.0</td>\n",
       "      <td>1065</td>\n",
       "      <td>27.5</td>\n",
       "      <td>71.0</td>\n",
       "      <td>1.8</td>\n",
       "    </tr>\n",
       "    <tr>\n",
       "      <th>PARTIDO DA SOCIAL DEMOCRACIA BRASILEIRA</th>\n",
       "      <td>2354</td>\n",
       "      <td>33.5</td>\n",
       "      <td>4676</td>\n",
       "      <td>66.5</td>\n",
       "      <td>5542</td>\n",
       "      <td>78.8</td>\n",
       "      <td>1441.0</td>\n",
       "      <td>20.5</td>\n",
       "      <td>43.0</td>\n",
       "      <td>0.6</td>\n",
       "      <td>4.0</td>\n",
       "      <td>0.1</td>\n",
       "      <td>2892.0</td>\n",
       "      <td>41.1</td>\n",
       "      <td>1733.0</td>\n",
       "      <td>24.7</td>\n",
       "      <td>2247</td>\n",
       "      <td>32.0</td>\n",
       "      <td>158.0</td>\n",
       "      <td>2.2</td>\n",
       "    </tr>\n",
       "    <tr>\n",
       "      <th>PARTIDO DEMOCRÁTICO TRABALHISTA</th>\n",
       "      <td>925</td>\n",
       "      <td>32.0</td>\n",
       "      <td>1965</td>\n",
       "      <td>68.0</td>\n",
       "      <td>2136</td>\n",
       "      <td>73.9</td>\n",
       "      <td>744.0</td>\n",
       "      <td>25.7</td>\n",
       "      <td>8.0</td>\n",
       "      <td>0.3</td>\n",
       "      <td>2.0</td>\n",
       "      <td>0.1</td>\n",
       "      <td>1298.0</td>\n",
       "      <td>44.9</td>\n",
       "      <td>779.0</td>\n",
       "      <td>27.0</td>\n",
       "      <td>750</td>\n",
       "      <td>26.0</td>\n",
       "      <td>63.0</td>\n",
       "      <td>2.2</td>\n",
       "    </tr>\n",
       "    <tr>\n",
       "      <th>PARTIDO DO MOVIMENTO DEMOCRÁTICO BRASILEIRO</th>\n",
       "      <td>1817</td>\n",
       "      <td>32.7</td>\n",
       "      <td>3733</td>\n",
       "      <td>67.3</td>\n",
       "      <td>4255</td>\n",
       "      <td>76.7</td>\n",
       "      <td>1278.0</td>\n",
       "      <td>23.0</td>\n",
       "      <td>13.0</td>\n",
       "      <td>0.2</td>\n",
       "      <td>4.0</td>\n",
       "      <td>0.1</td>\n",
       "      <td>2340.0</td>\n",
       "      <td>42.2</td>\n",
       "      <td>1569.0</td>\n",
       "      <td>28.3</td>\n",
       "      <td>1528</td>\n",
       "      <td>27.5</td>\n",
       "      <td>113.0</td>\n",
       "      <td>2.0</td>\n",
       "    </tr>\n",
       "    <tr>\n",
       "      <th>PARTIDO DOS TRABALHADORES</th>\n",
       "      <td>1050</td>\n",
       "      <td>35.1</td>\n",
       "      <td>1940</td>\n",
       "      <td>64.9</td>\n",
       "      <td>2009</td>\n",
       "      <td>67.2</td>\n",
       "      <td>968.0</td>\n",
       "      <td>32.4</td>\n",
       "      <td>5.0</td>\n",
       "      <td>0.2</td>\n",
       "      <td>8.0</td>\n",
       "      <td>0.3</td>\n",
       "      <td>1168.0</td>\n",
       "      <td>39.1</td>\n",
       "      <td>707.0</td>\n",
       "      <td>23.6</td>\n",
       "      <td>1035</td>\n",
       "      <td>34.6</td>\n",
       "      <td>79.0</td>\n",
       "      <td>2.6</td>\n",
       "    </tr>\n",
       "    <tr>\n",
       "      <th>PARTIDO ECOLÓGICO NACIONAL</th>\n",
       "      <td>812</td>\n",
       "      <td>33.7</td>\n",
       "      <td>1599</td>\n",
       "      <td>66.3</td>\n",
       "      <td>1734</td>\n",
       "      <td>71.9</td>\n",
       "      <td>669.0</td>\n",
       "      <td>27.7</td>\n",
       "      <td>5.0</td>\n",
       "      <td>0.2</td>\n",
       "      <td>3.0</td>\n",
       "      <td>0.1</td>\n",
       "      <td>1091.0</td>\n",
       "      <td>45.3</td>\n",
       "      <td>701.0</td>\n",
       "      <td>29.1</td>\n",
       "      <td>560</td>\n",
       "      <td>23.2</td>\n",
       "      <td>59.0</td>\n",
       "      <td>2.4</td>\n",
       "    </tr>\n",
       "    <tr>\n",
       "      <th>PARTIDO HUMANISTA DA SOLIDARIEDADE</th>\n",
       "      <td>593</td>\n",
       "      <td>32.0</td>\n",
       "      <td>1259</td>\n",
       "      <td>68.0</td>\n",
       "      <td>1316</td>\n",
       "      <td>71.1</td>\n",
       "      <td>528.0</td>\n",
       "      <td>28.5</td>\n",
       "      <td>7.0</td>\n",
       "      <td>0.4</td>\n",
       "      <td>1.0</td>\n",
       "      <td>0.1</td>\n",
       "      <td>847.0</td>\n",
       "      <td>45.7</td>\n",
       "      <td>526.0</td>\n",
       "      <td>28.4</td>\n",
       "      <td>441</td>\n",
       "      <td>23.8</td>\n",
       "      <td>38.0</td>\n",
       "      <td>2.1</td>\n",
       "    </tr>\n",
       "    <tr>\n",
       "      <th>PARTIDO NOVO</th>\n",
       "      <td>15</td>\n",
       "      <td>33.3</td>\n",
       "      <td>30</td>\n",
       "      <td>66.7</td>\n",
       "      <td>43</td>\n",
       "      <td>95.6</td>\n",
       "      <td>2.0</td>\n",
       "      <td>4.4</td>\n",
       "      <td>0.0</td>\n",
       "      <td>0.0</td>\n",
       "      <td>0.0</td>\n",
       "      <td>0.0</td>\n",
       "      <td>1.0</td>\n",
       "      <td>2.2</td>\n",
       "      <td>0.0</td>\n",
       "      <td>0.0</td>\n",
       "      <td>44</td>\n",
       "      <td>97.8</td>\n",
       "      <td>0.0</td>\n",
       "      <td>0.0</td>\n",
       "    </tr>\n",
       "    <tr>\n",
       "      <th>PARTIDO POPULAR SOCIALISTA</th>\n",
       "      <td>1198</td>\n",
       "      <td>32.0</td>\n",
       "      <td>2540</td>\n",
       "      <td>68.0</td>\n",
       "      <td>2756</td>\n",
       "      <td>73.7</td>\n",
       "      <td>965.0</td>\n",
       "      <td>25.8</td>\n",
       "      <td>14.0</td>\n",
       "      <td>0.4</td>\n",
       "      <td>3.0</td>\n",
       "      <td>0.1</td>\n",
       "      <td>1634.0</td>\n",
       "      <td>43.7</td>\n",
       "      <td>970.0</td>\n",
       "      <td>25.9</td>\n",
       "      <td>1047</td>\n",
       "      <td>28.0</td>\n",
       "      <td>87.0</td>\n",
       "      <td>2.3</td>\n",
       "    </tr>\n",
       "    <tr>\n",
       "      <th>PARTIDO PROGRESSISTA</th>\n",
       "      <td>842</td>\n",
       "      <td>32.2</td>\n",
       "      <td>1769</td>\n",
       "      <td>67.8</td>\n",
       "      <td>1933</td>\n",
       "      <td>74.0</td>\n",
       "      <td>667.0</td>\n",
       "      <td>25.5</td>\n",
       "      <td>11.0</td>\n",
       "      <td>0.4</td>\n",
       "      <td>0.0</td>\n",
       "      <td>0.0</td>\n",
       "      <td>1173.0</td>\n",
       "      <td>44.9</td>\n",
       "      <td>731.0</td>\n",
       "      <td>28.0</td>\n",
       "      <td>633</td>\n",
       "      <td>24.2</td>\n",
       "      <td>74.0</td>\n",
       "      <td>2.8</td>\n",
       "    </tr>\n",
       "    <tr>\n",
       "      <th>PARTIDO PÁTRIA LIVRE</th>\n",
       "      <td>149</td>\n",
       "      <td>35.2</td>\n",
       "      <td>274</td>\n",
       "      <td>64.8</td>\n",
       "      <td>251</td>\n",
       "      <td>59.3</td>\n",
       "      <td>171.0</td>\n",
       "      <td>40.4</td>\n",
       "      <td>1.0</td>\n",
       "      <td>0.2</td>\n",
       "      <td>0.0</td>\n",
       "      <td>0.0</td>\n",
       "      <td>172.0</td>\n",
       "      <td>40.7</td>\n",
       "      <td>108.0</td>\n",
       "      <td>25.5</td>\n",
       "      <td>138</td>\n",
       "      <td>32.6</td>\n",
       "      <td>5.0</td>\n",
       "      <td>1.2</td>\n",
       "    </tr>\n",
       "    <tr>\n",
       "      <th>PARTIDO RENOVADOR TRABALHISTA BRASILEIRO</th>\n",
       "      <td>313</td>\n",
       "      <td>32.0</td>\n",
       "      <td>665</td>\n",
       "      <td>68.0</td>\n",
       "      <td>689</td>\n",
       "      <td>70.4</td>\n",
       "      <td>277.0</td>\n",
       "      <td>28.3</td>\n",
       "      <td>10.0</td>\n",
       "      <td>1.0</td>\n",
       "      <td>2.0</td>\n",
       "      <td>0.2</td>\n",
       "      <td>459.0</td>\n",
       "      <td>46.9</td>\n",
       "      <td>257.0</td>\n",
       "      <td>26.3</td>\n",
       "      <td>234</td>\n",
       "      <td>23.9</td>\n",
       "      <td>28.0</td>\n",
       "      <td>2.9</td>\n",
       "    </tr>\n",
       "    <tr>\n",
       "      <th>PARTIDO REPUBLICANO BRASILEIRO</th>\n",
       "      <td>1154</td>\n",
       "      <td>32.9</td>\n",
       "      <td>2350</td>\n",
       "      <td>67.1</td>\n",
       "      <td>2461</td>\n",
       "      <td>70.2</td>\n",
       "      <td>1032.0</td>\n",
       "      <td>29.5</td>\n",
       "      <td>9.0</td>\n",
       "      <td>0.3</td>\n",
       "      <td>2.0</td>\n",
       "      <td>0.1</td>\n",
       "      <td>1580.0</td>\n",
       "      <td>45.1</td>\n",
       "      <td>1034.0</td>\n",
       "      <td>29.5</td>\n",
       "      <td>820</td>\n",
       "      <td>23.4</td>\n",
       "      <td>70.0</td>\n",
       "      <td>2.0</td>\n",
       "    </tr>\n",
       "    <tr>\n",
       "      <th>PARTIDO REPUBLICANO DA ORDEM SOCIAL</th>\n",
       "      <td>534</td>\n",
       "      <td>31.6</td>\n",
       "      <td>1154</td>\n",
       "      <td>68.4</td>\n",
       "      <td>1187</td>\n",
       "      <td>70.3</td>\n",
       "      <td>493.0</td>\n",
       "      <td>29.2</td>\n",
       "      <td>7.0</td>\n",
       "      <td>0.4</td>\n",
       "      <td>1.0</td>\n",
       "      <td>0.1</td>\n",
       "      <td>808.0</td>\n",
       "      <td>47.9</td>\n",
       "      <td>428.0</td>\n",
       "      <td>25.4</td>\n",
       "      <td>415</td>\n",
       "      <td>24.6</td>\n",
       "      <td>37.0</td>\n",
       "      <td>2.2</td>\n",
       "    </tr>\n",
       "    <tr>\n",
       "      <th>PARTIDO REPUBLICANO PROGRESSISTA</th>\n",
       "      <td>626</td>\n",
       "      <td>31.5</td>\n",
       "      <td>1361</td>\n",
       "      <td>68.5</td>\n",
       "      <td>1386</td>\n",
       "      <td>69.8</td>\n",
       "      <td>593.0</td>\n",
       "      <td>29.8</td>\n",
       "      <td>6.0</td>\n",
       "      <td>0.3</td>\n",
       "      <td>2.0</td>\n",
       "      <td>0.1</td>\n",
       "      <td>914.0</td>\n",
       "      <td>46.0</td>\n",
       "      <td>576.0</td>\n",
       "      <td>29.0</td>\n",
       "      <td>436</td>\n",
       "      <td>21.9</td>\n",
       "      <td>61.0</td>\n",
       "      <td>3.1</td>\n",
       "    </tr>\n",
       "    <tr>\n",
       "      <th>PARTIDO SOCIAL CRISTÃO</th>\n",
       "      <td>801</td>\n",
       "      <td>31.5</td>\n",
       "      <td>1743</td>\n",
       "      <td>68.5</td>\n",
       "      <td>1761</td>\n",
       "      <td>69.2</td>\n",
       "      <td>773.0</td>\n",
       "      <td>30.4</td>\n",
       "      <td>10.0</td>\n",
       "      <td>0.4</td>\n",
       "      <td>0.0</td>\n",
       "      <td>0.0</td>\n",
       "      <td>1209.0</td>\n",
       "      <td>47.5</td>\n",
       "      <td>674.0</td>\n",
       "      <td>26.5</td>\n",
       "      <td>615</td>\n",
       "      <td>24.2</td>\n",
       "      <td>45.0</td>\n",
       "      <td>1.8</td>\n",
       "    </tr>\n",
       "    <tr>\n",
       "      <th>PARTIDO SOCIAL DEMOCRATA CRISTÃO</th>\n",
       "      <td>403</td>\n",
       "      <td>33.6</td>\n",
       "      <td>795</td>\n",
       "      <td>66.4</td>\n",
       "      <td>823</td>\n",
       "      <td>68.6</td>\n",
       "      <td>372.0</td>\n",
       "      <td>31.0</td>\n",
       "      <td>3.0</td>\n",
       "      <td>0.3</td>\n",
       "      <td>0.0</td>\n",
       "      <td>0.0</td>\n",
       "      <td>561.0</td>\n",
       "      <td>46.8</td>\n",
       "      <td>283.0</td>\n",
       "      <td>23.6</td>\n",
       "      <td>320</td>\n",
       "      <td>26.7</td>\n",
       "      <td>34.0</td>\n",
       "      <td>2.8</td>\n",
       "    </tr>\n",
       "    <tr>\n",
       "      <th>PARTIDO SOCIAL DEMOCRÁTICO</th>\n",
       "      <td>1521</td>\n",
       "      <td>32.8</td>\n",
       "      <td>3113</td>\n",
       "      <td>67.2</td>\n",
       "      <td>3530</td>\n",
       "      <td>76.2</td>\n",
       "      <td>1086.0</td>\n",
       "      <td>23.4</td>\n",
       "      <td>17.0</td>\n",
       "      <td>0.4</td>\n",
       "      <td>1.0</td>\n",
       "      <td>0.0</td>\n",
       "      <td>1995.0</td>\n",
       "      <td>43.1</td>\n",
       "      <td>1263.0</td>\n",
       "      <td>27.3</td>\n",
       "      <td>1281</td>\n",
       "      <td>27.6</td>\n",
       "      <td>95.0</td>\n",
       "      <td>2.1</td>\n",
       "    </tr>\n",
       "    <tr>\n",
       "      <th>PARTIDO SOCIAL LIBERAL</th>\n",
       "      <td>536</td>\n",
       "      <td>32.4</td>\n",
       "      <td>1116</td>\n",
       "      <td>67.6</td>\n",
       "      <td>1146</td>\n",
       "      <td>69.4</td>\n",
       "      <td>500.0</td>\n",
       "      <td>30.3</td>\n",
       "      <td>6.0</td>\n",
       "      <td>0.4</td>\n",
       "      <td>0.0</td>\n",
       "      <td>0.0</td>\n",
       "      <td>810.0</td>\n",
       "      <td>49.0</td>\n",
       "      <td>436.0</td>\n",
       "      <td>26.4</td>\n",
       "      <td>369</td>\n",
       "      <td>22.3</td>\n",
       "      <td>37.0</td>\n",
       "      <td>2.2</td>\n",
       "    </tr>\n",
       "    <tr>\n",
       "      <th>PARTIDO SOCIALISMO E LIBERDADE</th>\n",
       "      <td>367</td>\n",
       "      <td>35.0</td>\n",
       "      <td>682</td>\n",
       "      <td>65.0</td>\n",
       "      <td>672</td>\n",
       "      <td>64.1</td>\n",
       "      <td>371.0</td>\n",
       "      <td>35.4</td>\n",
       "      <td>1.0</td>\n",
       "      <td>0.1</td>\n",
       "      <td>5.0</td>\n",
       "      <td>0.5</td>\n",
       "      <td>386.0</td>\n",
       "      <td>36.8</td>\n",
       "      <td>202.0</td>\n",
       "      <td>19.3</td>\n",
       "      <td>452</td>\n",
       "      <td>43.1</td>\n",
       "      <td>9.0</td>\n",
       "      <td>0.9</td>\n",
       "    </tr>\n",
       "    <tr>\n",
       "      <th>PARTIDO SOCIALISTA BRASILEIRO</th>\n",
       "      <td>1389</td>\n",
       "      <td>32.4</td>\n",
       "      <td>2901</td>\n",
       "      <td>67.6</td>\n",
       "      <td>3148</td>\n",
       "      <td>73.4</td>\n",
       "      <td>1123.0</td>\n",
       "      <td>26.2</td>\n",
       "      <td>16.0</td>\n",
       "      <td>0.4</td>\n",
       "      <td>3.0</td>\n",
       "      <td>0.1</td>\n",
       "      <td>1844.0</td>\n",
       "      <td>43.0</td>\n",
       "      <td>1106.0</td>\n",
       "      <td>25.8</td>\n",
       "      <td>1258</td>\n",
       "      <td>29.3</td>\n",
       "      <td>82.0</td>\n",
       "      <td>1.9</td>\n",
       "    </tr>\n",
       "    <tr>\n",
       "      <th>PARTIDO SOCIALISTA DOS TRABALHADORES UNIFICADO</th>\n",
       "      <td>18</td>\n",
       "      <td>42.9</td>\n",
       "      <td>24</td>\n",
       "      <td>57.1</td>\n",
       "      <td>24</td>\n",
       "      <td>57.1</td>\n",
       "      <td>14.0</td>\n",
       "      <td>33.3</td>\n",
       "      <td>1.0</td>\n",
       "      <td>2.4</td>\n",
       "      <td>3.0</td>\n",
       "      <td>7.1</td>\n",
       "      <td>14.0</td>\n",
       "      <td>33.3</td>\n",
       "      <td>1.0</td>\n",
       "      <td>2.4</td>\n",
       "      <td>27</td>\n",
       "      <td>64.3</td>\n",
       "      <td>0.0</td>\n",
       "      <td>0.0</td>\n",
       "    </tr>\n",
       "    <tr>\n",
       "      <th>PARTIDO TRABALHISTA BRASILEIRO</th>\n",
       "      <td>1644</td>\n",
       "      <td>32.7</td>\n",
       "      <td>3388</td>\n",
       "      <td>67.3</td>\n",
       "      <td>3792</td>\n",
       "      <td>75.4</td>\n",
       "      <td>1216.0</td>\n",
       "      <td>24.2</td>\n",
       "      <td>23.0</td>\n",
       "      <td>0.5</td>\n",
       "      <td>1.0</td>\n",
       "      <td>0.0</td>\n",
       "      <td>2211.0</td>\n",
       "      <td>43.9</td>\n",
       "      <td>1415.0</td>\n",
       "      <td>28.1</td>\n",
       "      <td>1320</td>\n",
       "      <td>26.2</td>\n",
       "      <td>86.0</td>\n",
       "      <td>1.7</td>\n",
       "    </tr>\n",
       "    <tr>\n",
       "      <th>PARTIDO TRABALHISTA CRISTÃO</th>\n",
       "      <td>319</td>\n",
       "      <td>31.8</td>\n",
       "      <td>683</td>\n",
       "      <td>68.2</td>\n",
       "      <td>684</td>\n",
       "      <td>68.3</td>\n",
       "      <td>312.0</td>\n",
       "      <td>31.1</td>\n",
       "      <td>6.0</td>\n",
       "      <td>0.6</td>\n",
       "      <td>0.0</td>\n",
       "      <td>0.0</td>\n",
       "      <td>468.0</td>\n",
       "      <td>46.7</td>\n",
       "      <td>289.0</td>\n",
       "      <td>28.8</td>\n",
       "      <td>213</td>\n",
       "      <td>21.3</td>\n",
       "      <td>32.0</td>\n",
       "      <td>3.2</td>\n",
       "    </tr>\n",
       "    <tr>\n",
       "      <th>PARTIDO TRABALHISTA DO BRASIL</th>\n",
       "      <td>286</td>\n",
       "      <td>34.3</td>\n",
       "      <td>548</td>\n",
       "      <td>65.7</td>\n",
       "      <td>575</td>\n",
       "      <td>68.9</td>\n",
       "      <td>256.0</td>\n",
       "      <td>30.7</td>\n",
       "      <td>2.0</td>\n",
       "      <td>0.2</td>\n",
       "      <td>1.0</td>\n",
       "      <td>0.1</td>\n",
       "      <td>414.0</td>\n",
       "      <td>49.6</td>\n",
       "      <td>232.0</td>\n",
       "      <td>27.8</td>\n",
       "      <td>176</td>\n",
       "      <td>21.1</td>\n",
       "      <td>12.0</td>\n",
       "      <td>1.4</td>\n",
       "    </tr>\n",
       "    <tr>\n",
       "      <th>PARTIDO TRABALHISTA NACIONAL</th>\n",
       "      <td>661</td>\n",
       "      <td>32.5</td>\n",
       "      <td>1370</td>\n",
       "      <td>67.5</td>\n",
       "      <td>1392</td>\n",
       "      <td>68.5</td>\n",
       "      <td>628.0</td>\n",
       "      <td>30.9</td>\n",
       "      <td>7.0</td>\n",
       "      <td>0.3</td>\n",
       "      <td>4.0</td>\n",
       "      <td>0.2</td>\n",
       "      <td>933.0</td>\n",
       "      <td>45.9</td>\n",
       "      <td>551.0</td>\n",
       "      <td>27.1</td>\n",
       "      <td>494</td>\n",
       "      <td>24.3</td>\n",
       "      <td>53.0</td>\n",
       "      <td>2.6</td>\n",
       "    </tr>\n",
       "    <tr>\n",
       "      <th>PARTIDO VERDE</th>\n",
       "      <td>1601</td>\n",
       "      <td>33.7</td>\n",
       "      <td>3153</td>\n",
       "      <td>66.3</td>\n",
       "      <td>3636</td>\n",
       "      <td>76.5</td>\n",
       "      <td>1097.0</td>\n",
       "      <td>23.1</td>\n",
       "      <td>19.0</td>\n",
       "      <td>0.4</td>\n",
       "      <td>2.0</td>\n",
       "      <td>0.0</td>\n",
       "      <td>2066.0</td>\n",
       "      <td>43.5</td>\n",
       "      <td>1058.0</td>\n",
       "      <td>22.3</td>\n",
       "      <td>1542</td>\n",
       "      <td>32.4</td>\n",
       "      <td>88.0</td>\n",
       "      <td>1.9</td>\n",
       "    </tr>\n",
       "    <tr>\n",
       "      <th>REDE SUSTENTABILIDADE</th>\n",
       "      <td>213</td>\n",
       "      <td>32.8</td>\n",
       "      <td>437</td>\n",
       "      <td>67.2</td>\n",
       "      <td>477</td>\n",
       "      <td>73.4</td>\n",
       "      <td>170.0</td>\n",
       "      <td>26.2</td>\n",
       "      <td>2.0</td>\n",
       "      <td>0.3</td>\n",
       "      <td>1.0</td>\n",
       "      <td>0.2</td>\n",
       "      <td>238.0</td>\n",
       "      <td>36.6</td>\n",
       "      <td>88.0</td>\n",
       "      <td>13.5</td>\n",
       "      <td>319</td>\n",
       "      <td>49.1</td>\n",
       "      <td>5.0</td>\n",
       "      <td>0.8</td>\n",
       "    </tr>\n",
       "    <tr>\n",
       "      <th>SOLIDARIEDADE</th>\n",
       "      <td>1023</td>\n",
       "      <td>32.6</td>\n",
       "      <td>2114</td>\n",
       "      <td>67.4</td>\n",
       "      <td>2235</td>\n",
       "      <td>71.2</td>\n",
       "      <td>890.0</td>\n",
       "      <td>28.4</td>\n",
       "      <td>8.0</td>\n",
       "      <td>0.3</td>\n",
       "      <td>4.0</td>\n",
       "      <td>0.1</td>\n",
       "      <td>1392.0</td>\n",
       "      <td>44.4</td>\n",
       "      <td>889.0</td>\n",
       "      <td>28.3</td>\n",
       "      <td>783</td>\n",
       "      <td>25.0</td>\n",
       "      <td>73.0</td>\n",
       "      <td>2.3</td>\n",
       "    </tr>\n",
       "  </tbody>\n",
       "</table>\n",
       "</div>"
      ],
      "text/plain": [
       "                                                FEMININO  %FEMININO  \\\n",
       "DEMOCRATAS                                          1445       33.1   \n",
       "PARTIDO COMUNISTA BRASILEIRO                           2       50.0   \n",
       "PARTIDO COMUNISTA DO BRASIL                          467       32.7   \n",
       "PARTIDO DA CAUSA OPERÁRIA                              9       52.9   \n",
       "PARTIDO DA MOBILIZAÇÃO NACIONAL                      274       32.0   \n",
       "PARTIDO DA MULHER BRASILEIRA                         421       43.1   \n",
       "PARTIDO DA REPÚBLICA                                1255       32.4   \n",
       "PARTIDO DA SOCIAL DEMOCRACIA BRASILEIRA             2354       33.5   \n",
       "PARTIDO DEMOCRÁTICO TRABALHISTA                      925       32.0   \n",
       "PARTIDO DO MOVIMENTO DEMOCRÁTICO BRASILEIRO         1817       32.7   \n",
       "PARTIDO DOS TRABALHADORES                           1050       35.1   \n",
       "PARTIDO ECOLÓGICO NACIONAL                           812       33.7   \n",
       "PARTIDO HUMANISTA DA SOLIDARIEDADE                   593       32.0   \n",
       "PARTIDO NOVO                                          15       33.3   \n",
       "PARTIDO POPULAR SOCIALISTA                          1198       32.0   \n",
       "PARTIDO PROGRESSISTA                                 842       32.2   \n",
       "PARTIDO PÁTRIA LIVRE                                 149       35.2   \n",
       "PARTIDO RENOVADOR TRABALHISTA BRASILEIRO             313       32.0   \n",
       "PARTIDO REPUBLICANO BRASILEIRO                      1154       32.9   \n",
       "PARTIDO REPUBLICANO DA ORDEM SOCIAL                  534       31.6   \n",
       "PARTIDO REPUBLICANO PROGRESSISTA                     626       31.5   \n",
       "PARTIDO SOCIAL CRISTÃO                               801       31.5   \n",
       "PARTIDO SOCIAL DEMOCRATA CRISTÃO                     403       33.6   \n",
       "PARTIDO SOCIAL DEMOCRÁTICO                          1521       32.8   \n",
       "PARTIDO SOCIAL LIBERAL                               536       32.4   \n",
       "PARTIDO SOCIALISMO E LIBERDADE                       367       35.0   \n",
       "PARTIDO SOCIALISTA BRASILEIRO                       1389       32.4   \n",
       "PARTIDO SOCIALISTA DOS TRABALHADORES UNIFICADO        18       42.9   \n",
       "PARTIDO TRABALHISTA BRASILEIRO                      1644       32.7   \n",
       "PARTIDO TRABALHISTA CRISTÃO                          319       31.8   \n",
       "PARTIDO TRABALHISTA DO BRASIL                        286       34.3   \n",
       "PARTIDO TRABALHISTA NACIONAL                         661       32.5   \n",
       "PARTIDO VERDE                                       1601       33.7   \n",
       "REDE SUSTENTABILIDADE                                213       32.8   \n",
       "SOLIDARIEDADE                                       1023       32.6   \n",
       "\n",
       "                                                MASCULINO  %MASCULINO  BRANCA  \\\n",
       "DEMOCRATAS                                           2926        66.9    3291   \n",
       "PARTIDO COMUNISTA BRASILEIRO                            2        50.0       4   \n",
       "PARTIDO COMUNISTA DO BRASIL                           962        67.3     858   \n",
       "PARTIDO DA CAUSA OPERÁRIA                               8        47.1      11   \n",
       "PARTIDO DA MOBILIZAÇÃO NACIONAL                       583        68.0     590   \n",
       "PARTIDO DA MULHER BRASILEIRA                          556        56.9     647   \n",
       "PARTIDO DA REPÚBLICA                                 2617        67.6    2829   \n",
       "PARTIDO DA SOCIAL DEMOCRACIA BRASILEIRA              4676        66.5    5542   \n",
       "PARTIDO DEMOCRÁTICO TRABALHISTA                      1965        68.0    2136   \n",
       "PARTIDO DO MOVIMENTO DEMOCRÁTICO BRASILEIRO          3733        67.3    4255   \n",
       "PARTIDO DOS TRABALHADORES                            1940        64.9    2009   \n",
       "PARTIDO ECOLÓGICO NACIONAL                           1599        66.3    1734   \n",
       "PARTIDO HUMANISTA DA SOLIDARIEDADE                   1259        68.0    1316   \n",
       "PARTIDO NOVO                                           30        66.7      43   \n",
       "PARTIDO POPULAR SOCIALISTA                           2540        68.0    2756   \n",
       "PARTIDO PROGRESSISTA                                 1769        67.8    1933   \n",
       "PARTIDO PÁTRIA LIVRE                                  274        64.8     251   \n",
       "PARTIDO RENOVADOR TRABALHISTA BRASILEIRO              665        68.0     689   \n",
       "PARTIDO REPUBLICANO BRASILEIRO                       2350        67.1    2461   \n",
       "PARTIDO REPUBLICANO DA ORDEM SOCIAL                  1154        68.4    1187   \n",
       "PARTIDO REPUBLICANO PROGRESSISTA                     1361        68.5    1386   \n",
       "PARTIDO SOCIAL CRISTÃO                               1743        68.5    1761   \n",
       "PARTIDO SOCIAL DEMOCRATA CRISTÃO                      795        66.4     823   \n",
       "PARTIDO SOCIAL DEMOCRÁTICO                           3113        67.2    3530   \n",
       "PARTIDO SOCIAL LIBERAL                               1116        67.6    1146   \n",
       "PARTIDO SOCIALISMO E LIBERDADE                        682        65.0     672   \n",
       "PARTIDO SOCIALISTA BRASILEIRO                        2901        67.6    3148   \n",
       "PARTIDO SOCIALISTA DOS TRABALHADORES UNIFICADO         24        57.1      24   \n",
       "PARTIDO TRABALHISTA BRASILEIRO                       3388        67.3    3792   \n",
       "PARTIDO TRABALHISTA CRISTÃO                           683        68.2     684   \n",
       "PARTIDO TRABALHISTA DO BRASIL                         548        65.7     575   \n",
       "PARTIDO TRABALHISTA NACIONAL                         1370        67.5    1392   \n",
       "PARTIDO VERDE                                        3153        66.3    3636   \n",
       "REDE SUSTENTABILIDADE                                 437        67.2     477   \n",
       "SOLIDARIEDADE                                        2114        67.4    2235   \n",
       "\n",
       "                                                %BRANCA   NEGRA  %NEGRA  \\\n",
       "DEMOCRATAS                                         75.3  1060.0    24.3   \n",
       "PARTIDO COMUNISTA BRASILEIRO                      100.0     0.0     0.0   \n",
       "PARTIDO COMUNISTA DO BRASIL                        60.0   565.0    39.5   \n",
       "PARTIDO DA CAUSA OPERÁRIA                          64.7     5.0    29.4   \n",
       "PARTIDO DA MOBILIZAÇÃO NACIONAL                    68.8   262.0    30.6   \n",
       "PARTIDO DA MULHER BRASILEIRA                       66.2   326.0    33.4   \n",
       "PARTIDO DA REPÚBLICA                               73.1  1015.0    26.2   \n",
       "PARTIDO DA SOCIAL DEMOCRACIA BRASILEIRA            78.8  1441.0    20.5   \n",
       "PARTIDO DEMOCRÁTICO TRABALHISTA                    73.9   744.0    25.7   \n",
       "PARTIDO DO MOVIMENTO DEMOCRÁTICO BRASILEIRO        76.7  1278.0    23.0   \n",
       "PARTIDO DOS TRABALHADORES                          67.2   968.0    32.4   \n",
       "PARTIDO ECOLÓGICO NACIONAL                         71.9   669.0    27.7   \n",
       "PARTIDO HUMANISTA DA SOLIDARIEDADE                 71.1   528.0    28.5   \n",
       "PARTIDO NOVO                                       95.6     2.0     4.4   \n",
       "PARTIDO POPULAR SOCIALISTA                         73.7   965.0    25.8   \n",
       "PARTIDO PROGRESSISTA                               74.0   667.0    25.5   \n",
       "PARTIDO PÁTRIA LIVRE                               59.3   171.0    40.4   \n",
       "PARTIDO RENOVADOR TRABALHISTA BRASILEIRO           70.4   277.0    28.3   \n",
       "PARTIDO REPUBLICANO BRASILEIRO                     70.2  1032.0    29.5   \n",
       "PARTIDO REPUBLICANO DA ORDEM SOCIAL                70.3   493.0    29.2   \n",
       "PARTIDO REPUBLICANO PROGRESSISTA                   69.8   593.0    29.8   \n",
       "PARTIDO SOCIAL CRISTÃO                             69.2   773.0    30.4   \n",
       "PARTIDO SOCIAL DEMOCRATA CRISTÃO                   68.6   372.0    31.0   \n",
       "PARTIDO SOCIAL DEMOCRÁTICO                         76.2  1086.0    23.4   \n",
       "PARTIDO SOCIAL LIBERAL                             69.4   500.0    30.3   \n",
       "PARTIDO SOCIALISMO E LIBERDADE                     64.1   371.0    35.4   \n",
       "PARTIDO SOCIALISTA BRASILEIRO                      73.4  1123.0    26.2   \n",
       "PARTIDO SOCIALISTA DOS TRABALHADORES UNIFICADO     57.1    14.0    33.3   \n",
       "PARTIDO TRABALHISTA BRASILEIRO                     75.4  1216.0    24.2   \n",
       "PARTIDO TRABALHISTA CRISTÃO                        68.3   312.0    31.1   \n",
       "PARTIDO TRABALHISTA DO BRASIL                      68.9   256.0    30.7   \n",
       "PARTIDO TRABALHISTA NACIONAL                       68.5   628.0    30.9   \n",
       "PARTIDO VERDE                                      76.5  1097.0    23.1   \n",
       "REDE SUSTENTABILIDADE                              73.4   170.0    26.2   \n",
       "SOLIDARIEDADE                                      71.2   890.0    28.4   \n",
       "\n",
       "                                                AMARELA  %AMARELA  INDÍGENA  \\\n",
       "DEMOCRATAS                                         16.0       0.4       4.0   \n",
       "PARTIDO COMUNISTA BRASILEIRO                        0.0       0.0       0.0   \n",
       "PARTIDO COMUNISTA DO BRASIL                         4.0       0.3       2.0   \n",
       "PARTIDO DA CAUSA OPERÁRIA                           1.0       5.9       0.0   \n",
       "PARTIDO DA MOBILIZAÇÃO NACIONAL                     5.0       0.6       0.0   \n",
       "PARTIDO DA MULHER BRASILEIRA                        4.0       0.4       0.0   \n",
       "PARTIDO DA REPÚBLICA                               26.0       0.7       2.0   \n",
       "PARTIDO DA SOCIAL DEMOCRACIA BRASILEIRA            43.0       0.6       4.0   \n",
       "PARTIDO DEMOCRÁTICO TRABALHISTA                     8.0       0.3       2.0   \n",
       "PARTIDO DO MOVIMENTO DEMOCRÁTICO BRASILEIRO        13.0       0.2       4.0   \n",
       "PARTIDO DOS TRABALHADORES                           5.0       0.2       8.0   \n",
       "PARTIDO ECOLÓGICO NACIONAL                          5.0       0.2       3.0   \n",
       "PARTIDO HUMANISTA DA SOLIDARIEDADE                  7.0       0.4       1.0   \n",
       "PARTIDO NOVO                                        0.0       0.0       0.0   \n",
       "PARTIDO POPULAR SOCIALISTA                         14.0       0.4       3.0   \n",
       "PARTIDO PROGRESSISTA                               11.0       0.4       0.0   \n",
       "PARTIDO PÁTRIA LIVRE                                1.0       0.2       0.0   \n",
       "PARTIDO RENOVADOR TRABALHISTA BRASILEIRO           10.0       1.0       2.0   \n",
       "PARTIDO REPUBLICANO BRASILEIRO                      9.0       0.3       2.0   \n",
       "PARTIDO REPUBLICANO DA ORDEM SOCIAL                 7.0       0.4       1.0   \n",
       "PARTIDO REPUBLICANO PROGRESSISTA                    6.0       0.3       2.0   \n",
       "PARTIDO SOCIAL CRISTÃO                             10.0       0.4       0.0   \n",
       "PARTIDO SOCIAL DEMOCRATA CRISTÃO                    3.0       0.3       0.0   \n",
       "PARTIDO SOCIAL DEMOCRÁTICO                         17.0       0.4       1.0   \n",
       "PARTIDO SOCIAL LIBERAL                              6.0       0.4       0.0   \n",
       "PARTIDO SOCIALISMO E LIBERDADE                      1.0       0.1       5.0   \n",
       "PARTIDO SOCIALISTA BRASILEIRO                      16.0       0.4       3.0   \n",
       "PARTIDO SOCIALISTA DOS TRABALHADORES UNIFICADO      1.0       2.4       3.0   \n",
       "PARTIDO TRABALHISTA BRASILEIRO                     23.0       0.5       1.0   \n",
       "PARTIDO TRABALHISTA CRISTÃO                         6.0       0.6       0.0   \n",
       "PARTIDO TRABALHISTA DO BRASIL                       2.0       0.2       1.0   \n",
       "PARTIDO TRABALHISTA NACIONAL                        7.0       0.3       4.0   \n",
       "PARTIDO VERDE                                      19.0       0.4       2.0   \n",
       "REDE SUSTENTABILIDADE                               2.0       0.3       1.0   \n",
       "SOLIDARIEDADE                                       8.0       0.3       4.0   \n",
       "\n",
       "                                                %INDÍGENA  ENSINO MÉDIO  \\\n",
       "DEMOCRATAS                                            0.1        1908.0   \n",
       "PARTIDO COMUNISTA BRASILEIRO                          0.0           0.0   \n",
       "PARTIDO COMUNISTA DO BRASIL                           0.1         646.0   \n",
       "PARTIDO DA CAUSA OPERÁRIA                             0.0           9.0   \n",
       "PARTIDO DA MOBILIZAÇÃO NACIONAL                       0.0         404.0   \n",
       "PARTIDO DA MULHER BRASILEIRA                          0.0         451.0   \n",
       "PARTIDO DA REPÚBLICA                                  0.1        1691.0   \n",
       "PARTIDO DA SOCIAL DEMOCRACIA BRASILEIRA               0.1        2892.0   \n",
       "PARTIDO DEMOCRÁTICO TRABALHISTA                       0.1        1298.0   \n",
       "PARTIDO DO MOVIMENTO DEMOCRÁTICO BRASILEIRO           0.1        2340.0   \n",
       "PARTIDO DOS TRABALHADORES                             0.3        1168.0   \n",
       "PARTIDO ECOLÓGICO NACIONAL                            0.1        1091.0   \n",
       "PARTIDO HUMANISTA DA SOLIDARIEDADE                    0.1         847.0   \n",
       "PARTIDO NOVO                                          0.0           1.0   \n",
       "PARTIDO POPULAR SOCIALISTA                            0.1        1634.0   \n",
       "PARTIDO PROGRESSISTA                                  0.0        1173.0   \n",
       "PARTIDO PÁTRIA LIVRE                                  0.0         172.0   \n",
       "PARTIDO RENOVADOR TRABALHISTA BRASILEIRO              0.2         459.0   \n",
       "PARTIDO REPUBLICANO BRASILEIRO                        0.1        1580.0   \n",
       "PARTIDO REPUBLICANO DA ORDEM SOCIAL                   0.1         808.0   \n",
       "PARTIDO REPUBLICANO PROGRESSISTA                      0.1         914.0   \n",
       "PARTIDO SOCIAL CRISTÃO                                0.0        1209.0   \n",
       "PARTIDO SOCIAL DEMOCRATA CRISTÃO                      0.0         561.0   \n",
       "PARTIDO SOCIAL DEMOCRÁTICO                            0.0        1995.0   \n",
       "PARTIDO SOCIAL LIBERAL                                0.0         810.0   \n",
       "PARTIDO SOCIALISMO E LIBERDADE                        0.5         386.0   \n",
       "PARTIDO SOCIALISTA BRASILEIRO                         0.1        1844.0   \n",
       "PARTIDO SOCIALISTA DOS TRABALHADORES UNIFICADO        7.1          14.0   \n",
       "PARTIDO TRABALHISTA BRASILEIRO                        0.0        2211.0   \n",
       "PARTIDO TRABALHISTA CRISTÃO                           0.0         468.0   \n",
       "PARTIDO TRABALHISTA DO BRASIL                         0.1         414.0   \n",
       "PARTIDO TRABALHISTA NACIONAL                          0.2         933.0   \n",
       "PARTIDO VERDE                                         0.0        2066.0   \n",
       "REDE SUSTENTABILIDADE                                 0.2         238.0   \n",
       "SOLIDARIEDADE                                         0.1        1392.0   \n",
       "\n",
       "                                                %ENSINO MÉDIO  \\\n",
       "DEMOCRATAS                                               43.7   \n",
       "PARTIDO COMUNISTA BRASILEIRO                              0.0   \n",
       "PARTIDO COMUNISTA DO BRASIL                              45.2   \n",
       "PARTIDO DA CAUSA OPERÁRIA                                52.9   \n",
       "PARTIDO DA MOBILIZAÇÃO NACIONAL                          47.1   \n",
       "PARTIDO DA MULHER BRASILEIRA                             46.2   \n",
       "PARTIDO DA REPÚBLICA                                     43.7   \n",
       "PARTIDO DA SOCIAL DEMOCRACIA BRASILEIRA                  41.1   \n",
       "PARTIDO DEMOCRÁTICO TRABALHISTA                          44.9   \n",
       "PARTIDO DO MOVIMENTO DEMOCRÁTICO BRASILEIRO              42.2   \n",
       "PARTIDO DOS TRABALHADORES                                39.1   \n",
       "PARTIDO ECOLÓGICO NACIONAL                               45.3   \n",
       "PARTIDO HUMANISTA DA SOLIDARIEDADE                       45.7   \n",
       "PARTIDO NOVO                                              2.2   \n",
       "PARTIDO POPULAR SOCIALISTA                               43.7   \n",
       "PARTIDO PROGRESSISTA                                     44.9   \n",
       "PARTIDO PÁTRIA LIVRE                                     40.7   \n",
       "PARTIDO RENOVADOR TRABALHISTA BRASILEIRO                 46.9   \n",
       "PARTIDO REPUBLICANO BRASILEIRO                           45.1   \n",
       "PARTIDO REPUBLICANO DA ORDEM SOCIAL                      47.9   \n",
       "PARTIDO REPUBLICANO PROGRESSISTA                         46.0   \n",
       "PARTIDO SOCIAL CRISTÃO                                   47.5   \n",
       "PARTIDO SOCIAL DEMOCRATA CRISTÃO                         46.8   \n",
       "PARTIDO SOCIAL DEMOCRÁTICO                               43.1   \n",
       "PARTIDO SOCIAL LIBERAL                                   49.0   \n",
       "PARTIDO SOCIALISMO E LIBERDADE                           36.8   \n",
       "PARTIDO SOCIALISTA BRASILEIRO                            43.0   \n",
       "PARTIDO SOCIALISTA DOS TRABALHADORES UNIFICADO           33.3   \n",
       "PARTIDO TRABALHISTA BRASILEIRO                           43.9   \n",
       "PARTIDO TRABALHISTA CRISTÃO                              46.7   \n",
       "PARTIDO TRABALHISTA DO BRASIL                            49.6   \n",
       "PARTIDO TRABALHISTA NACIONAL                             45.9   \n",
       "PARTIDO VERDE                                            43.5   \n",
       "REDE SUSTENTABILIDADE                                    36.6   \n",
       "SOLIDARIEDADE                                            44.4   \n",
       "\n",
       "                                                ENSINO FUNDAMENTAL  \\\n",
       "DEMOCRATAS                                                  1247.0   \n",
       "PARTIDO COMUNISTA BRASILEIRO                                   0.0   \n",
       "PARTIDO COMUNISTA DO BRASIL                                  342.0   \n",
       "PARTIDO DA CAUSA OPERÁRIA                                      0.0   \n",
       "PARTIDO DA MOBILIZAÇÃO NACIONAL                              234.0   \n",
       "PARTIDO DA MULHER BRASILEIRA                                 261.0   \n",
       "PARTIDO DA REPÚBLICA                                        1045.0   \n",
       "PARTIDO DA SOCIAL DEMOCRACIA BRASILEIRA                     1733.0   \n",
       "PARTIDO DEMOCRÁTICO TRABALHISTA                              779.0   \n",
       "PARTIDO DO MOVIMENTO DEMOCRÁTICO BRASILEIRO                 1569.0   \n",
       "PARTIDO DOS TRABALHADORES                                    707.0   \n",
       "PARTIDO ECOLÓGICO NACIONAL                                   701.0   \n",
       "PARTIDO HUMANISTA DA SOLIDARIEDADE                           526.0   \n",
       "PARTIDO NOVO                                                   0.0   \n",
       "PARTIDO POPULAR SOCIALISTA                                   970.0   \n",
       "PARTIDO PROGRESSISTA                                         731.0   \n",
       "PARTIDO PÁTRIA LIVRE                                         108.0   \n",
       "PARTIDO RENOVADOR TRABALHISTA BRASILEIRO                     257.0   \n",
       "PARTIDO REPUBLICANO BRASILEIRO                              1034.0   \n",
       "PARTIDO REPUBLICANO DA ORDEM SOCIAL                          428.0   \n",
       "PARTIDO REPUBLICANO PROGRESSISTA                             576.0   \n",
       "PARTIDO SOCIAL CRISTÃO                                       674.0   \n",
       "PARTIDO SOCIAL DEMOCRATA CRISTÃO                             283.0   \n",
       "PARTIDO SOCIAL DEMOCRÁTICO                                  1263.0   \n",
       "PARTIDO SOCIAL LIBERAL                                       436.0   \n",
       "PARTIDO SOCIALISMO E LIBERDADE                               202.0   \n",
       "PARTIDO SOCIALISTA BRASILEIRO                               1106.0   \n",
       "PARTIDO SOCIALISTA DOS TRABALHADORES UNIFICADO                 1.0   \n",
       "PARTIDO TRABALHISTA BRASILEIRO                              1415.0   \n",
       "PARTIDO TRABALHISTA CRISTÃO                                  289.0   \n",
       "PARTIDO TRABALHISTA DO BRASIL                                232.0   \n",
       "PARTIDO TRABALHISTA NACIONAL                                 551.0   \n",
       "PARTIDO VERDE                                               1058.0   \n",
       "REDE SUSTENTABILIDADE                                         88.0   \n",
       "SOLIDARIEDADE                                                889.0   \n",
       "\n",
       "                                                %ENSINO FUNDAMENTAL  \\\n",
       "DEMOCRATAS                                                     28.5   \n",
       "PARTIDO COMUNISTA BRASILEIRO                                    0.0   \n",
       "PARTIDO COMUNISTA DO BRASIL                                    23.9   \n",
       "PARTIDO DA CAUSA OPERÁRIA                                       0.0   \n",
       "PARTIDO DA MOBILIZAÇÃO NACIONAL                                27.3   \n",
       "PARTIDO DA MULHER BRASILEIRA                                   26.7   \n",
       "PARTIDO DA REPÚBLICA                                           27.0   \n",
       "PARTIDO DA SOCIAL DEMOCRACIA BRASILEIRA                        24.7   \n",
       "PARTIDO DEMOCRÁTICO TRABALHISTA                                27.0   \n",
       "PARTIDO DO MOVIMENTO DEMOCRÁTICO BRASILEIRO                    28.3   \n",
       "PARTIDO DOS TRABALHADORES                                      23.6   \n",
       "PARTIDO ECOLÓGICO NACIONAL                                     29.1   \n",
       "PARTIDO HUMANISTA DA SOLIDARIEDADE                             28.4   \n",
       "PARTIDO NOVO                                                    0.0   \n",
       "PARTIDO POPULAR SOCIALISTA                                     25.9   \n",
       "PARTIDO PROGRESSISTA                                           28.0   \n",
       "PARTIDO PÁTRIA LIVRE                                           25.5   \n",
       "PARTIDO RENOVADOR TRABALHISTA BRASILEIRO                       26.3   \n",
       "PARTIDO REPUBLICANO BRASILEIRO                                 29.5   \n",
       "PARTIDO REPUBLICANO DA ORDEM SOCIAL                            25.4   \n",
       "PARTIDO REPUBLICANO PROGRESSISTA                               29.0   \n",
       "PARTIDO SOCIAL CRISTÃO                                         26.5   \n",
       "PARTIDO SOCIAL DEMOCRATA CRISTÃO                               23.6   \n",
       "PARTIDO SOCIAL DEMOCRÁTICO                                     27.3   \n",
       "PARTIDO SOCIAL LIBERAL                                         26.4   \n",
       "PARTIDO SOCIALISMO E LIBERDADE                                 19.3   \n",
       "PARTIDO SOCIALISTA BRASILEIRO                                  25.8   \n",
       "PARTIDO SOCIALISTA DOS TRABALHADORES UNIFICADO                  2.4   \n",
       "PARTIDO TRABALHISTA BRASILEIRO                                 28.1   \n",
       "PARTIDO TRABALHISTA CRISTÃO                                    28.8   \n",
       "PARTIDO TRABALHISTA DO BRASIL                                  27.8   \n",
       "PARTIDO TRABALHISTA NACIONAL                                   27.1   \n",
       "PARTIDO VERDE                                                  22.3   \n",
       "REDE SUSTENTABILIDADE                                          13.5   \n",
       "SOLIDARIEDADE                                                  28.3   \n",
       "\n",
       "                                                ENSINO SUPERIOR  \\\n",
       "DEMOCRATAS                                                 1135   \n",
       "PARTIDO COMUNISTA BRASILEIRO                                  4   \n",
       "PARTIDO COMUNISTA DO BRASIL                                 416   \n",
       "PARTIDO DA CAUSA OPERÁRIA                                     7   \n",
       "PARTIDO DA MOBILIZAÇÃO NACIONAL                             207   \n",
       "PARTIDO DA MULHER BRASILEIRA                                247   \n",
       "PARTIDO DA REPÚBLICA                                       1065   \n",
       "PARTIDO DA SOCIAL DEMOCRACIA BRASILEIRA                    2247   \n",
       "PARTIDO DEMOCRÁTICO TRABALHISTA                             750   \n",
       "PARTIDO DO MOVIMENTO DEMOCRÁTICO BRASILEIRO                1528   \n",
       "PARTIDO DOS TRABALHADORES                                  1035   \n",
       "PARTIDO ECOLÓGICO NACIONAL                                  560   \n",
       "PARTIDO HUMANISTA DA SOLIDARIEDADE                          441   \n",
       "PARTIDO NOVO                                                 44   \n",
       "PARTIDO POPULAR SOCIALISTA                                 1047   \n",
       "PARTIDO PROGRESSISTA                                        633   \n",
       "PARTIDO PÁTRIA LIVRE                                        138   \n",
       "PARTIDO RENOVADOR TRABALHISTA BRASILEIRO                    234   \n",
       "PARTIDO REPUBLICANO BRASILEIRO                              820   \n",
       "PARTIDO REPUBLICANO DA ORDEM SOCIAL                         415   \n",
       "PARTIDO REPUBLICANO PROGRESSISTA                            436   \n",
       "PARTIDO SOCIAL CRISTÃO                                      615   \n",
       "PARTIDO SOCIAL DEMOCRATA CRISTÃO                            320   \n",
       "PARTIDO SOCIAL DEMOCRÁTICO                                 1281   \n",
       "PARTIDO SOCIAL LIBERAL                                      369   \n",
       "PARTIDO SOCIALISMO E LIBERDADE                              452   \n",
       "PARTIDO SOCIALISTA BRASILEIRO                              1258   \n",
       "PARTIDO SOCIALISTA DOS TRABALHADORES UNIFICADO               27   \n",
       "PARTIDO TRABALHISTA BRASILEIRO                             1320   \n",
       "PARTIDO TRABALHISTA CRISTÃO                                 213   \n",
       "PARTIDO TRABALHISTA DO BRASIL                               176   \n",
       "PARTIDO TRABALHISTA NACIONAL                                494   \n",
       "PARTIDO VERDE                                              1542   \n",
       "REDE SUSTENTABILIDADE                                       319   \n",
       "SOLIDARIEDADE                                               783   \n",
       "\n",
       "                                                %ENSINO SUPERIOR  \\\n",
       "DEMOCRATAS                                                  26.0   \n",
       "PARTIDO COMUNISTA BRASILEIRO                               100.0   \n",
       "PARTIDO COMUNISTA DO BRASIL                                 29.1   \n",
       "PARTIDO DA CAUSA OPERÁRIA                                   41.2   \n",
       "PARTIDO DA MOBILIZAÇÃO NACIONAL                             24.2   \n",
       "PARTIDO DA MULHER BRASILEIRA                                25.3   \n",
       "PARTIDO DA REPÚBLICA                                        27.5   \n",
       "PARTIDO DA SOCIAL DEMOCRACIA BRASILEIRA                     32.0   \n",
       "PARTIDO DEMOCRÁTICO TRABALHISTA                             26.0   \n",
       "PARTIDO DO MOVIMENTO DEMOCRÁTICO BRASILEIRO                 27.5   \n",
       "PARTIDO DOS TRABALHADORES                                   34.6   \n",
       "PARTIDO ECOLÓGICO NACIONAL                                  23.2   \n",
       "PARTIDO HUMANISTA DA SOLIDARIEDADE                          23.8   \n",
       "PARTIDO NOVO                                                97.8   \n",
       "PARTIDO POPULAR SOCIALISTA                                  28.0   \n",
       "PARTIDO PROGRESSISTA                                        24.2   \n",
       "PARTIDO PÁTRIA LIVRE                                        32.6   \n",
       "PARTIDO RENOVADOR TRABALHISTA BRASILEIRO                    23.9   \n",
       "PARTIDO REPUBLICANO BRASILEIRO                              23.4   \n",
       "PARTIDO REPUBLICANO DA ORDEM SOCIAL                         24.6   \n",
       "PARTIDO REPUBLICANO PROGRESSISTA                            21.9   \n",
       "PARTIDO SOCIAL CRISTÃO                                      24.2   \n",
       "PARTIDO SOCIAL DEMOCRATA CRISTÃO                            26.7   \n",
       "PARTIDO SOCIAL DEMOCRÁTICO                                  27.6   \n",
       "PARTIDO SOCIAL LIBERAL                                      22.3   \n",
       "PARTIDO SOCIALISMO E LIBERDADE                              43.1   \n",
       "PARTIDO SOCIALISTA BRASILEIRO                               29.3   \n",
       "PARTIDO SOCIALISTA DOS TRABALHADORES UNIFICADO              64.3   \n",
       "PARTIDO TRABALHISTA BRASILEIRO                              26.2   \n",
       "PARTIDO TRABALHISTA CRISTÃO                                 21.3   \n",
       "PARTIDO TRABALHISTA DO BRASIL                               21.1   \n",
       "PARTIDO TRABALHISTA NACIONAL                                24.3   \n",
       "PARTIDO VERDE                                               32.4   \n",
       "REDE SUSTENTABILIDADE                                       49.1   \n",
       "SOLIDARIEDADE                                               25.0   \n",
       "\n",
       "                                                LÊ E ESCREVE  %LÊ E ESCREVE  \n",
       "DEMOCRATAS                                              81.0            1.9  \n",
       "PARTIDO COMUNISTA BRASILEIRO                             0.0            0.0  \n",
       "PARTIDO COMUNISTA DO BRASIL                             25.0            1.7  \n",
       "PARTIDO DA CAUSA OPERÁRIA                                1.0            5.9  \n",
       "PARTIDO DA MOBILIZAÇÃO NACIONAL                         12.0            1.4  \n",
       "PARTIDO DA MULHER BRASILEIRA                            18.0            1.8  \n",
       "PARTIDO DA REPÚBLICA                                    71.0            1.8  \n",
       "PARTIDO DA SOCIAL DEMOCRACIA BRASILEIRA                158.0            2.2  \n",
       "PARTIDO DEMOCRÁTICO TRABALHISTA                         63.0            2.2  \n",
       "PARTIDO DO MOVIMENTO DEMOCRÁTICO BRASILEIRO            113.0            2.0  \n",
       "PARTIDO DOS TRABALHADORES                               79.0            2.6  \n",
       "PARTIDO ECOLÓGICO NACIONAL                              59.0            2.4  \n",
       "PARTIDO HUMANISTA DA SOLIDARIEDADE                      38.0            2.1  \n",
       "PARTIDO NOVO                                             0.0            0.0  \n",
       "PARTIDO POPULAR SOCIALISTA                              87.0            2.3  \n",
       "PARTIDO PROGRESSISTA                                    74.0            2.8  \n",
       "PARTIDO PÁTRIA LIVRE                                     5.0            1.2  \n",
       "PARTIDO RENOVADOR TRABALHISTA BRASILEIRO                28.0            2.9  \n",
       "PARTIDO REPUBLICANO BRASILEIRO                          70.0            2.0  \n",
       "PARTIDO REPUBLICANO DA ORDEM SOCIAL                     37.0            2.2  \n",
       "PARTIDO REPUBLICANO PROGRESSISTA                        61.0            3.1  \n",
       "PARTIDO SOCIAL CRISTÃO                                  45.0            1.8  \n",
       "PARTIDO SOCIAL DEMOCRATA CRISTÃO                        34.0            2.8  \n",
       "PARTIDO SOCIAL DEMOCRÁTICO                              95.0            2.1  \n",
       "PARTIDO SOCIAL LIBERAL                                  37.0            2.2  \n",
       "PARTIDO SOCIALISMO E LIBERDADE                           9.0            0.9  \n",
       "PARTIDO SOCIALISTA BRASILEIRO                           82.0            1.9  \n",
       "PARTIDO SOCIALISTA DOS TRABALHADORES UNIFICADO           0.0            0.0  \n",
       "PARTIDO TRABALHISTA BRASILEIRO                          86.0            1.7  \n",
       "PARTIDO TRABALHISTA CRISTÃO                             32.0            3.2  \n",
       "PARTIDO TRABALHISTA DO BRASIL                           12.0            1.4  \n",
       "PARTIDO TRABALHISTA NACIONAL                            53.0            2.6  \n",
       "PARTIDO VERDE                                           88.0            1.9  \n",
       "REDE SUSTENTABILIDADE                                    5.0            0.8  \n",
       "SOLIDARIEDADE                                           73.0            2.3  "
      ]
     },
     "execution_count": 72,
     "metadata": {},
     "output_type": "execute_result"
    }
   ],
   "source": [
    "df_partidos"
   ]
  },
  {
   "cell_type": "markdown",
   "metadata": {},
   "source": [
    "*Unidade Eleitoral*"
   ]
  },
  {
   "cell_type": "code",
   "execution_count": 70,
   "metadata": {},
   "outputs": [],
   "source": [
    "# Variaveis de Gênero \n",
    "fem_ue = fem['NM_UE'].value_counts()\n",
    "masc_ue = masc['NM_UE'].value_counts()\n"
   ]
  },
  {
   "cell_type": "code",
   "execution_count": 71,
   "metadata": {},
   "outputs": [],
   "source": [
    "total_gen_ue = fem_ue + masc_ue"
   ]
  },
  {
   "cell_type": "code",
   "execution_count": 74,
   "metadata": {},
   "outputs": [],
   "source": [
    "percent_fem_ue = fem_ue * 100/total_gen_ue\n",
    "percent_masc_ue = masc_ue * 100/total_gen_ue"
   ]
  },
  {
   "cell_type": "code",
   "execution_count": 75,
   "metadata": {},
   "outputs": [],
   "source": [
    "percent_masc_ue = percent_masc_ue.apply(lambda x: round(x, decimais))\n",
    "percent_fem_ue = percent_fem_ue.apply(lambda x: round(x, decimais))"
   ]
  },
  {
   "cell_type": "code",
   "execution_count": 76,
   "metadata": {},
   "outputs": [],
   "source": [
    "# Variaveis de raça\n",
    "negra_ue = df_NEGRA['NM_UE'].value_counts()\n",
    "branca_ue = df_BRANCA['NM_UE'].value_counts()\n",
    "amarela_ue = df_AMARELA['NM_UE'].value_counts()\n",
    "indigena_ue = df_INDIGENA['NM_UE'].value_counts()"
   ]
  },
  {
   "cell_type": "code",
   "execution_count": 77,
   "metadata": {},
   "outputs": [],
   "source": [
    "total_raca_ue = consulta_Vereador_2016['NM_UE'].value_counts()"
   ]
  },
  {
   "cell_type": "code",
   "execution_count": 78,
   "metadata": {},
   "outputs": [],
   "source": [
    "percent_negra_ue = negra_ue *100/total_raca_ue\n",
    "percent_branca_ue = branca_ue *100/total_raca_ue\n",
    "percent_amarela_ue = amarela_ue *100/total_raca_ue\n",
    "percent_indigena_ue = indigena_ue *100/total_raca_ue"
   ]
  },
  {
   "cell_type": "code",
   "execution_count": 79,
   "metadata": {},
   "outputs": [],
   "source": [
    "percent_negra_ue = percent_negra_ue.apply(lambda x: round(x, decimais))\n",
    "percent_branca_ue = percent_branca_ue.apply(lambda x: round(x, decimais))\n",
    "percent_amarela_ue = percent_amarela_ue.apply(lambda x: round(x, decimais))\n",
    "percent_indigena_ue = percent_indigena_ue.apply(lambda x: round(x, decimais))"
   ]
  },
  {
   "cell_type": "code",
   "execution_count": 80,
   "metadata": {},
   "outputs": [],
   "source": [
    "# Variaveis de Grau de instrucao\n",
    "\n",
    "ens_Med_UE = ens_Med['NM_UE'].value_counts()\n",
    "ens_Fund_UE = ens_Fund['NM_UE'].value_counts()\n",
    "ens_Sup_UE = ens_Sup['NM_UE'].value_counts()\n",
    "ens_Le_UE = ens_Le['NM_UE'].value_counts()\n"
   ]
  },
  {
   "cell_type": "code",
   "execution_count": 81,
   "metadata": {},
   "outputs": [],
   "source": [
    "total_ens_ue = consulta_Vereador_2016['NM_UE'].value_counts()"
   ]
  },
  {
   "cell_type": "code",
   "execution_count": 82,
   "metadata": {},
   "outputs": [],
   "source": [
    "percent_ens_Med_UE = ens_Med_UE *100/total_ens_ue\n",
    "percent_ens_Fund_UE = ens_Fund_UE *100/total_ens_ue\n",
    "percent_ens_Sup_UE = ens_Sup_UE *100/total_ens_ue\n",
    "percent_ens_Le_UE = ens_Le_UE*100/total_ens_ue\n"
   ]
  },
  {
   "cell_type": "code",
   "execution_count": 83,
   "metadata": {},
   "outputs": [],
   "source": [
    "percent_ens_Med_UE= percent_ens_Med_UE.apply(lambda x: round(x, decimais))\n",
    "percent_ens_Fund_UE= percent_ens_Fund_UE.apply(lambda x: round(x, decimais))\n",
    "percent_ens_Sup_UE =percent_ens_Sup_UE.apply(lambda x: round(x, decimais))\n",
    "percent_ens_Le_UE = percent_ens_Le_UE.apply(lambda x: round(x, decimais))\n"
   ]
  },
  {
   "cell_type": "code",
   "execution_count": 84,
   "metadata": {},
   "outputs": [],
   "source": [
    "# Criando Data Frame \n",
    "\n",
    "dic2 = {'FEMININO': fem_ue, '%FEMININO': percent_fem_ue , 'MASCULINO':masc_ue,'%MASCULINO': percent_masc_ue ,\n",
    "          'BRANCA': branca_ue , '%BRANCA': percent_branca_ue , 'NEGRA': negra_ue, '%NEGRA': percent_negra_ue, 'AMARELA': amarela_ue, '%AMARELA': percent_amarela_ue, \n",
    "         'INDÍGENA': indigena_ue ,'%INDÍGENA': percent_indigena_ue, 'ENSINO MÉDIO': ens_Med_UE ,'%ENSINO MÉDIO': percent_ens_Med_UE , \n",
    "          'ENSINO FUNDAMENTAL': ens_Fund_UE, '%ENSINO FUNDAMENTAL': percent_ens_Fund_UE,\n",
    "          'ENSINO SUPERIOR': ens_Sup_UE, '%ENSINO SUPERIOR': percent_ens_Sup_UE, 'LÊ E ESCREVE': ens_Le_UE, '%LÊ E ESCREVE':percent_ens_Le_UE}\n"
   ]
  },
  {
   "cell_type": "code",
   "execution_count": 85,
   "metadata": {},
   "outputs": [],
   "source": [
    "df_ue = pd.DataFrame(dic2)"
   ]
  },
  {
   "cell_type": "code",
   "execution_count": 86,
   "metadata": {},
   "outputs": [],
   "source": [
    "df_ue = df_ue.fillna(0)"
   ]
  },
  {
   "cell_type": "code",
   "execution_count": 88,
   "metadata": {
    "collapsed": true
   },
   "outputs": [
    {
     "data": {
      "text/html": [
       "<div>\n",
       "<style scoped>\n",
       "    .dataframe tbody tr th:only-of-type {\n",
       "        vertical-align: middle;\n",
       "    }\n",
       "\n",
       "    .dataframe tbody tr th {\n",
       "        vertical-align: top;\n",
       "    }\n",
       "\n",
       "    .dataframe thead th {\n",
       "        text-align: right;\n",
       "    }\n",
       "</style>\n",
       "<table border=\"1\" class=\"dataframe\">\n",
       "  <thead>\n",
       "    <tr style=\"text-align: right;\">\n",
       "      <th></th>\n",
       "      <th>FEMININO</th>\n",
       "      <th>%FEMININO</th>\n",
       "      <th>MASCULINO</th>\n",
       "      <th>%MASCULINO</th>\n",
       "      <th>BRANCA</th>\n",
       "      <th>%BRANCA</th>\n",
       "      <th>NEGRA</th>\n",
       "      <th>%NEGRA</th>\n",
       "      <th>AMARELA</th>\n",
       "      <th>%AMARELA</th>\n",
       "      <th>INDÍGENA</th>\n",
       "      <th>%INDÍGENA</th>\n",
       "      <th>ENSINO MÉDIO</th>\n",
       "      <th>%ENSINO MÉDIO</th>\n",
       "      <th>ENSINO FUNDAMENTAL</th>\n",
       "      <th>%ENSINO FUNDAMENTAL</th>\n",
       "      <th>ENSINO SUPERIOR</th>\n",
       "      <th>%ENSINO SUPERIOR</th>\n",
       "      <th>LÊ E ESCREVE</th>\n",
       "      <th>%LÊ E ESCREVE</th>\n",
       "    </tr>\n",
       "  </thead>\n",
       "  <tbody>\n",
       "    <tr>\n",
       "      <th>ADAMANTINA</th>\n",
       "      <td>26</td>\n",
       "      <td>33.3</td>\n",
       "      <td>52</td>\n",
       "      <td>66.7</td>\n",
       "      <td>55</td>\n",
       "      <td>70.5</td>\n",
       "      <td>21.0</td>\n",
       "      <td>26.9</td>\n",
       "      <td>2.0</td>\n",
       "      <td>2.6</td>\n",
       "      <td>0.0</td>\n",
       "      <td>0.0</td>\n",
       "      <td>34</td>\n",
       "      <td>43.6</td>\n",
       "      <td>23</td>\n",
       "      <td>29.5</td>\n",
       "      <td>21.0</td>\n",
       "      <td>26.9</td>\n",
       "      <td>0.0</td>\n",
       "      <td>0.0</td>\n",
       "    </tr>\n",
       "    <tr>\n",
       "      <th>ADOLFO</th>\n",
       "      <td>15</td>\n",
       "      <td>32.6</td>\n",
       "      <td>31</td>\n",
       "      <td>67.4</td>\n",
       "      <td>40</td>\n",
       "      <td>87.0</td>\n",
       "      <td>6.0</td>\n",
       "      <td>13.0</td>\n",
       "      <td>0.0</td>\n",
       "      <td>0.0</td>\n",
       "      <td>0.0</td>\n",
       "      <td>0.0</td>\n",
       "      <td>22</td>\n",
       "      <td>47.8</td>\n",
       "      <td>10</td>\n",
       "      <td>21.7</td>\n",
       "      <td>11.0</td>\n",
       "      <td>23.9</td>\n",
       "      <td>3.0</td>\n",
       "      <td>6.5</td>\n",
       "    </tr>\n",
       "    <tr>\n",
       "      <th>AGUAÍ</th>\n",
       "      <td>63</td>\n",
       "      <td>32.6</td>\n",
       "      <td>130</td>\n",
       "      <td>67.4</td>\n",
       "      <td>165</td>\n",
       "      <td>85.5</td>\n",
       "      <td>28.0</td>\n",
       "      <td>14.5</td>\n",
       "      <td>0.0</td>\n",
       "      <td>0.0</td>\n",
       "      <td>0.0</td>\n",
       "      <td>0.0</td>\n",
       "      <td>76</td>\n",
       "      <td>39.4</td>\n",
       "      <td>76</td>\n",
       "      <td>39.4</td>\n",
       "      <td>41.0</td>\n",
       "      <td>21.2</td>\n",
       "      <td>0.0</td>\n",
       "      <td>0.0</td>\n",
       "    </tr>\n",
       "    <tr>\n",
       "      <th>AGUDOS</th>\n",
       "      <td>49</td>\n",
       "      <td>32.7</td>\n",
       "      <td>101</td>\n",
       "      <td>67.3</td>\n",
       "      <td>96</td>\n",
       "      <td>64.0</td>\n",
       "      <td>54.0</td>\n",
       "      <td>36.0</td>\n",
       "      <td>0.0</td>\n",
       "      <td>0.0</td>\n",
       "      <td>0.0</td>\n",
       "      <td>0.0</td>\n",
       "      <td>80</td>\n",
       "      <td>53.3</td>\n",
       "      <td>41</td>\n",
       "      <td>27.3</td>\n",
       "      <td>27.0</td>\n",
       "      <td>18.0</td>\n",
       "      <td>2.0</td>\n",
       "      <td>1.3</td>\n",
       "    </tr>\n",
       "    <tr>\n",
       "      <th>ALAMBARI</th>\n",
       "      <td>14</td>\n",
       "      <td>32.6</td>\n",
       "      <td>29</td>\n",
       "      <td>67.4</td>\n",
       "      <td>34</td>\n",
       "      <td>79.1</td>\n",
       "      <td>9.0</td>\n",
       "      <td>20.9</td>\n",
       "      <td>0.0</td>\n",
       "      <td>0.0</td>\n",
       "      <td>0.0</td>\n",
       "      <td>0.0</td>\n",
       "      <td>14</td>\n",
       "      <td>32.6</td>\n",
       "      <td>21</td>\n",
       "      <td>48.8</td>\n",
       "      <td>8.0</td>\n",
       "      <td>18.6</td>\n",
       "      <td>0.0</td>\n",
       "      <td>0.0</td>\n",
       "    </tr>\n",
       "    <tr>\n",
       "      <th>...</th>\n",
       "      <td>...</td>\n",
       "      <td>...</td>\n",
       "      <td>...</td>\n",
       "      <td>...</td>\n",
       "      <td>...</td>\n",
       "      <td>...</td>\n",
       "      <td>...</td>\n",
       "      <td>...</td>\n",
       "      <td>...</td>\n",
       "      <td>...</td>\n",
       "      <td>...</td>\n",
       "      <td>...</td>\n",
       "      <td>...</td>\n",
       "      <td>...</td>\n",
       "      <td>...</td>\n",
       "      <td>...</td>\n",
       "      <td>...</td>\n",
       "      <td>...</td>\n",
       "      <td>...</td>\n",
       "      <td>...</td>\n",
       "    </tr>\n",
       "    <tr>\n",
       "      <th>ÁGUAS DE SÃO PEDRO</th>\n",
       "      <td>31</td>\n",
       "      <td>37.8</td>\n",
       "      <td>51</td>\n",
       "      <td>62.2</td>\n",
       "      <td>73</td>\n",
       "      <td>89.0</td>\n",
       "      <td>9.0</td>\n",
       "      <td>11.0</td>\n",
       "      <td>0.0</td>\n",
       "      <td>0.0</td>\n",
       "      <td>0.0</td>\n",
       "      <td>0.0</td>\n",
       "      <td>43</td>\n",
       "      <td>52.4</td>\n",
       "      <td>13</td>\n",
       "      <td>15.9</td>\n",
       "      <td>25.0</td>\n",
       "      <td>30.5</td>\n",
       "      <td>1.0</td>\n",
       "      <td>1.2</td>\n",
       "    </tr>\n",
       "    <tr>\n",
       "      <th>ÁLVARES FLORENCE</th>\n",
       "      <td>12</td>\n",
       "      <td>33.3</td>\n",
       "      <td>24</td>\n",
       "      <td>66.7</td>\n",
       "      <td>35</td>\n",
       "      <td>97.2</td>\n",
       "      <td>1.0</td>\n",
       "      <td>2.8</td>\n",
       "      <td>0.0</td>\n",
       "      <td>0.0</td>\n",
       "      <td>0.0</td>\n",
       "      <td>0.0</td>\n",
       "      <td>17</td>\n",
       "      <td>47.2</td>\n",
       "      <td>9</td>\n",
       "      <td>25.0</td>\n",
       "      <td>9.0</td>\n",
       "      <td>25.0</td>\n",
       "      <td>1.0</td>\n",
       "      <td>2.8</td>\n",
       "    </tr>\n",
       "    <tr>\n",
       "      <th>ÁLVARES MACHADO</th>\n",
       "      <td>20</td>\n",
       "      <td>33.3</td>\n",
       "      <td>40</td>\n",
       "      <td>66.7</td>\n",
       "      <td>26</td>\n",
       "      <td>43.3</td>\n",
       "      <td>34.0</td>\n",
       "      <td>56.7</td>\n",
       "      <td>0.0</td>\n",
       "      <td>0.0</td>\n",
       "      <td>0.0</td>\n",
       "      <td>0.0</td>\n",
       "      <td>23</td>\n",
       "      <td>38.3</td>\n",
       "      <td>26</td>\n",
       "      <td>43.3</td>\n",
       "      <td>10.0</td>\n",
       "      <td>16.7</td>\n",
       "      <td>0.0</td>\n",
       "      <td>0.0</td>\n",
       "    </tr>\n",
       "    <tr>\n",
       "      <th>ÁLVARO DE CARVALHO</th>\n",
       "      <td>19</td>\n",
       "      <td>35.2</td>\n",
       "      <td>35</td>\n",
       "      <td>64.8</td>\n",
       "      <td>45</td>\n",
       "      <td>83.3</td>\n",
       "      <td>9.0</td>\n",
       "      <td>16.7</td>\n",
       "      <td>0.0</td>\n",
       "      <td>0.0</td>\n",
       "      <td>0.0</td>\n",
       "      <td>0.0</td>\n",
       "      <td>28</td>\n",
       "      <td>51.9</td>\n",
       "      <td>23</td>\n",
       "      <td>42.6</td>\n",
       "      <td>3.0</td>\n",
       "      <td>5.6</td>\n",
       "      <td>0.0</td>\n",
       "      <td>0.0</td>\n",
       "    </tr>\n",
       "    <tr>\n",
       "      <th>ÓLEO</th>\n",
       "      <td>15</td>\n",
       "      <td>32.6</td>\n",
       "      <td>31</td>\n",
       "      <td>67.4</td>\n",
       "      <td>44</td>\n",
       "      <td>95.7</td>\n",
       "      <td>2.0</td>\n",
       "      <td>4.3</td>\n",
       "      <td>0.0</td>\n",
       "      <td>0.0</td>\n",
       "      <td>0.0</td>\n",
       "      <td>0.0</td>\n",
       "      <td>23</td>\n",
       "      <td>50.0</td>\n",
       "      <td>21</td>\n",
       "      <td>45.7</td>\n",
       "      <td>2.0</td>\n",
       "      <td>4.3</td>\n",
       "      <td>0.0</td>\n",
       "      <td>0.0</td>\n",
       "    </tr>\n",
       "  </tbody>\n",
       "</table>\n",
       "<p>645 rows × 20 columns</p>\n",
       "</div>"
      ],
      "text/plain": [
       "                    FEMININO  %FEMININO  MASCULINO  %MASCULINO  BRANCA  \\\n",
       "ADAMANTINA                26       33.3         52        66.7      55   \n",
       "ADOLFO                    15       32.6         31        67.4      40   \n",
       "AGUAÍ                     63       32.6        130        67.4     165   \n",
       "AGUDOS                    49       32.7        101        67.3      96   \n",
       "ALAMBARI                  14       32.6         29        67.4      34   \n",
       "...                      ...        ...        ...         ...     ...   \n",
       "ÁGUAS DE SÃO PEDRO        31       37.8         51        62.2      73   \n",
       "ÁLVARES FLORENCE          12       33.3         24        66.7      35   \n",
       "ÁLVARES MACHADO           20       33.3         40        66.7      26   \n",
       "ÁLVARO DE CARVALHO        19       35.2         35        64.8      45   \n",
       "ÓLEO                      15       32.6         31        67.4      44   \n",
       "\n",
       "                    %BRANCA  NEGRA  %NEGRA  AMARELA  %AMARELA  INDÍGENA  \\\n",
       "ADAMANTINA             70.5   21.0    26.9      2.0       2.6       0.0   \n",
       "ADOLFO                 87.0    6.0    13.0      0.0       0.0       0.0   \n",
       "AGUAÍ                  85.5   28.0    14.5      0.0       0.0       0.0   \n",
       "AGUDOS                 64.0   54.0    36.0      0.0       0.0       0.0   \n",
       "ALAMBARI               79.1    9.0    20.9      0.0       0.0       0.0   \n",
       "...                     ...    ...     ...      ...       ...       ...   \n",
       "ÁGUAS DE SÃO PEDRO     89.0    9.0    11.0      0.0       0.0       0.0   \n",
       "ÁLVARES FLORENCE       97.2    1.0     2.8      0.0       0.0       0.0   \n",
       "ÁLVARES MACHADO        43.3   34.0    56.7      0.0       0.0       0.0   \n",
       "ÁLVARO DE CARVALHO     83.3    9.0    16.7      0.0       0.0       0.0   \n",
       "ÓLEO                   95.7    2.0     4.3      0.0       0.0       0.0   \n",
       "\n",
       "                    %INDÍGENA  ENSINO MÉDIO  %ENSINO MÉDIO  \\\n",
       "ADAMANTINA                0.0            34           43.6   \n",
       "ADOLFO                    0.0            22           47.8   \n",
       "AGUAÍ                     0.0            76           39.4   \n",
       "AGUDOS                    0.0            80           53.3   \n",
       "ALAMBARI                  0.0            14           32.6   \n",
       "...                       ...           ...            ...   \n",
       "ÁGUAS DE SÃO PEDRO        0.0            43           52.4   \n",
       "ÁLVARES FLORENCE          0.0            17           47.2   \n",
       "ÁLVARES MACHADO           0.0            23           38.3   \n",
       "ÁLVARO DE CARVALHO        0.0            28           51.9   \n",
       "ÓLEO                      0.0            23           50.0   \n",
       "\n",
       "                    ENSINO FUNDAMENTAL  %ENSINO FUNDAMENTAL  ENSINO SUPERIOR  \\\n",
       "ADAMANTINA                          23                 29.5             21.0   \n",
       "ADOLFO                              10                 21.7             11.0   \n",
       "AGUAÍ                               76                 39.4             41.0   \n",
       "AGUDOS                              41                 27.3             27.0   \n",
       "ALAMBARI                            21                 48.8              8.0   \n",
       "...                                ...                  ...              ...   \n",
       "ÁGUAS DE SÃO PEDRO                  13                 15.9             25.0   \n",
       "ÁLVARES FLORENCE                     9                 25.0              9.0   \n",
       "ÁLVARES MACHADO                     26                 43.3             10.0   \n",
       "ÁLVARO DE CARVALHO                  23                 42.6              3.0   \n",
       "ÓLEO                                21                 45.7              2.0   \n",
       "\n",
       "                    %ENSINO SUPERIOR  LÊ E ESCREVE  %LÊ E ESCREVE  \n",
       "ADAMANTINA                      26.9           0.0            0.0  \n",
       "ADOLFO                          23.9           3.0            6.5  \n",
       "AGUAÍ                           21.2           0.0            0.0  \n",
       "AGUDOS                          18.0           2.0            1.3  \n",
       "ALAMBARI                        18.6           0.0            0.0  \n",
       "...                              ...           ...            ...  \n",
       "ÁGUAS DE SÃO PEDRO              30.5           1.0            1.2  \n",
       "ÁLVARES FLORENCE                25.0           1.0            2.8  \n",
       "ÁLVARES MACHADO                 16.7           0.0            0.0  \n",
       "ÁLVARO DE CARVALHO               5.6           0.0            0.0  \n",
       "ÓLEO                             4.3           0.0            0.0  \n",
       "\n",
       "[645 rows x 20 columns]"
      ]
     },
     "execution_count": 88,
     "metadata": {},
     "output_type": "execute_result"
    }
   ],
   "source": [
    "df_ue"
   ]
  },
  {
   "cell_type": "code",
   "execution_count": 87,
   "metadata": {},
   "outputs": [],
   "source": [
    "df_ue.to_csv('consultaVereador_SP_municipios.csv')"
   ]
  }
 ],
 "metadata": {
  "kernelspec": {
   "display_name": "Python 3",
   "language": "python",
   "name": "python3"
  },
  "language_info": {
   "codemirror_mode": {
    "name": "ipython",
    "version": 3
   },
   "file_extension": ".py",
   "mimetype": "text/x-python",
   "name": "python",
   "nbconvert_exporter": "python",
   "pygments_lexer": "ipython3",
   "version": "3.8.10"
  }
 },
 "nbformat": 4,
 "nbformat_minor": 4
}
