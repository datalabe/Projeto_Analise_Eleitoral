{
 "cells": [
  {
   "cell_type": "markdown",
   "id": "3756c5a8",
   "metadata": {},
   "source": [
    " # Análise Eleitoral Estado do Rio de Janeiro\n",
    " \n",
    "  ### Objetivos: Entender a distibuicao racial, etária e de genero dos candidatos ao cargo de verador por partido e território\n",
    "  ### Dados: http://www.tse.jus.br/eleicoes/estatisticas/repositorio-de-dados-eleitorais-1/repositorio-de-dados-eleitorais\n",
    "  \n",
    "  "
   ]
  },
  {
   "cell_type": "code",
   "execution_count": 1,
   "id": "7625045b",
   "metadata": {},
   "outputs": [
    {
     "data": {
      "text/html": [
       "        <script type=\"text/javascript\">\n",
       "        window.PlotlyConfig = {MathJaxConfig: 'local'};\n",
       "        if (window.MathJax) {MathJax.Hub.Config({SVG: {font: \"STIX-Web\"}});}\n",
       "        if (typeof require !== 'undefined') {\n",
       "        require.undef(\"plotly\");\n",
       "        requirejs.config({\n",
       "            paths: {\n",
       "                'plotly': ['https://cdn.plot.ly/plotly-2.2.0.min']\n",
       "            }\n",
       "        });\n",
       "        require(['plotly'], function(Plotly) {\n",
       "            window._Plotly = Plotly;\n",
       "        });\n",
       "        }\n",
       "        </script>\n",
       "        "
      ]
     },
     "metadata": {},
     "output_type": "display_data"
    }
   ],
   "source": [
    "import pandas as pd\n",
    "import matplotlib.pyplot as plt\n",
    "import plotly.offline as py\n",
    "from plotly.subplots import make_subplots\n",
    "import plotly.express as px\n",
    "import plotly.graph_objs as go\n",
    "import cufflinks as cf\n",
    "import numpy as np\n",
    "\n",
    "\n",
    "py.init_notebook_mode(connected=True)\n",
    "\n",
    "%matplotlib inline"
   ]
  },
  {
   "cell_type": "code",
   "execution_count": 2,
   "id": "ea13d128",
   "metadata": {},
   "outputs": [],
   "source": [
    "# Definindo casas decimais\n",
    "decimais = 1"
   ]
  },
  {
   "cell_type": "code",
   "execution_count": 3,
   "id": "a0160c4c",
   "metadata": {},
   "outputs": [],
   "source": [
    "consulta = pd.read_csv('consulta_cand_2016_RJ.csv', sep=';', encoding='latin-1', low_memory=False)"
   ]
  },
  {
   "cell_type": "code",
   "execution_count": 4,
   "id": "26b36a43",
   "metadata": {},
   "outputs": [],
   "source": [
    "consulta2016 = pd.DataFrame(consulta, columns= ['DS_CARGO','NM_CANDIDATO', 'NM_SOCIAL_CANDIDATO', 'NM_PARTIDO','DS_GENERO',\n",
    "                                                'DS_COR_RACA', 'NR_IDADE_DATA_POSSE', 'DS_GRAU_INSTRUCAO','NM_UE', 'VR_DESPESA_MAX_CAMPANHA'])"
   ]
  },
  {
   "cell_type": "code",
   "execution_count": 5,
   "id": "adde916f",
   "metadata": {},
   "outputs": [],
   "source": [
    "consulta_Vereador_2016 = consulta2016.loc[consulta['DS_CARGO'] == 'VEREADOR']"
   ]
  },
  {
   "cell_type": "code",
   "execution_count": 6,
   "id": "edad1afc",
   "metadata": {},
   "outputs": [],
   "source": [
    "# Renomeando a coluna raça para os declarados pretos e pardos\n",
    "for (row, col) in consulta_Vereador_2016.iterrows():\n",
    "    if col.DS_COR_RACA == 'PRETA':\n",
    "        consulta_Vereador_2016['DS_COR_RACA'].replace(to_replace=col.DS_COR_RACA, value='NEGRA', inplace=True)\n",
    "    if col.DS_COR_RACA == 'PARDA':\n",
    "        consulta_Vereador_2016['DS_COR_RACA'].replace(to_replace=col.DS_COR_RACA, value='NEGRA', inplace=True)"
   ]
  },
  {
   "cell_type": "code",
   "execution_count": 7,
   "id": "a5ced705",
   "metadata": {},
   "outputs": [],
   "source": [
    "consulta_Vereador_2016.to_csv('consulta_Vereador_2016_RJ.csv')"
   ]
  },
  {
   "cell_type": "markdown",
   "id": "f32ca17e",
   "metadata": {},
   "source": [
    "### Visão Geral\n",
    "\n",
    "Há 21227 candidaturas ao cargo de vereador,35 partidos e 92 unidades eleitorais.\n",
    "\n",
    "O partido com maior número de candidaturas no Rio de Janeiro é o PARTIDO DO MOVIMENTO DEMOCRÁTICO BRASILEIRO, já o PARTIDO COMUNISTA BRASILEIRO tem o menor número de candidaturas. \n",
    "\n",
    "RIO DE JANEIRO  é a unidade eleitoral com maior número de candidaturas,1628, ao contrário de SÃO SEBASTIÃO DO ALTO que possui apenas 48 candidaturas.\n",
    "\n",
    " 68% das candidaturas são de homens, 45% são de declarados negros,  média de idade é de 46 anos e maioria dos candidatos tem  o ensino médio completo\n",
    " \n",
    " \n",
    " \n",
    " \n",
    " \n",
    " \n",
    " \n",
    " \n",
    " \n",
    " \n",
    " ***OBS:*** *A análise de raça foi feita a partir do que é entendido como população negra no Brasil por parte das instituições Data Labe e Alma Preta, assim foi considerados negros a soma de pretos e pardos*\n"
   ]
  },
  {
   "cell_type": "code",
   "execution_count": 8,
   "id": "bb119f75",
   "metadata": {
    "collapsed": true
   },
   "outputs": [
    {
     "data": {
      "text/plain": [
       "DS_CARGO                       1\n",
       "NM_CANDIDATO               21227\n",
       "NM_SOCIAL_CANDIDATO            1\n",
       "NM_PARTIDO                    35\n",
       "DS_GENERO                      2\n",
       "DS_COR_RACA                    4\n",
       "NR_IDADE_DATA_POSSE           72\n",
       "DS_GRAU_INSTRUCAO              7\n",
       "NM_UE                         92\n",
       "VR_DESPESA_MAX_CAMPANHA        2\n",
       "dtype: int64"
      ]
     },
     "execution_count": 8,
     "metadata": {},
     "output_type": "execute_result"
    }
   ],
   "source": [
    "consulta_Vereador_2016.nunique()"
   ]
  },
  {
   "cell_type": "code",
   "execution_count": 9,
   "id": "c56a03fd",
   "metadata": {
    "collapsed": true
   },
   "outputs": [
    {
     "data": {
      "text/plain": [
       "PARTIDO DO MOVIMENTO DEMOCRÁTICO BRASILEIRO       1205\n",
       "PARTIDO PROGRESSISTA                              1129\n",
       "PARTIDO REPUBLICANO BRASILEIRO                    1035\n",
       "PARTIDO DA SOCIAL DEMOCRACIA BRASILEIRA           1030\n",
       "PARTIDO DEMOCRÁTICO TRABALHISTA                   1001\n",
       "PARTIDO SOCIALISTA BRASILEIRO                      943\n",
       "PARTIDO TRABALHISTA BRASILEIRO                     901\n",
       "PARTIDO POPULAR SOCIALISTA                         862\n",
       "PARTIDO DA REPÚBLICA                               827\n",
       "DEMOCRATAS                                         813\n",
       "PARTIDO SOCIAL CRISTÃO                             809\n",
       "SOLIDARIEDADE                                      788\n",
       "PARTIDO HUMANISTA DA SOLIDARIEDADE                 739\n",
       "PARTIDO TRABALHISTA DO BRASIL                      693\n",
       "PARTIDO VERDE                                      674\n",
       "PARTIDO SOCIAL DEMOCRATA CRISTÃO                   673\n",
       "PARTIDO TRABALHISTA NACIONAL                       638\n",
       "PARTIDO REPUBLICANO PROGRESSISTA                   609\n",
       "PARTIDO RENOVADOR TRABALHISTA BRASILEIRO           588\n",
       "PARTIDO SOCIAL DEMOCRÁTICO                         583\n",
       "PARTIDO DA MULHER BRASILEIRA                       549\n",
       "PARTIDO ECOLÓGICO NACIONAL                         484\n",
       "PARTIDO DOS TRABALHADORES                          475\n",
       "PARTIDO SOCIAL LIBERAL                             463\n",
       "PARTIDO TRABALHISTA CRISTÃO                        458\n",
       "REDE SUSTENTABILIDADE                              441\n",
       "PARTIDO COMUNISTA DO BRASIL                        424\n",
       "PARTIDO SOCIALISMO E LIBERDADE                     422\n",
       "PARTIDO REPUBLICANO DA ORDEM SOCIAL                393\n",
       "PARTIDO DA MOBILIZAÇÃO NACIONAL                    362\n",
       "PARTIDO PÁTRIA LIVRE                               327\n",
       "PARTIDO NOVO                                        31\n",
       "PARTIDO SOCIALISTA DOS TRABALHADORES UNIFICADO      19\n",
       "PARTIDO DA CAUSA OPERÁRIA                            4\n",
       "PARTIDO COMUNISTA BRASILEIRO                         3\n",
       "Name: NM_PARTIDO, dtype: int64"
      ]
     },
     "execution_count": 9,
     "metadata": {},
     "output_type": "execute_result"
    }
   ],
   "source": [
    "consulta_Vereador_2016['NM_PARTIDO'].value_counts()"
   ]
  },
  {
   "cell_type": "code",
   "execution_count": 12,
   "id": "b37ea294",
   "metadata": {
    "collapsed": true
   },
   "outputs": [
    {
     "data": {
      "text/plain": [
       "<AxesSubplot:title={'center':'DISTRIBUIÇÃO DE CANDIDATURAS POR PARTIDO'}>"
      ]
     },
     "execution_count": 12,
     "metadata": {},
     "output_type": "execute_result"
    },
    {
     "data": {
      "image/png": "[encoded data removed]",
      "text/plain": [
       "<Figure size 1080x720 with 1 Axes>"
      ]
     },
     "metadata": {
      "needs_background": "light"
     },
     "output_type": "display_data"
    }
   ],
   "source": [
    "consulta_Vereador_2016['NM_PARTIDO'].value_counts().plot(kind='barh', title='DISTRIBUIÇÃO DE CANDIDATURAS POR PARTIDO', figsize=(15,10))"
   ]
  },
  {
   "cell_type": "code",
   "execution_count": 10,
   "id": "c719d896",
   "metadata": {
    "collapsed": true
   },
   "outputs": [
    {
     "data": {
      "text/plain": [
       "RIO DE JANEIRO           1628\n",
       "DUQUE DE CAXIAS           833\n",
       "SÃO GONÇALO               729\n",
       "BELFORD ROXO              661\n",
       "CAMPOS DOS GOYTACAZES     597\n",
       "                         ... \n",
       "SUMIDOURO                  56\n",
       "VARRE-SAI                  55\n",
       "APERIBÉ                    54\n",
       "DUAS BARRAS                50\n",
       "SÃO SEBASTIÃO DO ALTO      48\n",
       "Name: NM_UE, Length: 92, dtype: int64"
      ]
     },
     "execution_count": 10,
     "metadata": {},
     "output_type": "execute_result"
    }
   ],
   "source": [
    "consulta_Vereador_2016['NM_UE'].value_counts()"
   ]
  },
  {
   "cell_type": "code",
   "execution_count": 15,
   "id": "66110690",
   "metadata": {
    "collapsed": true
   },
   "outputs": [
    {
     "data": {
      "text/plain": [
       "count    21395.000000\n",
       "mean        46.330311\n",
       "std         11.300870\n",
       "min         18.000000\n",
       "25%         38.000000\n",
       "50%         46.000000\n",
       "75%         54.000000\n",
       "max         93.000000\n",
       "Name: NR_IDADE_DATA_POSSE, dtype: float64"
      ]
     },
     "execution_count": 15,
     "metadata": {},
     "output_type": "execute_result"
    }
   ],
   "source": [
    "consulta_Vereador_2016['NR_IDADE_DATA_POSSE'].describe()"
   ]
  },
  {
   "cell_type": "code",
   "execution_count": 31,
   "id": "7d6fe04b",
   "metadata": {
    "collapsed": true
   },
   "outputs": [
    {
     "data": {
      "text/plain": [
       "MASCULINO    68.134923\n",
       "FEMININO     32.656522\n",
       "Name: DS_GENERO, dtype: float64"
      ]
     },
     "execution_count": 31,
     "metadata": {},
     "output_type": "execute_result"
    }
   ],
   "source": [
    "#Distribuição de Gênero\n",
    "consulta_Vereador_2016['DS_GENERO'].value_counts()*100/21227"
   ]
  },
  {
   "cell_type": "code",
   "execution_count": 16,
   "id": "c6d593b8",
   "metadata": {
    "collapsed": true
   },
   "outputs": [
    {
     "data": {
      "text/plain": [
       "BRANCA      55.175013\n",
       "NEGRA       45.234842\n",
       "AMARELA      0.259104\n",
       "INDÍGENA     0.122486\n",
       "Name: DS_COR_RACA, dtype: float64"
      ]
     },
     "execution_count": 16,
     "metadata": {},
     "output_type": "execute_result"
    }
   ],
   "source": [
    "consulta_Vereador_2016['DS_COR_RACA'].value_counts()*100/21227"
   ]
  },
  {
   "cell_type": "code",
   "execution_count": 17,
   "id": "479d5199",
   "metadata": {
    "collapsed": true
   },
   "outputs": [
    {
     "data": {
      "text/plain": [
       "ENSINO MÉDIO COMPLETO            42.271635\n",
       "SUPERIOR COMPLETO                20.563433\n",
       "ENSINO FUNDAMENTAL COMPLETO      12.959910\n",
       "ENSINO FUNDAMENTAL INCOMPLETO    12.842135\n",
       "ENSINO MÉDIO INCOMPLETO           5.973524\n",
       "SUPERIOR INCOMPLETO               5.370519\n",
       "LÊ E ESCREVE                      0.810289\n",
       "Name: DS_GRAU_INSTRUCAO, dtype: float64"
      ]
     },
     "execution_count": 17,
     "metadata": {},
     "output_type": "execute_result"
    }
   ],
   "source": [
    "consulta_Vereador_2016['DS_GRAU_INSTRUCAO'].value_counts()*100/21227"
   ]
  },
  {
   "cell_type": "markdown",
   "id": "f75f1608",
   "metadata": {},
   "source": [
    "### Relação de Raca e Gênero com os partidos e unidade eleitorais: Como é a representatividade no Rio de Janeiro?"
   ]
  },
  {
   "cell_type": "markdown",
   "id": "a01f5501",
   "metadata": {},
   "source": [
    "O Partido com maior número de candidatas de ambos os sexos é o PARTIDO DA SOCIAL DEMOCRACIA BRASILEIRA e assim como o partido com menor candidatura, PARTIDO COMUNISTA BRASILEIRO.\n",
    "\n",
    "Rio de Janeiro é a unidade eleitoral com maior número de candidatos de ambos os sexo ao cargo de vereador, já SÃO SEBASTIÃO DO ALTO é unidade eleitoral com o menor número de candidatos de ambos os sexos. Rio de Janeiro tem a maioria dos candidatos de ambos os sexos declarados brancos e negros. negros.\n",
    "\n",
    "Quanto a candidatas, 44% são negras e em média tem 46 anos. Já homens são a maioria branca, 54%, com mesma média de idade das candidatas. Em ambos os sexos mais de 40% dos candidatos tem ensino médio completo e em torno de 1% que apenas lê  escreve.\n"
   ]
  },
  {
   "cell_type": "markdown",
   "id": "82ce5276",
   "metadata": {},
   "source": [
    "*feminino*"
   ]
  },
  {
   "cell_type": "code",
   "execution_count": 18,
   "id": "a29cc11d",
   "metadata": {},
   "outputs": [],
   "source": [
    "# Criando um novo Dataframe só com mulheres\n",
    "fem = pd.DataFrame(consulta_Vereador_2016.loc[consulta_Vereador_2016['DS_GENERO'] == 'FEMININO'])"
   ]
  },
  {
   "cell_type": "code",
   "execution_count": 19,
   "id": "d147ec3e",
   "metadata": {
    "collapsed": true
   },
   "outputs": [
    {
     "data": {
      "text/plain": [
       "PARTIDO DO MOVIMENTO DEMOCRÁTICO BRASILEIRO       392\n",
       "PARTIDO PROGRESSISTA                              374\n",
       "PARTIDO DA SOCIAL DEMOCRACIA BRASILEIRA           352\n",
       "PARTIDO REPUBLICANO BRASILEIRO                    328\n",
       "PARTIDO DEMOCRÁTICO TRABALHISTA                   319\n",
       "PARTIDO SOCIALISTA BRASILEIRO                     309\n",
       "PARTIDO TRABALHISTA BRASILEIRO                    293\n",
       "PARTIDO DA REPÚBLICA                              278\n",
       "PARTIDO POPULAR SOCIALISTA                        277\n",
       "DEMOCRATAS                                        259\n",
       "SOLIDARIEDADE                                     256\n",
       "PARTIDO SOCIAL CRISTÃO                            248\n",
       "PARTIDO HUMANISTA DA SOLIDARIEDADE                233\n",
       "PARTIDO DA MULHER BRASILEIRA                      220\n",
       "PARTIDO TRABALHISTA DO BRASIL                     215\n",
       "PARTIDO TRABALHISTA NACIONAL                      214\n",
       "PARTIDO VERDE                                     213\n",
       "PARTIDO SOCIAL DEMOCRATA CRISTÃO                  206\n",
       "PARTIDO REPUBLICANO PROGRESSISTA                  194\n",
       "PARTIDO RENOVADOR TRABALHISTA BRASILEIRO          184\n",
       "PARTIDO SOCIAL DEMOCRÁTICO                        178\n",
       "PARTIDO DOS TRABALHADORES                         165\n",
       "PARTIDO TRABALHISTA CRISTÃO                       152\n",
       "PARTIDO ECOLÓGICO NACIONAL                        149\n",
       "PARTIDO SOCIALISMO E LIBERDADE                    147\n",
       "PARTIDO SOCIAL LIBERAL                            141\n",
       "PARTIDO COMUNISTA DO BRASIL                       139\n",
       "REDE SUSTENTABILIDADE                             137\n",
       "PARTIDO DA MOBILIZAÇÃO NACIONAL                   114\n",
       "PARTIDO REPUBLICANO DA ORDEM SOCIAL               113\n",
       "PARTIDO PÁTRIA LIVRE                              111\n",
       "PARTIDO NOVO                                       10\n",
       "PARTIDO SOCIALISTA DOS TRABALHADORES UNIFICADO      9\n",
       "PARTIDO DA CAUSA OPERÁRIA                           2\n",
       "PARTIDO COMUNISTA BRASILEIRO                        1\n",
       "Name: NM_PARTIDO, dtype: int64"
      ]
     },
     "execution_count": 19,
     "metadata": {},
     "output_type": "execute_result"
    }
   ],
   "source": [
    "# Distribuição dos Partidos\n",
    "fem['NM_PARTIDO'].value_counts()"
   ]
  },
  {
   "cell_type": "code",
   "execution_count": 20,
   "id": "5ce33570",
   "metadata": {
    "collapsed": true
   },
   "outputs": [
    {
     "data": {
      "text/plain": [
       "<AxesSubplot:title={'center':'DISTRIBUIÇÃO DE PARTIDOS POR GÊNERO - FEMININO'}>"
      ]
     },
     "execution_count": 20,
     "metadata": {},
     "output_type": "execute_result"
    },
    {
     "data": {
      "image/png": "[encoded data removed]",
      "text/plain": [
       "<Figure size 1080x720 with 1 Axes>"
      ]
     },
     "metadata": {
      "needs_background": "light"
     },
     "output_type": "display_data"
    }
   ],
   "source": [
    "fem['NM_PARTIDO'].value_counts().plot(kind='barh', title= 'DISTRIBUIÇÃO DE PARTIDOS POR GÊNERO - FEMININO', figsize=(15,10))"
   ]
  },
  {
   "cell_type": "code",
   "execution_count": 21,
   "id": "cf4a2eea",
   "metadata": {
    "collapsed": true
   },
   "outputs": [
    {
     "data": {
      "text/plain": [
       "RIO DE JANEIRO           512\n",
       "DUQUE DE CAXIAS          262\n",
       "SÃO GONÇALO              229\n",
       "BELFORD ROXO             214\n",
       "CAMPOS DOS GOYTACAZES    189\n",
       "                        ... \n",
       "MACUCO                    20\n",
       "APERIBÉ                   19\n",
       "VARRE-SAI                 18\n",
       "DUAS BARRAS               17\n",
       "SÃO SEBASTIÃO DO ALTO     16\n",
       "Name: NM_UE, Length: 92, dtype: int64"
      ]
     },
     "execution_count": 21,
     "metadata": {},
     "output_type": "execute_result"
    }
   ],
   "source": [
    "# Distribuição por unidade eleitoral\n",
    "fem['NM_UE'].value_counts()"
   ]
  },
  {
   "cell_type": "code",
   "execution_count": 26,
   "id": "96e714a3",
   "metadata": {
    "collapsed": true
   },
   "outputs": [
    {
     "data": {
      "text/plain": [
       "BRANCA      55.640508\n",
       "NEGRA       43.941143\n",
       "AMARELA      0.230814\n",
       "INDÍGENA     0.187536\n",
       "Name: DS_COR_RACA, dtype: float64"
      ]
     },
     "execution_count": 26,
     "metadata": {},
     "output_type": "execute_result"
    }
   ],
   "source": [
    "# Distribuição racial\n",
    "fem['DS_COR_RACA'].value_counts()*100/6932"
   ]
  },
  {
   "cell_type": "code",
   "execution_count": 23,
   "id": "5d31019f",
   "metadata": {
    "collapsed": true
   },
   "outputs": [
    {
     "data": {
      "text/plain": [
       "count    6932.000000\n",
       "mean       45.905222\n",
       "std        11.717966\n",
       "min        18.000000\n",
       "25%        38.000000\n",
       "50%        46.000000\n",
       "75%        54.000000\n",
       "max        86.000000\n",
       "Name: NR_IDADE_DATA_POSSE, dtype: float64"
      ]
     },
     "execution_count": 23,
     "metadata": {},
     "output_type": "execute_result"
    }
   ],
   "source": [
    "fem['NR_IDADE_DATA_POSSE'].describe()"
   ]
  },
  {
   "cell_type": "code",
   "execution_count": 27,
   "id": "816805f2",
   "metadata": {
    "collapsed": true
   },
   "outputs": [
    {
     "data": {
      "text/plain": [
       "ENSINO MÉDIO COMPLETO            41.733987\n",
       "SUPERIOR COMPLETO                22.417773\n",
       "ENSINO FUNDAMENTAL COMPLETO      11.915753\n",
       "ENSINO FUNDAMENTAL INCOMPLETO    11.021350\n",
       "SUPERIOR INCOMPLETO               6.030006\n",
       "ENSINO MÉDIO INCOMPLETO           5.828044\n",
       "LÊ E ESCREVE                      1.053087\n",
       "Name: DS_GRAU_INSTRUCAO, dtype: float64"
      ]
     },
     "execution_count": 27,
     "metadata": {},
     "output_type": "execute_result"
    }
   ],
   "source": [
    "fem['DS_GRAU_INSTRUCAO'].value_counts()*100/6932"
   ]
  },
  {
   "cell_type": "code",
   "execution_count": 28,
   "id": "fbe745b3",
   "metadata": {
    "collapsed": true
   },
   "outputs": [
    {
     "data": {
      "text/html": [
       "<div>\n",
       "<style scoped>\n",
       "    .dataframe tbody tr th:only-of-type {\n",
       "        vertical-align: middle;\n",
       "    }\n",
       "\n",
       "    .dataframe tbody tr th {\n",
       "        vertical-align: top;\n",
       "    }\n",
       "\n",
       "    .dataframe thead tr th {\n",
       "        text-align: left;\n",
       "    }\n",
       "\n",
       "    .dataframe thead tr:last-of-type th {\n",
       "        text-align: right;\n",
       "    }\n",
       "</style>\n",
       "<table border=\"1\" class=\"dataframe\">\n",
       "  <thead>\n",
       "    <tr>\n",
       "      <th></th>\n",
       "      <th colspan=\"4\" halign=\"left\">DS_GRAU_INSTRUCAO</th>\n",
       "    </tr>\n",
       "    <tr>\n",
       "      <th></th>\n",
       "      <th>count</th>\n",
       "      <th>unique</th>\n",
       "      <th>top</th>\n",
       "      <th>freq</th>\n",
       "    </tr>\n",
       "    <tr>\n",
       "      <th>DS_COR_RACA</th>\n",
       "      <th></th>\n",
       "      <th></th>\n",
       "      <th></th>\n",
       "      <th></th>\n",
       "    </tr>\n",
       "  </thead>\n",
       "  <tbody>\n",
       "    <tr>\n",
       "      <th>AMARELA</th>\n",
       "      <td>16</td>\n",
       "      <td>3</td>\n",
       "      <td>ENSINO MÉDIO COMPLETO</td>\n",
       "      <td>10</td>\n",
       "    </tr>\n",
       "    <tr>\n",
       "      <th>BRANCA</th>\n",
       "      <td>3857</td>\n",
       "      <td>7</td>\n",
       "      <td>ENSINO MÉDIO COMPLETO</td>\n",
       "      <td>1621</td>\n",
       "    </tr>\n",
       "    <tr>\n",
       "      <th>INDÍGENA</th>\n",
       "      <td>13</td>\n",
       "      <td>6</td>\n",
       "      <td>ENSINO MÉDIO COMPLETO</td>\n",
       "      <td>4</td>\n",
       "    </tr>\n",
       "    <tr>\n",
       "      <th>NEGRA</th>\n",
       "      <td>3046</td>\n",
       "      <td>7</td>\n",
       "      <td>ENSINO MÉDIO COMPLETO</td>\n",
       "      <td>1258</td>\n",
       "    </tr>\n",
       "  </tbody>\n",
       "</table>\n",
       "</div>"
      ],
      "text/plain": [
       "            DS_GRAU_INSTRUCAO                                    \n",
       "                        count unique                    top  freq\n",
       "DS_COR_RACA                                                      \n",
       "AMARELA                    16      3  ENSINO MÉDIO COMPLETO    10\n",
       "BRANCA                   3857      7  ENSINO MÉDIO COMPLETO  1621\n",
       "INDÍGENA                   13      6  ENSINO MÉDIO COMPLETO     4\n",
       "NEGRA                    3046      7  ENSINO MÉDIO COMPLETO  1258"
      ]
     },
     "execution_count": 28,
     "metadata": {},
     "output_type": "execute_result"
    }
   ],
   "source": [
    "fem.filter(items=['DS_GRAU_INSTRUCAO']).groupby(fem['DS_COR_RACA']).describe()"
   ]
  },
  {
   "cell_type": "code",
   "execution_count": 29,
   "id": "ce6f6144",
   "metadata": {
    "collapsed": true
   },
   "outputs": [
    {
     "data": {
      "text/html": [
       "<div>\n",
       "<style scoped>\n",
       "    .dataframe tbody tr th:only-of-type {\n",
       "        vertical-align: middle;\n",
       "    }\n",
       "\n",
       "    .dataframe tbody tr th {\n",
       "        vertical-align: top;\n",
       "    }\n",
       "\n",
       "    .dataframe thead tr th {\n",
       "        text-align: left;\n",
       "    }\n",
       "\n",
       "    .dataframe thead tr:last-of-type th {\n",
       "        text-align: right;\n",
       "    }\n",
       "</style>\n",
       "<table border=\"1\" class=\"dataframe\">\n",
       "  <thead>\n",
       "    <tr>\n",
       "      <th></th>\n",
       "      <th colspan=\"4\" halign=\"left\">NM_UE</th>\n",
       "    </tr>\n",
       "    <tr>\n",
       "      <th></th>\n",
       "      <th>count</th>\n",
       "      <th>unique</th>\n",
       "      <th>top</th>\n",
       "      <th>freq</th>\n",
       "    </tr>\n",
       "    <tr>\n",
       "      <th>DS_COR_RACA</th>\n",
       "      <th></th>\n",
       "      <th></th>\n",
       "      <th></th>\n",
       "      <th></th>\n",
       "    </tr>\n",
       "  </thead>\n",
       "  <tbody>\n",
       "    <tr>\n",
       "      <th>AMARELA</th>\n",
       "      <td>16</td>\n",
       "      <td>10</td>\n",
       "      <td>SÃO GONÇALO</td>\n",
       "      <td>3</td>\n",
       "    </tr>\n",
       "    <tr>\n",
       "      <th>BRANCA</th>\n",
       "      <td>3857</td>\n",
       "      <td>92</td>\n",
       "      <td>RIO DE JANEIRO</td>\n",
       "      <td>254</td>\n",
       "    </tr>\n",
       "    <tr>\n",
       "      <th>INDÍGENA</th>\n",
       "      <td>13</td>\n",
       "      <td>8</td>\n",
       "      <td>RIO DE JANEIRO</td>\n",
       "      <td>3</td>\n",
       "    </tr>\n",
       "    <tr>\n",
       "      <th>NEGRA</th>\n",
       "      <td>3046</td>\n",
       "      <td>92</td>\n",
       "      <td>RIO DE JANEIRO</td>\n",
       "      <td>255</td>\n",
       "    </tr>\n",
       "  </tbody>\n",
       "</table>\n",
       "</div>"
      ],
      "text/plain": [
       "            NM_UE                            \n",
       "            count unique             top freq\n",
       "DS_COR_RACA                                  \n",
       "AMARELA        16     10     SÃO GONÇALO    3\n",
       "BRANCA       3857     92  RIO DE JANEIRO  254\n",
       "INDÍGENA       13      8  RIO DE JANEIRO    3\n",
       "NEGRA        3046     92  RIO DE JANEIRO  255"
      ]
     },
     "execution_count": 29,
     "metadata": {},
     "output_type": "execute_result"
    }
   ],
   "source": [
    "fem.filter(items=['NM_UE']).groupby(fem['DS_COR_RACA']).describe()"
   ]
  },
  {
   "cell_type": "markdown",
   "id": "b849b50b",
   "metadata": {},
   "source": [
    "*Masculino*"
   ]
  },
  {
   "cell_type": "code",
   "execution_count": 30,
   "id": "d5d67702",
   "metadata": {},
   "outputs": [],
   "source": [
    "#Criando DataFrame\n",
    "masc = pd.DataFrame(consulta_Vereador_2016.loc[consulta_Vereador_2016['DS_GENERO'] == 'MASCULINO'])"
   ]
  },
  {
   "cell_type": "code",
   "execution_count": 32,
   "id": "b545e9a3",
   "metadata": {
    "collapsed": true
   },
   "outputs": [
    {
     "data": {
      "text/plain": [
       "PARTIDO DO MOVIMENTO DEMOCRÁTICO BRASILEIRO       813\n",
       "PARTIDO PROGRESSISTA                              755\n",
       "PARTIDO REPUBLICANO BRASILEIRO                    707\n",
       "PARTIDO DEMOCRÁTICO TRABALHISTA                   682\n",
       "PARTIDO DA SOCIAL DEMOCRACIA BRASILEIRA           678\n",
       "PARTIDO SOCIALISTA BRASILEIRO                     634\n",
       "PARTIDO TRABALHISTA BRASILEIRO                    608\n",
       "PARTIDO POPULAR SOCIALISTA                        585\n",
       "PARTIDO SOCIAL CRISTÃO                            561\n",
       "DEMOCRATAS                                        554\n",
       "PARTIDO DA REPÚBLICA                              549\n",
       "SOLIDARIEDADE                                     532\n",
       "PARTIDO HUMANISTA DA SOLIDARIEDADE                506\n",
       "PARTIDO TRABALHISTA DO BRASIL                     478\n",
       "PARTIDO SOCIAL DEMOCRATA CRISTÃO                  467\n",
       "PARTIDO VERDE                                     461\n",
       "PARTIDO TRABALHISTA NACIONAL                      424\n",
       "PARTIDO REPUBLICANO PROGRESSISTA                  415\n",
       "PARTIDO SOCIAL DEMOCRÁTICO                        405\n",
       "PARTIDO RENOVADOR TRABALHISTA BRASILEIRO          404\n",
       "PARTIDO ECOLÓGICO NACIONAL                        335\n",
       "PARTIDO DA MULHER BRASILEIRA                      329\n",
       "PARTIDO SOCIAL LIBERAL                            322\n",
       "PARTIDO DOS TRABALHADORES                         310\n",
       "PARTIDO TRABALHISTA CRISTÃO                       306\n",
       "REDE SUSTENTABILIDADE                             304\n",
       "PARTIDO COMUNISTA DO BRASIL                       285\n",
       "PARTIDO REPUBLICANO DA ORDEM SOCIAL               280\n",
       "PARTIDO SOCIALISMO E LIBERDADE                    275\n",
       "PARTIDO DA MOBILIZAÇÃO NACIONAL                   248\n",
       "PARTIDO PÁTRIA LIVRE                              216\n",
       "PARTIDO NOVO                                       21\n",
       "PARTIDO SOCIALISTA DOS TRABALHADORES UNIFICADO     10\n",
       "PARTIDO DA CAUSA OPERÁRIA                           2\n",
       "PARTIDO COMUNISTA BRASILEIRO                        2\n",
       "Name: NM_PARTIDO, dtype: int64"
      ]
     },
     "execution_count": 32,
     "metadata": {},
     "output_type": "execute_result"
    }
   ],
   "source": [
    "# Distribuição dos Partidos\n",
    "masc['NM_PARTIDO'].value_counts()"
   ]
  },
  {
   "cell_type": "code",
   "execution_count": 33,
   "id": "b0d585ef",
   "metadata": {
    "collapsed": true
   },
   "outputs": [
    {
     "data": {
      "text/plain": [
       "RIO DE JANEIRO           1116\n",
       "DUQUE DE CAXIAS           571\n",
       "SÃO GONÇALO               500\n",
       "BELFORD ROXO              447\n",
       "CAMPOS DOS GOYTACAZES     408\n",
       "                         ... \n",
       "VARRE-SAI                  37\n",
       "SUMIDOURO                  35\n",
       "APERIBÉ                    35\n",
       "DUAS BARRAS                33\n",
       "SÃO SEBASTIÃO DO ALTO      32\n",
       "Name: NM_UE, Length: 92, dtype: int64"
      ]
     },
     "execution_count": 33,
     "metadata": {},
     "output_type": "execute_result"
    }
   ],
   "source": [
    "# Distribuição por unidade eleitoral\n",
    "masc['NM_UE'].value_counts()"
   ]
  },
  {
   "cell_type": "code",
   "execution_count": 35,
   "id": "c3f00d35",
   "metadata": {},
   "outputs": [
    {
     "data": {
      "text/plain": [
       "BRANCA      54.311000\n",
       "NEGRA       45.329461\n",
       "AMARELA      0.269654\n",
       "INDÍGENA     0.089885\n",
       "Name: DS_COR_RACA, dtype: float64"
      ]
     },
     "execution_count": 35,
     "metadata": {},
     "output_type": "execute_result"
    }
   ],
   "source": [
    "masc['DS_COR_RACA'].value_counts()*100/14463"
   ]
  },
  {
   "cell_type": "code",
   "execution_count": 37,
   "id": "26db6dca",
   "metadata": {
    "collapsed": true
   },
   "outputs": [
    {
     "data": {
      "text/plain": [
       "count    14463.000000\n",
       "mean        46.534052\n",
       "std         11.090041\n",
       "min         18.000000\n",
       "25%         38.000000\n",
       "50%         46.000000\n",
       "75%         54.000000\n",
       "max         93.000000\n",
       "Name: NR_IDADE_DATA_POSSE, dtype: float64"
      ]
     },
     "execution_count": 37,
     "metadata": {},
     "output_type": "execute_result"
    }
   ],
   "source": [
    "masc['NR_IDADE_DATA_POSSE'].describe()"
   ]
  },
  {
   "cell_type": "code",
   "execution_count": 36,
   "id": "2d1c2139",
   "metadata": {
    "collapsed": true
   },
   "outputs": [
    {
     "data": {
      "text/plain": [
       "ENSINO MÉDIO COMPLETO            42.038305\n",
       "SUPERIOR COMPLETO                19.435802\n",
       "ENSINO FUNDAMENTAL INCOMPLETO    13.565650\n",
       "ENSINO FUNDAMENTAL COMPLETO      13.309825\n",
       "ENSINO MÉDIO INCOMPLETO           5.973864\n",
       "SUPERIOR INCOMPLETO               4.992049\n",
       "LÊ E ESCREVE                      0.684505\n",
       "Name: DS_GRAU_INSTRUCAO, dtype: float64"
      ]
     },
     "execution_count": 36,
     "metadata": {},
     "output_type": "execute_result"
    }
   ],
   "source": [
    "masc['DS_GRAU_INSTRUCAO'].value_counts()*100/14463"
   ]
  },
  {
   "cell_type": "code",
   "execution_count": 38,
   "id": "2887dccd",
   "metadata": {
    "collapsed": true
   },
   "outputs": [
    {
     "data": {
      "text/html": [
       "<div>\n",
       "<style scoped>\n",
       "    .dataframe tbody tr th:only-of-type {\n",
       "        vertical-align: middle;\n",
       "    }\n",
       "\n",
       "    .dataframe tbody tr th {\n",
       "        vertical-align: top;\n",
       "    }\n",
       "\n",
       "    .dataframe thead tr th {\n",
       "        text-align: left;\n",
       "    }\n",
       "\n",
       "    .dataframe thead tr:last-of-type th {\n",
       "        text-align: right;\n",
       "    }\n",
       "</style>\n",
       "<table border=\"1\" class=\"dataframe\">\n",
       "  <thead>\n",
       "    <tr>\n",
       "      <th></th>\n",
       "      <th colspan=\"4\" halign=\"left\">DS_GRAU_INSTRUCAO</th>\n",
       "    </tr>\n",
       "    <tr>\n",
       "      <th></th>\n",
       "      <th>count</th>\n",
       "      <th>unique</th>\n",
       "      <th>top</th>\n",
       "      <th>freq</th>\n",
       "    </tr>\n",
       "    <tr>\n",
       "      <th>DS_COR_RACA</th>\n",
       "      <th></th>\n",
       "      <th></th>\n",
       "      <th></th>\n",
       "      <th></th>\n",
       "    </tr>\n",
       "  </thead>\n",
       "  <tbody>\n",
       "    <tr>\n",
       "      <th>AMARELA</th>\n",
       "      <td>39</td>\n",
       "      <td>6</td>\n",
       "      <td>ENSINO MÉDIO COMPLETO</td>\n",
       "      <td>17</td>\n",
       "    </tr>\n",
       "    <tr>\n",
       "      <th>BRANCA</th>\n",
       "      <td>7855</td>\n",
       "      <td>7</td>\n",
       "      <td>ENSINO MÉDIO COMPLETO</td>\n",
       "      <td>3169</td>\n",
       "    </tr>\n",
       "    <tr>\n",
       "      <th>INDÍGENA</th>\n",
       "      <td>13</td>\n",
       "      <td>6</td>\n",
       "      <td>ENSINO FUNDAMENTAL COMPLETO</td>\n",
       "      <td>3</td>\n",
       "    </tr>\n",
       "    <tr>\n",
       "      <th>NEGRA</th>\n",
       "      <td>6556</td>\n",
       "      <td>7</td>\n",
       "      <td>ENSINO MÉDIO COMPLETO</td>\n",
       "      <td>2891</td>\n",
       "    </tr>\n",
       "  </tbody>\n",
       "</table>\n",
       "</div>"
      ],
      "text/plain": [
       "            DS_GRAU_INSTRUCAO                                          \n",
       "                        count unique                          top  freq\n",
       "DS_COR_RACA                                                            \n",
       "AMARELA                    39      6        ENSINO MÉDIO COMPLETO    17\n",
       "BRANCA                   7855      7        ENSINO MÉDIO COMPLETO  3169\n",
       "INDÍGENA                   13      6  ENSINO FUNDAMENTAL COMPLETO     3\n",
       "NEGRA                    6556      7        ENSINO MÉDIO COMPLETO  2891"
      ]
     },
     "execution_count": 38,
     "metadata": {},
     "output_type": "execute_result"
    }
   ],
   "source": [
    "masc.filter(items=['DS_GRAU_INSTRUCAO']).groupby(masc['DS_COR_RACA']).describe()"
   ]
  },
  {
   "cell_type": "code",
   "execution_count": 39,
   "id": "01e4c2e4",
   "metadata": {
    "collapsed": true
   },
   "outputs": [
    {
     "data": {
      "text/html": [
       "<div>\n",
       "<style scoped>\n",
       "    .dataframe tbody tr th:only-of-type {\n",
       "        vertical-align: middle;\n",
       "    }\n",
       "\n",
       "    .dataframe tbody tr th {\n",
       "        vertical-align: top;\n",
       "    }\n",
       "\n",
       "    .dataframe thead tr th {\n",
       "        text-align: left;\n",
       "    }\n",
       "\n",
       "    .dataframe thead tr:last-of-type th {\n",
       "        text-align: right;\n",
       "    }\n",
       "</style>\n",
       "<table border=\"1\" class=\"dataframe\">\n",
       "  <thead>\n",
       "    <tr>\n",
       "      <th></th>\n",
       "      <th colspan=\"4\" halign=\"left\">NM_UE</th>\n",
       "    </tr>\n",
       "    <tr>\n",
       "      <th></th>\n",
       "      <th>count</th>\n",
       "      <th>unique</th>\n",
       "      <th>top</th>\n",
       "      <th>freq</th>\n",
       "    </tr>\n",
       "    <tr>\n",
       "      <th>DS_COR_RACA</th>\n",
       "      <th></th>\n",
       "      <th></th>\n",
       "      <th></th>\n",
       "      <th></th>\n",
       "    </tr>\n",
       "  </thead>\n",
       "  <tbody>\n",
       "    <tr>\n",
       "      <th>AMARELA</th>\n",
       "      <td>39</td>\n",
       "      <td>15</td>\n",
       "      <td>QUEIMADOS</td>\n",
       "      <td>8</td>\n",
       "    </tr>\n",
       "    <tr>\n",
       "      <th>BRANCA</th>\n",
       "      <td>7855</td>\n",
       "      <td>92</td>\n",
       "      <td>RIO DE JANEIRO</td>\n",
       "      <td>602</td>\n",
       "    </tr>\n",
       "    <tr>\n",
       "      <th>INDÍGENA</th>\n",
       "      <td>13</td>\n",
       "      <td>12</td>\n",
       "      <td>BARRA MANSA</td>\n",
       "      <td>2</td>\n",
       "    </tr>\n",
       "    <tr>\n",
       "      <th>NEGRA</th>\n",
       "      <td>6556</td>\n",
       "      <td>91</td>\n",
       "      <td>RIO DE JANEIRO</td>\n",
       "      <td>513</td>\n",
       "    </tr>\n",
       "  </tbody>\n",
       "</table>\n",
       "</div>"
      ],
      "text/plain": [
       "            NM_UE                            \n",
       "            count unique             top freq\n",
       "DS_COR_RACA                                  \n",
       "AMARELA        39     15       QUEIMADOS    8\n",
       "BRANCA       7855     92  RIO DE JANEIRO  602\n",
       "INDÍGENA       13     12     BARRA MANSA    2\n",
       "NEGRA        6556     91  RIO DE JANEIRO  513"
      ]
     },
     "execution_count": 39,
     "metadata": {},
     "output_type": "execute_result"
    }
   ],
   "source": [
    "masc.filter(items=['NM_UE']).groupby(masc['DS_COR_RACA']).describe()"
   ]
  },
  {
   "cell_type": "markdown",
   "id": "4f0b2985",
   "metadata": {},
   "source": [
    " #### RAÇA\n"
   ]
  },
  {
   "cell_type": "code",
   "execution_count": 40,
   "id": "9c544aba",
   "metadata": {
    "collapsed": true
   },
   "outputs": [
    {
     "data": {
      "text/plain": [
       "BRANCA      55.175013\n",
       "NEGRA       45.234842\n",
       "AMARELA      0.259104\n",
       "INDÍGENA     0.122486\n",
       "Name: DS_COR_RACA, dtype: float64"
      ]
     },
     "execution_count": 40,
     "metadata": {},
     "output_type": "execute_result"
    }
   ],
   "source": [
    "# distribuição racial\n",
    "consulta_Vereador_2016['DS_COR_RACA'].value_counts()*100/21227"
   ]
  },
  {
   "cell_type": "code",
   "execution_count": 41,
   "id": "94dd9490",
   "metadata": {},
   "outputs": [],
   "source": [
    "# Criando novas colunas boleanas para raça\n",
    "consulta_Vereador_2016['NEGRA'] = consulta_Vereador_2016['DS_COR_RACA'].str.contains('NEGRA')\n",
    "consulta_Vereador_2016['BRANCA'] = consulta_Vereador_2016['DS_COR_RACA'].str.contains('BRANCA')\n",
    "consulta_Vereador_2016['AMARELA'] = consulta_Vereador_2016['DS_COR_RACA'].str.contains('AMARELA')\n",
    "consulta_Vereador_2016['INDÍGENA'] = consulta_Vereador_2016['DS_COR_RACA'].str.contains('INDÍGENA')\n",
    "consulta_Vereador_2016['NÃO DIVULGÁVEL'] = consulta_Vereador_2016['DS_COR_RACA'].str.contains('NÃO DIVULGÁVEL')\n"
   ]
  },
  {
   "cell_type": "code",
   "execution_count": 42,
   "id": "692ba09f",
   "metadata": {},
   "outputs": [],
   "source": [
    "# Criando dataframes por raça \n",
    "raca_cor = consulta_Vereador_2016['DS_COR_RACA'].unique().tolist()\n",
    "dfs = {}\n",
    "\n",
    "for raca in raca_cor:\n",
    "    selected_rows = consulta_Vereador_2016[consulta_Vereador_2016[raca] == True]\n",
    "    dfs[f'df_{raca}'] = selected_rows\n",
    "    print"
   ]
  },
  {
   "cell_type": "code",
   "execution_count": 43,
   "id": "6ffe3b6b",
   "metadata": {},
   "outputs": [],
   "source": [
    "df_NEGRA = pd.DataFrame(dfs['df_NEGRA'])\n",
    "df_BRANCA = pd.DataFrame(dfs['df_BRANCA'])\n",
    "df_AMARELA = pd.DataFrame(dfs['df_AMARELA'])\n",
    "df_INDIGENA = pd.DataFrame(dfs['df_INDÍGENA'])"
   ]
  },
  {
   "cell_type": "markdown",
   "id": "56b1b903",
   "metadata": {},
   "source": [
    "*Negros*"
   ]
  },
  {
   "cell_type": "code",
   "execution_count": 44,
   "id": "7ae7eeae",
   "metadata": {
    "collapsed": true
   },
   "outputs": [
    {
     "data": {
      "text/plain": [
       "count               9602\n",
       "unique                92\n",
       "top       RIO DE JANEIRO\n",
       "freq                 768\n",
       "Name: NM_UE, dtype: object"
      ]
     },
     "execution_count": 44,
     "metadata": {},
     "output_type": "execute_result"
    }
   ],
   "source": [
    "df_NEGRA['NM_UE'].describe()"
   ]
  },
  {
   "cell_type": "code",
   "execution_count": 45,
   "id": "cccba64c",
   "metadata": {
    "collapsed": true
   },
   "outputs": [
    {
     "data": {
      "text/plain": [
       "'ANGRA DOS REIS'"
      ]
     },
     "execution_count": 45,
     "metadata": {},
     "output_type": "execute_result"
    }
   ],
   "source": [
    "df_NEGRA['NM_UE'].min()"
   ]
  },
  {
   "cell_type": "code",
   "execution_count": 46,
   "id": "ab3cbb0d",
   "metadata": {
    "collapsed": true
   },
   "outputs": [
    {
     "data": {
      "text/plain": [
       "count                               9602\n",
       "unique                                35\n",
       "top       PARTIDO REPUBLICANO BRASILEIRO\n",
       "freq                                 529\n",
       "Name: NM_PARTIDO, dtype: object"
      ]
     },
     "execution_count": 46,
     "metadata": {},
     "output_type": "execute_result"
    }
   ],
   "source": [
    "df_NEGRA['NM_PARTIDO'].describe()"
   ]
  },
  {
   "cell_type": "code",
   "execution_count": 47,
   "id": "8d91a582",
   "metadata": {
    "collapsed": true
   },
   "outputs": [
    {
     "data": {
      "text/plain": [
       "'DEMOCRATAS'"
      ]
     },
     "execution_count": 47,
     "metadata": {},
     "output_type": "execute_result"
    }
   ],
   "source": [
    "df_NEGRA['NM_PARTIDO'].min()"
   ]
  },
  {
   "cell_type": "markdown",
   "id": "7d5a9254",
   "metadata": {},
   "source": [
    "*Branco*"
   ]
  },
  {
   "cell_type": "code",
   "execution_count": 48,
   "id": "373174a9",
   "metadata": {
    "collapsed": true
   },
   "outputs": [
    {
     "data": {
      "text/plain": [
       "count              11712\n",
       "unique                92\n",
       "top       RIO DE JANEIRO\n",
       "freq                 856\n",
       "Name: NM_UE, dtype: object"
      ]
     },
     "execution_count": 48,
     "metadata": {},
     "output_type": "execute_result"
    }
   ],
   "source": [
    "df_BRANCA['NM_UE'].describe()"
   ]
  },
  {
   "cell_type": "code",
   "execution_count": 49,
   "id": "92c54234",
   "metadata": {
    "collapsed": true
   },
   "outputs": [
    {
     "data": {
      "text/plain": [
       "'ANGRA DOS REIS'"
      ]
     },
     "execution_count": 49,
     "metadata": {},
     "output_type": "execute_result"
    }
   ],
   "source": [
    "df_BRANCA['NM_UE'].min()"
   ]
  },
  {
   "cell_type": "code",
   "execution_count": 50,
   "id": "a2554ae1",
   "metadata": {
    "collapsed": true
   },
   "outputs": [
    {
     "data": {
      "text/plain": [
       "count                                           11712\n",
       "unique                                             35\n",
       "top       PARTIDO DO MOVIMENTO DEMOCRÁTICO BRASILEIRO\n",
       "freq                                              772\n",
       "Name: NM_PARTIDO, dtype: object"
      ]
     },
     "execution_count": 50,
     "metadata": {},
     "output_type": "execute_result"
    }
   ],
   "source": [
    "df_BRANCA['NM_PARTIDO'].describe()"
   ]
  },
  {
   "cell_type": "code",
   "execution_count": 51,
   "id": "daa94596",
   "metadata": {
    "collapsed": true
   },
   "outputs": [
    {
     "data": {
      "text/plain": [
       "'DEMOCRATAS'"
      ]
     },
     "execution_count": 51,
     "metadata": {},
     "output_type": "execute_result"
    }
   ],
   "source": [
    "df_BRANCA['NM_PARTIDO'].min()"
   ]
  },
  {
   "cell_type": "markdown",
   "id": "ef48c325",
   "metadata": {},
   "source": [
    "*Amarelos e Indigenas* "
   ]
  },
  {
   "cell_type": "code",
   "execution_count": 52,
   "id": "adc9df60",
   "metadata": {
    "collapsed": true
   },
   "outputs": [
    {
     "data": {
      "text/plain": [
       "count            55\n",
       "unique           18\n",
       "top       QUEIMADOS\n",
       "freq             10\n",
       "Name: NM_UE, dtype: object"
      ]
     },
     "execution_count": 52,
     "metadata": {},
     "output_type": "execute_result"
    }
   ],
   "source": [
    "df_AMARELA['NM_UE'].describe()"
   ]
  },
  {
   "cell_type": "code",
   "execution_count": 53,
   "id": "be1c618c",
   "metadata": {
    "collapsed": true
   },
   "outputs": [
    {
     "data": {
      "text/plain": [
       "count                               55\n",
       "unique                              19\n",
       "top       PARTIDO DA MULHER BRASILEIRA\n",
       "freq                                 9\n",
       "Name: NM_PARTIDO, dtype: object"
      ]
     },
     "execution_count": 53,
     "metadata": {},
     "output_type": "execute_result"
    }
   ],
   "source": [
    "df_AMARELA['NM_PARTIDO'].describe()"
   ]
  },
  {
   "cell_type": "code",
   "execution_count": 54,
   "id": "29bce4d1",
   "metadata": {
    "collapsed": true
   },
   "outputs": [
    {
     "data": {
      "text/plain": [
       "count                 26\n",
       "unique                15\n",
       "top       RIO DE JANEIRO\n",
       "freq                   4\n",
       "Name: NM_UE, dtype: object"
      ]
     },
     "execution_count": 54,
     "metadata": {},
     "output_type": "execute_result"
    }
   ],
   "source": [
    "df_INDIGENA['NM_UE'].describe()"
   ]
  },
  {
   "cell_type": "code",
   "execution_count": 55,
   "id": "647daed8",
   "metadata": {
    "collapsed": true
   },
   "outputs": [
    {
     "data": {
      "text/plain": [
       "count                                   26\n",
       "unique                                  14\n",
       "top       PARTIDO SOCIAL DEMOCRATA CRISTÃO\n",
       "freq                                     4\n",
       "Name: NM_PARTIDO, dtype: object"
      ]
     },
     "execution_count": 55,
     "metadata": {},
     "output_type": "execute_result"
    }
   ],
   "source": [
    "df_INDIGENA['NM_PARTIDO'].describe()"
   ]
  },
  {
   "cell_type": "markdown",
   "id": "0411306c",
   "metadata": {},
   "source": [
    " - GRAU DE INSTRUÇÃO"
   ]
  },
  {
   "cell_type": "code",
   "execution_count": 56,
   "id": "a029c0d4",
   "metadata": {
    "collapsed": true
   },
   "outputs": [
    {
     "data": {
      "text/html": [
       "<div>\n",
       "<style scoped>\n",
       "    .dataframe tbody tr th:only-of-type {\n",
       "        vertical-align: middle;\n",
       "    }\n",
       "\n",
       "    .dataframe tbody tr th {\n",
       "        vertical-align: top;\n",
       "    }\n",
       "\n",
       "    .dataframe thead tr th {\n",
       "        text-align: left;\n",
       "    }\n",
       "\n",
       "    .dataframe thead tr:last-of-type th {\n",
       "        text-align: right;\n",
       "    }\n",
       "</style>\n",
       "<table border=\"1\" class=\"dataframe\">\n",
       "  <thead>\n",
       "    <tr>\n",
       "      <th></th>\n",
       "      <th colspan=\"4\" halign=\"left\">NM_UE</th>\n",
       "    </tr>\n",
       "    <tr>\n",
       "      <th></th>\n",
       "      <th>count</th>\n",
       "      <th>unique</th>\n",
       "      <th>top</th>\n",
       "      <th>freq</th>\n",
       "    </tr>\n",
       "    <tr>\n",
       "      <th>DS_GRAU_INSTRUCAO</th>\n",
       "      <th></th>\n",
       "      <th></th>\n",
       "      <th></th>\n",
       "      <th></th>\n",
       "    </tr>\n",
       "  </thead>\n",
       "  <tbody>\n",
       "    <tr>\n",
       "      <th>ENSINO FUNDAMENTAL COMPLETO</th>\n",
       "      <td>2751</td>\n",
       "      <td>92</td>\n",
       "      <td>RIO DE JANEIRO</td>\n",
       "      <td>136</td>\n",
       "    </tr>\n",
       "    <tr>\n",
       "      <th>ENSINO FUNDAMENTAL INCOMPLETO</th>\n",
       "      <td>2726</td>\n",
       "      <td>92</td>\n",
       "      <td>NOVA FRIBURGO</td>\n",
       "      <td>99</td>\n",
       "    </tr>\n",
       "    <tr>\n",
       "      <th>ENSINO MÉDIO COMPLETO</th>\n",
       "      <td>8973</td>\n",
       "      <td>92</td>\n",
       "      <td>RIO DE JANEIRO</td>\n",
       "      <td>569</td>\n",
       "    </tr>\n",
       "    <tr>\n",
       "      <th>ENSINO MÉDIO INCOMPLETO</th>\n",
       "      <td>1268</td>\n",
       "      <td>91</td>\n",
       "      <td>RIO DE JANEIRO</td>\n",
       "      <td>54</td>\n",
       "    </tr>\n",
       "    <tr>\n",
       "      <th>LÊ E ESCREVE</th>\n",
       "      <td>172</td>\n",
       "      <td>42</td>\n",
       "      <td>BELFORD ROXO</td>\n",
       "      <td>26</td>\n",
       "    </tr>\n",
       "    <tr>\n",
       "      <th>SUPERIOR COMPLETO</th>\n",
       "      <td>4365</td>\n",
       "      <td>92</td>\n",
       "      <td>RIO DE JANEIRO</td>\n",
       "      <td>624</td>\n",
       "    </tr>\n",
       "    <tr>\n",
       "      <th>SUPERIOR INCOMPLETO</th>\n",
       "      <td>1140</td>\n",
       "      <td>91</td>\n",
       "      <td>RIO DE JANEIRO</td>\n",
       "      <td>177</td>\n",
       "    </tr>\n",
       "  </tbody>\n",
       "</table>\n",
       "</div>"
      ],
      "text/plain": [
       "                              NM_UE                            \n",
       "                              count unique             top freq\n",
       "DS_GRAU_INSTRUCAO                                              \n",
       "ENSINO FUNDAMENTAL COMPLETO    2751     92  RIO DE JANEIRO  136\n",
       "ENSINO FUNDAMENTAL INCOMPLETO  2726     92   NOVA FRIBURGO   99\n",
       "ENSINO MÉDIO COMPLETO          8973     92  RIO DE JANEIRO  569\n",
       "ENSINO MÉDIO INCOMPLETO        1268     91  RIO DE JANEIRO   54\n",
       "LÊ E ESCREVE                    172     42    BELFORD ROXO   26\n",
       "SUPERIOR COMPLETO              4365     92  RIO DE JANEIRO  624\n",
       "SUPERIOR INCOMPLETO            1140     91  RIO DE JANEIRO  177"
      ]
     },
     "execution_count": 56,
     "metadata": {},
     "output_type": "execute_result"
    }
   ],
   "source": [
    "consulta_Vereador_2016.filter(items=['NM_UE']).groupby(consulta_Vereador_2016['DS_GRAU_INSTRUCAO']).describe()"
   ]
  },
  {
   "cell_type": "code",
   "execution_count": 57,
   "id": "2e4d6d8e",
   "metadata": {
    "collapsed": true
   },
   "outputs": [
    {
     "data": {
      "text/html": [
       "<div>\n",
       "<style scoped>\n",
       "    .dataframe tbody tr th:only-of-type {\n",
       "        vertical-align: middle;\n",
       "    }\n",
       "\n",
       "    .dataframe tbody tr th {\n",
       "        vertical-align: top;\n",
       "    }\n",
       "\n",
       "    .dataframe thead tr th {\n",
       "        text-align: left;\n",
       "    }\n",
       "\n",
       "    .dataframe thead tr:last-of-type th {\n",
       "        text-align: right;\n",
       "    }\n",
       "</style>\n",
       "<table border=\"1\" class=\"dataframe\">\n",
       "  <thead>\n",
       "    <tr>\n",
       "      <th></th>\n",
       "      <th colspan=\"4\" halign=\"left\">NM_PARTIDO</th>\n",
       "    </tr>\n",
       "    <tr>\n",
       "      <th></th>\n",
       "      <th>count</th>\n",
       "      <th>unique</th>\n",
       "      <th>top</th>\n",
       "      <th>freq</th>\n",
       "    </tr>\n",
       "    <tr>\n",
       "      <th>DS_GRAU_INSTRUCAO</th>\n",
       "      <th></th>\n",
       "      <th></th>\n",
       "      <th></th>\n",
       "      <th></th>\n",
       "    </tr>\n",
       "  </thead>\n",
       "  <tbody>\n",
       "    <tr>\n",
       "      <th>ENSINO FUNDAMENTAL COMPLETO</th>\n",
       "      <td>2751</td>\n",
       "      <td>32</td>\n",
       "      <td>PARTIDO DO MOVIMENTO DEMOCRÁTICO BRASILEIRO</td>\n",
       "      <td>155</td>\n",
       "    </tr>\n",
       "    <tr>\n",
       "      <th>ENSINO FUNDAMENTAL INCOMPLETO</th>\n",
       "      <td>2726</td>\n",
       "      <td>32</td>\n",
       "      <td>PARTIDO PROGRESSISTA</td>\n",
       "      <td>142</td>\n",
       "    </tr>\n",
       "    <tr>\n",
       "      <th>ENSINO MÉDIO COMPLETO</th>\n",
       "      <td>8973</td>\n",
       "      <td>34</td>\n",
       "      <td>PARTIDO DO MOVIMENTO DEMOCRÁTICO BRASILEIRO</td>\n",
       "      <td>474</td>\n",
       "    </tr>\n",
       "    <tr>\n",
       "      <th>ENSINO MÉDIO INCOMPLETO</th>\n",
       "      <td>1268</td>\n",
       "      <td>31</td>\n",
       "      <td>PARTIDO PROGRESSISTA</td>\n",
       "      <td>76</td>\n",
       "    </tr>\n",
       "    <tr>\n",
       "      <th>LÊ E ESCREVE</th>\n",
       "      <td>172</td>\n",
       "      <td>29</td>\n",
       "      <td>PARTIDO DA MULHER BRASILEIRA</td>\n",
       "      <td>19</td>\n",
       "    </tr>\n",
       "    <tr>\n",
       "      <th>SUPERIOR COMPLETO</th>\n",
       "      <td>4365</td>\n",
       "      <td>35</td>\n",
       "      <td>PARTIDO DO MOVIMENTO DEMOCRÁTICO BRASILEIRO</td>\n",
       "      <td>290</td>\n",
       "    </tr>\n",
       "    <tr>\n",
       "      <th>SUPERIOR INCOMPLETO</th>\n",
       "      <td>1140</td>\n",
       "      <td>33</td>\n",
       "      <td>PARTIDO DO MOVIMENTO DEMOCRÁTICO BRASILEIRO</td>\n",
       "      <td>77</td>\n",
       "    </tr>\n",
       "  </tbody>\n",
       "</table>\n",
       "</div>"
      ],
      "text/plain": [
       "                              NM_PARTIDO         \\\n",
       "                                   count unique   \n",
       "DS_GRAU_INSTRUCAO                                 \n",
       "ENSINO FUNDAMENTAL COMPLETO         2751     32   \n",
       "ENSINO FUNDAMENTAL INCOMPLETO       2726     32   \n",
       "ENSINO MÉDIO COMPLETO               8973     34   \n",
       "ENSINO MÉDIO INCOMPLETO             1268     31   \n",
       "LÊ E ESCREVE                         172     29   \n",
       "SUPERIOR COMPLETO                   4365     35   \n",
       "SUPERIOR INCOMPLETO                 1140     33   \n",
       "\n",
       "                                                                            \\\n",
       "                                                                       top   \n",
       "DS_GRAU_INSTRUCAO                                                            \n",
       "ENSINO FUNDAMENTAL COMPLETO    PARTIDO DO MOVIMENTO DEMOCRÁTICO BRASILEIRO   \n",
       "ENSINO FUNDAMENTAL INCOMPLETO                         PARTIDO PROGRESSISTA   \n",
       "ENSINO MÉDIO COMPLETO          PARTIDO DO MOVIMENTO DEMOCRÁTICO BRASILEIRO   \n",
       "ENSINO MÉDIO INCOMPLETO                               PARTIDO PROGRESSISTA   \n",
       "LÊ E ESCREVE                                  PARTIDO DA MULHER BRASILEIRA   \n",
       "SUPERIOR COMPLETO              PARTIDO DO MOVIMENTO DEMOCRÁTICO BRASILEIRO   \n",
       "SUPERIOR INCOMPLETO            PARTIDO DO MOVIMENTO DEMOCRÁTICO BRASILEIRO   \n",
       "\n",
       "                                    \n",
       "                              freq  \n",
       "DS_GRAU_INSTRUCAO                   \n",
       "ENSINO FUNDAMENTAL COMPLETO    155  \n",
       "ENSINO FUNDAMENTAL INCOMPLETO  142  \n",
       "ENSINO MÉDIO COMPLETO          474  \n",
       "ENSINO MÉDIO INCOMPLETO         76  \n",
       "LÊ E ESCREVE                    19  \n",
       "SUPERIOR COMPLETO              290  \n",
       "SUPERIOR INCOMPLETO             77  "
      ]
     },
     "execution_count": 57,
     "metadata": {},
     "output_type": "execute_result"
    }
   ],
   "source": [
    "consulta_Vereador_2016.filter(items=['NM_PARTIDO']).groupby(consulta_Vereador_2016['DS_GRAU_INSTRUCAO']).describe()"
   ]
  },
  {
   "cell_type": "markdown",
   "id": "93b76a45",
   "metadata": {},
   "source": [
    "### Criando DataFrame\n",
    " \n"
   ]
  },
  {
   "cell_type": "markdown",
   "id": "663b126b",
   "metadata": {},
   "source": [
    "*Partido*"
   ]
  },
  {
   "cell_type": "code",
   "execution_count": 58,
   "id": "5581210f",
   "metadata": {},
   "outputs": [],
   "source": [
    "# Variaveis de Gênero \n",
    "fem_partido = fem['NM_PARTIDO'].value_counts()\n",
    "masc_partido = masc['NM_PARTIDO'].value_counts()\n"
   ]
  },
  {
   "cell_type": "code",
   "execution_count": 59,
   "id": "1e1b5620",
   "metadata": {},
   "outputs": [],
   "source": [
    "total_gen_partido = fem_partido + masc_partido"
   ]
  },
  {
   "cell_type": "code",
   "execution_count": 60,
   "id": "9ecd550d",
   "metadata": {},
   "outputs": [],
   "source": [
    "percent_fem_partido = fem_partido * 100/total_gen_partido\n",
    "percent_masc_partido = masc_partido * 100/total_gen_partido"
   ]
  },
  {
   "cell_type": "code",
   "execution_count": 61,
   "id": "392ba93a",
   "metadata": {},
   "outputs": [],
   "source": [
    "percent_masc_partido = percent_masc_partido.apply(lambda x: round(x, decimais))\n",
    "percent_fem_partido = percent_fem_partido.apply(lambda x: round(x, decimais))"
   ]
  },
  {
   "cell_type": "code",
   "execution_count": 62,
   "id": "cd0a5465",
   "metadata": {},
   "outputs": [],
   "source": [
    "# Variaveis de raça\n",
    "negra = df_NEGRA['NM_PARTIDO'].value_counts()\n",
    "branca = df_BRANCA['NM_PARTIDO'].value_counts()\n",
    "amarela = df_AMARELA['NM_PARTIDO'].value_counts()\n",
    "indigena = df_INDIGENA['NM_PARTIDO'].value_counts()"
   ]
  },
  {
   "cell_type": "code",
   "execution_count": 63,
   "id": "431099ae",
   "metadata": {},
   "outputs": [],
   "source": [
    "total_raca_partido = consulta_Vereador_2016['NM_PARTIDO'].value_counts()"
   ]
  },
  {
   "cell_type": "code",
   "execution_count": 64,
   "id": "116328e9",
   "metadata": {},
   "outputs": [],
   "source": [
    "percent_negra = negra *100/total_raca_partido\n",
    "percent_branca = branca *100/total_raca_partido\n",
    "percent_amarela = amarela *100/total_raca_partido\n",
    "percent_indigena = indigena *100/total_raca_partido"
   ]
  },
  {
   "cell_type": "code",
   "execution_count": 65,
   "id": "0cd88286",
   "metadata": {},
   "outputs": [],
   "source": [
    "percent_negra = percent_negra.apply(lambda x: round(x, decimais))\n",
    "percent_branca = percent_branca.apply(lambda x: round(x, decimais))\n",
    "percent_amarela = percent_amarela.apply(lambda x: round(x, decimais))\n",
    "percent_indigena = percent_indigena.apply(lambda x: round(x, decimais))"
   ]
  },
  {
   "cell_type": "code",
   "execution_count": 66,
   "id": "0528f2e7",
   "metadata": {},
   "outputs": [],
   "source": [
    "# Variaveis de Grau de instrucao\n",
    "\n",
    "ens_Med = consulta_Vereador_2016.loc[(consulta_Vereador_2016['DS_GRAU_INSTRUCAO'] == 'ENSINO MÉDIO COMPLETO') + (consulta_Vereador_2016['DS_GRAU_INSTRUCAO'] == 'ENSINO MÉDIO INCOMPLETO')]\n",
    "ens_Fund = consulta_Vereador_2016.loc[(consulta_Vereador_2016['DS_GRAU_INSTRUCAO'] == 'ENSINO FUNDAMENTAL COMPLETO') + (consulta_Vereador_2016['DS_GRAU_INSTRUCAO'] == 'ENSINO FUNDAMENTAL INCOMPLETO')]\n",
    "ens_Sup = consulta_Vereador_2016.loc[(consulta_Vereador_2016['DS_GRAU_INSTRUCAO'] == 'SUPERIOR COMPLETO') + (consulta_Vereador_2016['DS_GRAU_INSTRUCAO'] == 'SUPERIOR INCOMPLETO')]\n",
    "ens_Le = consulta_Vereador_2016.loc[consulta_Vereador_2016['DS_GRAU_INSTRUCAO'] == 'LÊ E ESCREVE']\n"
   ]
  },
  {
   "cell_type": "code",
   "execution_count": 67,
   "id": "fd524f48",
   "metadata": {},
   "outputs": [],
   "source": [
    "fundamental = ens_Fund['NM_PARTIDO'].value_counts() \n",
    "medio = ens_Med['NM_PARTIDO'].value_counts() \n",
    "superior = ens_Sup['NM_PARTIDO'].value_counts() \n",
    "le_escreve = ens_Le['NM_PARTIDO'].value_counts()"
   ]
  },
  {
   "cell_type": "code",
   "execution_count": 68,
   "id": "0f9c9b64",
   "metadata": {},
   "outputs": [],
   "source": [
    "total_ens_partido = consulta_Vereador_2016['NM_PARTIDO'].value_counts() "
   ]
  },
  {
   "cell_type": "code",
   "execution_count": 69,
   "id": "1c573c51",
   "metadata": {},
   "outputs": [],
   "source": [
    "percent_ens_Med = medio*100/total_ens_partido\n",
    "percent_ens_Fund = fundamental*100/total_ens_partido\n",
    "percent_ens_Sup = superior*100/total_ens_partido \n",
    "percent_ens_Le = le_escreve*100/total_ens_partido\n"
   ]
  },
  {
   "cell_type": "code",
   "execution_count": 70,
   "id": "3048263a",
   "metadata": {},
   "outputs": [],
   "source": [
    "percent_ens_Med= percent_ens_Med.apply(lambda x: round(x, decimais))\n",
    "percent_ens_Fund= percent_ens_Fund.apply(lambda x: round(x, decimais))\n",
    "percent_ens_Sup = percent_ens_Sup.apply(lambda x: round(x, decimais))\n",
    "percent_ens_Le = percent_ens_Le.apply(lambda x: round(x, decimais))\n"
   ]
  },
  {
   "cell_type": "code",
   "execution_count": 71,
   "id": "bad835ca",
   "metadata": {},
   "outputs": [],
   "source": [
    "# Criando Data Frame \n",
    "\n",
    "dic1 = {'FEMININO': fem_partido, '%FEMININO': percent_fem_partido , 'MASCULINO':masc_partido,'%MASCULINO': percent_masc_partido ,\n",
    "          'BRANCA': branca , '%BRANCA': percent_branca , 'NEGRA': negra, '%NEGRA': percent_negra, 'AMARELA': amarela, '%AMARELA': percent_amarela, \n",
    "         'INDÍGENA': indigena ,'%INDÍGENA': percent_indigena, 'ENSINO MÉDIO': medio ,'%ENSINO MÉDIO': percent_ens_Med , 'ENSINO FUNDAMENTAL': fundamental, '%ENSINO FUNDAMENTAL': percent_ens_Fund,\n",
    "          'ENSINO SUPERIOR': superior, '%ENSINO SUPERIOR': percent_ens_Sup, 'LÊ E ESCREVE': le_escreve, '%LÊ E ESCREVE':percent_ens_Le\n",
    "       }\n"
   ]
  },
  {
   "cell_type": "code",
   "execution_count": 72,
   "id": "2274f40c",
   "metadata": {},
   "outputs": [],
   "source": [
    "df_partidos = pd.DataFrame(dic1)"
   ]
  },
  {
   "cell_type": "code",
   "execution_count": 73,
   "id": "6018dc9b",
   "metadata": {},
   "outputs": [],
   "source": [
    "df_partidos = df_partidos.fillna(0)"
   ]
  },
  {
   "cell_type": "code",
   "execution_count": 74,
   "id": "7bb5a768",
   "metadata": {},
   "outputs": [],
   "source": [
    "df_partidos.to_csv('consultaVereador_RJ_partidos.csv')"
   ]
  },
  {
   "cell_type": "markdown",
   "id": "cb048d0b",
   "metadata": {},
   "source": [
    "*Unidade Eleitoral*"
   ]
  },
  {
   "cell_type": "code",
   "execution_count": 77,
   "id": "707700df",
   "metadata": {},
   "outputs": [],
   "source": [
    "# Variaveis de Gênero \n",
    "fem_ue = fem['NM_UE'].value_counts()\n",
    "masc_ue = masc['NM_UE'].value_counts()\n"
   ]
  },
  {
   "cell_type": "code",
   "execution_count": 78,
   "id": "e3fa6c3e",
   "metadata": {},
   "outputs": [],
   "source": [
    "total_gen_ue = fem_ue + masc_ue"
   ]
  },
  {
   "cell_type": "code",
   "execution_count": 79,
   "id": "8f5def8d",
   "metadata": {},
   "outputs": [],
   "source": [
    "percent_fem_ue = fem_ue * 100/total_gen_ue\n",
    "percent_masc_ue = masc_ue * 100/total_gen_ue"
   ]
  },
  {
   "cell_type": "code",
   "execution_count": 80,
   "id": "a52f77f9",
   "metadata": {},
   "outputs": [],
   "source": [
    "percent_masc_ue = percent_masc_ue.apply(lambda x: round(x, decimais))\n",
    "percent_fem_ue = percent_fem_ue.apply(lambda x: round(x, decimais))"
   ]
  },
  {
   "cell_type": "code",
   "execution_count": 81,
   "id": "a193059b",
   "metadata": {},
   "outputs": [],
   "source": [
    "# Variaveis de raça\n",
    "negra_ue = df_NEGRA['NM_UE'].value_counts()\n",
    "branca_ue = df_BRANCA['NM_UE'].value_counts()\n",
    "amarela_ue = df_AMARELA['NM_UE'].value_counts()\n",
    "indigena_ue = df_INDIGENA['NM_UE'].value_counts()"
   ]
  },
  {
   "cell_type": "code",
   "execution_count": 82,
   "id": "33d05a71",
   "metadata": {},
   "outputs": [],
   "source": [
    "total_raca_ue = consulta_Vereador_2016['NM_UE'].value_counts()"
   ]
  },
  {
   "cell_type": "code",
   "execution_count": 83,
   "id": "e3f595a8",
   "metadata": {},
   "outputs": [],
   "source": [
    "percent_negra_ue = negra_ue *100/total_raca_ue\n",
    "percent_branca_ue = branca_ue *100/total_raca_ue\n",
    "percent_amarela_ue = amarela_ue *100/total_raca_ue\n",
    "percent_indigena_ue = indigena_ue *100/total_raca_ue"
   ]
  },
  {
   "cell_type": "code",
   "execution_count": 84,
   "id": "9c754601",
   "metadata": {},
   "outputs": [],
   "source": [
    "percent_negra_ue = percent_negra_ue.apply(lambda x: round(x, decimais))\n",
    "percent_branca_ue = percent_branca_ue.apply(lambda x: round(x, decimais))\n",
    "percent_amarela_ue = percent_amarela_ue.apply(lambda x: round(x, decimais))\n",
    "percent_indigena_ue = percent_indigena_ue.apply(lambda x: round(x, decimais))"
   ]
  },
  {
   "cell_type": "code",
   "execution_count": 85,
   "id": "83766b9c",
   "metadata": {},
   "outputs": [],
   "source": [
    "# Variaveis de Grau de instrucao\n",
    "\n",
    "ens_Med_UE = ens_Med['NM_UE'].value_counts()\n",
    "ens_Fund_UE = ens_Fund['NM_UE'].value_counts()\n",
    "ens_Sup_UE = ens_Sup['NM_UE'].value_counts()\n",
    "ens_Le_UE = ens_Le['NM_UE'].value_counts()\n"
   ]
  },
  {
   "cell_type": "code",
   "execution_count": 86,
   "id": "e75ff8a3",
   "metadata": {},
   "outputs": [],
   "source": [
    "total_ens_ue = consulta_Vereador_2016['NM_UE'].value_counts()"
   ]
  },
  {
   "cell_type": "code",
   "execution_count": 87,
   "id": "cb4597cb",
   "metadata": {},
   "outputs": [],
   "source": [
    "percent_ens_Med_UE = ens_Med_UE *100/total_ens_ue\n",
    "percent_ens_Fund_UE = ens_Fund_UE *100/total_ens_ue\n",
    "percent_ens_Sup_UE = ens_Sup_UE *100/total_ens_ue\n",
    "percent_ens_Le_UE = ens_Le_UE*100/total_ens_ue\n"
   ]
  },
  {
   "cell_type": "code",
   "execution_count": 88,
   "id": "35a29f15",
   "metadata": {},
   "outputs": [],
   "source": [
    "percent_ens_Med_UE= percent_ens_Med_UE.apply(lambda x: round(x, decimais))\n",
    "percent_ens_Fund_UE= percent_ens_Fund_UE.apply(lambda x: round(x, decimais))\n",
    "percent_ens_Sup_UE =percent_ens_Sup_UE.apply(lambda x: round(x, decimais))\n",
    "percent_ens_Le_UE = percent_ens_Le_UE.apply(lambda x: round(x, decimais))\n"
   ]
  },
  {
   "cell_type": "code",
   "execution_count": 89,
   "id": "08868d4a",
   "metadata": {},
   "outputs": [],
   "source": [
    "# Criando Data Frame \n",
    "\n",
    "dic2 = {'FEMININO': fem_ue, '%FEMININO': percent_fem_ue , 'MASCULINO':masc_ue,'%MASCULINO': percent_masc_ue ,\n",
    "          'BRANCA': branca_ue , '%BRANCA': percent_branca_ue , 'NEGRA': negra_ue, '%NEGRA': percent_negra_ue, 'AMARELA': amarela_ue, '%AMARELA': percent_amarela_ue, \n",
    "         'INDÍGENA': indigena_ue ,'%INDÍGENA': percent_indigena_ue, 'ENSINO MÉDIO': ens_Med_UE ,'%ENSINO MÉDIO': percent_ens_Med_UE , \n",
    "          'ENSINO FUNDAMENTAL': ens_Fund_UE, '%ENSINO FUNDAMENTAL': percent_ens_Fund_UE,\n",
    "          'ENSINO SUPERIOR': ens_Sup_UE, '%ENSINO SUPERIOR': percent_ens_Sup_UE, 'LÊ E ESCREVE': ens_Le_UE, '%LÊ E ESCREVE':percent_ens_Le_UE}\n"
   ]
  },
  {
   "cell_type": "code",
   "execution_count": 90,
   "id": "11211eb4",
   "metadata": {},
   "outputs": [],
   "source": [
    "df_ue = pd.DataFrame(dic2)"
   ]
  },
  {
   "cell_type": "code",
   "execution_count": 91,
   "id": "2c025be7",
   "metadata": {},
   "outputs": [],
   "source": [
    "df_ue = df_ue.fillna(0)"
   ]
  },
  {
   "cell_type": "code",
   "execution_count": 92,
   "id": "89512b9b",
   "metadata": {
    "collapsed": true
   },
   "outputs": [
    {
     "data": {
      "text/html": [
       "<div>\n",
       "<style scoped>\n",
       "    .dataframe tbody tr th:only-of-type {\n",
       "        vertical-align: middle;\n",
       "    }\n",
       "\n",
       "    .dataframe tbody tr th {\n",
       "        vertical-align: top;\n",
       "    }\n",
       "\n",
       "    .dataframe thead th {\n",
       "        text-align: right;\n",
       "    }\n",
       "</style>\n",
       "<table border=\"1\" class=\"dataframe\">\n",
       "  <thead>\n",
       "    <tr style=\"text-align: right;\">\n",
       "      <th></th>\n",
       "      <th>FEMININO</th>\n",
       "      <th>%FEMININO</th>\n",
       "      <th>MASCULINO</th>\n",
       "      <th>%MASCULINO</th>\n",
       "      <th>BRANCA</th>\n",
       "      <th>%BRANCA</th>\n",
       "      <th>NEGRA</th>\n",
       "      <th>%NEGRA</th>\n",
       "      <th>AMARELA</th>\n",
       "      <th>%AMARELA</th>\n",
       "      <th>INDÍGENA</th>\n",
       "      <th>%INDÍGENA</th>\n",
       "      <th>ENSINO MÉDIO</th>\n",
       "      <th>%ENSINO MÉDIO</th>\n",
       "      <th>ENSINO FUNDAMENTAL</th>\n",
       "      <th>%ENSINO FUNDAMENTAL</th>\n",
       "      <th>ENSINO SUPERIOR</th>\n",
       "      <th>%ENSINO SUPERIOR</th>\n",
       "      <th>LÊ E ESCREVE</th>\n",
       "      <th>%LÊ E ESCREVE</th>\n",
       "    </tr>\n",
       "  </thead>\n",
       "  <tbody>\n",
       "    <tr>\n",
       "      <th>ANGRA DOS REIS</th>\n",
       "      <td>112</td>\n",
       "      <td>33.6</td>\n",
       "      <td>221</td>\n",
       "      <td>66.4</td>\n",
       "      <td>217</td>\n",
       "      <td>65.2</td>\n",
       "      <td>116</td>\n",
       "      <td>34.8</td>\n",
       "      <td>0.0</td>\n",
       "      <td>0.0</td>\n",
       "      <td>0.0</td>\n",
       "      <td>0.0</td>\n",
       "      <td>200</td>\n",
       "      <td>60.1</td>\n",
       "      <td>64</td>\n",
       "      <td>19.2</td>\n",
       "      <td>68</td>\n",
       "      <td>20.4</td>\n",
       "      <td>1.0</td>\n",
       "      <td>0.3</td>\n",
       "    </tr>\n",
       "    <tr>\n",
       "      <th>APERIBÉ</th>\n",
       "      <td>19</td>\n",
       "      <td>35.2</td>\n",
       "      <td>35</td>\n",
       "      <td>64.8</td>\n",
       "      <td>43</td>\n",
       "      <td>79.6</td>\n",
       "      <td>11</td>\n",
       "      <td>20.4</td>\n",
       "      <td>0.0</td>\n",
       "      <td>0.0</td>\n",
       "      <td>0.0</td>\n",
       "      <td>0.0</td>\n",
       "      <td>18</td>\n",
       "      <td>33.3</td>\n",
       "      <td>30</td>\n",
       "      <td>55.6</td>\n",
       "      <td>6</td>\n",
       "      <td>11.1</td>\n",
       "      <td>0.0</td>\n",
       "      <td>0.0</td>\n",
       "    </tr>\n",
       "    <tr>\n",
       "      <th>ARARUAMA</th>\n",
       "      <td>108</td>\n",
       "      <td>32.2</td>\n",
       "      <td>227</td>\n",
       "      <td>67.8</td>\n",
       "      <td>134</td>\n",
       "      <td>40.0</td>\n",
       "      <td>200</td>\n",
       "      <td>59.7</td>\n",
       "      <td>0.0</td>\n",
       "      <td>0.0</td>\n",
       "      <td>1.0</td>\n",
       "      <td>0.3</td>\n",
       "      <td>144</td>\n",
       "      <td>43.0</td>\n",
       "      <td>86</td>\n",
       "      <td>25.7</td>\n",
       "      <td>105</td>\n",
       "      <td>31.3</td>\n",
       "      <td>0.0</td>\n",
       "      <td>0.0</td>\n",
       "    </tr>\n",
       "    <tr>\n",
       "      <th>AREAL</th>\n",
       "      <td>37</td>\n",
       "      <td>35.6</td>\n",
       "      <td>67</td>\n",
       "      <td>64.4</td>\n",
       "      <td>78</td>\n",
       "      <td>75.0</td>\n",
       "      <td>26</td>\n",
       "      <td>25.0</td>\n",
       "      <td>0.0</td>\n",
       "      <td>0.0</td>\n",
       "      <td>0.0</td>\n",
       "      <td>0.0</td>\n",
       "      <td>53</td>\n",
       "      <td>51.0</td>\n",
       "      <td>28</td>\n",
       "      <td>26.9</td>\n",
       "      <td>23</td>\n",
       "      <td>22.1</td>\n",
       "      <td>0.0</td>\n",
       "      <td>0.0</td>\n",
       "    </tr>\n",
       "    <tr>\n",
       "      <th>ARMAÇÃO DOS BÚZIOS</th>\n",
       "      <td>57</td>\n",
       "      <td>36.3</td>\n",
       "      <td>100</td>\n",
       "      <td>63.7</td>\n",
       "      <td>99</td>\n",
       "      <td>63.1</td>\n",
       "      <td>57</td>\n",
       "      <td>36.3</td>\n",
       "      <td>0.0</td>\n",
       "      <td>0.0</td>\n",
       "      <td>1.0</td>\n",
       "      <td>0.6</td>\n",
       "      <td>80</td>\n",
       "      <td>51.0</td>\n",
       "      <td>34</td>\n",
       "      <td>21.7</td>\n",
       "      <td>42</td>\n",
       "      <td>26.8</td>\n",
       "      <td>1.0</td>\n",
       "      <td>0.6</td>\n",
       "    </tr>\n",
       "    <tr>\n",
       "      <th>...</th>\n",
       "      <td>...</td>\n",
       "      <td>...</td>\n",
       "      <td>...</td>\n",
       "      <td>...</td>\n",
       "      <td>...</td>\n",
       "      <td>...</td>\n",
       "      <td>...</td>\n",
       "      <td>...</td>\n",
       "      <td>...</td>\n",
       "      <td>...</td>\n",
       "      <td>...</td>\n",
       "      <td>...</td>\n",
       "      <td>...</td>\n",
       "      <td>...</td>\n",
       "      <td>...</td>\n",
       "      <td>...</td>\n",
       "      <td>...</td>\n",
       "      <td>...</td>\n",
       "      <td>...</td>\n",
       "      <td>...</td>\n",
       "    </tr>\n",
       "    <tr>\n",
       "      <th>TRÊS RIOS</th>\n",
       "      <td>88</td>\n",
       "      <td>30.9</td>\n",
       "      <td>197</td>\n",
       "      <td>69.1</td>\n",
       "      <td>151</td>\n",
       "      <td>53.0</td>\n",
       "      <td>134</td>\n",
       "      <td>47.0</td>\n",
       "      <td>0.0</td>\n",
       "      <td>0.0</td>\n",
       "      <td>0.0</td>\n",
       "      <td>0.0</td>\n",
       "      <td>134</td>\n",
       "      <td>47.0</td>\n",
       "      <td>79</td>\n",
       "      <td>27.7</td>\n",
       "      <td>72</td>\n",
       "      <td>25.3</td>\n",
       "      <td>0.0</td>\n",
       "      <td>0.0</td>\n",
       "    </tr>\n",
       "    <tr>\n",
       "      <th>VALENÇA</th>\n",
       "      <td>70</td>\n",
       "      <td>35.7</td>\n",
       "      <td>126</td>\n",
       "      <td>64.3</td>\n",
       "      <td>153</td>\n",
       "      <td>78.1</td>\n",
       "      <td>43</td>\n",
       "      <td>21.9</td>\n",
       "      <td>0.0</td>\n",
       "      <td>0.0</td>\n",
       "      <td>0.0</td>\n",
       "      <td>0.0</td>\n",
       "      <td>68</td>\n",
       "      <td>34.7</td>\n",
       "      <td>41</td>\n",
       "      <td>20.9</td>\n",
       "      <td>86</td>\n",
       "      <td>43.9</td>\n",
       "      <td>1.0</td>\n",
       "      <td>0.5</td>\n",
       "    </tr>\n",
       "    <tr>\n",
       "      <th>VARRE-SAI</th>\n",
       "      <td>18</td>\n",
       "      <td>32.7</td>\n",
       "      <td>37</td>\n",
       "      <td>67.3</td>\n",
       "      <td>42</td>\n",
       "      <td>76.4</td>\n",
       "      <td>13</td>\n",
       "      <td>23.6</td>\n",
       "      <td>0.0</td>\n",
       "      <td>0.0</td>\n",
       "      <td>0.0</td>\n",
       "      <td>0.0</td>\n",
       "      <td>23</td>\n",
       "      <td>41.8</td>\n",
       "      <td>24</td>\n",
       "      <td>43.6</td>\n",
       "      <td>8</td>\n",
       "      <td>14.5</td>\n",
       "      <td>0.0</td>\n",
       "      <td>0.0</td>\n",
       "    </tr>\n",
       "    <tr>\n",
       "      <th>VASSOURAS</th>\n",
       "      <td>60</td>\n",
       "      <td>33.1</td>\n",
       "      <td>121</td>\n",
       "      <td>66.9</td>\n",
       "      <td>106</td>\n",
       "      <td>58.6</td>\n",
       "      <td>75</td>\n",
       "      <td>41.4</td>\n",
       "      <td>0.0</td>\n",
       "      <td>0.0</td>\n",
       "      <td>0.0</td>\n",
       "      <td>0.0</td>\n",
       "      <td>77</td>\n",
       "      <td>42.5</td>\n",
       "      <td>36</td>\n",
       "      <td>19.9</td>\n",
       "      <td>66</td>\n",
       "      <td>36.5</td>\n",
       "      <td>2.0</td>\n",
       "      <td>1.1</td>\n",
       "    </tr>\n",
       "    <tr>\n",
       "      <th>VOLTA REDONDA</th>\n",
       "      <td>164</td>\n",
       "      <td>32.5</td>\n",
       "      <td>341</td>\n",
       "      <td>67.5</td>\n",
       "      <td>336</td>\n",
       "      <td>66.5</td>\n",
       "      <td>169</td>\n",
       "      <td>33.5</td>\n",
       "      <td>0.0</td>\n",
       "      <td>0.0</td>\n",
       "      <td>0.0</td>\n",
       "      <td>0.0</td>\n",
       "      <td>199</td>\n",
       "      <td>39.4</td>\n",
       "      <td>127</td>\n",
       "      <td>25.1</td>\n",
       "      <td>176</td>\n",
       "      <td>34.9</td>\n",
       "      <td>3.0</td>\n",
       "      <td>0.6</td>\n",
       "    </tr>\n",
       "  </tbody>\n",
       "</table>\n",
       "<p>92 rows × 20 columns</p>\n",
       "</div>"
      ],
      "text/plain": [
       "                    FEMININO  %FEMININO  MASCULINO  %MASCULINO  BRANCA  \\\n",
       "ANGRA DOS REIS           112       33.6        221        66.4     217   \n",
       "APERIBÉ                   19       35.2         35        64.8      43   \n",
       "ARARUAMA                 108       32.2        227        67.8     134   \n",
       "AREAL                     37       35.6         67        64.4      78   \n",
       "ARMAÇÃO DOS BÚZIOS        57       36.3        100        63.7      99   \n",
       "...                      ...        ...        ...         ...     ...   \n",
       "TRÊS RIOS                 88       30.9        197        69.1     151   \n",
       "VALENÇA                   70       35.7        126        64.3     153   \n",
       "VARRE-SAI                 18       32.7         37        67.3      42   \n",
       "VASSOURAS                 60       33.1        121        66.9     106   \n",
       "VOLTA REDONDA            164       32.5        341        67.5     336   \n",
       "\n",
       "                    %BRANCA  NEGRA  %NEGRA  AMARELA  %AMARELA  INDÍGENA  \\\n",
       "ANGRA DOS REIS         65.2    116    34.8      0.0       0.0       0.0   \n",
       "APERIBÉ                79.6     11    20.4      0.0       0.0       0.0   \n",
       "ARARUAMA               40.0    200    59.7      0.0       0.0       1.0   \n",
       "AREAL                  75.0     26    25.0      0.0       0.0       0.0   \n",
       "ARMAÇÃO DOS BÚZIOS     63.1     57    36.3      0.0       0.0       1.0   \n",
       "...                     ...    ...     ...      ...       ...       ...   \n",
       "TRÊS RIOS              53.0    134    47.0      0.0       0.0       0.0   \n",
       "VALENÇA                78.1     43    21.9      0.0       0.0       0.0   \n",
       "VARRE-SAI              76.4     13    23.6      0.0       0.0       0.0   \n",
       "VASSOURAS              58.6     75    41.4      0.0       0.0       0.0   \n",
       "VOLTA REDONDA          66.5    169    33.5      0.0       0.0       0.0   \n",
       "\n",
       "                    %INDÍGENA  ENSINO MÉDIO  %ENSINO MÉDIO  \\\n",
       "ANGRA DOS REIS            0.0           200           60.1   \n",
       "APERIBÉ                   0.0            18           33.3   \n",
       "ARARUAMA                  0.3           144           43.0   \n",
       "AREAL                     0.0            53           51.0   \n",
       "ARMAÇÃO DOS BÚZIOS        0.6            80           51.0   \n",
       "...                       ...           ...            ...   \n",
       "TRÊS RIOS                 0.0           134           47.0   \n",
       "VALENÇA                   0.0            68           34.7   \n",
       "VARRE-SAI                 0.0            23           41.8   \n",
       "VASSOURAS                 0.0            77           42.5   \n",
       "VOLTA REDONDA             0.0           199           39.4   \n",
       "\n",
       "                    ENSINO FUNDAMENTAL  %ENSINO FUNDAMENTAL  ENSINO SUPERIOR  \\\n",
       "ANGRA DOS REIS                      64                 19.2               68   \n",
       "APERIBÉ                             30                 55.6                6   \n",
       "ARARUAMA                            86                 25.7              105   \n",
       "AREAL                               28                 26.9               23   \n",
       "ARMAÇÃO DOS BÚZIOS                  34                 21.7               42   \n",
       "...                                ...                  ...              ...   \n",
       "TRÊS RIOS                           79                 27.7               72   \n",
       "VALENÇA                             41                 20.9               86   \n",
       "VARRE-SAI                           24                 43.6                8   \n",
       "VASSOURAS                           36                 19.9               66   \n",
       "VOLTA REDONDA                      127                 25.1              176   \n",
       "\n",
       "                    %ENSINO SUPERIOR  LÊ E ESCREVE  %LÊ E ESCREVE  \n",
       "ANGRA DOS REIS                  20.4           1.0            0.3  \n",
       "APERIBÉ                         11.1           0.0            0.0  \n",
       "ARARUAMA                        31.3           0.0            0.0  \n",
       "AREAL                           22.1           0.0            0.0  \n",
       "ARMAÇÃO DOS BÚZIOS              26.8           1.0            0.6  \n",
       "...                              ...           ...            ...  \n",
       "TRÊS RIOS                       25.3           0.0            0.0  \n",
       "VALENÇA                         43.9           1.0            0.5  \n",
       "VARRE-SAI                       14.5           0.0            0.0  \n",
       "VASSOURAS                       36.5           2.0            1.1  \n",
       "VOLTA REDONDA                   34.9           3.0            0.6  \n",
       "\n",
       "[92 rows x 20 columns]"
      ]
     },
     "execution_count": 92,
     "metadata": {},
     "output_type": "execute_result"
    }
   ],
   "source": [
    "df_ue"
   ]
  },
  {
   "cell_type": "code",
   "execution_count": 93,
   "id": "cd811a10",
   "metadata": {},
   "outputs": [],
   "source": [
    "df_ue.to_csv('consultaVereador_RJ_municipios.csv')"
   ]
  },
  {
   "cell_type": "code",
   "execution_count": null,
   "id": "3f94780f",
   "metadata": {},
   "outputs": [],
   "source": []
  }
 ],
 "metadata": {
  "kernelspec": {
   "display_name": "Python 3",
   "language": "python",
   "name": "python3"
  },
  "language_info": {
   "codemirror_mode": {
    "name": "ipython",
    "version": 3
   },
   "file_extension": ".py",
   "mimetype": "text/x-python",
   "name": "python",
   "nbconvert_exporter": "python",
   "pygments_lexer": "ipython3",
   "version": "3.8.10"
  }
 },
 "nbformat": 4,
 "nbformat_minor": 5
}
