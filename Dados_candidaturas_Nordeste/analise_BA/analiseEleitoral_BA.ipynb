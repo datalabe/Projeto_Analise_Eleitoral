{
 "cells": [
  {
   "cell_type": "markdown",
   "metadata": {},
   "source": [
    "# Análise dados eleitoras Estado  da Bahia\n",
    "\n",
    "  ### Objetivos: Entender a distibuicao racial, etária e de genero dos candidatos ao cargo de verador por partido e território\n",
    "  ### Dados: http://www.tse.jus.br/eleicoes/estatisticas/repositorio-de-dados-eleitorais-1/repositorio-de-dados-eleitorais"
   ]
  },
  {
   "cell_type": "code",
   "execution_count": 1,
   "metadata": {},
   "outputs": [
    {
     "data": {
      "text/html": [
       "        <script type=\"text/javascript\">\n",
       "        window.PlotlyConfig = {MathJaxConfig: 'local'};\n",
       "        if (window.MathJax) {MathJax.Hub.Config({SVG: {font: \"STIX-Web\"}});}\n",
       "        if (typeof require !== 'undefined') {\n",
       "        require.undef(\"plotly\");\n",
       "        requirejs.config({\n",
       "            paths: {\n",
       "                'plotly': ['https://cdn.plot.ly/plotly-2.2.0.min']\n",
       "            }\n",
       "        });\n",
       "        require(['plotly'], function(Plotly) {\n",
       "            window._Plotly = Plotly;\n",
       "        });\n",
       "        }\n",
       "        </script>\n",
       "        "
      ]
     },
     "metadata": {},
     "output_type": "display_data"
    }
   ],
   "source": [
    "import pandas as pd\n",
    "import matplotlib.pyplot as plt\n",
    "import plotly.offline as py\n",
    "from plotly.subplots import make_subplots\n",
    "import plotly.express as px\n",
    "import plotly.graph_objs as go\n",
    "import cufflinks as cf\n",
    "import numpy as np\n",
    "\n",
    "\n",
    "py.init_notebook_mode(connected=True)\n",
    "\n",
    "%matplotlib inline"
   ]
  },
  {
   "cell_type": "code",
   "execution_count": 2,
   "metadata": {},
   "outputs": [],
   "source": [
    "# Definindo casas decimais\n",
    "decimais = 1"
   ]
  },
  {
   "cell_type": "code",
   "execution_count": 3,
   "metadata": {},
   "outputs": [],
   "source": [
    "consulta = pd.read_csv('consulta_cand_2016_BA.csv', sep=';', encoding='latin-1', low_memory=False)"
   ]
  },
  {
   "cell_type": "code",
   "execution_count": 4,
   "metadata": {},
   "outputs": [],
   "source": [
    "consulta2016 = pd.DataFrame(consulta, columns= ['DS_CARGO','NM_CANDIDATO', 'NM_SOCIAL_CANDIDATO', 'NM_PARTIDO','DS_GENERO',\n",
    "                                                'DS_COR_RACA', 'NR_IDADE_DATA_POSSE', 'DS_GRAU_INSTRUCAO','NM_UE', 'VR_DESPESA_MAX_CAMPANHA'])"
   ]
  },
  {
   "cell_type": "code",
   "execution_count": 5,
   "metadata": {},
   "outputs": [],
   "source": [
    "consulta_Vereador_2016 = consulta2016.loc[consulta['DS_CARGO'] == 'VEREADOR']"
   ]
  },
  {
   "cell_type": "code",
   "execution_count": 6,
   "metadata": {},
   "outputs": [],
   "source": [
    "# Renomeando a coluna raça para os declarados pretos e pardos\n",
    "for (row, col) in consulta_Vereador_2016.iterrows():\n",
    "    if col.DS_COR_RACA == 'PRETA':\n",
    "        consulta_Vereador_2016['DS_COR_RACA'].replace(to_replace=col.DS_COR_RACA, value='NEGRA', inplace=True)\n",
    "    if col.DS_COR_RACA == 'PARDA':\n",
    "        consulta_Vereador_2016['DS_COR_RACA'].replace(to_replace=col.DS_COR_RACA, value='NEGRA', inplace=True)"
   ]
  },
  {
   "cell_type": "code",
   "execution_count": 97,
   "metadata": {},
   "outputs": [],
   "source": [
    "consulta_Vereador_2016.to_csv('consulta_Vereador_2016_BA.csv')"
   ]
  },
  {
   "cell_type": "markdown",
   "metadata": {},
   "source": [
    "### Visão Geral\n",
    "\n",
    "Há 33894 candidaturas ao cargo de vereador,33 partidos e 417 unidades eleitorais.\n",
    "\n",
    "O partido com maior número de candidaturas na Bahia é o PARTIDO SOCIAL DEMOCRÁTICO, já o PARTIDO DA CAUSA OPERÁRIA tem o menor número de candidaturas. \n",
    "\n",
    "Salvador é a unidade eleitoral com maior número de candidaturas, 1056, ao contrário de PINTADAS que possui apenas 22 candidaturas.\n",
    "\n",
    " 68% das candidaturas são de homens, 81% são de declarados negros,  média de idade é de 44 anos e maioria dos candidatos tem  o ensino médio completo\n",
    " \n",
    " \n",
    " \n",
    " \n",
    " \n",
    " \n",
    " \n",
    " \n",
    " \n",
    " \n",
    " ***OBS:*** *A análise de raça foi feita a partir do que é entendido como população negra no Brasil por parte das instituições Data Labe e Alma Preta, assim foi considerados negros a soma de pretos e pardos*\n"
   ]
  },
  {
   "cell_type": "code",
   "execution_count": 7,
   "metadata": {
    "collapsed": true
   },
   "outputs": [
    {
     "data": {
      "text/plain": [
       "DS_CARGO                       1\n",
       "NM_CANDIDATO               33894\n",
       "NM_SOCIAL_CANDIDATO            1\n",
       "NM_PARTIDO                    33\n",
       "DS_GENERO                      2\n",
       "DS_COR_RACA                    4\n",
       "NR_IDADE_DATA_POSSE           73\n",
       "DS_GRAU_INSTRUCAO              7\n",
       "NM_UE                        417\n",
       "VR_DESPESA_MAX_CAMPANHA        2\n",
       "dtype: int64"
      ]
     },
     "execution_count": 7,
     "metadata": {},
     "output_type": "execute_result"
    }
   ],
   "source": [
    "consulta_Vereador_2016.nunique()"
   ]
  },
  {
   "cell_type": "code",
   "execution_count": 8,
   "metadata": {
    "collapsed": true
   },
   "outputs": [
    {
     "data": {
      "text/plain": [
       "PARTIDO SOCIAL DEMOCRÁTICO                        2777\n",
       "PARTIDO PROGRESSISTA                              2210\n",
       "PARTIDO DO MOVIMENTO DEMOCRÁTICO BRASILEIRO       2136\n",
       "PARTIDO DOS TRABALHADORES                         1998\n",
       "DEMOCRATAS                                        1895\n",
       "PARTIDO SOCIALISTA BRASILEIRO                     1627\n",
       "PARTIDO DA SOCIAL DEMOCRACIA BRASILEIRA           1591\n",
       "PARTIDO COMUNISTA DO BRASIL                       1590\n",
       "PARTIDO DEMOCRÁTICO TRABALHISTA                   1516\n",
       "PARTIDO REPUBLICANO BRASILEIRO                    1448\n",
       "PARTIDO SOCIAL CRISTÃO                            1391\n",
       "PARTIDO SOCIAL LIBERAL                            1349\n",
       "PARTIDO DA REPÚBLICA                              1256\n",
       "PARTIDO TRABALHISTA NACIONAL                      1166\n",
       "PARTIDO TRABALHISTA CRISTÃO                        991\n",
       "PARTIDO TRABALHISTA BRASILEIRO                     948\n",
       "SOLIDARIEDADE                                      930\n",
       "PARTIDO POPULAR SOCIALISTA                         917\n",
       "PARTIDO VERDE                                      855\n",
       "PARTIDO HUMANISTA DA SOLIDARIEDADE                 817\n",
       "PARTIDO ECOLÓGICO NACIONAL                         697\n",
       "PARTIDO REPUBLICANO DA ORDEM SOCIAL                685\n",
       "PARTIDO REPUBLICANO PROGRESSISTA                   528\n",
       "PARTIDO TRABALHISTA DO BRASIL                      502\n",
       "PARTIDO SOCIALISMO E LIBERDADE                     450\n",
       "PARTIDO SOCIAL DEMOCRATA CRISTÃO                   427\n",
       "PARTIDO RENOVADOR TRABALHISTA BRASILEIRO           413\n",
       "PARTIDO DA MULHER BRASILEIRA                       397\n",
       "PARTIDO PÁTRIA LIVRE                               378\n",
       "REDE SUSTENTABILIDADE                              207\n",
       "PARTIDO DA MOBILIZAÇÃO NACIONAL                    167\n",
       "PARTIDO SOCIALISTA DOS TRABALHADORES UNIFICADO       6\n",
       "PARTIDO DA CAUSA OPERÁRIA                            3\n",
       "Name: NM_PARTIDO, dtype: int64"
      ]
     },
     "execution_count": 8,
     "metadata": {},
     "output_type": "execute_result"
    }
   ],
   "source": [
    "consulta_Vereador_2016['NM_PARTIDO'].value_counts()"
   ]
  },
  {
   "cell_type": "code",
   "execution_count": 24,
   "metadata": {
    "collapsed": true
   },
   "outputs": [
    {
     "data": {
      "text/plain": [
       "<AxesSubplot:title={'center':'DISTRIBUIÇÃO DE CANDIDATURAS POR PARTIDO'}>"
      ]
     },
     "execution_count": 24,
     "metadata": {},
     "output_type": "execute_result"
    },
    {
     "data": {
      "image/png": "[encoded data removed]",
      "text/plain": [
       "<Figure size 1080x720 with 1 Axes>"
      ]
     },
     "metadata": {
      "needs_background": "light"
     },
     "output_type": "display_data"
    }
   ],
   "source": [
    "consulta_Vereador_2016['NM_PARTIDO'].value_counts().plot(kind='barh', title='DISTRIBUIÇÃO DE CANDIDATURAS POR PARTIDO',figsize=(15,10) )"
   ]
  },
  {
   "cell_type": "code",
   "execution_count": 13,
   "metadata": {
    "collapsed": true
   },
   "outputs": [
    {
     "data": {
      "text/plain": [
       "SALVADOR                1056\n",
       "CAMAÇARI                 413\n",
       "FEIRA DE SANTANA         413\n",
       "ILHÉUS                   394\n",
       "VITÓRIA DA CONQUISTA     386\n",
       "                        ... \n",
       "ABAÍRA                    24\n",
       "PRESIDENTE DUTRA          24\n",
       "CAEM                      24\n",
       "CORIBE                    24\n",
       "PINTADAS                  22\n",
       "Name: NM_UE, Length: 417, dtype: int64"
      ]
     },
     "execution_count": 13,
     "metadata": {},
     "output_type": "execute_result"
    }
   ],
   "source": [
    "consulta_Vereador_2016['NM_UE'].value_counts()"
   ]
  },
  {
   "cell_type": "code",
   "execution_count": 16,
   "metadata": {},
   "outputs": [
    {
     "data": {
      "text/plain": [
       "MASCULINO    67.778958\n",
       "FEMININO     33.324482\n",
       "Name: DS_GENERO, dtype: float64"
      ]
     },
     "execution_count": 16,
     "metadata": {},
     "output_type": "execute_result"
    }
   ],
   "source": [
    "#Distribuição de Gênero\n",
    "consulta_Vereador_2016['DS_GENERO'].value_counts()*100/33894"
   ]
  },
  {
   "cell_type": "code",
   "execution_count": 17,
   "metadata": {},
   "outputs": [
    {
     "data": {
      "text/plain": [
       "MASCULINO    22973\n",
       "FEMININO     11295\n",
       "Name: DS_GENERO, dtype: int64"
      ]
     },
     "execution_count": 17,
     "metadata": {},
     "output_type": "execute_result"
    }
   ],
   "source": [
    "consulta_Vereador_2016['DS_GENERO'].value_counts()"
   ]
  },
  {
   "cell_type": "code",
   "execution_count": 19,
   "metadata": {
    "collapsed": true
   },
   "outputs": [
    {
     "data": {
      "text/plain": [
       "NEGRA       80.657343\n",
       "BRANCA      19.808816\n",
       "AMARELA      0.392400\n",
       "INDÍGENA     0.244881\n",
       "Name: DS_COR_RACA, dtype: float64"
      ]
     },
     "execution_count": 19,
     "metadata": {},
     "output_type": "execute_result"
    }
   ],
   "source": [
    "consulta_Vereador_2016['DS_COR_RACA'].value_counts()*100/33894"
   ]
  },
  {
   "cell_type": "code",
   "execution_count": 14,
   "metadata": {
    "collapsed": true
   },
   "outputs": [
    {
     "data": {
      "text/plain": [
       "count    34268.000000\n",
       "mean        43.808684\n",
       "std         11.270744\n",
       "min         18.000000\n",
       "25%         36.000000\n",
       "50%         43.000000\n",
       "75%         51.000000\n",
       "max         91.000000\n",
       "Name: NR_IDADE_DATA_POSSE, dtype: float64"
      ]
     },
     "execution_count": 14,
     "metadata": {},
     "output_type": "execute_result"
    }
   ],
   "source": [
    "consulta_Vereador_2016['NR_IDADE_DATA_POSSE'].describe()"
   ]
  },
  {
   "cell_type": "code",
   "execution_count": 20,
   "metadata": {
    "collapsed": true
   },
   "outputs": [
    {
     "data": {
      "text/plain": [
       "ENSINO MÉDIO COMPLETO            44.692276\n",
       "SUPERIOR COMPLETO                15.967428\n",
       "ENSINO FUNDAMENTAL INCOMPLETO    15.073464\n",
       "ENSINO FUNDAMENTAL COMPLETO      11.453355\n",
       "ENSINO MÉDIO INCOMPLETO           6.313802\n",
       "SUPERIOR INCOMPLETO               4.298696\n",
       "LÊ E ESCREVE                      3.304420\n",
       "Name: DS_GRAU_INSTRUCAO, dtype: float64"
      ]
     },
     "execution_count": 20,
     "metadata": {},
     "output_type": "execute_result"
    }
   ],
   "source": [
    "consulta_Vereador_2016['DS_GRAU_INSTRUCAO'].value_counts()*100/33894"
   ]
  },
  {
   "cell_type": "markdown",
   "metadata": {},
   "source": [
    "### Relação de Raca e Gênero com os partidos e unidade eleitorais: Como é a representatividade na Bahia?"
   ]
  },
  {
   "cell_type": "markdown",
   "metadata": {},
   "source": [
    "O Partido com maior número de candidatas de ambos os sexos é o PARTIDO SOCIAL DEMOCRÁTICO e assim como o partido com menor candidatura, PARTIDO DA CAUSA OPERÁRIA.\n",
    "\n",
    "Salvador é a unidade eleitoral com maior número de candidatos de ambos os sexo ao cargo de vereador, já PINTADAS é a unidade eleitoral com apenas 7  mulheres candidatas. ABAÍRA e PINTADAS são as unidades eleitoralis com o menor número de homens. Salvador tem a maioria dos candidatos de ambos os sexos declarados brancos e negros.\n",
    "\n",
    "Quanto a candidatas, 77% são negras e em média tem 43 anos  . Já homens são a maioria negra, 81%, com  média de idade de 44 anos. Em ambos os sexos tem mais de 40% dos candidatos com ensino médio completo e em torno de 3% que apenas lê  escreve.\n"
   ]
  },
  {
   "cell_type": "markdown",
   "metadata": {},
   "source": [
    "*feminino*"
   ]
  },
  {
   "cell_type": "code",
   "execution_count": 21,
   "metadata": {},
   "outputs": [],
   "source": [
    "# Criando um novo Dataframe só com mulheres\n",
    "fem = pd.DataFrame(consulta_Vereador_2016.loc[consulta_Vereador_2016['DS_GENERO'] == 'FEMININO'])"
   ]
  },
  {
   "cell_type": "code",
   "execution_count": 22,
   "metadata": {
    "collapsed": true
   },
   "outputs": [
    {
     "data": {
      "text/plain": [
       "PARTIDO SOCIAL DEMOCRÁTICO                        856\n",
       "PARTIDO DO MOVIMENTO DEMOCRÁTICO BRASILEIRO       730\n",
       "PARTIDO DOS TRABALHADORES                         715\n",
       "PARTIDO PROGRESSISTA                              687\n",
       "DEMOCRATAS                                        662\n",
       "PARTIDO COMUNISTA DO BRASIL                       538\n",
       "PARTIDO SOCIALISTA BRASILEIRO                     531\n",
       "PARTIDO DA SOCIAL DEMOCRACIA BRASILEIRA           530\n",
       "PARTIDO REPUBLICANO BRASILEIRO                    493\n",
       "PARTIDO DEMOCRÁTICO TRABALHISTA                   467\n",
       "PARTIDO SOCIAL LIBERAL                            438\n",
       "PARTIDO SOCIAL CRISTÃO                            436\n",
       "PARTIDO DA REPÚBLICA                              424\n",
       "PARTIDO TRABALHISTA NACIONAL                      389\n",
       "PARTIDO TRABALHISTA CRISTÃO                       344\n",
       "PARTIDO TRABALHISTA BRASILEIRO                    319\n",
       "SOLIDARIEDADE                                     302\n",
       "PARTIDO VERDE                                     279\n",
       "PARTIDO POPULAR SOCIALISTA                        270\n",
       "PARTIDO HUMANISTA DA SOLIDARIEDADE                256\n",
       "PARTIDO ECOLÓGICO NACIONAL                        233\n",
       "PARTIDO REPUBLICANO DA ORDEM SOCIAL               227\n",
       "PARTIDO DA MULHER BRASILEIRA                      172\n",
       "PARTIDO TRABALHISTA DO BRASIL                     169\n",
       "PARTIDO SOCIALISMO E LIBERDADE                    162\n",
       "PARTIDO REPUBLICANO PROGRESSISTA                  161\n",
       "PARTIDO RENOVADOR TRABALHISTA BRASILEIRO          135\n",
       "PARTIDO SOCIAL DEMOCRATA CRISTÃO                  125\n",
       "PARTIDO PÁTRIA LIVRE                              123\n",
       "REDE SUSTENTABILIDADE                              65\n",
       "PARTIDO DA MOBILIZAÇÃO NACIONAL                    54\n",
       "PARTIDO SOCIALISTA DOS TRABALHADORES UNIFICADO      2\n",
       "PARTIDO DA CAUSA OPERÁRIA                           1\n",
       "Name: NM_PARTIDO, dtype: int64"
      ]
     },
     "execution_count": 22,
     "metadata": {},
     "output_type": "execute_result"
    }
   ],
   "source": [
    "# Distribuição dos Partidos\n",
    "fem['NM_PARTIDO'].value_counts()"
   ]
  },
  {
   "cell_type": "code",
   "execution_count": 23,
   "metadata": {
    "collapsed": true
   },
   "outputs": [
    {
     "data": {
      "text/plain": [
       "<AxesSubplot:title={'center':'DISTRIBUIÇÃO DE PARTIDOS POR GÊNERO - FEMININO'}>"
      ]
     },
     "execution_count": 23,
     "metadata": {},
     "output_type": "execute_result"
    },
    {
     "data": {
      "image/png": "[encoded data removed]",
      "text/plain": [
       "<Figure size 1080x720 with 1 Axes>"
      ]
     },
     "metadata": {
      "needs_background": "light"
     },
     "output_type": "display_data"
    }
   ],
   "source": [
    "fem['NM_PARTIDO'].value_counts().plot(kind='barh', title= 'DISTRIBUIÇÃO DE PARTIDOS POR GÊNERO - FEMININO', figsize=(15,10))"
   ]
  },
  {
   "cell_type": "code",
   "execution_count": 25,
   "metadata": {
    "collapsed": true
   },
   "outputs": [
    {
     "data": {
      "text/plain": [
       "SALVADOR                327\n",
       "FEIRA DE SANTANA        133\n",
       "CAMAÇARI                130\n",
       "ITABUNA                 125\n",
       "VITÓRIA DA CONQUISTA    123\n",
       "                       ... \n",
       "DOM MACEDO COSTA          9\n",
       "CAEM                      8\n",
       "CORIBE                    8\n",
       "PRESIDENTE DUTRA          8\n",
       "PINTADAS                  7\n",
       "Name: NM_UE, Length: 417, dtype: int64"
      ]
     },
     "execution_count": 25,
     "metadata": {},
     "output_type": "execute_result"
    }
   ],
   "source": [
    "# Distribuição por unidade eleitoral\n",
    "fem['NM_UE'].value_counts()"
   ]
  },
  {
   "cell_type": "code",
   "execution_count": 26,
   "metadata": {
    "collapsed": true
   },
   "outputs": [
    {
     "data": {
      "text/plain": [
       "NEGRA       76.688800\n",
       "BRANCA      22.638336\n",
       "AMARELA      0.478088\n",
       "INDÍGENA     0.194776\n",
       "Name: DS_COR_RACA, dtype: float64"
      ]
     },
     "execution_count": 26,
     "metadata": {},
     "output_type": "execute_result"
    }
   ],
   "source": [
    "# Distribuição racial\n",
    "fem['DS_COR_RACA'].value_counts()*100/11295"
   ]
  },
  {
   "cell_type": "code",
   "execution_count": 28,
   "metadata": {
    "collapsed": true
   },
   "outputs": [
    {
     "data": {
      "text/plain": [
       "count    11295.000000\n",
       "mean        42.782027\n",
       "std         11.923786\n",
       "min         18.000000\n",
       "25%         34.000000\n",
       "50%         42.000000\n",
       "75%         51.000000\n",
       "max         89.000000\n",
       "Name: NR_IDADE_DATA_POSSE, dtype: float64"
      ]
     },
     "execution_count": 28,
     "metadata": {},
     "output_type": "execute_result"
    }
   ],
   "source": [
    "fem['NR_IDADE_DATA_POSSE'].describe()"
   ]
  },
  {
   "cell_type": "code",
   "execution_count": 27,
   "metadata": {
    "collapsed": true
   },
   "outputs": [
    {
     "data": {
      "text/plain": [
       "ENSINO MÉDIO COMPLETO            46.967685\n",
       "SUPERIOR COMPLETO                21.106684\n",
       "ENSINO FUNDAMENTAL INCOMPLETO     9.845064\n",
       "ENSINO FUNDAMENTAL COMPLETO       8.154050\n",
       "ENSINO MÉDIO INCOMPLETO           5.754759\n",
       "SUPERIOR INCOMPLETO               5.241257\n",
       "LÊ E ESCREVE                      2.930500\n",
       "Name: DS_GRAU_INSTRUCAO, dtype: float64"
      ]
     },
     "execution_count": 27,
     "metadata": {},
     "output_type": "execute_result"
    }
   ],
   "source": [
    "fem['DS_GRAU_INSTRUCAO'].value_counts()*100/11295"
   ]
  },
  {
   "cell_type": "code",
   "execution_count": 29,
   "metadata": {
    "collapsed": true
   },
   "outputs": [
    {
     "data": {
      "text/html": [
       "<div>\n",
       "<style scoped>\n",
       "    .dataframe tbody tr th:only-of-type {\n",
       "        vertical-align: middle;\n",
       "    }\n",
       "\n",
       "    .dataframe tbody tr th {\n",
       "        vertical-align: top;\n",
       "    }\n",
       "\n",
       "    .dataframe thead tr th {\n",
       "        text-align: left;\n",
       "    }\n",
       "\n",
       "    .dataframe thead tr:last-of-type th {\n",
       "        text-align: right;\n",
       "    }\n",
       "</style>\n",
       "<table border=\"1\" class=\"dataframe\">\n",
       "  <thead>\n",
       "    <tr>\n",
       "      <th></th>\n",
       "      <th colspan=\"4\" halign=\"left\">DS_GRAU_INSTRUCAO</th>\n",
       "    </tr>\n",
       "    <tr>\n",
       "      <th></th>\n",
       "      <th>count</th>\n",
       "      <th>unique</th>\n",
       "      <th>top</th>\n",
       "      <th>freq</th>\n",
       "    </tr>\n",
       "    <tr>\n",
       "      <th>DS_COR_RACA</th>\n",
       "      <th></th>\n",
       "      <th></th>\n",
       "      <th></th>\n",
       "      <th></th>\n",
       "    </tr>\n",
       "  </thead>\n",
       "  <tbody>\n",
       "    <tr>\n",
       "      <th>AMARELA</th>\n",
       "      <td>54</td>\n",
       "      <td>7</td>\n",
       "      <td>ENSINO MÉDIO COMPLETO</td>\n",
       "      <td>25</td>\n",
       "    </tr>\n",
       "    <tr>\n",
       "      <th>BRANCA</th>\n",
       "      <td>2557</td>\n",
       "      <td>7</td>\n",
       "      <td>ENSINO MÉDIO COMPLETO</td>\n",
       "      <td>1195</td>\n",
       "    </tr>\n",
       "    <tr>\n",
       "      <th>INDÍGENA</th>\n",
       "      <td>22</td>\n",
       "      <td>6</td>\n",
       "      <td>ENSINO MÉDIO COMPLETO</td>\n",
       "      <td>7</td>\n",
       "    </tr>\n",
       "    <tr>\n",
       "      <th>NEGRA</th>\n",
       "      <td>8662</td>\n",
       "      <td>7</td>\n",
       "      <td>ENSINO MÉDIO COMPLETO</td>\n",
       "      <td>4078</td>\n",
       "    </tr>\n",
       "  </tbody>\n",
       "</table>\n",
       "</div>"
      ],
      "text/plain": [
       "            DS_GRAU_INSTRUCAO                                    \n",
       "                        count unique                    top  freq\n",
       "DS_COR_RACA                                                      \n",
       "AMARELA                    54      7  ENSINO MÉDIO COMPLETO    25\n",
       "BRANCA                   2557      7  ENSINO MÉDIO COMPLETO  1195\n",
       "INDÍGENA                   22      6  ENSINO MÉDIO COMPLETO     7\n",
       "NEGRA                    8662      7  ENSINO MÉDIO COMPLETO  4078"
      ]
     },
     "execution_count": 29,
     "metadata": {},
     "output_type": "execute_result"
    }
   ],
   "source": [
    "fem.filter(items=['DS_GRAU_INSTRUCAO']).groupby(fem['DS_COR_RACA']).describe()"
   ]
  },
  {
   "cell_type": "code",
   "execution_count": 30,
   "metadata": {
    "collapsed": true
   },
   "outputs": [
    {
     "data": {
      "text/html": [
       "<div>\n",
       "<style scoped>\n",
       "    .dataframe tbody tr th:only-of-type {\n",
       "        vertical-align: middle;\n",
       "    }\n",
       "\n",
       "    .dataframe tbody tr th {\n",
       "        vertical-align: top;\n",
       "    }\n",
       "\n",
       "    .dataframe thead tr th {\n",
       "        text-align: left;\n",
       "    }\n",
       "\n",
       "    .dataframe thead tr:last-of-type th {\n",
       "        text-align: right;\n",
       "    }\n",
       "</style>\n",
       "<table border=\"1\" class=\"dataframe\">\n",
       "  <thead>\n",
       "    <tr>\n",
       "      <th></th>\n",
       "      <th colspan=\"4\" halign=\"left\">NM_UE</th>\n",
       "    </tr>\n",
       "    <tr>\n",
       "      <th></th>\n",
       "      <th>count</th>\n",
       "      <th>unique</th>\n",
       "      <th>top</th>\n",
       "      <th>freq</th>\n",
       "    </tr>\n",
       "    <tr>\n",
       "      <th>DS_COR_RACA</th>\n",
       "      <th></th>\n",
       "      <th></th>\n",
       "      <th></th>\n",
       "      <th></th>\n",
       "    </tr>\n",
       "  </thead>\n",
       "  <tbody>\n",
       "    <tr>\n",
       "      <th>AMARELA</th>\n",
       "      <td>54</td>\n",
       "      <td>29</td>\n",
       "      <td>TUCANO</td>\n",
       "      <td>13</td>\n",
       "    </tr>\n",
       "    <tr>\n",
       "      <th>BRANCA</th>\n",
       "      <td>2557</td>\n",
       "      <td>393</td>\n",
       "      <td>SALVADOR</td>\n",
       "      <td>50</td>\n",
       "    </tr>\n",
       "    <tr>\n",
       "      <th>INDÍGENA</th>\n",
       "      <td>22</td>\n",
       "      <td>15</td>\n",
       "      <td>SANTA CRUZ CABRÁLIA</td>\n",
       "      <td>4</td>\n",
       "    </tr>\n",
       "    <tr>\n",
       "      <th>NEGRA</th>\n",
       "      <td>8662</td>\n",
       "      <td>416</td>\n",
       "      <td>SALVADOR</td>\n",
       "      <td>276</td>\n",
       "    </tr>\n",
       "  </tbody>\n",
       "</table>\n",
       "</div>"
      ],
      "text/plain": [
       "            NM_UE                                 \n",
       "            count unique                  top freq\n",
       "DS_COR_RACA                                       \n",
       "AMARELA        54     29               TUCANO   13\n",
       "BRANCA       2557    393             SALVADOR   50\n",
       "INDÍGENA       22     15  SANTA CRUZ CABRÁLIA    4\n",
       "NEGRA        8662    416             SALVADOR  276"
      ]
     },
     "execution_count": 30,
     "metadata": {},
     "output_type": "execute_result"
    }
   ],
   "source": [
    "fem.filter(items=['NM_UE']).groupby(fem['DS_COR_RACA']).describe()"
   ]
  },
  {
   "cell_type": "markdown",
   "metadata": {},
   "source": [
    "*Masculino*"
   ]
  },
  {
   "cell_type": "code",
   "execution_count": 31,
   "metadata": {},
   "outputs": [],
   "source": [
    "#Criando DataFrame\n",
    "masc = pd.DataFrame(consulta_Vereador_2016.loc[consulta_Vereador_2016['DS_GENERO'] == 'MASCULINO'])"
   ]
  },
  {
   "cell_type": "code",
   "execution_count": 32,
   "metadata": {
    "collapsed": true
   },
   "outputs": [
    {
     "data": {
      "text/plain": [
       "PARTIDO SOCIAL DEMOCRÁTICO                        1921\n",
       "PARTIDO PROGRESSISTA                              1523\n",
       "PARTIDO DO MOVIMENTO DEMOCRÁTICO BRASILEIRO       1406\n",
       "PARTIDO DOS TRABALHADORES                         1283\n",
       "DEMOCRATAS                                        1233\n",
       "PARTIDO SOCIALISTA BRASILEIRO                     1096\n",
       "PARTIDO DA SOCIAL DEMOCRACIA BRASILEIRA           1061\n",
       "PARTIDO COMUNISTA DO BRASIL                       1052\n",
       "PARTIDO DEMOCRÁTICO TRABALHISTA                   1049\n",
       "PARTIDO SOCIAL CRISTÃO                             955\n",
       "PARTIDO REPUBLICANO BRASILEIRO                     955\n",
       "PARTIDO SOCIAL LIBERAL                             911\n",
       "PARTIDO DA REPÚBLICA                               832\n",
       "PARTIDO TRABALHISTA NACIONAL                       777\n",
       "PARTIDO TRABALHISTA CRISTÃO                        647\n",
       "PARTIDO POPULAR SOCIALISTA                         647\n",
       "PARTIDO TRABALHISTA BRASILEIRO                     629\n",
       "SOLIDARIEDADE                                      628\n",
       "PARTIDO VERDE                                      576\n",
       "PARTIDO HUMANISTA DA SOLIDARIEDADE                 561\n",
       "PARTIDO ECOLÓGICO NACIONAL                         464\n",
       "PARTIDO REPUBLICANO DA ORDEM SOCIAL                458\n",
       "PARTIDO REPUBLICANO PROGRESSISTA                   367\n",
       "PARTIDO TRABALHISTA DO BRASIL                      333\n",
       "PARTIDO SOCIAL DEMOCRATA CRISTÃO                   302\n",
       "PARTIDO SOCIALISMO E LIBERDADE                     288\n",
       "PARTIDO RENOVADOR TRABALHISTA BRASILEIRO           278\n",
       "PARTIDO PÁTRIA LIVRE                               255\n",
       "PARTIDO DA MULHER BRASILEIRA                       225\n",
       "REDE SUSTENTABILIDADE                              142\n",
       "PARTIDO DA MOBILIZAÇÃO NACIONAL                    113\n",
       "PARTIDO SOCIALISTA DOS TRABALHADORES UNIFICADO       4\n",
       "PARTIDO DA CAUSA OPERÁRIA                            2\n",
       "Name: NM_PARTIDO, dtype: int64"
      ]
     },
     "execution_count": 32,
     "metadata": {},
     "output_type": "execute_result"
    }
   ],
   "source": [
    "# Distribuição dos Partidos\n",
    "masc['NM_PARTIDO'].value_counts()"
   ]
  },
  {
   "cell_type": "code",
   "execution_count": 33,
   "metadata": {
    "collapsed": true
   },
   "outputs": [
    {
     "data": {
      "text/plain": [
       "SALVADOR                729\n",
       "CAMAÇARI                283\n",
       "FEIRA DE SANTANA        280\n",
       "ILHÉUS                  272\n",
       "VITÓRIA DA CONQUISTA    263\n",
       "                       ... \n",
       "PRESIDENTE DUTRA         16\n",
       "CORIBE                   16\n",
       "CATOLÂNDIA               16\n",
       "ABAÍRA                   15\n",
       "PINTADAS                 15\n",
       "Name: NM_UE, Length: 417, dtype: int64"
      ]
     },
     "execution_count": 33,
     "metadata": {},
     "output_type": "execute_result"
    }
   ],
   "source": [
    "# Distribuição por unidade eleitoral\n",
    "masc['NM_UE'].value_counts()"
   ]
  },
  {
   "cell_type": "code",
   "execution_count": 34,
   "metadata": {
    "collapsed": true
   },
   "outputs": [
    {
     "data": {
      "text/plain": [
       "NEGRA       81.295434\n",
       "BRANCA      18.095155\n",
       "AMARELA      0.343882\n",
       "INDÍGENA     0.265529\n",
       "Name: DS_COR_RACA, dtype: float64"
      ]
     },
     "execution_count": 34,
     "metadata": {},
     "output_type": "execute_result"
    }
   ],
   "source": [
    "masc['DS_COR_RACA'].value_counts()*100/22973"
   ]
  },
  {
   "cell_type": "code",
   "execution_count": 38,
   "metadata": {
    "collapsed": true
   },
   "outputs": [
    {
     "data": {
      "text/plain": [
       "count    22973.000000\n",
       "mean        44.313455\n",
       "std         10.900241\n",
       "min         18.000000\n",
       "25%         36.000000\n",
       "50%         44.000000\n",
       "75%         52.000000\n",
       "max         91.000000\n",
       "Name: NR_IDADE_DATA_POSSE, dtype: float64"
      ]
     },
     "execution_count": 38,
     "metadata": {},
     "output_type": "execute_result"
    }
   ],
   "source": [
    "masc['NR_IDADE_DATA_POSSE'].describe()"
   ]
  },
  {
   "cell_type": "code",
   "execution_count": 35,
   "metadata": {
    "collapsed": true
   },
   "outputs": [
    {
     "data": {
      "text/plain": [
       "ENSINO MÉDIO COMPLETO            42.845950\n",
       "ENSINO FUNDAMENTAL INCOMPLETO    17.398685\n",
       "SUPERIOR COMPLETO                13.180690\n",
       "ENSINO FUNDAMENTAL COMPLETO      12.889044\n",
       "ENSINO MÉDIO INCOMPLETO           6.485875\n",
       "SUPERIOR INCOMPLETO               3.765290\n",
       "LÊ E ESCREVE                      3.434467\n",
       "Name: DS_GRAU_INSTRUCAO, dtype: float64"
      ]
     },
     "execution_count": 35,
     "metadata": {},
     "output_type": "execute_result"
    }
   ],
   "source": [
    "masc['DS_GRAU_INSTRUCAO'].value_counts()*100/22973"
   ]
  },
  {
   "cell_type": "code",
   "execution_count": 36,
   "metadata": {
    "collapsed": true
   },
   "outputs": [
    {
     "data": {
      "text/html": [
       "<div>\n",
       "<style scoped>\n",
       "    .dataframe tbody tr th:only-of-type {\n",
       "        vertical-align: middle;\n",
       "    }\n",
       "\n",
       "    .dataframe tbody tr th {\n",
       "        vertical-align: top;\n",
       "    }\n",
       "\n",
       "    .dataframe thead tr th {\n",
       "        text-align: left;\n",
       "    }\n",
       "\n",
       "    .dataframe thead tr:last-of-type th {\n",
       "        text-align: right;\n",
       "    }\n",
       "</style>\n",
       "<table border=\"1\" class=\"dataframe\">\n",
       "  <thead>\n",
       "    <tr>\n",
       "      <th></th>\n",
       "      <th colspan=\"4\" halign=\"left\">DS_GRAU_INSTRUCAO</th>\n",
       "    </tr>\n",
       "    <tr>\n",
       "      <th></th>\n",
       "      <th>count</th>\n",
       "      <th>unique</th>\n",
       "      <th>top</th>\n",
       "      <th>freq</th>\n",
       "    </tr>\n",
       "    <tr>\n",
       "      <th>DS_COR_RACA</th>\n",
       "      <th></th>\n",
       "      <th></th>\n",
       "      <th></th>\n",
       "      <th></th>\n",
       "    </tr>\n",
       "  </thead>\n",
       "  <tbody>\n",
       "    <tr>\n",
       "      <th>AMARELA</th>\n",
       "      <td>79</td>\n",
       "      <td>7</td>\n",
       "      <td>ENSINO MÉDIO COMPLETO</td>\n",
       "      <td>39</td>\n",
       "    </tr>\n",
       "    <tr>\n",
       "      <th>BRANCA</th>\n",
       "      <td>4157</td>\n",
       "      <td>7</td>\n",
       "      <td>ENSINO MÉDIO COMPLETO</td>\n",
       "      <td>1751</td>\n",
       "    </tr>\n",
       "    <tr>\n",
       "      <th>INDÍGENA</th>\n",
       "      <td>61</td>\n",
       "      <td>7</td>\n",
       "      <td>ENSINO MÉDIO COMPLETO</td>\n",
       "      <td>18</td>\n",
       "    </tr>\n",
       "    <tr>\n",
       "      <th>NEGRA</th>\n",
       "      <td>18676</td>\n",
       "      <td>7</td>\n",
       "      <td>ENSINO MÉDIO COMPLETO</td>\n",
       "      <td>8035</td>\n",
       "    </tr>\n",
       "  </tbody>\n",
       "</table>\n",
       "</div>"
      ],
      "text/plain": [
       "            DS_GRAU_INSTRUCAO                                    \n",
       "                        count unique                    top  freq\n",
       "DS_COR_RACA                                                      \n",
       "AMARELA                    79      7  ENSINO MÉDIO COMPLETO    39\n",
       "BRANCA                   4157      7  ENSINO MÉDIO COMPLETO  1751\n",
       "INDÍGENA                   61      7  ENSINO MÉDIO COMPLETO    18\n",
       "NEGRA                   18676      7  ENSINO MÉDIO COMPLETO  8035"
      ]
     },
     "execution_count": 36,
     "metadata": {},
     "output_type": "execute_result"
    }
   ],
   "source": [
    "masc.filter(items=['DS_GRAU_INSTRUCAO']).groupby(masc['DS_COR_RACA']).describe()"
   ]
  },
  {
   "cell_type": "code",
   "execution_count": 37,
   "metadata": {
    "collapsed": true
   },
   "outputs": [
    {
     "data": {
      "text/html": [
       "<div>\n",
       "<style scoped>\n",
       "    .dataframe tbody tr th:only-of-type {\n",
       "        vertical-align: middle;\n",
       "    }\n",
       "\n",
       "    .dataframe tbody tr th {\n",
       "        vertical-align: top;\n",
       "    }\n",
       "\n",
       "    .dataframe thead tr th {\n",
       "        text-align: left;\n",
       "    }\n",
       "\n",
       "    .dataframe thead tr:last-of-type th {\n",
       "        text-align: right;\n",
       "    }\n",
       "</style>\n",
       "<table border=\"1\" class=\"dataframe\">\n",
       "  <thead>\n",
       "    <tr>\n",
       "      <th></th>\n",
       "      <th colspan=\"4\" halign=\"left\">NM_UE</th>\n",
       "    </tr>\n",
       "    <tr>\n",
       "      <th></th>\n",
       "      <th>count</th>\n",
       "      <th>unique</th>\n",
       "      <th>top</th>\n",
       "      <th>freq</th>\n",
       "    </tr>\n",
       "    <tr>\n",
       "      <th>DS_COR_RACA</th>\n",
       "      <th></th>\n",
       "      <th></th>\n",
       "      <th></th>\n",
       "      <th></th>\n",
       "    </tr>\n",
       "  </thead>\n",
       "  <tbody>\n",
       "    <tr>\n",
       "      <th>AMARELA</th>\n",
       "      <td>79</td>\n",
       "      <td>34</td>\n",
       "      <td>TUCANO</td>\n",
       "      <td>13</td>\n",
       "    </tr>\n",
       "    <tr>\n",
       "      <th>BRANCA</th>\n",
       "      <td>4157</td>\n",
       "      <td>396</td>\n",
       "      <td>SALVADOR</td>\n",
       "      <td>116</td>\n",
       "    </tr>\n",
       "    <tr>\n",
       "      <th>INDÍGENA</th>\n",
       "      <td>61</td>\n",
       "      <td>32</td>\n",
       "      <td>SANTA CRUZ CABRÁLIA</td>\n",
       "      <td>7</td>\n",
       "    </tr>\n",
       "    <tr>\n",
       "      <th>NEGRA</th>\n",
       "      <td>18676</td>\n",
       "      <td>417</td>\n",
       "      <td>SALVADOR</td>\n",
       "      <td>607</td>\n",
       "    </tr>\n",
       "  </tbody>\n",
       "</table>\n",
       "</div>"
      ],
      "text/plain": [
       "             NM_UE                                 \n",
       "             count unique                  top freq\n",
       "DS_COR_RACA                                        \n",
       "AMARELA         79     34               TUCANO   13\n",
       "BRANCA        4157    396             SALVADOR  116\n",
       "INDÍGENA        61     32  SANTA CRUZ CABRÁLIA    7\n",
       "NEGRA        18676    417             SALVADOR  607"
      ]
     },
     "execution_count": 37,
     "metadata": {},
     "output_type": "execute_result"
    }
   ],
   "source": [
    "masc.filter(items=['NM_UE']).groupby(masc['DS_COR_RACA']).describe()"
   ]
  },
  {
   "cell_type": "markdown",
   "metadata": {},
   "source": [
    " #### RAÇA\n"
   ]
  },
  {
   "cell_type": "code",
   "execution_count": 39,
   "metadata": {
    "collapsed": true
   },
   "outputs": [
    {
     "data": {
      "text/plain": [
       "NEGRA       80.657343\n",
       "BRANCA      19.808816\n",
       "AMARELA      0.392400\n",
       "INDÍGENA     0.244881\n",
       "Name: DS_COR_RACA, dtype: float64"
      ]
     },
     "execution_count": 39,
     "metadata": {},
     "output_type": "execute_result"
    }
   ],
   "source": [
    "# distribuição racial\n",
    "consulta_Vereador_2016['DS_COR_RACA'].value_counts()*100/33894"
   ]
  },
  {
   "cell_type": "code",
   "execution_count": 40,
   "metadata": {},
   "outputs": [],
   "source": [
    "# Criando novas colunas boleanas para raça\n",
    "consulta_Vereador_2016['NEGRA'] = consulta_Vereador_2016['DS_COR_RACA'].str.contains('NEGRA')\n",
    "consulta_Vereador_2016['BRANCA'] = consulta_Vereador_2016['DS_COR_RACA'].str.contains('BRANCA')\n",
    "consulta_Vereador_2016['AMARELA'] = consulta_Vereador_2016['DS_COR_RACA'].str.contains('AMARELA')\n",
    "consulta_Vereador_2016['INDÍGENA'] = consulta_Vereador_2016['DS_COR_RACA'].str.contains('INDÍGENA')\n"
   ]
  },
  {
   "cell_type": "code",
   "execution_count": 41,
   "metadata": {},
   "outputs": [],
   "source": [
    "# Criando dataframes por raça \n",
    "raca_cor = consulta_Vereador_2016['DS_COR_RACA'].unique().tolist()\n",
    "dfs = {}\n",
    "\n",
    "for raca in raca_cor:\n",
    "    selected_rows = consulta_Vereador_2016[consulta_Vereador_2016[raca] == True]\n",
    "    dfs[f'df_{raca}'] = selected_rows\n",
    "    print"
   ]
  },
  {
   "cell_type": "code",
   "execution_count": 42,
   "metadata": {},
   "outputs": [],
   "source": [
    "df_NEGRA = pd.DataFrame(dfs['df_NEGRA'])\n",
    "df_BRANCA = pd.DataFrame(dfs['df_BRANCA'])\n",
    "df_AMARELA = pd.DataFrame(dfs['df_AMARELA'])\n",
    "df_INDIGENA = pd.DataFrame(dfs['df_INDÍGENA'])"
   ]
  },
  {
   "cell_type": "markdown",
   "metadata": {},
   "source": [
    "*Negros*"
   ]
  },
  {
   "cell_type": "code",
   "execution_count": 43,
   "metadata": {
    "collapsed": true
   },
   "outputs": [
    {
     "data": {
      "text/plain": [
       "count        27338\n",
       "unique         417\n",
       "top       SALVADOR\n",
       "freq           883\n",
       "Name: NM_UE, dtype: object"
      ]
     },
     "execution_count": 43,
     "metadata": {},
     "output_type": "execute_result"
    }
   ],
   "source": [
    "df_NEGRA['NM_UE'].describe()"
   ]
  },
  {
   "cell_type": "code",
   "execution_count": 44,
   "metadata": {
    "collapsed": true
   },
   "outputs": [
    {
     "data": {
      "text/plain": [
       "'ABARÉ'"
      ]
     },
     "execution_count": 44,
     "metadata": {},
     "output_type": "execute_result"
    }
   ],
   "source": [
    "df_NEGRA['NM_UE'].min()"
   ]
  },
  {
   "cell_type": "code",
   "execution_count": 45,
   "metadata": {
    "collapsed": true
   },
   "outputs": [
    {
     "data": {
      "text/plain": [
       "count                          27338\n",
       "unique                            33\n",
       "top       PARTIDO SOCIAL DEMOCRÁTICO\n",
       "freq                            2128\n",
       "Name: NM_PARTIDO, dtype: object"
      ]
     },
     "execution_count": 45,
     "metadata": {},
     "output_type": "execute_result"
    }
   ],
   "source": [
    "df_NEGRA['NM_PARTIDO'].describe()"
   ]
  },
  {
   "cell_type": "code",
   "execution_count": 46,
   "metadata": {
    "collapsed": true
   },
   "outputs": [
    {
     "data": {
      "text/plain": [
       "'DEMOCRATAS'"
      ]
     },
     "execution_count": 46,
     "metadata": {},
     "output_type": "execute_result"
    }
   ],
   "source": [
    "df_NEGRA['NM_PARTIDO'].min()"
   ]
  },
  {
   "cell_type": "markdown",
   "metadata": {},
   "source": [
    "*Branco*"
   ]
  },
  {
   "cell_type": "code",
   "execution_count": 47,
   "metadata": {
    "collapsed": true
   },
   "outputs": [
    {
     "data": {
      "text/plain": [
       "count         6714\n",
       "unique         408\n",
       "top       SALVADOR\n",
       "freq           166\n",
       "Name: NM_UE, dtype: object"
      ]
     },
     "execution_count": 47,
     "metadata": {},
     "output_type": "execute_result"
    }
   ],
   "source": [
    "df_BRANCA['NM_UE'].describe()"
   ]
  },
  {
   "cell_type": "code",
   "execution_count": 48,
   "metadata": {
    "collapsed": true
   },
   "outputs": [
    {
     "data": {
      "text/plain": [
       "'ABARÉ'"
      ]
     },
     "execution_count": 48,
     "metadata": {},
     "output_type": "execute_result"
    }
   ],
   "source": [
    "df_BRANCA['NM_UE'].min()"
   ]
  },
  {
   "cell_type": "code",
   "execution_count": 49,
   "metadata": {
    "collapsed": true
   },
   "outputs": [
    {
     "data": {
      "text/plain": [
       "count                           6714\n",
       "unique                            33\n",
       "top       PARTIDO SOCIAL DEMOCRÁTICO\n",
       "freq                             627\n",
       "Name: NM_PARTIDO, dtype: object"
      ]
     },
     "execution_count": 49,
     "metadata": {},
     "output_type": "execute_result"
    }
   ],
   "source": [
    "df_BRANCA['NM_PARTIDO'].describe()"
   ]
  },
  {
   "cell_type": "code",
   "execution_count": 50,
   "metadata": {
    "collapsed": true
   },
   "outputs": [
    {
     "data": {
      "text/plain": [
       "'DEMOCRATAS'"
      ]
     },
     "execution_count": 50,
     "metadata": {},
     "output_type": "execute_result"
    }
   ],
   "source": [
    "df_BRANCA['NM_PARTIDO'].min()"
   ]
  },
  {
   "cell_type": "markdown",
   "metadata": {},
   "source": [
    "*Amarelos e Indigenas* "
   ]
  },
  {
   "cell_type": "code",
   "execution_count": 51,
   "metadata": {
    "collapsed": true
   },
   "outputs": [
    {
     "data": {
      "text/plain": [
       "count        133\n",
       "unique        49\n",
       "top       TUCANO\n",
       "freq          26\n",
       "Name: NM_UE, dtype: object"
      ]
     },
     "execution_count": 51,
     "metadata": {},
     "output_type": "execute_result"
    }
   ],
   "source": [
    "df_AMARELA['NM_UE'].describe()"
   ]
  },
  {
   "cell_type": "code",
   "execution_count": 52,
   "metadata": {
    "collapsed": true
   },
   "outputs": [
    {
     "data": {
      "text/plain": [
       "count                            133\n",
       "unique                            27\n",
       "top       PARTIDO SOCIAL DEMOCRÁTICO\n",
       "freq                              13\n",
       "Name: NM_PARTIDO, dtype: object"
      ]
     },
     "execution_count": 52,
     "metadata": {},
     "output_type": "execute_result"
    }
   ],
   "source": [
    "df_AMARELA['NM_PARTIDO'].describe()"
   ]
  },
  {
   "cell_type": "code",
   "execution_count": 53,
   "metadata": {
    "collapsed": true
   },
   "outputs": [
    {
     "data": {
      "text/plain": [
       "count                      83\n",
       "unique                     39\n",
       "top       SANTA CRUZ CABRÁLIA\n",
       "freq                       11\n",
       "Name: NM_UE, dtype: object"
      ]
     },
     "execution_count": 53,
     "metadata": {},
     "output_type": "execute_result"
    }
   ],
   "source": [
    "df_INDIGENA['NM_UE'].describe()"
   ]
  },
  {
   "cell_type": "code",
   "execution_count": 54,
   "metadata": {
    "collapsed": true
   },
   "outputs": [
    {
     "data": {
      "text/plain": [
       "count                                  83\n",
       "unique                                 24\n",
       "top       PARTIDO DEMOCRÁTICO TRABALHISTA\n",
       "freq                                    9\n",
       "Name: NM_PARTIDO, dtype: object"
      ]
     },
     "execution_count": 54,
     "metadata": {},
     "output_type": "execute_result"
    }
   ],
   "source": [
    "df_INDIGENA['NM_PARTIDO'].describe()"
   ]
  },
  {
   "cell_type": "markdown",
   "metadata": {},
   "source": [
    " - GRAU DE INSTRUÇÃO"
   ]
  },
  {
   "cell_type": "code",
   "execution_count": 55,
   "metadata": {
    "collapsed": true
   },
   "outputs": [
    {
     "data": {
      "text/html": [
       "<div>\n",
       "<style scoped>\n",
       "    .dataframe tbody tr th:only-of-type {\n",
       "        vertical-align: middle;\n",
       "    }\n",
       "\n",
       "    .dataframe tbody tr th {\n",
       "        vertical-align: top;\n",
       "    }\n",
       "\n",
       "    .dataframe thead tr th {\n",
       "        text-align: left;\n",
       "    }\n",
       "\n",
       "    .dataframe thead tr:last-of-type th {\n",
       "        text-align: right;\n",
       "    }\n",
       "</style>\n",
       "<table border=\"1\" class=\"dataframe\">\n",
       "  <thead>\n",
       "    <tr>\n",
       "      <th></th>\n",
       "      <th colspan=\"4\" halign=\"left\">NM_UE</th>\n",
       "    </tr>\n",
       "    <tr>\n",
       "      <th></th>\n",
       "      <th>count</th>\n",
       "      <th>unique</th>\n",
       "      <th>top</th>\n",
       "      <th>freq</th>\n",
       "    </tr>\n",
       "    <tr>\n",
       "      <th>DS_GRAU_INSTRUCAO</th>\n",
       "      <th></th>\n",
       "      <th></th>\n",
       "      <th></th>\n",
       "      <th></th>\n",
       "    </tr>\n",
       "  </thead>\n",
       "  <tbody>\n",
       "    <tr>\n",
       "      <th>ENSINO FUNDAMENTAL COMPLETO</th>\n",
       "      <td>3882</td>\n",
       "      <td>412</td>\n",
       "      <td>SALVADOR</td>\n",
       "      <td>69</td>\n",
       "    </tr>\n",
       "    <tr>\n",
       "      <th>ENSINO FUNDAMENTAL INCOMPLETO</th>\n",
       "      <td>5109</td>\n",
       "      <td>416</td>\n",
       "      <td>VITÓRIA DA CONQUISTA</td>\n",
       "      <td>46</td>\n",
       "    </tr>\n",
       "    <tr>\n",
       "      <th>ENSINO MÉDIO COMPLETO</th>\n",
       "      <td>15148</td>\n",
       "      <td>417</td>\n",
       "      <td>SALVADOR</td>\n",
       "      <td>396</td>\n",
       "    </tr>\n",
       "    <tr>\n",
       "      <th>ENSINO MÉDIO INCOMPLETO</th>\n",
       "      <td>2140</td>\n",
       "      <td>371</td>\n",
       "      <td>SALVADOR</td>\n",
       "      <td>58</td>\n",
       "    </tr>\n",
       "    <tr>\n",
       "      <th>LÊ E ESCREVE</th>\n",
       "      <td>1120</td>\n",
       "      <td>272</td>\n",
       "      <td>SÍTIO DO MATO</td>\n",
       "      <td>41</td>\n",
       "    </tr>\n",
       "    <tr>\n",
       "      <th>SUPERIOR COMPLETO</th>\n",
       "      <td>5412</td>\n",
       "      <td>417</td>\n",
       "      <td>SALVADOR</td>\n",
       "      <td>383</td>\n",
       "    </tr>\n",
       "    <tr>\n",
       "      <th>SUPERIOR INCOMPLETO</th>\n",
       "      <td>1457</td>\n",
       "      <td>331</td>\n",
       "      <td>SALVADOR</td>\n",
       "      <td>110</td>\n",
       "    </tr>\n",
       "  </tbody>\n",
       "</table>\n",
       "</div>"
      ],
      "text/plain": [
       "                               NM_UE                                  \n",
       "                               count unique                   top freq\n",
       "DS_GRAU_INSTRUCAO                                                     \n",
       "ENSINO FUNDAMENTAL COMPLETO     3882    412              SALVADOR   69\n",
       "ENSINO FUNDAMENTAL INCOMPLETO   5109    416  VITÓRIA DA CONQUISTA   46\n",
       "ENSINO MÉDIO COMPLETO          15148    417              SALVADOR  396\n",
       "ENSINO MÉDIO INCOMPLETO         2140    371              SALVADOR   58\n",
       "LÊ E ESCREVE                    1120    272         SÍTIO DO MATO   41\n",
       "SUPERIOR COMPLETO               5412    417              SALVADOR  383\n",
       "SUPERIOR INCOMPLETO             1457    331              SALVADOR  110"
      ]
     },
     "execution_count": 55,
     "metadata": {},
     "output_type": "execute_result"
    }
   ],
   "source": [
    "consulta_Vereador_2016.filter(items=['NM_UE']).groupby(consulta_Vereador_2016['DS_GRAU_INSTRUCAO']).describe()"
   ]
  },
  {
   "cell_type": "code",
   "execution_count": 56,
   "metadata": {
    "collapsed": true
   },
   "outputs": [
    {
     "data": {
      "text/html": [
       "<div>\n",
       "<style scoped>\n",
       "    .dataframe tbody tr th:only-of-type {\n",
       "        vertical-align: middle;\n",
       "    }\n",
       "\n",
       "    .dataframe tbody tr th {\n",
       "        vertical-align: top;\n",
       "    }\n",
       "\n",
       "    .dataframe thead tr th {\n",
       "        text-align: left;\n",
       "    }\n",
       "\n",
       "    .dataframe thead tr:last-of-type th {\n",
       "        text-align: right;\n",
       "    }\n",
       "</style>\n",
       "<table border=\"1\" class=\"dataframe\">\n",
       "  <thead>\n",
       "    <tr>\n",
       "      <th></th>\n",
       "      <th colspan=\"4\" halign=\"left\">NM_PARTIDO</th>\n",
       "    </tr>\n",
       "    <tr>\n",
       "      <th></th>\n",
       "      <th>count</th>\n",
       "      <th>unique</th>\n",
       "      <th>top</th>\n",
       "      <th>freq</th>\n",
       "    </tr>\n",
       "    <tr>\n",
       "      <th>DS_GRAU_INSTRUCAO</th>\n",
       "      <th></th>\n",
       "      <th></th>\n",
       "      <th></th>\n",
       "      <th></th>\n",
       "    </tr>\n",
       "  </thead>\n",
       "  <tbody>\n",
       "    <tr>\n",
       "      <th>ENSINO FUNDAMENTAL COMPLETO</th>\n",
       "      <td>3882</td>\n",
       "      <td>31</td>\n",
       "      <td>PARTIDO SOCIAL DEMOCRÁTICO</td>\n",
       "      <td>328</td>\n",
       "    </tr>\n",
       "    <tr>\n",
       "      <th>ENSINO FUNDAMENTAL INCOMPLETO</th>\n",
       "      <td>5109</td>\n",
       "      <td>31</td>\n",
       "      <td>PARTIDO SOCIAL DEMOCRÁTICO</td>\n",
       "      <td>450</td>\n",
       "    </tr>\n",
       "    <tr>\n",
       "      <th>ENSINO MÉDIO COMPLETO</th>\n",
       "      <td>15148</td>\n",
       "      <td>33</td>\n",
       "      <td>PARTIDO SOCIAL DEMOCRÁTICO</td>\n",
       "      <td>1227</td>\n",
       "    </tr>\n",
       "    <tr>\n",
       "      <th>ENSINO MÉDIO INCOMPLETO</th>\n",
       "      <td>2140</td>\n",
       "      <td>31</td>\n",
       "      <td>PARTIDO SOCIAL DEMOCRÁTICO</td>\n",
       "      <td>162</td>\n",
       "    </tr>\n",
       "    <tr>\n",
       "      <th>LÊ E ESCREVE</th>\n",
       "      <td>1120</td>\n",
       "      <td>31</td>\n",
       "      <td>PARTIDO SOCIAL DEMOCRÁTICO</td>\n",
       "      <td>95</td>\n",
       "    </tr>\n",
       "    <tr>\n",
       "      <th>SUPERIOR COMPLETO</th>\n",
       "      <td>5412</td>\n",
       "      <td>33</td>\n",
       "      <td>PARTIDO DOS TRABALHADORES</td>\n",
       "      <td>424</td>\n",
       "    </tr>\n",
       "    <tr>\n",
       "      <th>SUPERIOR INCOMPLETO</th>\n",
       "      <td>1457</td>\n",
       "      <td>32</td>\n",
       "      <td>PARTIDO DOS TRABALHADORES</td>\n",
       "      <td>142</td>\n",
       "    </tr>\n",
       "  </tbody>\n",
       "</table>\n",
       "</div>"
      ],
      "text/plain": [
       "                              NM_PARTIDO                                     \\\n",
       "                                   count unique                         top   \n",
       "DS_GRAU_INSTRUCAO                                                             \n",
       "ENSINO FUNDAMENTAL COMPLETO         3882     31  PARTIDO SOCIAL DEMOCRÁTICO   \n",
       "ENSINO FUNDAMENTAL INCOMPLETO       5109     31  PARTIDO SOCIAL DEMOCRÁTICO   \n",
       "ENSINO MÉDIO COMPLETO              15148     33  PARTIDO SOCIAL DEMOCRÁTICO   \n",
       "ENSINO MÉDIO INCOMPLETO             2140     31  PARTIDO SOCIAL DEMOCRÁTICO   \n",
       "LÊ E ESCREVE                        1120     31  PARTIDO SOCIAL DEMOCRÁTICO   \n",
       "SUPERIOR COMPLETO                   5412     33   PARTIDO DOS TRABALHADORES   \n",
       "SUPERIOR INCOMPLETO                 1457     32   PARTIDO DOS TRABALHADORES   \n",
       "\n",
       "                                     \n",
       "                               freq  \n",
       "DS_GRAU_INSTRUCAO                    \n",
       "ENSINO FUNDAMENTAL COMPLETO     328  \n",
       "ENSINO FUNDAMENTAL INCOMPLETO   450  \n",
       "ENSINO MÉDIO COMPLETO          1227  \n",
       "ENSINO MÉDIO INCOMPLETO         162  \n",
       "LÊ E ESCREVE                     95  \n",
       "SUPERIOR COMPLETO               424  \n",
       "SUPERIOR INCOMPLETO             142  "
      ]
     },
     "execution_count": 56,
     "metadata": {},
     "output_type": "execute_result"
    }
   ],
   "source": [
    "consulta_Vereador_2016.filter(items=['NM_PARTIDO']).groupby(consulta_Vereador_2016['DS_GRAU_INSTRUCAO']).describe()"
   ]
  },
  {
   "cell_type": "markdown",
   "metadata": {},
   "source": [
    "### Criando DataFrame\n",
    " \n"
   ]
  },
  {
   "cell_type": "markdown",
   "metadata": {},
   "source": [
    "*Partido*"
   ]
  },
  {
   "cell_type": "code",
   "execution_count": 58,
   "metadata": {},
   "outputs": [],
   "source": [
    "# Variaveis de Gênero \n",
    "fem_partido = fem['NM_PARTIDO'].value_counts()\n",
    "masc_partido = masc['NM_PARTIDO'].value_counts()\n"
   ]
  },
  {
   "cell_type": "code",
   "execution_count": 59,
   "metadata": {},
   "outputs": [],
   "source": [
    "total_gen_partido = fem_partido + masc_partido"
   ]
  },
  {
   "cell_type": "code",
   "execution_count": 60,
   "metadata": {},
   "outputs": [],
   "source": [
    "percent_fem_partido = fem_partido * 100/total_gen_partido\n",
    "percent_masc_partido = masc_partido * 100/total_gen_partido"
   ]
  },
  {
   "cell_type": "code",
   "execution_count": 61,
   "metadata": {},
   "outputs": [],
   "source": [
    "percent_masc_partido = percent_masc_partido.apply(lambda x: round(x, decimais))\n",
    "percent_fem_partido = percent_fem_partido.apply(lambda x: round(x, decimais))"
   ]
  },
  {
   "cell_type": "code",
   "execution_count": 62,
   "metadata": {},
   "outputs": [],
   "source": [
    "# Variaveis de raça\n",
    "negra = df_NEGRA['NM_PARTIDO'].value_counts()\n",
    "branca = df_BRANCA['NM_PARTIDO'].value_counts()\n",
    "amarela = df_AMARELA['NM_PARTIDO'].value_counts()\n",
    "indigena = df_INDIGENA['NM_PARTIDO'].value_counts()"
   ]
  },
  {
   "cell_type": "code",
   "execution_count": 64,
   "metadata": {},
   "outputs": [],
   "source": [
    "total_raca_partido = consulta_Vereador_2016['NM_PARTIDO'].value_counts()"
   ]
  },
  {
   "cell_type": "code",
   "execution_count": 65,
   "metadata": {},
   "outputs": [],
   "source": [
    "percent_negra = negra *100/total_raca_partido\n",
    "percent_branca = branca *100/total_raca_partido\n",
    "percent_amarela = amarela *100/total_raca_partido\n",
    "percent_indigena = indigena *100/total_raca_partido"
   ]
  },
  {
   "cell_type": "code",
   "execution_count": 66,
   "metadata": {},
   "outputs": [],
   "source": [
    "percent_negra = percent_negra.apply(lambda x: round(x, decimais))\n",
    "percent_branca = percent_branca.apply(lambda x: round(x, decimais))\n",
    "percent_amarela = percent_amarela.apply(lambda x: round(x, decimais))\n",
    "percent_indigena = percent_indigena.apply(lambda x: round(x, decimais))"
   ]
  },
  {
   "cell_type": "code",
   "execution_count": 67,
   "metadata": {},
   "outputs": [],
   "source": [
    "# Variaveis de Grau de instrucao\n",
    "\n",
    "ens_Med = consulta_Vereador_2016.loc[(consulta_Vereador_2016['DS_GRAU_INSTRUCAO'] == 'ENSINO MÉDIO COMPLETO') + (consulta_Vereador_2016['DS_GRAU_INSTRUCAO'] == 'ENSINO MÉDIO INCOMPLETO')]\n",
    "ens_Fund = consulta_Vereador_2016.loc[(consulta_Vereador_2016['DS_GRAU_INSTRUCAO'] == 'ENSINO FUNDAMENTAL COMPLETO') + (consulta_Vereador_2016['DS_GRAU_INSTRUCAO'] == 'ENSINO FUNDAMENTAL INCOMPLETO')]\n",
    "ens_Sup = consulta_Vereador_2016.loc[(consulta_Vereador_2016['DS_GRAU_INSTRUCAO'] == 'SUPERIOR COMPLETO') + (consulta_Vereador_2016['DS_GRAU_INSTRUCAO'] == 'SUPERIOR INCOMPLETO')]\n",
    "ens_Le = consulta_Vereador_2016.loc[consulta_Vereador_2016['DS_GRAU_INSTRUCAO'] == 'LÊ E ESCREVE']\n"
   ]
  },
  {
   "cell_type": "code",
   "execution_count": 68,
   "metadata": {},
   "outputs": [],
   "source": [
    "fundamental = ens_Fund['NM_PARTIDO'].value_counts() \n",
    "medio = ens_Med['NM_PARTIDO'].value_counts() \n",
    "superior = ens_Sup['NM_PARTIDO'].value_counts() \n",
    "le_escreve = ens_Le['NM_PARTIDO'].value_counts()"
   ]
  },
  {
   "cell_type": "code",
   "execution_count": 69,
   "metadata": {},
   "outputs": [],
   "source": [
    "total_ens_partido = consulta_Vereador_2016['NM_PARTIDO'].value_counts() "
   ]
  },
  {
   "cell_type": "code",
   "execution_count": 70,
   "metadata": {},
   "outputs": [],
   "source": [
    "percent_ens_Med = medio*100/total_ens_partido\n",
    "percent_ens_Fund = fundamental*100/total_ens_partido\n",
    "percent_ens_Sup = superior*100/total_ens_partido \n",
    "percent_ens_Le = le_escreve*100/total_ens_partido\n"
   ]
  },
  {
   "cell_type": "code",
   "execution_count": 71,
   "metadata": {},
   "outputs": [],
   "source": [
    "percent_ens_Med= percent_ens_Med.apply(lambda x: round(x, decimais))\n",
    "percent_ens_Fund= percent_ens_Fund.apply(lambda x: round(x, decimais))\n",
    "percent_ens_Sup = percent_ens_Sup.apply(lambda x: round(x, decimais))\n",
    "percent_ens_Le = percent_ens_Le.apply(lambda x: round(x, decimais))\n"
   ]
  },
  {
   "cell_type": "code",
   "execution_count": 72,
   "metadata": {},
   "outputs": [],
   "source": [
    "# Criando Data Frame \n",
    "\n",
    "dic1 = {'FEMININO': fem_partido, '%FEMININO': percent_fem_partido , 'MASCULINO':masc_partido,'%MASCULINO': percent_masc_partido ,\n",
    "          'BRANCA': branca , '%BRANCA': percent_branca , 'NEGRA': negra, '%NEGRA': percent_negra, 'AMARELA': amarela, '%AMARELA': percent_amarela, \n",
    "         'INDÍGENA': indigena ,'%INDÍGENA': percent_indigena, 'ENSINO MÉDIO': medio ,'%ENSINO MÉDIO': percent_ens_Med , 'ENSINO FUNDAMENTAL': fundamental, '%ENSINO FUNDAMENTAL': percent_ens_Fund,\n",
    "          'ENSINO SUPERIOR': superior, '%ENSINO SUPERIOR': percent_ens_Sup, 'LÊ E ESCREVE': le_escreve, '%LÊ E ESCREVE':percent_ens_Le\n",
    "       }\n"
   ]
  },
  {
   "cell_type": "code",
   "execution_count": 73,
   "metadata": {},
   "outputs": [],
   "source": [
    "df_partidos = pd.DataFrame(dic1)"
   ]
  },
  {
   "cell_type": "code",
   "execution_count": 74,
   "metadata": {},
   "outputs": [],
   "source": [
    "df_partidos = df_partidos.fillna(0)"
   ]
  },
  {
   "cell_type": "code",
   "execution_count": 76,
   "metadata": {},
   "outputs": [],
   "source": [
    "df_partidos.to_csv('consultaVereador_BA_partidos.csv')"
   ]
  },
  {
   "cell_type": "code",
   "execution_count": 75,
   "metadata": {
    "collapsed": true
   },
   "outputs": [
    {
     "data": {
      "text/html": [
       "<div>\n",
       "<style scoped>\n",
       "    .dataframe tbody tr th:only-of-type {\n",
       "        vertical-align: middle;\n",
       "    }\n",
       "\n",
       "    .dataframe tbody tr th {\n",
       "        vertical-align: top;\n",
       "    }\n",
       "\n",
       "    .dataframe thead th {\n",
       "        text-align: right;\n",
       "    }\n",
       "</style>\n",
       "<table border=\"1\" class=\"dataframe\">\n",
       "  <thead>\n",
       "    <tr style=\"text-align: right;\">\n",
       "      <th></th>\n",
       "      <th>FEMININO</th>\n",
       "      <th>%FEMININO</th>\n",
       "      <th>MASCULINO</th>\n",
       "      <th>%MASCULINO</th>\n",
       "      <th>BRANCA</th>\n",
       "      <th>%BRANCA</th>\n",
       "      <th>NEGRA</th>\n",
       "      <th>%NEGRA</th>\n",
       "      <th>AMARELA</th>\n",
       "      <th>%AMARELA</th>\n",
       "      <th>INDÍGENA</th>\n",
       "      <th>%INDÍGENA</th>\n",
       "      <th>ENSINO MÉDIO</th>\n",
       "      <th>%ENSINO MÉDIO</th>\n",
       "      <th>ENSINO FUNDAMENTAL</th>\n",
       "      <th>%ENSINO FUNDAMENTAL</th>\n",
       "      <th>ENSINO SUPERIOR</th>\n",
       "      <th>%ENSINO SUPERIOR</th>\n",
       "      <th>LÊ E ESCREVE</th>\n",
       "      <th>%LÊ E ESCREVE</th>\n",
       "    </tr>\n",
       "  </thead>\n",
       "  <tbody>\n",
       "    <tr>\n",
       "      <th>DEMOCRATAS</th>\n",
       "      <td>662</td>\n",
       "      <td>34.9</td>\n",
       "      <td>1233</td>\n",
       "      <td>65.1</td>\n",
       "      <td>439</td>\n",
       "      <td>23.2</td>\n",
       "      <td>1449</td>\n",
       "      <td>76.5</td>\n",
       "      <td>4.0</td>\n",
       "      <td>0.2</td>\n",
       "      <td>3.0</td>\n",
       "      <td>0.2</td>\n",
       "      <td>950</td>\n",
       "      <td>50.1</td>\n",
       "      <td>499.0</td>\n",
       "      <td>26.3</td>\n",
       "      <td>359</td>\n",
       "      <td>18.9</td>\n",
       "      <td>87.0</td>\n",
       "      <td>4.6</td>\n",
       "    </tr>\n",
       "    <tr>\n",
       "      <th>PARTIDO COMUNISTA DO BRASIL</th>\n",
       "      <td>538</td>\n",
       "      <td>33.8</td>\n",
       "      <td>1052</td>\n",
       "      <td>66.2</td>\n",
       "      <td>308</td>\n",
       "      <td>19.4</td>\n",
       "      <td>1266</td>\n",
       "      <td>79.6</td>\n",
       "      <td>10.0</td>\n",
       "      <td>0.6</td>\n",
       "      <td>6.0</td>\n",
       "      <td>0.4</td>\n",
       "      <td>754</td>\n",
       "      <td>47.4</td>\n",
       "      <td>410.0</td>\n",
       "      <td>25.8</td>\n",
       "      <td>366</td>\n",
       "      <td>23.0</td>\n",
       "      <td>60.0</td>\n",
       "      <td>3.8</td>\n",
       "    </tr>\n",
       "    <tr>\n",
       "      <th>PARTIDO DA CAUSA OPERÁRIA</th>\n",
       "      <td>1</td>\n",
       "      <td>33.3</td>\n",
       "      <td>2</td>\n",
       "      <td>66.7</td>\n",
       "      <td>1</td>\n",
       "      <td>33.3</td>\n",
       "      <td>2</td>\n",
       "      <td>66.7</td>\n",
       "      <td>0.0</td>\n",
       "      <td>0.0</td>\n",
       "      <td>0.0</td>\n",
       "      <td>0.0</td>\n",
       "      <td>2</td>\n",
       "      <td>66.7</td>\n",
       "      <td>0.0</td>\n",
       "      <td>0.0</td>\n",
       "      <td>1</td>\n",
       "      <td>33.3</td>\n",
       "      <td>0.0</td>\n",
       "      <td>0.0</td>\n",
       "    </tr>\n",
       "    <tr>\n",
       "      <th>PARTIDO DA MOBILIZAÇÃO NACIONAL</th>\n",
       "      <td>54</td>\n",
       "      <td>32.3</td>\n",
       "      <td>113</td>\n",
       "      <td>67.7</td>\n",
       "      <td>24</td>\n",
       "      <td>14.4</td>\n",
       "      <td>140</td>\n",
       "      <td>83.8</td>\n",
       "      <td>2.0</td>\n",
       "      <td>1.2</td>\n",
       "      <td>1.0</td>\n",
       "      <td>0.6</td>\n",
       "      <td>84</td>\n",
       "      <td>50.3</td>\n",
       "      <td>37.0</td>\n",
       "      <td>22.2</td>\n",
       "      <td>41</td>\n",
       "      <td>24.6</td>\n",
       "      <td>5.0</td>\n",
       "      <td>3.0</td>\n",
       "    </tr>\n",
       "    <tr>\n",
       "      <th>PARTIDO DA MULHER BRASILEIRA</th>\n",
       "      <td>172</td>\n",
       "      <td>43.3</td>\n",
       "      <td>225</td>\n",
       "      <td>56.7</td>\n",
       "      <td>52</td>\n",
       "      <td>13.1</td>\n",
       "      <td>344</td>\n",
       "      <td>86.6</td>\n",
       "      <td>1.0</td>\n",
       "      <td>0.3</td>\n",
       "      <td>0.0</td>\n",
       "      <td>0.0</td>\n",
       "      <td>217</td>\n",
       "      <td>54.7</td>\n",
       "      <td>94.0</td>\n",
       "      <td>23.7</td>\n",
       "      <td>77</td>\n",
       "      <td>19.4</td>\n",
       "      <td>9.0</td>\n",
       "      <td>2.3</td>\n",
       "    </tr>\n",
       "    <tr>\n",
       "      <th>PARTIDO DA REPÚBLICA</th>\n",
       "      <td>424</td>\n",
       "      <td>33.8</td>\n",
       "      <td>832</td>\n",
       "      <td>66.2</td>\n",
       "      <td>270</td>\n",
       "      <td>21.5</td>\n",
       "      <td>979</td>\n",
       "      <td>77.9</td>\n",
       "      <td>4.0</td>\n",
       "      <td>0.3</td>\n",
       "      <td>3.0</td>\n",
       "      <td>0.2</td>\n",
       "      <td>626</td>\n",
       "      <td>49.8</td>\n",
       "      <td>391.0</td>\n",
       "      <td>31.1</td>\n",
       "      <td>200</td>\n",
       "      <td>15.9</td>\n",
       "      <td>39.0</td>\n",
       "      <td>3.1</td>\n",
       "    </tr>\n",
       "    <tr>\n",
       "      <th>PARTIDO DA SOCIAL DEMOCRACIA BRASILEIRA</th>\n",
       "      <td>530</td>\n",
       "      <td>33.3</td>\n",
       "      <td>1061</td>\n",
       "      <td>66.7</td>\n",
       "      <td>376</td>\n",
       "      <td>23.6</td>\n",
       "      <td>1204</td>\n",
       "      <td>75.7</td>\n",
       "      <td>5.0</td>\n",
       "      <td>0.3</td>\n",
       "      <td>6.0</td>\n",
       "      <td>0.4</td>\n",
       "      <td>786</td>\n",
       "      <td>49.4</td>\n",
       "      <td>405.0</td>\n",
       "      <td>25.5</td>\n",
       "      <td>350</td>\n",
       "      <td>22.0</td>\n",
       "      <td>50.0</td>\n",
       "      <td>3.1</td>\n",
       "    </tr>\n",
       "    <tr>\n",
       "      <th>PARTIDO DEMOCRÁTICO TRABALHISTA</th>\n",
       "      <td>467</td>\n",
       "      <td>30.8</td>\n",
       "      <td>1049</td>\n",
       "      <td>69.2</td>\n",
       "      <td>275</td>\n",
       "      <td>18.1</td>\n",
       "      <td>1230</td>\n",
       "      <td>81.1</td>\n",
       "      <td>2.0</td>\n",
       "      <td>0.1</td>\n",
       "      <td>9.0</td>\n",
       "      <td>0.6</td>\n",
       "      <td>715</td>\n",
       "      <td>47.2</td>\n",
       "      <td>432.0</td>\n",
       "      <td>28.5</td>\n",
       "      <td>310</td>\n",
       "      <td>20.4</td>\n",
       "      <td>59.0</td>\n",
       "      <td>3.9</td>\n",
       "    </tr>\n",
       "    <tr>\n",
       "      <th>PARTIDO DO MOVIMENTO DEMOCRÁTICO BRASILEIRO</th>\n",
       "      <td>730</td>\n",
       "      <td>34.2</td>\n",
       "      <td>1406</td>\n",
       "      <td>65.8</td>\n",
       "      <td>459</td>\n",
       "      <td>21.5</td>\n",
       "      <td>1658</td>\n",
       "      <td>77.6</td>\n",
       "      <td>10.0</td>\n",
       "      <td>0.5</td>\n",
       "      <td>9.0</td>\n",
       "      <td>0.4</td>\n",
       "      <td>1023</td>\n",
       "      <td>47.9</td>\n",
       "      <td>621.0</td>\n",
       "      <td>29.1</td>\n",
       "      <td>431</td>\n",
       "      <td>20.2</td>\n",
       "      <td>61.0</td>\n",
       "      <td>2.9</td>\n",
       "    </tr>\n",
       "    <tr>\n",
       "      <th>PARTIDO DOS TRABALHADORES</th>\n",
       "      <td>715</td>\n",
       "      <td>35.8</td>\n",
       "      <td>1283</td>\n",
       "      <td>64.2</td>\n",
       "      <td>403</td>\n",
       "      <td>20.2</td>\n",
       "      <td>1582</td>\n",
       "      <td>79.2</td>\n",
       "      <td>6.0</td>\n",
       "      <td>0.3</td>\n",
       "      <td>7.0</td>\n",
       "      <td>0.4</td>\n",
       "      <td>964</td>\n",
       "      <td>48.2</td>\n",
       "      <td>410.0</td>\n",
       "      <td>20.5</td>\n",
       "      <td>566</td>\n",
       "      <td>28.3</td>\n",
       "      <td>58.0</td>\n",
       "      <td>2.9</td>\n",
       "    </tr>\n",
       "    <tr>\n",
       "      <th>PARTIDO ECOLÓGICO NACIONAL</th>\n",
       "      <td>233</td>\n",
       "      <td>33.4</td>\n",
       "      <td>464</td>\n",
       "      <td>66.6</td>\n",
       "      <td>108</td>\n",
       "      <td>15.5</td>\n",
       "      <td>588</td>\n",
       "      <td>84.4</td>\n",
       "      <td>0.0</td>\n",
       "      <td>0.0</td>\n",
       "      <td>1.0</td>\n",
       "      <td>0.1</td>\n",
       "      <td>360</td>\n",
       "      <td>51.6</td>\n",
       "      <td>183.0</td>\n",
       "      <td>26.3</td>\n",
       "      <td>126</td>\n",
       "      <td>18.1</td>\n",
       "      <td>28.0</td>\n",
       "      <td>4.0</td>\n",
       "    </tr>\n",
       "    <tr>\n",
       "      <th>PARTIDO HUMANISTA DA SOLIDARIEDADE</th>\n",
       "      <td>256</td>\n",
       "      <td>31.3</td>\n",
       "      <td>561</td>\n",
       "      <td>68.7</td>\n",
       "      <td>143</td>\n",
       "      <td>17.5</td>\n",
       "      <td>671</td>\n",
       "      <td>82.1</td>\n",
       "      <td>3.0</td>\n",
       "      <td>0.4</td>\n",
       "      <td>0.0</td>\n",
       "      <td>0.0</td>\n",
       "      <td>435</td>\n",
       "      <td>53.2</td>\n",
       "      <td>204.0</td>\n",
       "      <td>25.0</td>\n",
       "      <td>149</td>\n",
       "      <td>18.2</td>\n",
       "      <td>29.0</td>\n",
       "      <td>3.5</td>\n",
       "    </tr>\n",
       "    <tr>\n",
       "      <th>PARTIDO POPULAR SOCIALISTA</th>\n",
       "      <td>270</td>\n",
       "      <td>29.4</td>\n",
       "      <td>647</td>\n",
       "      <td>70.6</td>\n",
       "      <td>166</td>\n",
       "      <td>18.1</td>\n",
       "      <td>745</td>\n",
       "      <td>81.2</td>\n",
       "      <td>4.0</td>\n",
       "      <td>0.4</td>\n",
       "      <td>2.0</td>\n",
       "      <td>0.2</td>\n",
       "      <td>469</td>\n",
       "      <td>51.1</td>\n",
       "      <td>231.0</td>\n",
       "      <td>25.2</td>\n",
       "      <td>192</td>\n",
       "      <td>20.9</td>\n",
       "      <td>25.0</td>\n",
       "      <td>2.7</td>\n",
       "    </tr>\n",
       "    <tr>\n",
       "      <th>PARTIDO PROGRESSISTA</th>\n",
       "      <td>687</td>\n",
       "      <td>31.1</td>\n",
       "      <td>1523</td>\n",
       "      <td>68.9</td>\n",
       "      <td>447</td>\n",
       "      <td>20.2</td>\n",
       "      <td>1755</td>\n",
       "      <td>79.4</td>\n",
       "      <td>7.0</td>\n",
       "      <td>0.3</td>\n",
       "      <td>1.0</td>\n",
       "      <td>0.0</td>\n",
       "      <td>1124</td>\n",
       "      <td>50.9</td>\n",
       "      <td>601.0</td>\n",
       "      <td>27.2</td>\n",
       "      <td>402</td>\n",
       "      <td>18.2</td>\n",
       "      <td>83.0</td>\n",
       "      <td>3.8</td>\n",
       "    </tr>\n",
       "    <tr>\n",
       "      <th>PARTIDO PÁTRIA LIVRE</th>\n",
       "      <td>123</td>\n",
       "      <td>32.5</td>\n",
       "      <td>255</td>\n",
       "      <td>67.5</td>\n",
       "      <td>43</td>\n",
       "      <td>11.4</td>\n",
       "      <td>328</td>\n",
       "      <td>86.8</td>\n",
       "      <td>3.0</td>\n",
       "      <td>0.8</td>\n",
       "      <td>4.0</td>\n",
       "      <td>1.1</td>\n",
       "      <td>227</td>\n",
       "      <td>60.1</td>\n",
       "      <td>72.0</td>\n",
       "      <td>19.0</td>\n",
       "      <td>67</td>\n",
       "      <td>17.7</td>\n",
       "      <td>12.0</td>\n",
       "      <td>3.2</td>\n",
       "    </tr>\n",
       "    <tr>\n",
       "      <th>PARTIDO RENOVADOR TRABALHISTA BRASILEIRO</th>\n",
       "      <td>135</td>\n",
       "      <td>32.7</td>\n",
       "      <td>278</td>\n",
       "      <td>67.3</td>\n",
       "      <td>45</td>\n",
       "      <td>10.9</td>\n",
       "      <td>364</td>\n",
       "      <td>88.1</td>\n",
       "      <td>4.0</td>\n",
       "      <td>1.0</td>\n",
       "      <td>0.0</td>\n",
       "      <td>0.0</td>\n",
       "      <td>230</td>\n",
       "      <td>55.7</td>\n",
       "      <td>102.0</td>\n",
       "      <td>24.7</td>\n",
       "      <td>64</td>\n",
       "      <td>15.5</td>\n",
       "      <td>17.0</td>\n",
       "      <td>4.1</td>\n",
       "    </tr>\n",
       "    <tr>\n",
       "      <th>PARTIDO REPUBLICANO BRASILEIRO</th>\n",
       "      <td>493</td>\n",
       "      <td>34.0</td>\n",
       "      <td>955</td>\n",
       "      <td>66.0</td>\n",
       "      <td>238</td>\n",
       "      <td>16.4</td>\n",
       "      <td>1200</td>\n",
       "      <td>82.9</td>\n",
       "      <td>6.0</td>\n",
       "      <td>0.4</td>\n",
       "      <td>4.0</td>\n",
       "      <td>0.3</td>\n",
       "      <td>777</td>\n",
       "      <td>53.7</td>\n",
       "      <td>388.0</td>\n",
       "      <td>26.8</td>\n",
       "      <td>247</td>\n",
       "      <td>17.1</td>\n",
       "      <td>36.0</td>\n",
       "      <td>2.5</td>\n",
       "    </tr>\n",
       "    <tr>\n",
       "      <th>PARTIDO REPUBLICANO DA ORDEM SOCIAL</th>\n",
       "      <td>227</td>\n",
       "      <td>33.1</td>\n",
       "      <td>458</td>\n",
       "      <td>66.9</td>\n",
       "      <td>96</td>\n",
       "      <td>14.0</td>\n",
       "      <td>586</td>\n",
       "      <td>85.5</td>\n",
       "      <td>2.0</td>\n",
       "      <td>0.3</td>\n",
       "      <td>1.0</td>\n",
       "      <td>0.1</td>\n",
       "      <td>338</td>\n",
       "      <td>49.3</td>\n",
       "      <td>198.0</td>\n",
       "      <td>28.9</td>\n",
       "      <td>119</td>\n",
       "      <td>17.4</td>\n",
       "      <td>30.0</td>\n",
       "      <td>4.4</td>\n",
       "    </tr>\n",
       "    <tr>\n",
       "      <th>PARTIDO REPUBLICANO PROGRESSISTA</th>\n",
       "      <td>161</td>\n",
       "      <td>30.5</td>\n",
       "      <td>367</td>\n",
       "      <td>69.5</td>\n",
       "      <td>96</td>\n",
       "      <td>18.2</td>\n",
       "      <td>431</td>\n",
       "      <td>81.6</td>\n",
       "      <td>1.0</td>\n",
       "      <td>0.2</td>\n",
       "      <td>0.0</td>\n",
       "      <td>0.0</td>\n",
       "      <td>266</td>\n",
       "      <td>50.4</td>\n",
       "      <td>153.0</td>\n",
       "      <td>29.0</td>\n",
       "      <td>96</td>\n",
       "      <td>18.2</td>\n",
       "      <td>13.0</td>\n",
       "      <td>2.5</td>\n",
       "    </tr>\n",
       "    <tr>\n",
       "      <th>PARTIDO SOCIAL CRISTÃO</th>\n",
       "      <td>436</td>\n",
       "      <td>31.3</td>\n",
       "      <td>955</td>\n",
       "      <td>68.7</td>\n",
       "      <td>239</td>\n",
       "      <td>17.2</td>\n",
       "      <td>1147</td>\n",
       "      <td>82.5</td>\n",
       "      <td>4.0</td>\n",
       "      <td>0.3</td>\n",
       "      <td>1.0</td>\n",
       "      <td>0.1</td>\n",
       "      <td>732</td>\n",
       "      <td>52.6</td>\n",
       "      <td>331.0</td>\n",
       "      <td>23.8</td>\n",
       "      <td>289</td>\n",
       "      <td>20.8</td>\n",
       "      <td>39.0</td>\n",
       "      <td>2.8</td>\n",
       "    </tr>\n",
       "    <tr>\n",
       "      <th>PARTIDO SOCIAL DEMOCRATA CRISTÃO</th>\n",
       "      <td>125</td>\n",
       "      <td>29.3</td>\n",
       "      <td>302</td>\n",
       "      <td>70.7</td>\n",
       "      <td>84</td>\n",
       "      <td>19.7</td>\n",
       "      <td>342</td>\n",
       "      <td>80.1</td>\n",
       "      <td>0.0</td>\n",
       "      <td>0.0</td>\n",
       "      <td>1.0</td>\n",
       "      <td>0.2</td>\n",
       "      <td>215</td>\n",
       "      <td>50.4</td>\n",
       "      <td>112.0</td>\n",
       "      <td>26.2</td>\n",
       "      <td>90</td>\n",
       "      <td>21.1</td>\n",
       "      <td>10.0</td>\n",
       "      <td>2.3</td>\n",
       "    </tr>\n",
       "    <tr>\n",
       "      <th>PARTIDO SOCIAL DEMOCRÁTICO</th>\n",
       "      <td>856</td>\n",
       "      <td>30.8</td>\n",
       "      <td>1921</td>\n",
       "      <td>69.2</td>\n",
       "      <td>627</td>\n",
       "      <td>22.6</td>\n",
       "      <td>2128</td>\n",
       "      <td>76.6</td>\n",
       "      <td>13.0</td>\n",
       "      <td>0.5</td>\n",
       "      <td>9.0</td>\n",
       "      <td>0.3</td>\n",
       "      <td>1389</td>\n",
       "      <td>50.0</td>\n",
       "      <td>778.0</td>\n",
       "      <td>28.0</td>\n",
       "      <td>515</td>\n",
       "      <td>18.5</td>\n",
       "      <td>95.0</td>\n",
       "      <td>3.4</td>\n",
       "    </tr>\n",
       "    <tr>\n",
       "      <th>PARTIDO SOCIAL LIBERAL</th>\n",
       "      <td>438</td>\n",
       "      <td>32.5</td>\n",
       "      <td>911</td>\n",
       "      <td>67.5</td>\n",
       "      <td>263</td>\n",
       "      <td>19.5</td>\n",
       "      <td>1083</td>\n",
       "      <td>80.3</td>\n",
       "      <td>2.0</td>\n",
       "      <td>0.1</td>\n",
       "      <td>1.0</td>\n",
       "      <td>0.1</td>\n",
       "      <td>701</td>\n",
       "      <td>52.0</td>\n",
       "      <td>357.0</td>\n",
       "      <td>26.5</td>\n",
       "      <td>243</td>\n",
       "      <td>18.0</td>\n",
       "      <td>48.0</td>\n",
       "      <td>3.6</td>\n",
       "    </tr>\n",
       "    <tr>\n",
       "      <th>PARTIDO SOCIALISMO E LIBERDADE</th>\n",
       "      <td>162</td>\n",
       "      <td>36.0</td>\n",
       "      <td>288</td>\n",
       "      <td>64.0</td>\n",
       "      <td>52</td>\n",
       "      <td>11.6</td>\n",
       "      <td>398</td>\n",
       "      <td>88.4</td>\n",
       "      <td>0.0</td>\n",
       "      <td>0.0</td>\n",
       "      <td>0.0</td>\n",
       "      <td>0.0</td>\n",
       "      <td>232</td>\n",
       "      <td>51.6</td>\n",
       "      <td>106.0</td>\n",
       "      <td>23.6</td>\n",
       "      <td>99</td>\n",
       "      <td>22.0</td>\n",
       "      <td>13.0</td>\n",
       "      <td>2.9</td>\n",
       "    </tr>\n",
       "    <tr>\n",
       "      <th>PARTIDO SOCIALISTA BRASILEIRO</th>\n",
       "      <td>531</td>\n",
       "      <td>32.6</td>\n",
       "      <td>1096</td>\n",
       "      <td>67.4</td>\n",
       "      <td>292</td>\n",
       "      <td>17.9</td>\n",
       "      <td>1323</td>\n",
       "      <td>81.3</td>\n",
       "      <td>8.0</td>\n",
       "      <td>0.5</td>\n",
       "      <td>4.0</td>\n",
       "      <td>0.2</td>\n",
       "      <td>809</td>\n",
       "      <td>49.7</td>\n",
       "      <td>448.0</td>\n",
       "      <td>27.5</td>\n",
       "      <td>333</td>\n",
       "      <td>20.5</td>\n",
       "      <td>37.0</td>\n",
       "      <td>2.3</td>\n",
       "    </tr>\n",
       "    <tr>\n",
       "      <th>PARTIDO SOCIALISTA DOS TRABALHADORES UNIFICADO</th>\n",
       "      <td>2</td>\n",
       "      <td>33.3</td>\n",
       "      <td>4</td>\n",
       "      <td>66.7</td>\n",
       "      <td>1</td>\n",
       "      <td>16.7</td>\n",
       "      <td>5</td>\n",
       "      <td>83.3</td>\n",
       "      <td>0.0</td>\n",
       "      <td>0.0</td>\n",
       "      <td>0.0</td>\n",
       "      <td>0.0</td>\n",
       "      <td>1</td>\n",
       "      <td>16.7</td>\n",
       "      <td>0.0</td>\n",
       "      <td>0.0</td>\n",
       "      <td>5</td>\n",
       "      <td>83.3</td>\n",
       "      <td>0.0</td>\n",
       "      <td>0.0</td>\n",
       "    </tr>\n",
       "    <tr>\n",
       "      <th>PARTIDO TRABALHISTA BRASILEIRO</th>\n",
       "      <td>319</td>\n",
       "      <td>33.6</td>\n",
       "      <td>629</td>\n",
       "      <td>66.4</td>\n",
       "      <td>233</td>\n",
       "      <td>24.6</td>\n",
       "      <td>702</td>\n",
       "      <td>74.1</td>\n",
       "      <td>10.0</td>\n",
       "      <td>1.1</td>\n",
       "      <td>3.0</td>\n",
       "      <td>0.3</td>\n",
       "      <td>489</td>\n",
       "      <td>51.6</td>\n",
       "      <td>236.0</td>\n",
       "      <td>24.9</td>\n",
       "      <td>192</td>\n",
       "      <td>20.3</td>\n",
       "      <td>31.0</td>\n",
       "      <td>3.3</td>\n",
       "    </tr>\n",
       "    <tr>\n",
       "      <th>PARTIDO TRABALHISTA CRISTÃO</th>\n",
       "      <td>344</td>\n",
       "      <td>34.7</td>\n",
       "      <td>647</td>\n",
       "      <td>65.3</td>\n",
       "      <td>199</td>\n",
       "      <td>20.1</td>\n",
       "      <td>788</td>\n",
       "      <td>79.5</td>\n",
       "      <td>3.0</td>\n",
       "      <td>0.3</td>\n",
       "      <td>1.0</td>\n",
       "      <td>0.1</td>\n",
       "      <td>526</td>\n",
       "      <td>53.1</td>\n",
       "      <td>247.0</td>\n",
       "      <td>24.9</td>\n",
       "      <td>188</td>\n",
       "      <td>19.0</td>\n",
       "      <td>30.0</td>\n",
       "      <td>3.0</td>\n",
       "    </tr>\n",
       "    <tr>\n",
       "      <th>PARTIDO TRABALHISTA DO BRASIL</th>\n",
       "      <td>169</td>\n",
       "      <td>33.7</td>\n",
       "      <td>333</td>\n",
       "      <td>66.3</td>\n",
       "      <td>80</td>\n",
       "      <td>15.9</td>\n",
       "      <td>421</td>\n",
       "      <td>83.9</td>\n",
       "      <td>1.0</td>\n",
       "      <td>0.2</td>\n",
       "      <td>0.0</td>\n",
       "      <td>0.0</td>\n",
       "      <td>249</td>\n",
       "      <td>49.6</td>\n",
       "      <td>153.0</td>\n",
       "      <td>30.5</td>\n",
       "      <td>84</td>\n",
       "      <td>16.7</td>\n",
       "      <td>16.0</td>\n",
       "      <td>3.2</td>\n",
       "    </tr>\n",
       "    <tr>\n",
       "      <th>PARTIDO TRABALHISTA NACIONAL</th>\n",
       "      <td>389</td>\n",
       "      <td>33.4</td>\n",
       "      <td>777</td>\n",
       "      <td>66.6</td>\n",
       "      <td>263</td>\n",
       "      <td>22.6</td>\n",
       "      <td>898</td>\n",
       "      <td>77.0</td>\n",
       "      <td>3.0</td>\n",
       "      <td>0.3</td>\n",
       "      <td>2.0</td>\n",
       "      <td>0.2</td>\n",
       "      <td>596</td>\n",
       "      <td>51.1</td>\n",
       "      <td>287.0</td>\n",
       "      <td>24.6</td>\n",
       "      <td>232</td>\n",
       "      <td>19.9</td>\n",
       "      <td>51.0</td>\n",
       "      <td>4.4</td>\n",
       "    </tr>\n",
       "    <tr>\n",
       "      <th>PARTIDO VERDE</th>\n",
       "      <td>279</td>\n",
       "      <td>32.6</td>\n",
       "      <td>576</td>\n",
       "      <td>67.4</td>\n",
       "      <td>172</td>\n",
       "      <td>20.1</td>\n",
       "      <td>677</td>\n",
       "      <td>79.2</td>\n",
       "      <td>5.0</td>\n",
       "      <td>0.6</td>\n",
       "      <td>1.0</td>\n",
       "      <td>0.1</td>\n",
       "      <td>452</td>\n",
       "      <td>52.9</td>\n",
       "      <td>202.0</td>\n",
       "      <td>23.6</td>\n",
       "      <td>192</td>\n",
       "      <td>22.5</td>\n",
       "      <td>9.0</td>\n",
       "      <td>1.1</td>\n",
       "    </tr>\n",
       "    <tr>\n",
       "      <th>REDE SUSTENTABILIDADE</th>\n",
       "      <td>65</td>\n",
       "      <td>31.4</td>\n",
       "      <td>142</td>\n",
       "      <td>68.6</td>\n",
       "      <td>55</td>\n",
       "      <td>26.6</td>\n",
       "      <td>149</td>\n",
       "      <td>72.0</td>\n",
       "      <td>0.0</td>\n",
       "      <td>0.0</td>\n",
       "      <td>3.0</td>\n",
       "      <td>1.4</td>\n",
       "      <td>83</td>\n",
       "      <td>40.1</td>\n",
       "      <td>38.0</td>\n",
       "      <td>18.4</td>\n",
       "      <td>84</td>\n",
       "      <td>40.6</td>\n",
       "      <td>2.0</td>\n",
       "      <td>1.0</td>\n",
       "    </tr>\n",
       "    <tr>\n",
       "      <th>SOLIDARIEDADE</th>\n",
       "      <td>302</td>\n",
       "      <td>32.5</td>\n",
       "      <td>628</td>\n",
       "      <td>67.5</td>\n",
       "      <td>165</td>\n",
       "      <td>17.7</td>\n",
       "      <td>755</td>\n",
       "      <td>81.2</td>\n",
       "      <td>10.0</td>\n",
       "      <td>1.1</td>\n",
       "      <td>0.0</td>\n",
       "      <td>0.0</td>\n",
       "      <td>467</td>\n",
       "      <td>50.2</td>\n",
       "      <td>265.0</td>\n",
       "      <td>28.5</td>\n",
       "      <td>160</td>\n",
       "      <td>17.2</td>\n",
       "      <td>38.0</td>\n",
       "      <td>4.1</td>\n",
       "    </tr>\n",
       "  </tbody>\n",
       "</table>\n",
       "</div>"
      ],
      "text/plain": [
       "                                                FEMININO  %FEMININO  \\\n",
       "DEMOCRATAS                                           662       34.9   \n",
       "PARTIDO COMUNISTA DO BRASIL                          538       33.8   \n",
       "PARTIDO DA CAUSA OPERÁRIA                              1       33.3   \n",
       "PARTIDO DA MOBILIZAÇÃO NACIONAL                       54       32.3   \n",
       "PARTIDO DA MULHER BRASILEIRA                         172       43.3   \n",
       "PARTIDO DA REPÚBLICA                                 424       33.8   \n",
       "PARTIDO DA SOCIAL DEMOCRACIA BRASILEIRA              530       33.3   \n",
       "PARTIDO DEMOCRÁTICO TRABALHISTA                      467       30.8   \n",
       "PARTIDO DO MOVIMENTO DEMOCRÁTICO BRASILEIRO          730       34.2   \n",
       "PARTIDO DOS TRABALHADORES                            715       35.8   \n",
       "PARTIDO ECOLÓGICO NACIONAL                           233       33.4   \n",
       "PARTIDO HUMANISTA DA SOLIDARIEDADE                   256       31.3   \n",
       "PARTIDO POPULAR SOCIALISTA                           270       29.4   \n",
       "PARTIDO PROGRESSISTA                                 687       31.1   \n",
       "PARTIDO PÁTRIA LIVRE                                 123       32.5   \n",
       "PARTIDO RENOVADOR TRABALHISTA BRASILEIRO             135       32.7   \n",
       "PARTIDO REPUBLICANO BRASILEIRO                       493       34.0   \n",
       "PARTIDO REPUBLICANO DA ORDEM SOCIAL                  227       33.1   \n",
       "PARTIDO REPUBLICANO PROGRESSISTA                     161       30.5   \n",
       "PARTIDO SOCIAL CRISTÃO                               436       31.3   \n",
       "PARTIDO SOCIAL DEMOCRATA CRISTÃO                     125       29.3   \n",
       "PARTIDO SOCIAL DEMOCRÁTICO                           856       30.8   \n",
       "PARTIDO SOCIAL LIBERAL                               438       32.5   \n",
       "PARTIDO SOCIALISMO E LIBERDADE                       162       36.0   \n",
       "PARTIDO SOCIALISTA BRASILEIRO                        531       32.6   \n",
       "PARTIDO SOCIALISTA DOS TRABALHADORES UNIFICADO         2       33.3   \n",
       "PARTIDO TRABALHISTA BRASILEIRO                       319       33.6   \n",
       "PARTIDO TRABALHISTA CRISTÃO                          344       34.7   \n",
       "PARTIDO TRABALHISTA DO BRASIL                        169       33.7   \n",
       "PARTIDO TRABALHISTA NACIONAL                         389       33.4   \n",
       "PARTIDO VERDE                                        279       32.6   \n",
       "REDE SUSTENTABILIDADE                                 65       31.4   \n",
       "SOLIDARIEDADE                                        302       32.5   \n",
       "\n",
       "                                                MASCULINO  %MASCULINO  BRANCA  \\\n",
       "DEMOCRATAS                                           1233        65.1     439   \n",
       "PARTIDO COMUNISTA DO BRASIL                          1052        66.2     308   \n",
       "PARTIDO DA CAUSA OPERÁRIA                               2        66.7       1   \n",
       "PARTIDO DA MOBILIZAÇÃO NACIONAL                       113        67.7      24   \n",
       "PARTIDO DA MULHER BRASILEIRA                          225        56.7      52   \n",
       "PARTIDO DA REPÚBLICA                                  832        66.2     270   \n",
       "PARTIDO DA SOCIAL DEMOCRACIA BRASILEIRA              1061        66.7     376   \n",
       "PARTIDO DEMOCRÁTICO TRABALHISTA                      1049        69.2     275   \n",
       "PARTIDO DO MOVIMENTO DEMOCRÁTICO BRASILEIRO          1406        65.8     459   \n",
       "PARTIDO DOS TRABALHADORES                            1283        64.2     403   \n",
       "PARTIDO ECOLÓGICO NACIONAL                            464        66.6     108   \n",
       "PARTIDO HUMANISTA DA SOLIDARIEDADE                    561        68.7     143   \n",
       "PARTIDO POPULAR SOCIALISTA                            647        70.6     166   \n",
       "PARTIDO PROGRESSISTA                                 1523        68.9     447   \n",
       "PARTIDO PÁTRIA LIVRE                                  255        67.5      43   \n",
       "PARTIDO RENOVADOR TRABALHISTA BRASILEIRO              278        67.3      45   \n",
       "PARTIDO REPUBLICANO BRASILEIRO                        955        66.0     238   \n",
       "PARTIDO REPUBLICANO DA ORDEM SOCIAL                   458        66.9      96   \n",
       "PARTIDO REPUBLICANO PROGRESSISTA                      367        69.5      96   \n",
       "PARTIDO SOCIAL CRISTÃO                                955        68.7     239   \n",
       "PARTIDO SOCIAL DEMOCRATA CRISTÃO                      302        70.7      84   \n",
       "PARTIDO SOCIAL DEMOCRÁTICO                           1921        69.2     627   \n",
       "PARTIDO SOCIAL LIBERAL                                911        67.5     263   \n",
       "PARTIDO SOCIALISMO E LIBERDADE                        288        64.0      52   \n",
       "PARTIDO SOCIALISTA BRASILEIRO                        1096        67.4     292   \n",
       "PARTIDO SOCIALISTA DOS TRABALHADORES UNIFICADO          4        66.7       1   \n",
       "PARTIDO TRABALHISTA BRASILEIRO                        629        66.4     233   \n",
       "PARTIDO TRABALHISTA CRISTÃO                           647        65.3     199   \n",
       "PARTIDO TRABALHISTA DO BRASIL                         333        66.3      80   \n",
       "PARTIDO TRABALHISTA NACIONAL                          777        66.6     263   \n",
       "PARTIDO VERDE                                         576        67.4     172   \n",
       "REDE SUSTENTABILIDADE                                 142        68.6      55   \n",
       "SOLIDARIEDADE                                         628        67.5     165   \n",
       "\n",
       "                                                %BRANCA  NEGRA  %NEGRA  \\\n",
       "DEMOCRATAS                                         23.2   1449    76.5   \n",
       "PARTIDO COMUNISTA DO BRASIL                        19.4   1266    79.6   \n",
       "PARTIDO DA CAUSA OPERÁRIA                          33.3      2    66.7   \n",
       "PARTIDO DA MOBILIZAÇÃO NACIONAL                    14.4    140    83.8   \n",
       "PARTIDO DA MULHER BRASILEIRA                       13.1    344    86.6   \n",
       "PARTIDO DA REPÚBLICA                               21.5    979    77.9   \n",
       "PARTIDO DA SOCIAL DEMOCRACIA BRASILEIRA            23.6   1204    75.7   \n",
       "PARTIDO DEMOCRÁTICO TRABALHISTA                    18.1   1230    81.1   \n",
       "PARTIDO DO MOVIMENTO DEMOCRÁTICO BRASILEIRO        21.5   1658    77.6   \n",
       "PARTIDO DOS TRABALHADORES                          20.2   1582    79.2   \n",
       "PARTIDO ECOLÓGICO NACIONAL                         15.5    588    84.4   \n",
       "PARTIDO HUMANISTA DA SOLIDARIEDADE                 17.5    671    82.1   \n",
       "PARTIDO POPULAR SOCIALISTA                         18.1    745    81.2   \n",
       "PARTIDO PROGRESSISTA                               20.2   1755    79.4   \n",
       "PARTIDO PÁTRIA LIVRE                               11.4    328    86.8   \n",
       "PARTIDO RENOVADOR TRABALHISTA BRASILEIRO           10.9    364    88.1   \n",
       "PARTIDO REPUBLICANO BRASILEIRO                     16.4   1200    82.9   \n",
       "PARTIDO REPUBLICANO DA ORDEM SOCIAL                14.0    586    85.5   \n",
       "PARTIDO REPUBLICANO PROGRESSISTA                   18.2    431    81.6   \n",
       "PARTIDO SOCIAL CRISTÃO                             17.2   1147    82.5   \n",
       "PARTIDO SOCIAL DEMOCRATA CRISTÃO                   19.7    342    80.1   \n",
       "PARTIDO SOCIAL DEMOCRÁTICO                         22.6   2128    76.6   \n",
       "PARTIDO SOCIAL LIBERAL                             19.5   1083    80.3   \n",
       "PARTIDO SOCIALISMO E LIBERDADE                     11.6    398    88.4   \n",
       "PARTIDO SOCIALISTA BRASILEIRO                      17.9   1323    81.3   \n",
       "PARTIDO SOCIALISTA DOS TRABALHADORES UNIFICADO     16.7      5    83.3   \n",
       "PARTIDO TRABALHISTA BRASILEIRO                     24.6    702    74.1   \n",
       "PARTIDO TRABALHISTA CRISTÃO                        20.1    788    79.5   \n",
       "PARTIDO TRABALHISTA DO BRASIL                      15.9    421    83.9   \n",
       "PARTIDO TRABALHISTA NACIONAL                       22.6    898    77.0   \n",
       "PARTIDO VERDE                                      20.1    677    79.2   \n",
       "REDE SUSTENTABILIDADE                              26.6    149    72.0   \n",
       "SOLIDARIEDADE                                      17.7    755    81.2   \n",
       "\n",
       "                                                AMARELA  %AMARELA  INDÍGENA  \\\n",
       "DEMOCRATAS                                          4.0       0.2       3.0   \n",
       "PARTIDO COMUNISTA DO BRASIL                        10.0       0.6       6.0   \n",
       "PARTIDO DA CAUSA OPERÁRIA                           0.0       0.0       0.0   \n",
       "PARTIDO DA MOBILIZAÇÃO NACIONAL                     2.0       1.2       1.0   \n",
       "PARTIDO DA MULHER BRASILEIRA                        1.0       0.3       0.0   \n",
       "PARTIDO DA REPÚBLICA                                4.0       0.3       3.0   \n",
       "PARTIDO DA SOCIAL DEMOCRACIA BRASILEIRA             5.0       0.3       6.0   \n",
       "PARTIDO DEMOCRÁTICO TRABALHISTA                     2.0       0.1       9.0   \n",
       "PARTIDO DO MOVIMENTO DEMOCRÁTICO BRASILEIRO        10.0       0.5       9.0   \n",
       "PARTIDO DOS TRABALHADORES                           6.0       0.3       7.0   \n",
       "PARTIDO ECOLÓGICO NACIONAL                          0.0       0.0       1.0   \n",
       "PARTIDO HUMANISTA DA SOLIDARIEDADE                  3.0       0.4       0.0   \n",
       "PARTIDO POPULAR SOCIALISTA                          4.0       0.4       2.0   \n",
       "PARTIDO PROGRESSISTA                                7.0       0.3       1.0   \n",
       "PARTIDO PÁTRIA LIVRE                                3.0       0.8       4.0   \n",
       "PARTIDO RENOVADOR TRABALHISTA BRASILEIRO            4.0       1.0       0.0   \n",
       "PARTIDO REPUBLICANO BRASILEIRO                      6.0       0.4       4.0   \n",
       "PARTIDO REPUBLICANO DA ORDEM SOCIAL                 2.0       0.3       1.0   \n",
       "PARTIDO REPUBLICANO PROGRESSISTA                    1.0       0.2       0.0   \n",
       "PARTIDO SOCIAL CRISTÃO                              4.0       0.3       1.0   \n",
       "PARTIDO SOCIAL DEMOCRATA CRISTÃO                    0.0       0.0       1.0   \n",
       "PARTIDO SOCIAL DEMOCRÁTICO                         13.0       0.5       9.0   \n",
       "PARTIDO SOCIAL LIBERAL                              2.0       0.1       1.0   \n",
       "PARTIDO SOCIALISMO E LIBERDADE                      0.0       0.0       0.0   \n",
       "PARTIDO SOCIALISTA BRASILEIRO                       8.0       0.5       4.0   \n",
       "PARTIDO SOCIALISTA DOS TRABALHADORES UNIFICADO      0.0       0.0       0.0   \n",
       "PARTIDO TRABALHISTA BRASILEIRO                     10.0       1.1       3.0   \n",
       "PARTIDO TRABALHISTA CRISTÃO                         3.0       0.3       1.0   \n",
       "PARTIDO TRABALHISTA DO BRASIL                       1.0       0.2       0.0   \n",
       "PARTIDO TRABALHISTA NACIONAL                        3.0       0.3       2.0   \n",
       "PARTIDO VERDE                                       5.0       0.6       1.0   \n",
       "REDE SUSTENTABILIDADE                               0.0       0.0       3.0   \n",
       "SOLIDARIEDADE                                      10.0       1.1       0.0   \n",
       "\n",
       "                                                %INDÍGENA  ENSINO MÉDIO  \\\n",
       "DEMOCRATAS                                            0.2           950   \n",
       "PARTIDO COMUNISTA DO BRASIL                           0.4           754   \n",
       "PARTIDO DA CAUSA OPERÁRIA                             0.0             2   \n",
       "PARTIDO DA MOBILIZAÇÃO NACIONAL                       0.6            84   \n",
       "PARTIDO DA MULHER BRASILEIRA                          0.0           217   \n",
       "PARTIDO DA REPÚBLICA                                  0.2           626   \n",
       "PARTIDO DA SOCIAL DEMOCRACIA BRASILEIRA               0.4           786   \n",
       "PARTIDO DEMOCRÁTICO TRABALHISTA                       0.6           715   \n",
       "PARTIDO DO MOVIMENTO DEMOCRÁTICO BRASILEIRO           0.4          1023   \n",
       "PARTIDO DOS TRABALHADORES                             0.4           964   \n",
       "PARTIDO ECOLÓGICO NACIONAL                            0.1           360   \n",
       "PARTIDO HUMANISTA DA SOLIDARIEDADE                    0.0           435   \n",
       "PARTIDO POPULAR SOCIALISTA                            0.2           469   \n",
       "PARTIDO PROGRESSISTA                                  0.0          1124   \n",
       "PARTIDO PÁTRIA LIVRE                                  1.1           227   \n",
       "PARTIDO RENOVADOR TRABALHISTA BRASILEIRO              0.0           230   \n",
       "PARTIDO REPUBLICANO BRASILEIRO                        0.3           777   \n",
       "PARTIDO REPUBLICANO DA ORDEM SOCIAL                   0.1           338   \n",
       "PARTIDO REPUBLICANO PROGRESSISTA                      0.0           266   \n",
       "PARTIDO SOCIAL CRISTÃO                                0.1           732   \n",
       "PARTIDO SOCIAL DEMOCRATA CRISTÃO                      0.2           215   \n",
       "PARTIDO SOCIAL DEMOCRÁTICO                            0.3          1389   \n",
       "PARTIDO SOCIAL LIBERAL                                0.1           701   \n",
       "PARTIDO SOCIALISMO E LIBERDADE                        0.0           232   \n",
       "PARTIDO SOCIALISTA BRASILEIRO                         0.2           809   \n",
       "PARTIDO SOCIALISTA DOS TRABALHADORES UNIFICADO        0.0             1   \n",
       "PARTIDO TRABALHISTA BRASILEIRO                        0.3           489   \n",
       "PARTIDO TRABALHISTA CRISTÃO                           0.1           526   \n",
       "PARTIDO TRABALHISTA DO BRASIL                         0.0           249   \n",
       "PARTIDO TRABALHISTA NACIONAL                          0.2           596   \n",
       "PARTIDO VERDE                                         0.1           452   \n",
       "REDE SUSTENTABILIDADE                                 1.4            83   \n",
       "SOLIDARIEDADE                                         0.0           467   \n",
       "\n",
       "                                                %ENSINO MÉDIO  \\\n",
       "DEMOCRATAS                                               50.1   \n",
       "PARTIDO COMUNISTA DO BRASIL                              47.4   \n",
       "PARTIDO DA CAUSA OPERÁRIA                                66.7   \n",
       "PARTIDO DA MOBILIZAÇÃO NACIONAL                          50.3   \n",
       "PARTIDO DA MULHER BRASILEIRA                             54.7   \n",
       "PARTIDO DA REPÚBLICA                                     49.8   \n",
       "PARTIDO DA SOCIAL DEMOCRACIA BRASILEIRA                  49.4   \n",
       "PARTIDO DEMOCRÁTICO TRABALHISTA                          47.2   \n",
       "PARTIDO DO MOVIMENTO DEMOCRÁTICO BRASILEIRO              47.9   \n",
       "PARTIDO DOS TRABALHADORES                                48.2   \n",
       "PARTIDO ECOLÓGICO NACIONAL                               51.6   \n",
       "PARTIDO HUMANISTA DA SOLIDARIEDADE                       53.2   \n",
       "PARTIDO POPULAR SOCIALISTA                               51.1   \n",
       "PARTIDO PROGRESSISTA                                     50.9   \n",
       "PARTIDO PÁTRIA LIVRE                                     60.1   \n",
       "PARTIDO RENOVADOR TRABALHISTA BRASILEIRO                 55.7   \n",
       "PARTIDO REPUBLICANO BRASILEIRO                           53.7   \n",
       "PARTIDO REPUBLICANO DA ORDEM SOCIAL                      49.3   \n",
       "PARTIDO REPUBLICANO PROGRESSISTA                         50.4   \n",
       "PARTIDO SOCIAL CRISTÃO                                   52.6   \n",
       "PARTIDO SOCIAL DEMOCRATA CRISTÃO                         50.4   \n",
       "PARTIDO SOCIAL DEMOCRÁTICO                               50.0   \n",
       "PARTIDO SOCIAL LIBERAL                                   52.0   \n",
       "PARTIDO SOCIALISMO E LIBERDADE                           51.6   \n",
       "PARTIDO SOCIALISTA BRASILEIRO                            49.7   \n",
       "PARTIDO SOCIALISTA DOS TRABALHADORES UNIFICADO           16.7   \n",
       "PARTIDO TRABALHISTA BRASILEIRO                           51.6   \n",
       "PARTIDO TRABALHISTA CRISTÃO                              53.1   \n",
       "PARTIDO TRABALHISTA DO BRASIL                            49.6   \n",
       "PARTIDO TRABALHISTA NACIONAL                             51.1   \n",
       "PARTIDO VERDE                                            52.9   \n",
       "REDE SUSTENTABILIDADE                                    40.1   \n",
       "SOLIDARIEDADE                                            50.2   \n",
       "\n",
       "                                                ENSINO FUNDAMENTAL  \\\n",
       "DEMOCRATAS                                                   499.0   \n",
       "PARTIDO COMUNISTA DO BRASIL                                  410.0   \n",
       "PARTIDO DA CAUSA OPERÁRIA                                      0.0   \n",
       "PARTIDO DA MOBILIZAÇÃO NACIONAL                               37.0   \n",
       "PARTIDO DA MULHER BRASILEIRA                                  94.0   \n",
       "PARTIDO DA REPÚBLICA                                         391.0   \n",
       "PARTIDO DA SOCIAL DEMOCRACIA BRASILEIRA                      405.0   \n",
       "PARTIDO DEMOCRÁTICO TRABALHISTA                              432.0   \n",
       "PARTIDO DO MOVIMENTO DEMOCRÁTICO BRASILEIRO                  621.0   \n",
       "PARTIDO DOS TRABALHADORES                                    410.0   \n",
       "PARTIDO ECOLÓGICO NACIONAL                                   183.0   \n",
       "PARTIDO HUMANISTA DA SOLIDARIEDADE                           204.0   \n",
       "PARTIDO POPULAR SOCIALISTA                                   231.0   \n",
       "PARTIDO PROGRESSISTA                                         601.0   \n",
       "PARTIDO PÁTRIA LIVRE                                          72.0   \n",
       "PARTIDO RENOVADOR TRABALHISTA BRASILEIRO                     102.0   \n",
       "PARTIDO REPUBLICANO BRASILEIRO                               388.0   \n",
       "PARTIDO REPUBLICANO DA ORDEM SOCIAL                          198.0   \n",
       "PARTIDO REPUBLICANO PROGRESSISTA                             153.0   \n",
       "PARTIDO SOCIAL CRISTÃO                                       331.0   \n",
       "PARTIDO SOCIAL DEMOCRATA CRISTÃO                             112.0   \n",
       "PARTIDO SOCIAL DEMOCRÁTICO                                   778.0   \n",
       "PARTIDO SOCIAL LIBERAL                                       357.0   \n",
       "PARTIDO SOCIALISMO E LIBERDADE                               106.0   \n",
       "PARTIDO SOCIALISTA BRASILEIRO                                448.0   \n",
       "PARTIDO SOCIALISTA DOS TRABALHADORES UNIFICADO                 0.0   \n",
       "PARTIDO TRABALHISTA BRASILEIRO                               236.0   \n",
       "PARTIDO TRABALHISTA CRISTÃO                                  247.0   \n",
       "PARTIDO TRABALHISTA DO BRASIL                                153.0   \n",
       "PARTIDO TRABALHISTA NACIONAL                                 287.0   \n",
       "PARTIDO VERDE                                                202.0   \n",
       "REDE SUSTENTABILIDADE                                         38.0   \n",
       "SOLIDARIEDADE                                                265.0   \n",
       "\n",
       "                                                %ENSINO FUNDAMENTAL  \\\n",
       "DEMOCRATAS                                                     26.3   \n",
       "PARTIDO COMUNISTA DO BRASIL                                    25.8   \n",
       "PARTIDO DA CAUSA OPERÁRIA                                       0.0   \n",
       "PARTIDO DA MOBILIZAÇÃO NACIONAL                                22.2   \n",
       "PARTIDO DA MULHER BRASILEIRA                                   23.7   \n",
       "PARTIDO DA REPÚBLICA                                           31.1   \n",
       "PARTIDO DA SOCIAL DEMOCRACIA BRASILEIRA                        25.5   \n",
       "PARTIDO DEMOCRÁTICO TRABALHISTA                                28.5   \n",
       "PARTIDO DO MOVIMENTO DEMOCRÁTICO BRASILEIRO                    29.1   \n",
       "PARTIDO DOS TRABALHADORES                                      20.5   \n",
       "PARTIDO ECOLÓGICO NACIONAL                                     26.3   \n",
       "PARTIDO HUMANISTA DA SOLIDARIEDADE                             25.0   \n",
       "PARTIDO POPULAR SOCIALISTA                                     25.2   \n",
       "PARTIDO PROGRESSISTA                                           27.2   \n",
       "PARTIDO PÁTRIA LIVRE                                           19.0   \n",
       "PARTIDO RENOVADOR TRABALHISTA BRASILEIRO                       24.7   \n",
       "PARTIDO REPUBLICANO BRASILEIRO                                 26.8   \n",
       "PARTIDO REPUBLICANO DA ORDEM SOCIAL                            28.9   \n",
       "PARTIDO REPUBLICANO PROGRESSISTA                               29.0   \n",
       "PARTIDO SOCIAL CRISTÃO                                         23.8   \n",
       "PARTIDO SOCIAL DEMOCRATA CRISTÃO                               26.2   \n",
       "PARTIDO SOCIAL DEMOCRÁTICO                                     28.0   \n",
       "PARTIDO SOCIAL LIBERAL                                         26.5   \n",
       "PARTIDO SOCIALISMO E LIBERDADE                                 23.6   \n",
       "PARTIDO SOCIALISTA BRASILEIRO                                  27.5   \n",
       "PARTIDO SOCIALISTA DOS TRABALHADORES UNIFICADO                  0.0   \n",
       "PARTIDO TRABALHISTA BRASILEIRO                                 24.9   \n",
       "PARTIDO TRABALHISTA CRISTÃO                                    24.9   \n",
       "PARTIDO TRABALHISTA DO BRASIL                                  30.5   \n",
       "PARTIDO TRABALHISTA NACIONAL                                   24.6   \n",
       "PARTIDO VERDE                                                  23.6   \n",
       "REDE SUSTENTABILIDADE                                          18.4   \n",
       "SOLIDARIEDADE                                                  28.5   \n",
       "\n",
       "                                                ENSINO SUPERIOR  \\\n",
       "DEMOCRATAS                                                  359   \n",
       "PARTIDO COMUNISTA DO BRASIL                                 366   \n",
       "PARTIDO DA CAUSA OPERÁRIA                                     1   \n",
       "PARTIDO DA MOBILIZAÇÃO NACIONAL                              41   \n",
       "PARTIDO DA MULHER BRASILEIRA                                 77   \n",
       "PARTIDO DA REPÚBLICA                                        200   \n",
       "PARTIDO DA SOCIAL DEMOCRACIA BRASILEIRA                     350   \n",
       "PARTIDO DEMOCRÁTICO TRABALHISTA                             310   \n",
       "PARTIDO DO MOVIMENTO DEMOCRÁTICO BRASILEIRO                 431   \n",
       "PARTIDO DOS TRABALHADORES                                   566   \n",
       "PARTIDO ECOLÓGICO NACIONAL                                  126   \n",
       "PARTIDO HUMANISTA DA SOLIDARIEDADE                          149   \n",
       "PARTIDO POPULAR SOCIALISTA                                  192   \n",
       "PARTIDO PROGRESSISTA                                        402   \n",
       "PARTIDO PÁTRIA LIVRE                                         67   \n",
       "PARTIDO RENOVADOR TRABALHISTA BRASILEIRO                     64   \n",
       "PARTIDO REPUBLICANO BRASILEIRO                              247   \n",
       "PARTIDO REPUBLICANO DA ORDEM SOCIAL                         119   \n",
       "PARTIDO REPUBLICANO PROGRESSISTA                             96   \n",
       "PARTIDO SOCIAL CRISTÃO                                      289   \n",
       "PARTIDO SOCIAL DEMOCRATA CRISTÃO                             90   \n",
       "PARTIDO SOCIAL DEMOCRÁTICO                                  515   \n",
       "PARTIDO SOCIAL LIBERAL                                      243   \n",
       "PARTIDO SOCIALISMO E LIBERDADE                               99   \n",
       "PARTIDO SOCIALISTA BRASILEIRO                               333   \n",
       "PARTIDO SOCIALISTA DOS TRABALHADORES UNIFICADO                5   \n",
       "PARTIDO TRABALHISTA BRASILEIRO                              192   \n",
       "PARTIDO TRABALHISTA CRISTÃO                                 188   \n",
       "PARTIDO TRABALHISTA DO BRASIL                                84   \n",
       "PARTIDO TRABALHISTA NACIONAL                                232   \n",
       "PARTIDO VERDE                                               192   \n",
       "REDE SUSTENTABILIDADE                                        84   \n",
       "SOLIDARIEDADE                                               160   \n",
       "\n",
       "                                                %ENSINO SUPERIOR  \\\n",
       "DEMOCRATAS                                                  18.9   \n",
       "PARTIDO COMUNISTA DO BRASIL                                 23.0   \n",
       "PARTIDO DA CAUSA OPERÁRIA                                   33.3   \n",
       "PARTIDO DA MOBILIZAÇÃO NACIONAL                             24.6   \n",
       "PARTIDO DA MULHER BRASILEIRA                                19.4   \n",
       "PARTIDO DA REPÚBLICA                                        15.9   \n",
       "PARTIDO DA SOCIAL DEMOCRACIA BRASILEIRA                     22.0   \n",
       "PARTIDO DEMOCRÁTICO TRABALHISTA                             20.4   \n",
       "PARTIDO DO MOVIMENTO DEMOCRÁTICO BRASILEIRO                 20.2   \n",
       "PARTIDO DOS TRABALHADORES                                   28.3   \n",
       "PARTIDO ECOLÓGICO NACIONAL                                  18.1   \n",
       "PARTIDO HUMANISTA DA SOLIDARIEDADE                          18.2   \n",
       "PARTIDO POPULAR SOCIALISTA                                  20.9   \n",
       "PARTIDO PROGRESSISTA                                        18.2   \n",
       "PARTIDO PÁTRIA LIVRE                                        17.7   \n",
       "PARTIDO RENOVADOR TRABALHISTA BRASILEIRO                    15.5   \n",
       "PARTIDO REPUBLICANO BRASILEIRO                              17.1   \n",
       "PARTIDO REPUBLICANO DA ORDEM SOCIAL                         17.4   \n",
       "PARTIDO REPUBLICANO PROGRESSISTA                            18.2   \n",
       "PARTIDO SOCIAL CRISTÃO                                      20.8   \n",
       "PARTIDO SOCIAL DEMOCRATA CRISTÃO                            21.1   \n",
       "PARTIDO SOCIAL DEMOCRÁTICO                                  18.5   \n",
       "PARTIDO SOCIAL LIBERAL                                      18.0   \n",
       "PARTIDO SOCIALISMO E LIBERDADE                              22.0   \n",
       "PARTIDO SOCIALISTA BRASILEIRO                               20.5   \n",
       "PARTIDO SOCIALISTA DOS TRABALHADORES UNIFICADO              83.3   \n",
       "PARTIDO TRABALHISTA BRASILEIRO                              20.3   \n",
       "PARTIDO TRABALHISTA CRISTÃO                                 19.0   \n",
       "PARTIDO TRABALHISTA DO BRASIL                               16.7   \n",
       "PARTIDO TRABALHISTA NACIONAL                                19.9   \n",
       "PARTIDO VERDE                                               22.5   \n",
       "REDE SUSTENTABILIDADE                                       40.6   \n",
       "SOLIDARIEDADE                                               17.2   \n",
       "\n",
       "                                                LÊ E ESCREVE  %LÊ E ESCREVE  \n",
       "DEMOCRATAS                                              87.0            4.6  \n",
       "PARTIDO COMUNISTA DO BRASIL                             60.0            3.8  \n",
       "PARTIDO DA CAUSA OPERÁRIA                                0.0            0.0  \n",
       "PARTIDO DA MOBILIZAÇÃO NACIONAL                          5.0            3.0  \n",
       "PARTIDO DA MULHER BRASILEIRA                             9.0            2.3  \n",
       "PARTIDO DA REPÚBLICA                                    39.0            3.1  \n",
       "PARTIDO DA SOCIAL DEMOCRACIA BRASILEIRA                 50.0            3.1  \n",
       "PARTIDO DEMOCRÁTICO TRABALHISTA                         59.0            3.9  \n",
       "PARTIDO DO MOVIMENTO DEMOCRÁTICO BRASILEIRO             61.0            2.9  \n",
       "PARTIDO DOS TRABALHADORES                               58.0            2.9  \n",
       "PARTIDO ECOLÓGICO NACIONAL                              28.0            4.0  \n",
       "PARTIDO HUMANISTA DA SOLIDARIEDADE                      29.0            3.5  \n",
       "PARTIDO POPULAR SOCIALISTA                              25.0            2.7  \n",
       "PARTIDO PROGRESSISTA                                    83.0            3.8  \n",
       "PARTIDO PÁTRIA LIVRE                                    12.0            3.2  \n",
       "PARTIDO RENOVADOR TRABALHISTA BRASILEIRO                17.0            4.1  \n",
       "PARTIDO REPUBLICANO BRASILEIRO                          36.0            2.5  \n",
       "PARTIDO REPUBLICANO DA ORDEM SOCIAL                     30.0            4.4  \n",
       "PARTIDO REPUBLICANO PROGRESSISTA                        13.0            2.5  \n",
       "PARTIDO SOCIAL CRISTÃO                                  39.0            2.8  \n",
       "PARTIDO SOCIAL DEMOCRATA CRISTÃO                        10.0            2.3  \n",
       "PARTIDO SOCIAL DEMOCRÁTICO                              95.0            3.4  \n",
       "PARTIDO SOCIAL LIBERAL                                  48.0            3.6  \n",
       "PARTIDO SOCIALISMO E LIBERDADE                          13.0            2.9  \n",
       "PARTIDO SOCIALISTA BRASILEIRO                           37.0            2.3  \n",
       "PARTIDO SOCIALISTA DOS TRABALHADORES UNIFICADO           0.0            0.0  \n",
       "PARTIDO TRABALHISTA BRASILEIRO                          31.0            3.3  \n",
       "PARTIDO TRABALHISTA CRISTÃO                             30.0            3.0  \n",
       "PARTIDO TRABALHISTA DO BRASIL                           16.0            3.2  \n",
       "PARTIDO TRABALHISTA NACIONAL                            51.0            4.4  \n",
       "PARTIDO VERDE                                            9.0            1.1  \n",
       "REDE SUSTENTABILIDADE                                    2.0            1.0  \n",
       "SOLIDARIEDADE                                           38.0            4.1  "
      ]
     },
     "execution_count": 75,
     "metadata": {},
     "output_type": "execute_result"
    }
   ],
   "source": [
    "df_partidos"
   ]
  },
  {
   "cell_type": "markdown",
   "metadata": {},
   "source": [
    "*Unidade Eleitoral*"
   ]
  },
  {
   "cell_type": "code",
   "execution_count": 78,
   "metadata": {},
   "outputs": [],
   "source": [
    "# Variaveis de Gênero \n",
    "fem_ue = fem['NM_UE'].value_counts()\n",
    "masc_ue = masc['NM_UE'].value_counts()\n"
   ]
  },
  {
   "cell_type": "code",
   "execution_count": 79,
   "metadata": {},
   "outputs": [],
   "source": [
    "total_gen_ue = fem_ue + masc_ue"
   ]
  },
  {
   "cell_type": "code",
   "execution_count": 81,
   "metadata": {},
   "outputs": [],
   "source": [
    "percent_fem_ue = fem_ue * 100/total_gen_ue\n",
    "percent_masc_ue = masc_ue * 100/total_gen_ue"
   ]
  },
  {
   "cell_type": "code",
   "execution_count": 83,
   "metadata": {},
   "outputs": [],
   "source": [
    "percent_masc_ue = percent_masc_ue.apply(lambda x: round(x, decimais))\n",
    "percent_fem_ue = percent_fem_ue.apply(lambda x: round(x, decimais))"
   ]
  },
  {
   "cell_type": "code",
   "execution_count": 84,
   "metadata": {},
   "outputs": [],
   "source": [
    "# Variaveis de raça\n",
    "negra_ue = df_NEGRA['NM_UE'].value_counts()\n",
    "branca_ue = df_BRANCA['NM_UE'].value_counts()\n",
    "amarela_ue = df_AMARELA['NM_UE'].value_counts()\n",
    "indigena_ue = df_INDIGENA['NM_UE'].value_counts()"
   ]
  },
  {
   "cell_type": "code",
   "execution_count": 85,
   "metadata": {},
   "outputs": [],
   "source": [
    "total_raca_ue = consulta_Vereador_2016['NM_UE'].value_counts()"
   ]
  },
  {
   "cell_type": "code",
   "execution_count": 86,
   "metadata": {},
   "outputs": [],
   "source": [
    "percent_negra_ue = negra_ue *100/total_raca_ue\n",
    "percent_branca_ue = branca_ue *100/total_raca_ue\n",
    "percent_amarela_ue = amarela_ue *100/total_raca_ue\n",
    "percent_indigena_ue = indigena_ue *100/total_raca_ue"
   ]
  },
  {
   "cell_type": "code",
   "execution_count": 87,
   "metadata": {},
   "outputs": [],
   "source": [
    "percent_negra_ue = percent_negra_ue.apply(lambda x: round(x, decimais))\n",
    "percent_branca_ue = percent_branca_ue.apply(lambda x: round(x, decimais))\n",
    "percent_amarela_ue = percent_amarela_ue.apply(lambda x: round(x, decimais))\n",
    "percent_indigena_ue = percent_indigena_ue.apply(lambda x: round(x, decimais))"
   ]
  },
  {
   "cell_type": "code",
   "execution_count": 88,
   "metadata": {},
   "outputs": [],
   "source": [
    "# Variaveis de Grau de instrucao\n",
    "\n",
    "ens_Med_UE = ens_Med['NM_UE'].value_counts()\n",
    "ens_Fund_UE = ens_Fund['NM_UE'].value_counts()\n",
    "ens_Sup_UE = ens_Sup['NM_UE'].value_counts()\n",
    "ens_Le_UE = ens_Le['NM_UE'].value_counts()\n"
   ]
  },
  {
   "cell_type": "code",
   "execution_count": 89,
   "metadata": {},
   "outputs": [],
   "source": [
    "total_ens_ue = consulta_Vereador_2016['NM_UE'].value_counts()"
   ]
  },
  {
   "cell_type": "code",
   "execution_count": 90,
   "metadata": {},
   "outputs": [],
   "source": [
    "percent_ens_Med_UE = ens_Med_UE *100/total_ens_ue\n",
    "percent_ens_Fund_UE = ens_Fund_UE *100/total_ens_ue\n",
    "percent_ens_Sup_UE = ens_Sup_UE *100/total_ens_ue\n",
    "percent_ens_Le_UE = ens_Le_UE*100/total_ens_ue\n"
   ]
  },
  {
   "cell_type": "code",
   "execution_count": 91,
   "metadata": {},
   "outputs": [],
   "source": [
    "percent_ens_Med_UE= percent_ens_Med_UE.apply(lambda x: round(x, decimais))\n",
    "percent_ens_Fund_UE= percent_ens_Fund_UE.apply(lambda x: round(x, decimais))\n",
    "percent_ens_Sup_UE =percent_ens_Sup_UE.apply(lambda x: round(x, decimais))\n",
    "percent_ens_Le_UE = percent_ens_Le_UE.apply(lambda x: round(x, decimais))\n"
   ]
  },
  {
   "cell_type": "code",
   "execution_count": 92,
   "metadata": {},
   "outputs": [],
   "source": [
    "# Criando Data Frame \n",
    "\n",
    "dic2 = {'FEMININO': fem_ue, '%FEMININO': percent_fem_ue , 'MASCULINO':masc_ue,'%MASCULINO': percent_masc_ue ,\n",
    "          'BRANCA': branca_ue , '%BRANCA': percent_branca_ue , 'NEGRA': negra_ue, '%NEGRA': percent_negra_ue, 'AMARELA': amarela_ue, '%AMARELA': percent_amarela_ue, \n",
    "         'INDÍGENA': indigena_ue ,'%INDÍGENA': percent_indigena_ue, 'ENSINO MÉDIO': ens_Med_UE ,'%ENSINO MÉDIO': percent_ens_Med_UE , \n",
    "          'ENSINO FUNDAMENTAL': ens_Fund_UE, '%ENSINO FUNDAMENTAL': percent_ens_Fund_UE,\n",
    "          'ENSINO SUPERIOR': ens_Sup_UE, '%ENSINO SUPERIOR': percent_ens_Sup_UE, 'LÊ E ESCREVE': ens_Le_UE, '%LÊ E ESCREVE':percent_ens_Le_UE}\n"
   ]
  },
  {
   "cell_type": "code",
   "execution_count": 93,
   "metadata": {},
   "outputs": [],
   "source": [
    "df_ue = pd.DataFrame(dic2)"
   ]
  },
  {
   "cell_type": "code",
   "execution_count": 94,
   "metadata": {},
   "outputs": [],
   "source": [
    "df_ue = df_ue.fillna(0)"
   ]
  },
  {
   "cell_type": "code",
   "execution_count": 95,
   "metadata": {
    "collapsed": true
   },
   "outputs": [
    {
     "data": {
      "text/html": [
       "<div>\n",
       "<style scoped>\n",
       "    .dataframe tbody tr th:only-of-type {\n",
       "        vertical-align: middle;\n",
       "    }\n",
       "\n",
       "    .dataframe tbody tr th {\n",
       "        vertical-align: top;\n",
       "    }\n",
       "\n",
       "    .dataframe thead th {\n",
       "        text-align: right;\n",
       "    }\n",
       "</style>\n",
       "<table border=\"1\" class=\"dataframe\">\n",
       "  <thead>\n",
       "    <tr style=\"text-align: right;\">\n",
       "      <th></th>\n",
       "      <th>FEMININO</th>\n",
       "      <th>%FEMININO</th>\n",
       "      <th>MASCULINO</th>\n",
       "      <th>%MASCULINO</th>\n",
       "      <th>BRANCA</th>\n",
       "      <th>%BRANCA</th>\n",
       "      <th>NEGRA</th>\n",
       "      <th>%NEGRA</th>\n",
       "      <th>AMARELA</th>\n",
       "      <th>%AMARELA</th>\n",
       "      <th>INDÍGENA</th>\n",
       "      <th>%INDÍGENA</th>\n",
       "      <th>ENSINO MÉDIO</th>\n",
       "      <th>%ENSINO MÉDIO</th>\n",
       "      <th>ENSINO FUNDAMENTAL</th>\n",
       "      <th>%ENSINO FUNDAMENTAL</th>\n",
       "      <th>ENSINO SUPERIOR</th>\n",
       "      <th>%ENSINO SUPERIOR</th>\n",
       "      <th>LÊ E ESCREVE</th>\n",
       "      <th>%LÊ E ESCREVE</th>\n",
       "    </tr>\n",
       "  </thead>\n",
       "  <tbody>\n",
       "    <tr>\n",
       "      <th>ABARÉ</th>\n",
       "      <td>14</td>\n",
       "      <td>32.6</td>\n",
       "      <td>29</td>\n",
       "      <td>67.4</td>\n",
       "      <td>6.0</td>\n",
       "      <td>14.0</td>\n",
       "      <td>34</td>\n",
       "      <td>79.1</td>\n",
       "      <td>1.0</td>\n",
       "      <td>2.3</td>\n",
       "      <td>2.0</td>\n",
       "      <td>4.7</td>\n",
       "      <td>18</td>\n",
       "      <td>41.9</td>\n",
       "      <td>11</td>\n",
       "      <td>25.6</td>\n",
       "      <td>14</td>\n",
       "      <td>32.6</td>\n",
       "      <td>0.0</td>\n",
       "      <td>0.0</td>\n",
       "    </tr>\n",
       "    <tr>\n",
       "      <th>ABAÍRA</th>\n",
       "      <td>9</td>\n",
       "      <td>37.5</td>\n",
       "      <td>15</td>\n",
       "      <td>62.5</td>\n",
       "      <td>10.0</td>\n",
       "      <td>41.7</td>\n",
       "      <td>10</td>\n",
       "      <td>41.7</td>\n",
       "      <td>4.0</td>\n",
       "      <td>16.7</td>\n",
       "      <td>0.0</td>\n",
       "      <td>0.0</td>\n",
       "      <td>13</td>\n",
       "      <td>54.2</td>\n",
       "      <td>6</td>\n",
       "      <td>25.0</td>\n",
       "      <td>2</td>\n",
       "      <td>8.3</td>\n",
       "      <td>3.0</td>\n",
       "      <td>12.5</td>\n",
       "    </tr>\n",
       "    <tr>\n",
       "      <th>ACAJUTIBA</th>\n",
       "      <td>34</td>\n",
       "      <td>37.8</td>\n",
       "      <td>56</td>\n",
       "      <td>62.2</td>\n",
       "      <td>6.0</td>\n",
       "      <td>6.7</td>\n",
       "      <td>84</td>\n",
       "      <td>93.3</td>\n",
       "      <td>0.0</td>\n",
       "      <td>0.0</td>\n",
       "      <td>0.0</td>\n",
       "      <td>0.0</td>\n",
       "      <td>60</td>\n",
       "      <td>66.7</td>\n",
       "      <td>18</td>\n",
       "      <td>20.0</td>\n",
       "      <td>12</td>\n",
       "      <td>13.3</td>\n",
       "      <td>0.0</td>\n",
       "      <td>0.0</td>\n",
       "    </tr>\n",
       "    <tr>\n",
       "      <th>ADUSTINA</th>\n",
       "      <td>15</td>\n",
       "      <td>31.9</td>\n",
       "      <td>32</td>\n",
       "      <td>68.1</td>\n",
       "      <td>24.0</td>\n",
       "      <td>51.1</td>\n",
       "      <td>23</td>\n",
       "      <td>48.9</td>\n",
       "      <td>0.0</td>\n",
       "      <td>0.0</td>\n",
       "      <td>0.0</td>\n",
       "      <td>0.0</td>\n",
       "      <td>24</td>\n",
       "      <td>51.1</td>\n",
       "      <td>14</td>\n",
       "      <td>29.8</td>\n",
       "      <td>5</td>\n",
       "      <td>10.6</td>\n",
       "      <td>4.0</td>\n",
       "      <td>8.5</td>\n",
       "    </tr>\n",
       "    <tr>\n",
       "      <th>AIQUARA</th>\n",
       "      <td>13</td>\n",
       "      <td>32.5</td>\n",
       "      <td>27</td>\n",
       "      <td>67.5</td>\n",
       "      <td>4.0</td>\n",
       "      <td>10.0</td>\n",
       "      <td>36</td>\n",
       "      <td>90.0</td>\n",
       "      <td>0.0</td>\n",
       "      <td>0.0</td>\n",
       "      <td>0.0</td>\n",
       "      <td>0.0</td>\n",
       "      <td>22</td>\n",
       "      <td>55.0</td>\n",
       "      <td>13</td>\n",
       "      <td>32.5</td>\n",
       "      <td>5</td>\n",
       "      <td>12.5</td>\n",
       "      <td>0.0</td>\n",
       "      <td>0.0</td>\n",
       "    </tr>\n",
       "    <tr>\n",
       "      <th>...</th>\n",
       "      <td>...</td>\n",
       "      <td>...</td>\n",
       "      <td>...</td>\n",
       "      <td>...</td>\n",
       "      <td>...</td>\n",
       "      <td>...</td>\n",
       "      <td>...</td>\n",
       "      <td>...</td>\n",
       "      <td>...</td>\n",
       "      <td>...</td>\n",
       "      <td>...</td>\n",
       "      <td>...</td>\n",
       "      <td>...</td>\n",
       "      <td>...</td>\n",
       "      <td>...</td>\n",
       "      <td>...</td>\n",
       "      <td>...</td>\n",
       "      <td>...</td>\n",
       "      <td>...</td>\n",
       "      <td>...</td>\n",
       "    </tr>\n",
       "    <tr>\n",
       "      <th>WANDERLEY</th>\n",
       "      <td>13</td>\n",
       "      <td>35.1</td>\n",
       "      <td>24</td>\n",
       "      <td>64.9</td>\n",
       "      <td>13.0</td>\n",
       "      <td>35.1</td>\n",
       "      <td>24</td>\n",
       "      <td>64.9</td>\n",
       "      <td>0.0</td>\n",
       "      <td>0.0</td>\n",
       "      <td>0.0</td>\n",
       "      <td>0.0</td>\n",
       "      <td>16</td>\n",
       "      <td>43.2</td>\n",
       "      <td>11</td>\n",
       "      <td>29.7</td>\n",
       "      <td>9</td>\n",
       "      <td>24.3</td>\n",
       "      <td>1.0</td>\n",
       "      <td>2.7</td>\n",
       "    </tr>\n",
       "    <tr>\n",
       "      <th>WENCESLAU GUIMARÃES</th>\n",
       "      <td>37</td>\n",
       "      <td>34.3</td>\n",
       "      <td>71</td>\n",
       "      <td>65.7</td>\n",
       "      <td>5.0</td>\n",
       "      <td>4.6</td>\n",
       "      <td>103</td>\n",
       "      <td>95.4</td>\n",
       "      <td>0.0</td>\n",
       "      <td>0.0</td>\n",
       "      <td>0.0</td>\n",
       "      <td>0.0</td>\n",
       "      <td>70</td>\n",
       "      <td>64.8</td>\n",
       "      <td>24</td>\n",
       "      <td>22.2</td>\n",
       "      <td>14</td>\n",
       "      <td>13.0</td>\n",
       "      <td>0.0</td>\n",
       "      <td>0.0</td>\n",
       "    </tr>\n",
       "    <tr>\n",
       "      <th>XIQUE-XIQUE</th>\n",
       "      <td>16</td>\n",
       "      <td>29.1</td>\n",
       "      <td>39</td>\n",
       "      <td>70.9</td>\n",
       "      <td>5.0</td>\n",
       "      <td>9.1</td>\n",
       "      <td>50</td>\n",
       "      <td>90.9</td>\n",
       "      <td>0.0</td>\n",
       "      <td>0.0</td>\n",
       "      <td>0.0</td>\n",
       "      <td>0.0</td>\n",
       "      <td>27</td>\n",
       "      <td>49.1</td>\n",
       "      <td>9</td>\n",
       "      <td>16.4</td>\n",
       "      <td>15</td>\n",
       "      <td>27.3</td>\n",
       "      <td>4.0</td>\n",
       "      <td>7.3</td>\n",
       "    </tr>\n",
       "    <tr>\n",
       "      <th>ÁGUA FRIA</th>\n",
       "      <td>32</td>\n",
       "      <td>33.7</td>\n",
       "      <td>63</td>\n",
       "      <td>66.3</td>\n",
       "      <td>4.0</td>\n",
       "      <td>4.2</td>\n",
       "      <td>91</td>\n",
       "      <td>95.8</td>\n",
       "      <td>0.0</td>\n",
       "      <td>0.0</td>\n",
       "      <td>0.0</td>\n",
       "      <td>0.0</td>\n",
       "      <td>38</td>\n",
       "      <td>40.0</td>\n",
       "      <td>38</td>\n",
       "      <td>40.0</td>\n",
       "      <td>15</td>\n",
       "      <td>15.8</td>\n",
       "      <td>4.0</td>\n",
       "      <td>4.2</td>\n",
       "    </tr>\n",
       "    <tr>\n",
       "      <th>ÉRICO CARDOSO</th>\n",
       "      <td>14</td>\n",
       "      <td>32.6</td>\n",
       "      <td>29</td>\n",
       "      <td>67.4</td>\n",
       "      <td>13.0</td>\n",
       "      <td>30.2</td>\n",
       "      <td>29</td>\n",
       "      <td>67.4</td>\n",
       "      <td>0.0</td>\n",
       "      <td>0.0</td>\n",
       "      <td>1.0</td>\n",
       "      <td>2.3</td>\n",
       "      <td>20</td>\n",
       "      <td>46.5</td>\n",
       "      <td>8</td>\n",
       "      <td>18.6</td>\n",
       "      <td>15</td>\n",
       "      <td>34.9</td>\n",
       "      <td>0.0</td>\n",
       "      <td>0.0</td>\n",
       "    </tr>\n",
       "  </tbody>\n",
       "</table>\n",
       "<p>417 rows × 20 columns</p>\n",
       "</div>"
      ],
      "text/plain": [
       "                     FEMININO  %FEMININO  MASCULINO  %MASCULINO  BRANCA  \\\n",
       "ABARÉ                      14       32.6         29        67.4     6.0   \n",
       "ABAÍRA                      9       37.5         15        62.5    10.0   \n",
       "ACAJUTIBA                  34       37.8         56        62.2     6.0   \n",
       "ADUSTINA                   15       31.9         32        68.1    24.0   \n",
       "AIQUARA                    13       32.5         27        67.5     4.0   \n",
       "...                       ...        ...        ...         ...     ...   \n",
       "WANDERLEY                  13       35.1         24        64.9    13.0   \n",
       "WENCESLAU GUIMARÃES        37       34.3         71        65.7     5.0   \n",
       "XIQUE-XIQUE                16       29.1         39        70.9     5.0   \n",
       "ÁGUA FRIA                  32       33.7         63        66.3     4.0   \n",
       "ÉRICO CARDOSO              14       32.6         29        67.4    13.0   \n",
       "\n",
       "                     %BRANCA  NEGRA  %NEGRA  AMARELA  %AMARELA  INDÍGENA  \\\n",
       "ABARÉ                   14.0     34    79.1      1.0       2.3       2.0   \n",
       "ABAÍRA                  41.7     10    41.7      4.0      16.7       0.0   \n",
       "ACAJUTIBA                6.7     84    93.3      0.0       0.0       0.0   \n",
       "ADUSTINA                51.1     23    48.9      0.0       0.0       0.0   \n",
       "AIQUARA                 10.0     36    90.0      0.0       0.0       0.0   \n",
       "...                      ...    ...     ...      ...       ...       ...   \n",
       "WANDERLEY               35.1     24    64.9      0.0       0.0       0.0   \n",
       "WENCESLAU GUIMARÃES      4.6    103    95.4      0.0       0.0       0.0   \n",
       "XIQUE-XIQUE              9.1     50    90.9      0.0       0.0       0.0   \n",
       "ÁGUA FRIA                4.2     91    95.8      0.0       0.0       0.0   \n",
       "ÉRICO CARDOSO           30.2     29    67.4      0.0       0.0       1.0   \n",
       "\n",
       "                     %INDÍGENA  ENSINO MÉDIO  %ENSINO MÉDIO  \\\n",
       "ABARÉ                      4.7            18           41.9   \n",
       "ABAÍRA                     0.0            13           54.2   \n",
       "ACAJUTIBA                  0.0            60           66.7   \n",
       "ADUSTINA                   0.0            24           51.1   \n",
       "AIQUARA                    0.0            22           55.0   \n",
       "...                        ...           ...            ...   \n",
       "WANDERLEY                  0.0            16           43.2   \n",
       "WENCESLAU GUIMARÃES        0.0            70           64.8   \n",
       "XIQUE-XIQUE                0.0            27           49.1   \n",
       "ÁGUA FRIA                  0.0            38           40.0   \n",
       "ÉRICO CARDOSO              2.3            20           46.5   \n",
       "\n",
       "                     ENSINO FUNDAMENTAL  %ENSINO FUNDAMENTAL  ENSINO SUPERIOR  \\\n",
       "ABARÉ                                11                 25.6               14   \n",
       "ABAÍRA                                6                 25.0                2   \n",
       "ACAJUTIBA                            18                 20.0               12   \n",
       "ADUSTINA                             14                 29.8                5   \n",
       "AIQUARA                              13                 32.5                5   \n",
       "...                                 ...                  ...              ...   \n",
       "WANDERLEY                            11                 29.7                9   \n",
       "WENCESLAU GUIMARÃES                  24                 22.2               14   \n",
       "XIQUE-XIQUE                           9                 16.4               15   \n",
       "ÁGUA FRIA                            38                 40.0               15   \n",
       "ÉRICO CARDOSO                         8                 18.6               15   \n",
       "\n",
       "                     %ENSINO SUPERIOR  LÊ E ESCREVE  %LÊ E ESCREVE  \n",
       "ABARÉ                            32.6           0.0            0.0  \n",
       "ABAÍRA                            8.3           3.0           12.5  \n",
       "ACAJUTIBA                        13.3           0.0            0.0  \n",
       "ADUSTINA                         10.6           4.0            8.5  \n",
       "AIQUARA                          12.5           0.0            0.0  \n",
       "...                               ...           ...            ...  \n",
       "WANDERLEY                        24.3           1.0            2.7  \n",
       "WENCESLAU GUIMARÃES              13.0           0.0            0.0  \n",
       "XIQUE-XIQUE                      27.3           4.0            7.3  \n",
       "ÁGUA FRIA                        15.8           4.0            4.2  \n",
       "ÉRICO CARDOSO                    34.9           0.0            0.0  \n",
       "\n",
       "[417 rows x 20 columns]"
      ]
     },
     "execution_count": 95,
     "metadata": {},
     "output_type": "execute_result"
    }
   ],
   "source": [
    "df_ue"
   ]
  },
  {
   "cell_type": "code",
   "execution_count": 96,
   "metadata": {},
   "outputs": [],
   "source": [
    "df_ue.to_csv('consultaVereador_BA_municipios.csv')"
   ]
  }
 ],
 "metadata": {
  "kernelspec": {
   "display_name": "Python 3",
   "language": "python",
   "name": "python3"
  },
  "language_info": {
   "codemirror_mode": {
    "name": "ipython",
    "version": 3
   },
   "file_extension": ".py",
   "mimetype": "text/x-python",
   "name": "python",
   "nbconvert_exporter": "python",
   "pygments_lexer": "ipython3",
   "version": "3.8.10"
  }
 },
 "nbformat": 4,
 "nbformat_minor": 4
}
