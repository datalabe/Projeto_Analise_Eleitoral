{
 "cells": [
  {
   "cell_type": "markdown",
   "metadata": {},
   "source": [
    "# Análise dados eleitoras Estado  de Alagoas\n",
    "\n",
    "  ### Objetivos: Entender a distibuicao racial, etária e de genero dos candidatos ao cargo de verador por partido e território\n",
    "  ### Dados: http://www.tse.jus.br/eleicoes/estatisticas/repositorio-de-dados-eleitorais-1/repositorio-de-dados-eleitorais"
   ]
  },
  {
   "cell_type": "code",
   "execution_count": 1,
   "metadata": {},
   "outputs": [
    {
     "data": {
      "text/html": [
       "        <script type=\"text/javascript\">\n",
       "        window.PlotlyConfig = {MathJaxConfig: 'local'};\n",
       "        if (window.MathJax) {MathJax.Hub.Config({SVG: {font: \"STIX-Web\"}});}\n",
       "        if (typeof require !== 'undefined') {\n",
       "        require.undef(\"plotly\");\n",
       "        requirejs.config({\n",
       "            paths: {\n",
       "                'plotly': ['https://cdn.plot.ly/plotly-2.2.0.min']\n",
       "            }\n",
       "        });\n",
       "        require(['plotly'], function(Plotly) {\n",
       "            window._Plotly = Plotly;\n",
       "        });\n",
       "        }\n",
       "        </script>\n",
       "        "
      ]
     },
     "metadata": {},
     "output_type": "display_data"
    }
   ],
   "source": [
    "import pandas as pd\n",
    "import matplotlib.pyplot as plt\n",
    "import plotly.offline as py\n",
    "from plotly.subplots import make_subplots\n",
    "import plotly.express as px\n",
    "import plotly.graph_objs as go\n",
    "import numpy as np\n",
    "\n",
    "\n",
    "py.init_notebook_mode(connected=True)\n",
    "pd.options.plotting.backend ='plotly'\n",
    "\n",
    "%matplotlib inline"
   ]
  },
  {
   "cell_type": "code",
   "execution_count": 75,
   "metadata": {},
   "outputs": [],
   "source": [
    "# Definindo casas decimais\n",
    "decimais = 1"
   ]
  },
  {
   "cell_type": "code",
   "execution_count": 4,
   "metadata": {},
   "outputs": [],
   "source": [
    "consulta = pd.read_csv('consulta_cand_2016_AL.csv', sep=';', encoding='latin-1', low_memory=False)"
   ]
  },
  {
   "cell_type": "code",
   "execution_count": 3,
   "metadata": {
    "collapsed": true
   },
   "outputs": [
    {
     "data": {
      "text/plain": [
       "Index(['DT_GERACAO', 'HH_GERACAO', 'ANO_ELEICAO', 'CD_TIPO_ELEICAO',\n",
       "       'NM_TIPO_ELEICAO', 'NR_TURNO', 'CD_ELEICAO', 'DS_ELEICAO', 'DT_ELEICAO',\n",
       "       'TP_ABRANGENCIA', 'SG_UF', 'SG_UE', 'NM_UE', 'CD_CARGO', 'DS_CARGO',\n",
       "       'SQ_CANDIDATO', 'NR_CANDIDATO', 'NM_CANDIDATO', 'NM_URNA_CANDIDATO',\n",
       "       'NM_SOCIAL_CANDIDATO', 'NR_CPF_CANDIDATO', 'NM_EMAIL',\n",
       "       'CD_SITUACAO_CANDIDATURA', 'DS_SITUACAO_CANDIDATURA',\n",
       "       'CD_DETALHE_SITUACAO_CAND', 'DS_DETALHE_SITUACAO_CAND', 'TP_AGREMIACAO',\n",
       "       'NR_PARTIDO', 'SG_PARTIDO', 'NM_PARTIDO', 'SQ_COLIGACAO',\n",
       "       'NM_COLIGACAO', 'DS_COMPOSICAO_COLIGACAO', 'CD_NACIONALIDADE',\n",
       "       'DS_NACIONALIDADE', 'SG_UF_NASCIMENTO', 'CD_MUNICIPIO_NASCIMENTO',\n",
       "       'NM_MUNICIPIO_NASCIMENTO', 'DT_NASCIMENTO', 'NR_IDADE_DATA_POSSE',\n",
       "       'NR_TITULO_ELEITORAL_CANDIDATO', 'CD_GENERO', 'DS_GENERO',\n",
       "       'CD_GRAU_INSTRUCAO', 'DS_GRAU_INSTRUCAO', 'CD_ESTADO_CIVIL',\n",
       "       'DS_ESTADO_CIVIL', 'CD_COR_RACA', 'DS_COR_RACA', 'CD_OCUPACAO',\n",
       "       'DS_OCUPACAO', 'VR_DESPESA_MAX_CAMPANHA', 'CD_SIT_TOT_TURNO',\n",
       "       'DS_SIT_TOT_TURNO', 'ST_REELEICAO', 'ST_DECLARAR_BENS',\n",
       "       'NR_PROTOCOLO_CANDIDATURA', 'NR_PROCESSO',\n",
       "       'CD_SITUACAO_CANDIDATO_PLEITO', 'DS_SITUACAO_CANDIDATO_PLEITO',\n",
       "       'CD_SITUACAO_CANDIDATO_URNA', 'DS_SITUACAO_CANDIDATO_URNA',\n",
       "       'ST_CANDIDATO_INSERIDO_URNA'],\n",
       "      dtype='object')"
      ]
     },
     "execution_count": 3,
     "metadata": {},
     "output_type": "execute_result"
    }
   ],
   "source": [
    "consulta.columns"
   ]
  },
  {
   "cell_type": "code",
   "execution_count": 5,
   "metadata": {},
   "outputs": [],
   "source": [
    "consulta2016 = pd.DataFrame(consulta, columns= ['DS_CARGO','NM_CANDIDATO', 'NM_SOCIAL_CANDIDATO', 'NM_PARTIDO','DS_GENERO',\n",
    "                                                'DS_COR_RACA', 'NR_IDADE_DATA_POSSE', 'DS_GRAU_INSTRUCAO','NM_UE', 'VR_DESPESA_MAX_CAMPANHA'])"
   ]
  },
  {
   "cell_type": "code",
   "execution_count": 12,
   "metadata": {},
   "outputs": [],
   "source": [
    "consulta_Vereador_2016 = pd.DataFrame(consulta2016.loc[consulta['DS_CARGO'] == 'VEREADOR'])"
   ]
  },
  {
   "cell_type": "code",
   "execution_count": 4,
   "metadata": {},
   "outputs": [],
   "source": [
    "# Renomeando a coluna raça para os declarados pretos e pardos\n",
    "for (row, col) in consulta_Vereador_2016.iterrows():\n",
    "    if col.DS_COR_RACA == 'PRETA':\n",
    "        consulta_Vereador_2016['DS_COR_RACA'].replace(to_replace=col.DS_COR_RACA, value='NEGRA', inplace=True)\n",
    "    if col.DS_COR_RACA == 'PARDA':\n",
    "        consulta_Vereador_2016['DS_COR_RACA'].replace(to_replace=col.DS_COR_RACA, value='NEGRA', inplace=True)"
   ]
  },
  {
   "cell_type": "code",
   "execution_count": 5,
   "metadata": {},
   "outputs": [],
   "source": [
    "consulta_Vereador_2016.to_csv('consulta_Vereador_2016_AL.csv')"
   ]
  },
  {
   "cell_type": "code",
   "execution_count": 6,
   "metadata": {},
   "outputs": [],
   "source": [
    "consulta_Vereador_2016 = pd.read_csv('consulta_Vereador_2016_AL.csv')"
   ]
  },
  {
   "cell_type": "code",
   "execution_count": 7,
   "metadata": {
    "collapsed": true
   },
   "outputs": [
    {
     "data": {
      "text/html": [
       "<div>\n",
       "<style scoped>\n",
       "    .dataframe tbody tr th:only-of-type {\n",
       "        vertical-align: middle;\n",
       "    }\n",
       "\n",
       "    .dataframe tbody tr th {\n",
       "        vertical-align: top;\n",
       "    }\n",
       "\n",
       "    .dataframe thead th {\n",
       "        text-align: right;\n",
       "    }\n",
       "</style>\n",
       "<table border=\"1\" class=\"dataframe\">\n",
       "  <thead>\n",
       "    <tr style=\"text-align: right;\">\n",
       "      <th></th>\n",
       "      <th>Unnamed: 0</th>\n",
       "      <th>Unnamed: 0.1</th>\n",
       "      <th>DS_CARGO</th>\n",
       "      <th>NM_CANDIDATO</th>\n",
       "      <th>NM_SOCIAL_CANDIDATO</th>\n",
       "      <th>NM_PARTIDO</th>\n",
       "      <th>DS_GENERO</th>\n",
       "      <th>DS_COR_RACA</th>\n",
       "      <th>NR_IDADE_DATA_POSSE</th>\n",
       "      <th>DS_GRAU_INSTRUCAO</th>\n",
       "      <th>NM_UE</th>\n",
       "      <th>VR_DESPESA_MAX_CAMPANHA</th>\n",
       "    </tr>\n",
       "  </thead>\n",
       "  <tbody>\n",
       "    <tr>\n",
       "      <th>0</th>\n",
       "      <td>0</td>\n",
       "      <td>0</td>\n",
       "      <td>VEREADOR</td>\n",
       "      <td>VALDILENE SOARES</td>\n",
       "      <td>#NULO#</td>\n",
       "      <td>PARTIDO SOCIAL DEMOCRÁTICO</td>\n",
       "      <td>FEMININO</td>\n",
       "      <td>NEGRA</td>\n",
       "      <td>36</td>\n",
       "      <td>SUPERIOR COMPLETO</td>\n",
       "      <td>JACARÉ DOS HOMENS</td>\n",
       "      <td>-1</td>\n",
       "    </tr>\n",
       "    <tr>\n",
       "      <th>1</th>\n",
       "      <td>1</td>\n",
       "      <td>1</td>\n",
       "      <td>VEREADOR</td>\n",
       "      <td>REGINALDO SOARES DOS SANTOS</td>\n",
       "      <td>#NULO#</td>\n",
       "      <td>PARTIDO TRABALHISTA NACIONAL</td>\n",
       "      <td>MASCULINO</td>\n",
       "      <td>NEGRA</td>\n",
       "      <td>42</td>\n",
       "      <td>ENSINO FUNDAMENTAL INCOMPLETO</td>\n",
       "      <td>TEOTÔNIO VILELA</td>\n",
       "      <td>-1</td>\n",
       "    </tr>\n",
       "    <tr>\n",
       "      <th>2</th>\n",
       "      <td>2</td>\n",
       "      <td>2</td>\n",
       "      <td>VEREADOR</td>\n",
       "      <td>MARCELO LINS PEREIRA</td>\n",
       "      <td>#NULO#</td>\n",
       "      <td>PARTIDO DA MOBILIZAÇÃO NACIONAL</td>\n",
       "      <td>MASCULINO</td>\n",
       "      <td>BRANCA</td>\n",
       "      <td>35</td>\n",
       "      <td>SUPERIOR INCOMPLETO</td>\n",
       "      <td>PENEDO</td>\n",
       "      <td>-1</td>\n",
       "    </tr>\n",
       "    <tr>\n",
       "      <th>3</th>\n",
       "      <td>3</td>\n",
       "      <td>3</td>\n",
       "      <td>VEREADOR</td>\n",
       "      <td>DEICIANE MANDU VILELA</td>\n",
       "      <td>#NULO#</td>\n",
       "      <td>PARTIDO COMUNISTA DO BRASIL</td>\n",
       "      <td>FEMININO</td>\n",
       "      <td>NEGRA</td>\n",
       "      <td>34</td>\n",
       "      <td>ENSINO MÉDIO COMPLETO</td>\n",
       "      <td>SÃO SEBASTIÃO</td>\n",
       "      <td>-1</td>\n",
       "    </tr>\n",
       "    <tr>\n",
       "      <th>4</th>\n",
       "      <td>4</td>\n",
       "      <td>4</td>\n",
       "      <td>VEREADOR</td>\n",
       "      <td>PETRUCIO DA SILVA ABREU</td>\n",
       "      <td>#NULO#</td>\n",
       "      <td>PARTIDO DA SOCIAL DEMOCRACIA BRASILEIRA</td>\n",
       "      <td>MASCULINO</td>\n",
       "      <td>NEGRA</td>\n",
       "      <td>43</td>\n",
       "      <td>SUPERIOR COMPLETO</td>\n",
       "      <td>CAJUEIRO</td>\n",
       "      <td>0</td>\n",
       "    </tr>\n",
       "    <tr>\n",
       "      <th>...</th>\n",
       "      <td>...</td>\n",
       "      <td>...</td>\n",
       "      <td>...</td>\n",
       "      <td>...</td>\n",
       "      <td>...</td>\n",
       "      <td>...</td>\n",
       "      <td>...</td>\n",
       "      <td>...</td>\n",
       "      <td>...</td>\n",
       "      <td>...</td>\n",
       "      <td>...</td>\n",
       "      <td>...</td>\n",
       "    </tr>\n",
       "    <tr>\n",
       "      <th>6630</th>\n",
       "      <td>6630</td>\n",
       "      <td>7276</td>\n",
       "      <td>VEREADOR</td>\n",
       "      <td>MARIA BETÂNIA LISBOA MARTINS</td>\n",
       "      <td>#NULO#</td>\n",
       "      <td>PARTIDO DEMOCRÁTICO TRABALHISTA</td>\n",
       "      <td>FEMININO</td>\n",
       "      <td>BRANCA</td>\n",
       "      <td>69</td>\n",
       "      <td>ENSINO MÉDIO COMPLETO</td>\n",
       "      <td>VIÇOSA</td>\n",
       "      <td>-1</td>\n",
       "    </tr>\n",
       "    <tr>\n",
       "      <th>6631</th>\n",
       "      <td>6631</td>\n",
       "      <td>7278</td>\n",
       "      <td>VEREADOR</td>\n",
       "      <td>AELSON GONÇALVES DOS SANTOS</td>\n",
       "      <td>#NULO#</td>\n",
       "      <td>PARTIDO SOCIAL DEMOCRATA CRISTÃO</td>\n",
       "      <td>MASCULINO</td>\n",
       "      <td>NEGRA</td>\n",
       "      <td>47</td>\n",
       "      <td>ENSINO MÉDIO COMPLETO</td>\n",
       "      <td>UNIÃO DOS PALMARES</td>\n",
       "      <td>-1</td>\n",
       "    </tr>\n",
       "    <tr>\n",
       "      <th>6632</th>\n",
       "      <td>6632</td>\n",
       "      <td>7280</td>\n",
       "      <td>VEREADOR</td>\n",
       "      <td>JOSE MOISES MENDES DO NASCIMENTO</td>\n",
       "      <td>#NULO#</td>\n",
       "      <td>PARTIDO DEMOCRÁTICO TRABALHISTA</td>\n",
       "      <td>MASCULINO</td>\n",
       "      <td>BRANCA</td>\n",
       "      <td>36</td>\n",
       "      <td>SUPERIOR INCOMPLETO</td>\n",
       "      <td>SÃO MIGUEL DOS CAMPOS</td>\n",
       "      <td>0</td>\n",
       "    </tr>\n",
       "    <tr>\n",
       "      <th>6633</th>\n",
       "      <td>6633</td>\n",
       "      <td>7282</td>\n",
       "      <td>VEREADOR</td>\n",
       "      <td>JOSE IAUDO BOMFIM</td>\n",
       "      <td>#NULO#</td>\n",
       "      <td>PARTIDO PROGRESSISTA</td>\n",
       "      <td>MASCULINO</td>\n",
       "      <td>NEGRA</td>\n",
       "      <td>68</td>\n",
       "      <td>LÊ E ESCREVE</td>\n",
       "      <td>MAR VERMELHO</td>\n",
       "      <td>-1</td>\n",
       "    </tr>\n",
       "    <tr>\n",
       "      <th>6634</th>\n",
       "      <td>6634</td>\n",
       "      <td>7284</td>\n",
       "      <td>VEREADOR</td>\n",
       "      <td>MARCIO SILVA SANTOS</td>\n",
       "      <td>#NULO#</td>\n",
       "      <td>PARTIDO DA SOCIAL DEMOCRACIA BRASILEIRA</td>\n",
       "      <td>MASCULINO</td>\n",
       "      <td>NEGRA</td>\n",
       "      <td>33</td>\n",
       "      <td>ENSINO FUNDAMENTAL COMPLETO</td>\n",
       "      <td>ÁGUA BRANCA</td>\n",
       "      <td>0</td>\n",
       "    </tr>\n",
       "  </tbody>\n",
       "</table>\n",
       "<p>6635 rows × 12 columns</p>\n",
       "</div>"
      ],
      "text/plain": [
       "      Unnamed: 0  Unnamed: 0.1  DS_CARGO                      NM_CANDIDATO  \\\n",
       "0              0             0  VEREADOR                  VALDILENE SOARES   \n",
       "1              1             1  VEREADOR       REGINALDO SOARES DOS SANTOS   \n",
       "2              2             2  VEREADOR              MARCELO LINS PEREIRA   \n",
       "3              3             3  VEREADOR             DEICIANE MANDU VILELA   \n",
       "4              4             4  VEREADOR           PETRUCIO DA SILVA ABREU   \n",
       "...          ...           ...       ...                               ...   \n",
       "6630        6630          7276  VEREADOR      MARIA BETÂNIA LISBOA MARTINS   \n",
       "6631        6631          7278  VEREADOR       AELSON GONÇALVES DOS SANTOS   \n",
       "6632        6632          7280  VEREADOR  JOSE MOISES MENDES DO NASCIMENTO   \n",
       "6633        6633          7282  VEREADOR                 JOSE IAUDO BOMFIM   \n",
       "6634        6634          7284  VEREADOR               MARCIO SILVA SANTOS   \n",
       "\n",
       "     NM_SOCIAL_CANDIDATO                               NM_PARTIDO  DS_GENERO  \\\n",
       "0                 #NULO#               PARTIDO SOCIAL DEMOCRÁTICO   FEMININO   \n",
       "1                 #NULO#             PARTIDO TRABALHISTA NACIONAL  MASCULINO   \n",
       "2                 #NULO#          PARTIDO DA MOBILIZAÇÃO NACIONAL  MASCULINO   \n",
       "3                 #NULO#              PARTIDO COMUNISTA DO BRASIL   FEMININO   \n",
       "4                 #NULO#  PARTIDO DA SOCIAL DEMOCRACIA BRASILEIRA  MASCULINO   \n",
       "...                  ...                                      ...        ...   \n",
       "6630              #NULO#          PARTIDO DEMOCRÁTICO TRABALHISTA   FEMININO   \n",
       "6631              #NULO#         PARTIDO SOCIAL DEMOCRATA CRISTÃO  MASCULINO   \n",
       "6632              #NULO#          PARTIDO DEMOCRÁTICO TRABALHISTA  MASCULINO   \n",
       "6633              #NULO#                     PARTIDO PROGRESSISTA  MASCULINO   \n",
       "6634              #NULO#  PARTIDO DA SOCIAL DEMOCRACIA BRASILEIRA  MASCULINO   \n",
       "\n",
       "     DS_COR_RACA  NR_IDADE_DATA_POSSE              DS_GRAU_INSTRUCAO  \\\n",
       "0          NEGRA                   36              SUPERIOR COMPLETO   \n",
       "1          NEGRA                   42  ENSINO FUNDAMENTAL INCOMPLETO   \n",
       "2         BRANCA                   35            SUPERIOR INCOMPLETO   \n",
       "3          NEGRA                   34          ENSINO MÉDIO COMPLETO   \n",
       "4          NEGRA                   43              SUPERIOR COMPLETO   \n",
       "...          ...                  ...                            ...   \n",
       "6630      BRANCA                   69          ENSINO MÉDIO COMPLETO   \n",
       "6631       NEGRA                   47          ENSINO MÉDIO COMPLETO   \n",
       "6632      BRANCA                   36            SUPERIOR INCOMPLETO   \n",
       "6633       NEGRA                   68                   LÊ E ESCREVE   \n",
       "6634       NEGRA                   33    ENSINO FUNDAMENTAL COMPLETO   \n",
       "\n",
       "                      NM_UE  VR_DESPESA_MAX_CAMPANHA  \n",
       "0         JACARÉ DOS HOMENS                       -1  \n",
       "1           TEOTÔNIO VILELA                       -1  \n",
       "2                    PENEDO                       -1  \n",
       "3             SÃO SEBASTIÃO                       -1  \n",
       "4                  CAJUEIRO                        0  \n",
       "...                     ...                      ...  \n",
       "6630                 VIÇOSA                       -1  \n",
       "6631     UNIÃO DOS PALMARES                       -1  \n",
       "6632  SÃO MIGUEL DOS CAMPOS                        0  \n",
       "6633           MAR VERMELHO                       -1  \n",
       "6634            ÁGUA BRANCA                        0  \n",
       "\n",
       "[6635 rows x 12 columns]"
      ]
     },
     "execution_count": 7,
     "metadata": {},
     "output_type": "execute_result"
    }
   ],
   "source": [
    "consulta_Vereador_2016"
   ]
  },
  {
   "cell_type": "markdown",
   "metadata": {},
   "source": [
    "### Visão Geral\n",
    "\n",
    "Há 6529 candidaturas ao cargo de vereador,32 partidos e 102 unidades eleitorais.\n",
    "\n",
    "O partido com maior número de candidaturas em Alagoas é o PARTIDO DO MOVIMENTO DEMOCRÁTICO BRASILEIRO, já o PARTIDO SOCIALISTA DOS TRABALHADORES UNIFICADO tem o menor número de candidaturas. \n",
    "\n",
    "Maceió é a unidade eleitoral com maior número de candidaturas,233, ao contrário de PINDOBA e CACIMBINHAs que possui apenas 24 candidaturas.\n",
    "\n",
    " 68% das candidaturas são de homens, 75% são de declarados negros,  média de idade é de 42 anos e maioria dos candidatos tem  o ensino médio completo\n",
    " \n",
    " \n",
    " \n",
    " \n",
    " \n",
    " \n",
    " \n",
    " \n",
    " \n",
    " \n",
    " ***OBS:*** *A análise de raça foi feita a partir do que é entendido como população negra no Brasil por parte das instituições Data Labe e Alma Preta, assim foi considerados negros a soma de pretos e pardos*\n"
   ]
  },
  {
   "cell_type": "code",
   "execution_count": 49,
   "metadata": {
    "collapsed": true
   },
   "outputs": [
    {
     "data": {
      "text/plain": [
       "Unnamed: 0                 6635\n",
       "DS_CARGO                      1\n",
       "NM_CANDIDATO               6529\n",
       "NM_SOCIAL_CANDIDATO           1\n",
       "NM_PARTIDO                   32\n",
       "DS_GENERO                     2\n",
       "DS_COR_RACA                   4\n",
       "NR_IDADE_DATA_POSSE          65\n",
       "DS_GRAU_INSTRUCAO             7\n",
       "NM_UE                       102\n",
       "VR_DESPESA_MAX_CAMPANHA       2\n",
       "dtype: int64"
      ]
     },
     "execution_count": 49,
     "metadata": {},
     "output_type": "execute_result"
    }
   ],
   "source": [
    "consulta_Vereador_2016.nunique()"
   ]
  },
  {
   "cell_type": "code",
   "execution_count": 43,
   "metadata": {
    "collapsed": true
   },
   "outputs": [
    {
     "data": {
      "text/plain": [
       "PARTIDO DO MOVIMENTO DEMOCRÁTICO BRASILEIRO       831\n",
       "PARTIDO PROGRESSISTA                              423\n",
       "PARTIDO DA SOCIAL DEMOCRACIA BRASILEIRA           378\n",
       "PARTIDO SOCIAL DEMOCRÁTICO                        353\n",
       "PARTIDO DEMOCRÁTICO TRABALHISTA                   315\n",
       "PARTIDO SOCIALISTA BRASILEIRO                     299\n",
       "DEMOCRATAS                                        291\n",
       "PARTIDO POPULAR SOCIALISTA                        286\n",
       "PARTIDO SOCIAL CRISTÃO                            268\n",
       "PARTIDO REPUBLICANO PROGRESSISTA                  264\n",
       "PARTIDO REPUBLICANO BRASILEIRO                    253\n",
       "PARTIDO SOCIAL LIBERAL                            234\n",
       "PARTIDO DOS TRABALHADORES                         229\n",
       "PARTIDO HUMANISTA DA SOLIDARIEDADE                220\n",
       "PARTIDO DA MOBILIZAÇÃO NACIONAL                   212\n",
       "PARTIDO DA REPÚBLICA                              207\n",
       "SOLIDARIEDADE                                     206\n",
       "PARTIDO RENOVADOR TRABALHISTA BRASILEIRO          192\n",
       "PARTIDO PÁTRIA LIVRE                              146\n",
       "PARTIDO VERDE                                     141\n",
       "PARTIDO TRABALHISTA CRISTÃO                       120\n",
       "PARTIDO SOCIAL DEMOCRATA CRISTÃO                  108\n",
       "PARTIDO ECOLÓGICO NACIONAL                        100\n",
       "PARTIDO REPUBLICANO DA ORDEM SOCIAL                98\n",
       "PARTIDO COMUNISTA DO BRASIL                        98\n",
       "PARTIDO TRABALHISTA DO BRASIL                      95\n",
       "PARTIDO TRABALHISTA NACIONAL                       82\n",
       "PARTIDO TRABALHISTA BRASILEIRO                     69\n",
       "PARTIDO SOCIALISMO E LIBERDADE                     56\n",
       "PARTIDO DA MULHER BRASILEIRA                       38\n",
       "REDE SUSTENTABILIDADE                              20\n",
       "PARTIDO SOCIALISTA DOS TRABALHADORES UNIFICADO      3\n",
       "Name: NM_PARTIDO, dtype: int64"
      ]
     },
     "execution_count": 43,
     "metadata": {},
     "output_type": "execute_result"
    }
   ],
   "source": [
    "consulta_Vereador_2016['NM_PARTIDO'].value_counts()"
   ]
  },
  {
   "cell_type": "code",
   "execution_count": 48,
   "metadata": {
    "collapsed": true
   },
   "outputs": [
    {
     "data": {
      "application/vnd.plotly.v1+json": {
       "config": {
        "plotlyServerURL": "https://plot.ly"
       },
       "data": [
        {
         "alignmentgroup": "True",
         "hovertemplate": "variable=NM_PARTIDO<br>value=%{x}<br>index=%{y}<extra></extra>",
         "legendgroup": "NM_PARTIDO",
         "marker": {
          "color": "#636efa",
          "pattern": {
           "shape": ""
          }
         },
         "name": "NM_PARTIDO",
         "offsetgroup": "NM_PARTIDO",
         "orientation": "h",
         "showlegend": true,
         "textposition": "auto",
         "type": "bar",
         "x": [
          831,
          423,
          378,
          353,
          315,
          299,
          291,
          286,
          268,
          264,
          253,
          234,
          229,
          220,
          212,
          207,
          206,
          192,
          146,
          141,
          120,
          108,
          100,
          98,
          98,
          95,
          82,
          69,
          56,
          38,
          20,
          3
         ],
         "xaxis": "x",
         "y": [
          "PARTIDO DO MOVIMENTO DEMOCRÁTICO BRASILEIRO",
          "PARTIDO PROGRESSISTA",
          "PARTIDO DA SOCIAL DEMOCRACIA BRASILEIRA",
          "PARTIDO SOCIAL DEMOCRÁTICO",
          "PARTIDO DEMOCRÁTICO TRABALHISTA",
          "PARTIDO SOCIALISTA BRASILEIRO",
          "DEMOCRATAS",
          "PARTIDO POPULAR SOCIALISTA",
          "PARTIDO SOCIAL CRISTÃO",
          "PARTIDO REPUBLICANO PROGRESSISTA",
          "PARTIDO REPUBLICANO BRASILEIRO",
          "PARTIDO SOCIAL LIBERAL",
          "PARTIDO DOS TRABALHADORES",
          "PARTIDO HUMANISTA DA SOLIDARIEDADE",
          "PARTIDO DA MOBILIZAÇÃO NACIONAL",
          "PARTIDO DA REPÚBLICA",
          "SOLIDARIEDADE",
          "PARTIDO RENOVADOR TRABALHISTA BRASILEIRO",
          "PARTIDO PÁTRIA LIVRE",
          "PARTIDO VERDE",
          "PARTIDO TRABALHISTA CRISTÃO",
          "PARTIDO SOCIAL DEMOCRATA CRISTÃO",
          "PARTIDO ECOLÓGICO NACIONAL",
          "PARTIDO REPUBLICANO DA ORDEM SOCIAL",
          "PARTIDO COMUNISTA DO BRASIL",
          "PARTIDO TRABALHISTA DO BRASIL",
          "PARTIDO TRABALHISTA NACIONAL",
          "PARTIDO TRABALHISTA BRASILEIRO",
          "PARTIDO SOCIALISMO E LIBERDADE",
          "PARTIDO DA MULHER BRASILEIRA",
          "REDE SUSTENTABILIDADE",
          "PARTIDO SOCIALISTA DOS TRABALHADORES UNIFICADO"
         ],
         "yaxis": "y"
        }
       ],
       "layout": {
        "barmode": "relative",
        "legend": {
         "title": {
          "text": "variable"
         },
         "tracegroupgap": 0
        },
        "template": {
         "data": {
          "bar": [
           {
            "error_x": {
             "color": "#2a3f5f"
            },
            "error_y": {
             "color": "#2a3f5f"
            },
            "marker": {
             "line": {
              "color": "#E5ECF6",
              "width": 0.5
             },
             "pattern": {
              "fillmode": "overlay",
              "size": 10,
              "solidity": 0.2
             }
            },
            "type": "bar"
           }
          ],
          "barpolar": [
           {
            "marker": {
             "line": {
              "color": "#E5ECF6",
              "width": 0.5
             },
             "pattern": {
              "fillmode": "overlay",
              "size": 10,
              "solidity": 0.2
             }
            },
            "type": "barpolar"
           }
          ],
          "carpet": [
           {
            "aaxis": {
             "endlinecolor": "#2a3f5f",
             "gridcolor": "white",
             "linecolor": "white",
             "minorgridcolor": "white",
             "startlinecolor": "#2a3f5f"
            },
            "baxis": {
             "endlinecolor": "#2a3f5f",
             "gridcolor": "white",
             "linecolor": "white",
             "minorgridcolor": "white",
             "startlinecolor": "#2a3f5f"
            },
            "type": "carpet"
           }
          ],
          "choropleth": [
           {
            "colorbar": {
             "outlinewidth": 0,
             "ticks": ""
            },
            "type": "choropleth"
           }
          ],
          "contour": [
           {
            "colorbar": {
             "outlinewidth": 0,
             "ticks": ""
            },
            "colorscale": [
             [
              0,
              "#0d0887"
             ],
             [
              0.1111111111111111,
              "#46039f"
             ],
             [
              0.2222222222222222,
              "#7201a8"
             ],
             [
              0.3333333333333333,
              "#9c179e"
             ],
             [
              0.4444444444444444,
              "#bd3786"
             ],
             [
              0.5555555555555556,
              "#d8576b"
             ],
             [
              0.6666666666666666,
              "#ed7953"
             ],
             [
              0.7777777777777778,
              "#fb9f3a"
             ],
             [
              0.8888888888888888,
              "#fdca26"
             ],
             [
              1,
              "#f0f921"
             ]
            ],
            "type": "contour"
           }
          ],
          "contourcarpet": [
           {
            "colorbar": {
             "outlinewidth": 0,
             "ticks": ""
            },
            "type": "contourcarpet"
           }
          ],
          "heatmap": [
           {
            "colorbar": {
             "outlinewidth": 0,
             "ticks": ""
            },
            "colorscale": [
             [
              0,
              "#0d0887"
             ],
             [
              0.1111111111111111,
              "#46039f"
             ],
             [
              0.2222222222222222,
              "#7201a8"
             ],
             [
              0.3333333333333333,
              "#9c179e"
             ],
             [
              0.4444444444444444,
              "#bd3786"
             ],
             [
              0.5555555555555556,
              "#d8576b"
             ],
             [
              0.6666666666666666,
              "#ed7953"
             ],
             [
              0.7777777777777778,
              "#fb9f3a"
             ],
             [
              0.8888888888888888,
              "#fdca26"
             ],
             [
              1,
              "#f0f921"
             ]
            ],
            "type": "heatmap"
           }
          ],
          "heatmapgl": [
           {
            "colorbar": {
             "outlinewidth": 0,
             "ticks": ""
            },
            "colorscale": [
             [
              0,
              "#0d0887"
             ],
             [
              0.1111111111111111,
              "#46039f"
             ],
             [
              0.2222222222222222,
              "#7201a8"
             ],
             [
              0.3333333333333333,
              "#9c179e"
             ],
             [
              0.4444444444444444,
              "#bd3786"
             ],
             [
              0.5555555555555556,
              "#d8576b"
             ],
             [
              0.6666666666666666,
              "#ed7953"
             ],
             [
              0.7777777777777778,
              "#fb9f3a"
             ],
             [
              0.8888888888888888,
              "#fdca26"
             ],
             [
              1,
              "#f0f921"
             ]
            ],
            "type": "heatmapgl"
           }
          ],
          "histogram": [
           {
            "marker": {
             "pattern": {
              "fillmode": "overlay",
              "size": 10,
              "solidity": 0.2
             }
            },
            "type": "histogram"
           }
          ],
          "histogram2d": [
           {
            "colorbar": {
             "outlinewidth": 0,
             "ticks": ""
            },
            "colorscale": [
             [
              0,
              "#0d0887"
             ],
             [
              0.1111111111111111,
              "#46039f"
             ],
             [
              0.2222222222222222,
              "#7201a8"
             ],
             [
              0.3333333333333333,
              "#9c179e"
             ],
             [
              0.4444444444444444,
              "#bd3786"
             ],
             [
              0.5555555555555556,
              "#d8576b"
             ],
             [
              0.6666666666666666,
              "#ed7953"
             ],
             [
              0.7777777777777778,
              "#fb9f3a"
             ],
             [
              0.8888888888888888,
              "#fdca26"
             ],
             [
              1,
              "#f0f921"
             ]
            ],
            "type": "histogram2d"
           }
          ],
          "histogram2dcontour": [
           {
            "colorbar": {
             "outlinewidth": 0,
             "ticks": ""
            },
            "colorscale": [
             [
              0,
              "#0d0887"
             ],
             [
              0.1111111111111111,
              "#46039f"
             ],
             [
              0.2222222222222222,
              "#7201a8"
             ],
             [
              0.3333333333333333,
              "#9c179e"
             ],
             [
              0.4444444444444444,
              "#bd3786"
             ],
             [
              0.5555555555555556,
              "#d8576b"
             ],
             [
              0.6666666666666666,
              "#ed7953"
             ],
             [
              0.7777777777777778,
              "#fb9f3a"
             ],
             [
              0.8888888888888888,
              "#fdca26"
             ],
             [
              1,
              "#f0f921"
             ]
            ],
            "type": "histogram2dcontour"
           }
          ],
          "mesh3d": [
           {
            "colorbar": {
             "outlinewidth": 0,
             "ticks": ""
            },
            "type": "mesh3d"
           }
          ],
          "parcoords": [
           {
            "line": {
             "colorbar": {
              "outlinewidth": 0,
              "ticks": ""
             }
            },
            "type": "parcoords"
           }
          ],
          "pie": [
           {
            "automargin": true,
            "type": "pie"
           }
          ],
          "scatter": [
           {
            "marker": {
             "colorbar": {
              "outlinewidth": 0,
              "ticks": ""
             }
            },
            "type": "scatter"
           }
          ],
          "scatter3d": [
           {
            "line": {
             "colorbar": {
              "outlinewidth": 0,
              "ticks": ""
             }
            },
            "marker": {
             "colorbar": {
              "outlinewidth": 0,
              "ticks": ""
             }
            },
            "type": "scatter3d"
           }
          ],
          "scattercarpet": [
           {
            "marker": {
             "colorbar": {
              "outlinewidth": 0,
              "ticks": ""
             }
            },
            "type": "scattercarpet"
           }
          ],
          "scattergeo": [
           {
            "marker": {
             "colorbar": {
              "outlinewidth": 0,
              "ticks": ""
             }
            },
            "type": "scattergeo"
           }
          ],
          "scattergl": [
           {
            "marker": {
             "colorbar": {
              "outlinewidth": 0,
              "ticks": ""
             }
            },
            "type": "scattergl"
           }
          ],
          "scattermapbox": [
           {
            "marker": {
             "colorbar": {
              "outlinewidth": 0,
              "ticks": ""
             }
            },
            "type": "scattermapbox"
           }
          ],
          "scatterpolar": [
           {
            "marker": {
             "colorbar": {
              "outlinewidth": 0,
              "ticks": ""
             }
            },
            "type": "scatterpolar"
           }
          ],
          "scatterpolargl": [
           {
            "marker": {
             "colorbar": {
              "outlinewidth": 0,
              "ticks": ""
             }
            },
            "type": "scatterpolargl"
           }
          ],
          "scatterternary": [
           {
            "marker": {
             "colorbar": {
              "outlinewidth": 0,
              "ticks": ""
             }
            },
            "type": "scatterternary"
           }
          ],
          "surface": [
           {
            "colorbar": {
             "outlinewidth": 0,
             "ticks": ""
            },
            "colorscale": [
             [
              0,
              "#0d0887"
             ],
             [
              0.1111111111111111,
              "#46039f"
             ],
             [
              0.2222222222222222,
              "#7201a8"
             ],
             [
              0.3333333333333333,
              "#9c179e"
             ],
             [
              0.4444444444444444,
              "#bd3786"
             ],
             [
              0.5555555555555556,
              "#d8576b"
             ],
             [
              0.6666666666666666,
              "#ed7953"
             ],
             [
              0.7777777777777778,
              "#fb9f3a"
             ],
             [
              0.8888888888888888,
              "#fdca26"
             ],
             [
              1,
              "#f0f921"
             ]
            ],
            "type": "surface"
           }
          ],
          "table": [
           {
            "cells": {
             "fill": {
              "color": "#EBF0F8"
             },
             "line": {
              "color": "white"
             }
            },
            "header": {
             "fill": {
              "color": "#C8D4E3"
             },
             "line": {
              "color": "white"
             }
            },
            "type": "table"
           }
          ]
         },
         "layout": {
          "annotationdefaults": {
           "arrowcolor": "#2a3f5f",
           "arrowhead": 0,
           "arrowwidth": 1
          },
          "autotypenumbers": "strict",
          "coloraxis": {
           "colorbar": {
            "outlinewidth": 0,
            "ticks": ""
           }
          },
          "colorscale": {
           "diverging": [
            [
             0,
             "#8e0152"
            ],
            [
             0.1,
             "#c51b7d"
            ],
            [
             0.2,
             "#de77ae"
            ],
            [
             0.3,
             "#f1b6da"
            ],
            [
             0.4,
             "#fde0ef"
            ],
            [
             0.5,
             "#f7f7f7"
            ],
            [
             0.6,
             "#e6f5d0"
            ],
            [
             0.7,
             "#b8e186"
            ],
            [
             0.8,
             "#7fbc41"
            ],
            [
             0.9,
             "#4d9221"
            ],
            [
             1,
             "#276419"
            ]
           ],
           "sequential": [
            [
             0,
             "#0d0887"
            ],
            [
             0.1111111111111111,
             "#46039f"
            ],
            [
             0.2222222222222222,
             "#7201a8"
            ],
            [
             0.3333333333333333,
             "#9c179e"
            ],
            [
             0.4444444444444444,
             "#bd3786"
            ],
            [
             0.5555555555555556,
             "#d8576b"
            ],
            [
             0.6666666666666666,
             "#ed7953"
            ],
            [
             0.7777777777777778,
             "#fb9f3a"
            ],
            [
             0.8888888888888888,
             "#fdca26"
            ],
            [
             1,
             "#f0f921"
            ]
           ],
           "sequentialminus": [
            [
             0,
             "#0d0887"
            ],
            [
             0.1111111111111111,
             "#46039f"
            ],
            [
             0.2222222222222222,
             "#7201a8"
            ],
            [
             0.3333333333333333,
             "#9c179e"
            ],
            [
             0.4444444444444444,
             "#bd3786"
            ],
            [
             0.5555555555555556,
             "#d8576b"
            ],
            [
             0.6666666666666666,
             "#ed7953"
            ],
            [
             0.7777777777777778,
             "#fb9f3a"
            ],
            [
             0.8888888888888888,
             "#fdca26"
            ],
            [
             1,
             "#f0f921"
            ]
           ]
          },
          "colorway": [
           "#636efa",
           "#EF553B",
           "#00cc96",
           "#ab63fa",
           "#FFA15A",
           "#19d3f3",
           "#FF6692",
           "#B6E880",
           "#FF97FF",
           "#FECB52"
          ],
          "font": {
           "color": "#2a3f5f"
          },
          "geo": {
           "bgcolor": "white",
           "lakecolor": "white",
           "landcolor": "#E5ECF6",
           "showlakes": true,
           "showland": true,
           "subunitcolor": "white"
          },
          "hoverlabel": {
           "align": "left"
          },
          "hovermode": "closest",
          "mapbox": {
           "style": "light"
          },
          "paper_bgcolor": "white",
          "plot_bgcolor": "#E5ECF6",
          "polar": {
           "angularaxis": {
            "gridcolor": "white",
            "linecolor": "white",
            "ticks": ""
           },
           "bgcolor": "#E5ECF6",
           "radialaxis": {
            "gridcolor": "white",
            "linecolor": "white",
            "ticks": ""
           }
          },
          "scene": {
           "xaxis": {
            "backgroundcolor": "#E5ECF6",
            "gridcolor": "white",
            "gridwidth": 2,
            "linecolor": "white",
            "showbackground": true,
            "ticks": "",
            "zerolinecolor": "white"
           },
           "yaxis": {
            "backgroundcolor": "#E5ECF6",
            "gridcolor": "white",
            "gridwidth": 2,
            "linecolor": "white",
            "showbackground": true,
            "ticks": "",
            "zerolinecolor": "white"
           },
           "zaxis": {
            "backgroundcolor": "#E5ECF6",
            "gridcolor": "white",
            "gridwidth": 2,
            "linecolor": "white",
            "showbackground": true,
            "ticks": "",
            "zerolinecolor": "white"
           }
          },
          "shapedefaults": {
           "line": {
            "color": "#2a3f5f"
           }
          },
          "ternary": {
           "aaxis": {
            "gridcolor": "white",
            "linecolor": "white",
            "ticks": ""
           },
           "baxis": {
            "gridcolor": "white",
            "linecolor": "white",
            "ticks": ""
           },
           "bgcolor": "#E5ECF6",
           "caxis": {
            "gridcolor": "white",
            "linecolor": "white",
            "ticks": ""
           }
          },
          "title": {
           "x": 0.05
          },
          "xaxis": {
           "automargin": true,
           "gridcolor": "white",
           "linecolor": "white",
           "ticks": "",
           "title": {
            "standoff": 15
           },
           "zerolinecolor": "white",
           "zerolinewidth": 2
          },
          "yaxis": {
           "automargin": true,
           "gridcolor": "white",
           "linecolor": "white",
           "ticks": "",
           "title": {
            "standoff": 15
           },
           "zerolinecolor": "white",
           "zerolinewidth": 2
          }
         }
        },
        "title": {
         "text": "DISTRIBUIÇÃO DE CANDIDATURAS POR PARTIDO"
        },
        "xaxis": {
         "anchor": "y",
         "domain": [
          0,
          1
         ],
         "title": {
          "text": "value"
         }
        },
        "yaxis": {
         "anchor": "x",
         "domain": [
          0,
          1
         ],
         "title": {
          "text": "index"
         }
        }
       }
      },
      "text/html": [
       "<div>                            <div id=\"543cfbbd-4d9f-4671-b812-577fa16bb24b\" class=\"plotly-graph-div\" style=\"height:525px; width:100%;\"></div>            <script type=\"text/javascript\">                require([\"plotly\"], function(Plotly) {                    window.PLOTLYENV=window.PLOTLYENV || {};                                    if (document.getElementById(\"543cfbbd-4d9f-4671-b812-577fa16bb24b\")) {                    Plotly.newPlot(                        \"543cfbbd-4d9f-4671-b812-577fa16bb24b\",                        [{\"alignmentgroup\":\"True\",\"hovertemplate\":\"variable=NM_PARTIDO<br>value=%{x}<br>index=%{y}<extra></extra>\",\"legendgroup\":\"NM_PARTIDO\",\"marker\":{\"color\":\"#636efa\",\"pattern\":{\"shape\":\"\"}},\"name\":\"NM_PARTIDO\",\"offsetgroup\":\"NM_PARTIDO\",\"orientation\":\"h\",\"showlegend\":true,\"textposition\":\"auto\",\"type\":\"bar\",\"x\":[831,423,378,353,315,299,291,286,268,264,253,234,229,220,212,207,206,192,146,141,120,108,100,98,98,95,82,69,56,38,20,3],\"xaxis\":\"x\",\"y\":[\"PARTIDO DO MOVIMENTO DEMOCR\\u00c1TICO BRASILEIRO\",\"PARTIDO PROGRESSISTA\",\"PARTIDO DA SOCIAL DEMOCRACIA BRASILEIRA\",\"PARTIDO SOCIAL DEMOCR\\u00c1TICO\",\"PARTIDO DEMOCR\\u00c1TICO TRABALHISTA\",\"PARTIDO SOCIALISTA BRASILEIRO\",\"DEMOCRATAS\",\"PARTIDO POPULAR SOCIALISTA\",\"PARTIDO SOCIAL CRIST\\u00c3O\",\"PARTIDO REPUBLICANO PROGRESSISTA\",\"PARTIDO REPUBLICANO BRASILEIRO\",\"PARTIDO SOCIAL LIBERAL\",\"PARTIDO DOS TRABALHADORES\",\"PARTIDO HUMANISTA DA SOLIDARIEDADE\",\"PARTIDO DA MOBILIZA\\u00c7\\u00c3O NACIONAL\",\"PARTIDO DA REP\\u00daBLICA\",\"SOLIDARIEDADE\",\"PARTIDO RENOVADOR TRABALHISTA BRASILEIRO\",\"PARTIDO P\\u00c1TRIA LIVRE\",\"PARTIDO VERDE\",\"PARTIDO TRABALHISTA CRIST\\u00c3O\",\"PARTIDO SOCIAL DEMOCRATA CRIST\\u00c3O\",\"PARTIDO ECOL\\u00d3GICO NACIONAL\",\"PARTIDO REPUBLICANO DA ORDEM SOCIAL\",\"PARTIDO COMUNISTA DO BRASIL\",\"PARTIDO TRABALHISTA DO BRASIL\",\"PARTIDO TRABALHISTA NACIONAL\",\"PARTIDO TRABALHISTA BRASILEIRO\",\"PARTIDO SOCIALISMO E LIBERDADE\",\"PARTIDO DA MULHER BRASILEIRA\",\"REDE SUSTENTABILIDADE\",\"PARTIDO SOCIALISTA DOS TRABALHADORES UNIFICADO\"],\"yaxis\":\"y\"}],                        {\"barmode\":\"relative\",\"legend\":{\"title\":{\"text\":\"variable\"},\"tracegroupgap\":0},\"template\":{\"data\":{\"bar\":[{\"error_x\":{\"color\":\"#2a3f5f\"},\"error_y\":{\"color\":\"#2a3f5f\"},\"marker\":{\"line\":{\"color\":\"#E5ECF6\",\"width\":0.5},\"pattern\":{\"fillmode\":\"overlay\",\"size\":10,\"solidity\":0.2}},\"type\":\"bar\"}],\"barpolar\":[{\"marker\":{\"line\":{\"color\":\"#E5ECF6\",\"width\":0.5},\"pattern\":{\"fillmode\":\"overlay\",\"size\":10,\"solidity\":0.2}},\"type\":\"barpolar\"}],\"carpet\":[{\"aaxis\":{\"endlinecolor\":\"#2a3f5f\",\"gridcolor\":\"white\",\"linecolor\":\"white\",\"minorgridcolor\":\"white\",\"startlinecolor\":\"#2a3f5f\"},\"baxis\":{\"endlinecolor\":\"#2a3f5f\",\"gridcolor\":\"white\",\"linecolor\":\"white\",\"minorgridcolor\":\"white\",\"startlinecolor\":\"#2a3f5f\"},\"type\":\"carpet\"}],\"choropleth\":[{\"colorbar\":{\"outlinewidth\":0,\"ticks\":\"\"},\"type\":\"choropleth\"}],\"contour\":[{\"colorbar\":{\"outlinewidth\":0,\"ticks\":\"\"},\"colorscale\":[[0.0,\"#0d0887\"],[0.1111111111111111,\"#46039f\"],[0.2222222222222222,\"#7201a8\"],[0.3333333333333333,\"#9c179e\"],[0.4444444444444444,\"#bd3786\"],[0.5555555555555556,\"#d8576b\"],[0.6666666666666666,\"#ed7953\"],[0.7777777777777778,\"#fb9f3a\"],[0.8888888888888888,\"#fdca26\"],[1.0,\"#f0f921\"]],\"type\":\"contour\"}],\"contourcarpet\":[{\"colorbar\":{\"outlinewidth\":0,\"ticks\":\"\"},\"type\":\"contourcarpet\"}],\"heatmap\":[{\"colorbar\":{\"outlinewidth\":0,\"ticks\":\"\"},\"colorscale\":[[0.0,\"#0d0887\"],[0.1111111111111111,\"#46039f\"],[0.2222222222222222,\"#7201a8\"],[0.3333333333333333,\"#9c179e\"],[0.4444444444444444,\"#bd3786\"],[0.5555555555555556,\"#d8576b\"],[0.6666666666666666,\"#ed7953\"],[0.7777777777777778,\"#fb9f3a\"],[0.8888888888888888,\"#fdca26\"],[1.0,\"#f0f921\"]],\"type\":\"heatmap\"}],\"heatmapgl\":[{\"colorbar\":{\"outlinewidth\":0,\"ticks\":\"\"},\"colorscale\":[[0.0,\"#0d0887\"],[0.1111111111111111,\"#46039f\"],[0.2222222222222222,\"#7201a8\"],[0.3333333333333333,\"#9c179e\"],[0.4444444444444444,\"#bd3786\"],[0.5555555555555556,\"#d8576b\"],[0.6666666666666666,\"#ed7953\"],[0.7777777777777778,\"#fb9f3a\"],[0.8888888888888888,\"#fdca26\"],[1.0,\"#f0f921\"]],\"type\":\"heatmapgl\"}],\"histogram\":[{\"marker\":{\"pattern\":{\"fillmode\":\"overlay\",\"size\":10,\"solidity\":0.2}},\"type\":\"histogram\"}],\"histogram2d\":[{\"colorbar\":{\"outlinewidth\":0,\"ticks\":\"\"},\"colorscale\":[[0.0,\"#0d0887\"],[0.1111111111111111,\"#46039f\"],[0.2222222222222222,\"#7201a8\"],[0.3333333333333333,\"#9c179e\"],[0.4444444444444444,\"#bd3786\"],[0.5555555555555556,\"#d8576b\"],[0.6666666666666666,\"#ed7953\"],[0.7777777777777778,\"#fb9f3a\"],[0.8888888888888888,\"#fdca26\"],[1.0,\"#f0f921\"]],\"type\":\"histogram2d\"}],\"histogram2dcontour\":[{\"colorbar\":{\"outlinewidth\":0,\"ticks\":\"\"},\"colorscale\":[[0.0,\"#0d0887\"],[0.1111111111111111,\"#46039f\"],[0.2222222222222222,\"#7201a8\"],[0.3333333333333333,\"#9c179e\"],[0.4444444444444444,\"#bd3786\"],[0.5555555555555556,\"#d8576b\"],[0.6666666666666666,\"#ed7953\"],[0.7777777777777778,\"#fb9f3a\"],[0.8888888888888888,\"#fdca26\"],[1.0,\"#f0f921\"]],\"type\":\"histogram2dcontour\"}],\"mesh3d\":[{\"colorbar\":{\"outlinewidth\":0,\"ticks\":\"\"},\"type\":\"mesh3d\"}],\"parcoords\":[{\"line\":{\"colorbar\":{\"outlinewidth\":0,\"ticks\":\"\"}},\"type\":\"parcoords\"}],\"pie\":[{\"automargin\":true,\"type\":\"pie\"}],\"scatter\":[{\"marker\":{\"colorbar\":{\"outlinewidth\":0,\"ticks\":\"\"}},\"type\":\"scatter\"}],\"scatter3d\":[{\"line\":{\"colorbar\":{\"outlinewidth\":0,\"ticks\":\"\"}},\"marker\":{\"colorbar\":{\"outlinewidth\":0,\"ticks\":\"\"}},\"type\":\"scatter3d\"}],\"scattercarpet\":[{\"marker\":{\"colorbar\":{\"outlinewidth\":0,\"ticks\":\"\"}},\"type\":\"scattercarpet\"}],\"scattergeo\":[{\"marker\":{\"colorbar\":{\"outlinewidth\":0,\"ticks\":\"\"}},\"type\":\"scattergeo\"}],\"scattergl\":[{\"marker\":{\"colorbar\":{\"outlinewidth\":0,\"ticks\":\"\"}},\"type\":\"scattergl\"}],\"scattermapbox\":[{\"marker\":{\"colorbar\":{\"outlinewidth\":0,\"ticks\":\"\"}},\"type\":\"scattermapbox\"}],\"scatterpolar\":[{\"marker\":{\"colorbar\":{\"outlinewidth\":0,\"ticks\":\"\"}},\"type\":\"scatterpolar\"}],\"scatterpolargl\":[{\"marker\":{\"colorbar\":{\"outlinewidth\":0,\"ticks\":\"\"}},\"type\":\"scatterpolargl\"}],\"scatterternary\":[{\"marker\":{\"colorbar\":{\"outlinewidth\":0,\"ticks\":\"\"}},\"type\":\"scatterternary\"}],\"surface\":[{\"colorbar\":{\"outlinewidth\":0,\"ticks\":\"\"},\"colorscale\":[[0.0,\"#0d0887\"],[0.1111111111111111,\"#46039f\"],[0.2222222222222222,\"#7201a8\"],[0.3333333333333333,\"#9c179e\"],[0.4444444444444444,\"#bd3786\"],[0.5555555555555556,\"#d8576b\"],[0.6666666666666666,\"#ed7953\"],[0.7777777777777778,\"#fb9f3a\"],[0.8888888888888888,\"#fdca26\"],[1.0,\"#f0f921\"]],\"type\":\"surface\"}],\"table\":[{\"cells\":{\"fill\":{\"color\":\"#EBF0F8\"},\"line\":{\"color\":\"white\"}},\"header\":{\"fill\":{\"color\":\"#C8D4E3\"},\"line\":{\"color\":\"white\"}},\"type\":\"table\"}]},\"layout\":{\"annotationdefaults\":{\"arrowcolor\":\"#2a3f5f\",\"arrowhead\":0,\"arrowwidth\":1},\"autotypenumbers\":\"strict\",\"coloraxis\":{\"colorbar\":{\"outlinewidth\":0,\"ticks\":\"\"}},\"colorscale\":{\"diverging\":[[0,\"#8e0152\"],[0.1,\"#c51b7d\"],[0.2,\"#de77ae\"],[0.3,\"#f1b6da\"],[0.4,\"#fde0ef\"],[0.5,\"#f7f7f7\"],[0.6,\"#e6f5d0\"],[0.7,\"#b8e186\"],[0.8,\"#7fbc41\"],[0.9,\"#4d9221\"],[1,\"#276419\"]],\"sequential\":[[0.0,\"#0d0887\"],[0.1111111111111111,\"#46039f\"],[0.2222222222222222,\"#7201a8\"],[0.3333333333333333,\"#9c179e\"],[0.4444444444444444,\"#bd3786\"],[0.5555555555555556,\"#d8576b\"],[0.6666666666666666,\"#ed7953\"],[0.7777777777777778,\"#fb9f3a\"],[0.8888888888888888,\"#fdca26\"],[1.0,\"#f0f921\"]],\"sequentialminus\":[[0.0,\"#0d0887\"],[0.1111111111111111,\"#46039f\"],[0.2222222222222222,\"#7201a8\"],[0.3333333333333333,\"#9c179e\"],[0.4444444444444444,\"#bd3786\"],[0.5555555555555556,\"#d8576b\"],[0.6666666666666666,\"#ed7953\"],[0.7777777777777778,\"#fb9f3a\"],[0.8888888888888888,\"#fdca26\"],[1.0,\"#f0f921\"]]},\"colorway\":[\"#636efa\",\"#EF553B\",\"#00cc96\",\"#ab63fa\",\"#FFA15A\",\"#19d3f3\",\"#FF6692\",\"#B6E880\",\"#FF97FF\",\"#FECB52\"],\"font\":{\"color\":\"#2a3f5f\"},\"geo\":{\"bgcolor\":\"white\",\"lakecolor\":\"white\",\"landcolor\":\"#E5ECF6\",\"showlakes\":true,\"showland\":true,\"subunitcolor\":\"white\"},\"hoverlabel\":{\"align\":\"left\"},\"hovermode\":\"closest\",\"mapbox\":{\"style\":\"light\"},\"paper_bgcolor\":\"white\",\"plot_bgcolor\":\"#E5ECF6\",\"polar\":{\"angularaxis\":{\"gridcolor\":\"white\",\"linecolor\":\"white\",\"ticks\":\"\"},\"bgcolor\":\"#E5ECF6\",\"radialaxis\":{\"gridcolor\":\"white\",\"linecolor\":\"white\",\"ticks\":\"\"}},\"scene\":{\"xaxis\":{\"backgroundcolor\":\"#E5ECF6\",\"gridcolor\":\"white\",\"gridwidth\":2,\"linecolor\":\"white\",\"showbackground\":true,\"ticks\":\"\",\"zerolinecolor\":\"white\"},\"yaxis\":{\"backgroundcolor\":\"#E5ECF6\",\"gridcolor\":\"white\",\"gridwidth\":2,\"linecolor\":\"white\",\"showbackground\":true,\"ticks\":\"\",\"zerolinecolor\":\"white\"},\"zaxis\":{\"backgroundcolor\":\"#E5ECF6\",\"gridcolor\":\"white\",\"gridwidth\":2,\"linecolor\":\"white\",\"showbackground\":true,\"ticks\":\"\",\"zerolinecolor\":\"white\"}},\"shapedefaults\":{\"line\":{\"color\":\"#2a3f5f\"}},\"ternary\":{\"aaxis\":{\"gridcolor\":\"white\",\"linecolor\":\"white\",\"ticks\":\"\"},\"baxis\":{\"gridcolor\":\"white\",\"linecolor\":\"white\",\"ticks\":\"\"},\"bgcolor\":\"#E5ECF6\",\"caxis\":{\"gridcolor\":\"white\",\"linecolor\":\"white\",\"ticks\":\"\"}},\"title\":{\"x\":0.05},\"xaxis\":{\"automargin\":true,\"gridcolor\":\"white\",\"linecolor\":\"white\",\"ticks\":\"\",\"title\":{\"standoff\":15},\"zerolinecolor\":\"white\",\"zerolinewidth\":2},\"yaxis\":{\"automargin\":true,\"gridcolor\":\"white\",\"linecolor\":\"white\",\"ticks\":\"\",\"title\":{\"standoff\":15},\"zerolinecolor\":\"white\",\"zerolinewidth\":2}}},\"title\":{\"text\":\"DISTRIBUI\\u00c7\\u00c3O DE CANDIDATURAS POR PARTIDO\"},\"xaxis\":{\"anchor\":\"y\",\"domain\":[0.0,1.0],\"title\":{\"text\":\"value\"}},\"yaxis\":{\"anchor\":\"x\",\"domain\":[0.0,1.0],\"title\":{\"text\":\"index\"}}},                        {\"responsive\": true}                    ).then(function(){\n",
       "                            \n",
       "var gd = document.getElementById('543cfbbd-4d9f-4671-b812-577fa16bb24b');\n",
       "var x = new MutationObserver(function (mutations, observer) {{\n",
       "        var display = window.getComputedStyle(gd).display;\n",
       "        if (!display || display === 'none') {{\n",
       "            console.log([gd, 'removed!']);\n",
       "            Plotly.purge(gd);\n",
       "            observer.disconnect();\n",
       "        }}\n",
       "}});\n",
       "\n",
       "// Listen for the removal of the full notebook cells\n",
       "var notebookContainer = gd.closest('#notebook-container');\n",
       "if (notebookContainer) {{\n",
       "    x.observe(notebookContainer, {childList: true});\n",
       "}}\n",
       "\n",
       "// Listen for the clearing of the current output cell\n",
       "var outputEl = gd.closest('.output');\n",
       "if (outputEl) {{\n",
       "    x.observe(outputEl, {childList: true});\n",
       "}}\n",
       "\n",
       "                        })                };                });            </script>        </div>"
      ]
     },
     "metadata": {},
     "output_type": "display_data"
    }
   ],
   "source": [
    "consulta_Vereador_2016['NM_PARTIDO'].value_counts().plot(kind='barh', title='DISTRIBUIÇÃO DE CANDIDATURAS POR PARTIDO')"
   ]
  },
  {
   "cell_type": "code",
   "execution_count": 50,
   "metadata": {
    "collapsed": true
   },
   "outputs": [
    {
     "data": {
      "text/plain": [
       "MACEIÓ                   233\n",
       "ARAPIRACA                216\n",
       "UNIÃO DOS PALMARES       177\n",
       "SÃO MIGUEL DOS CAMPOS    159\n",
       "RIO LARGO                142\n",
       "                        ... \n",
       "BELO MONTE                27\n",
       "OLHO D'ÁGUA GRANDE        27\n",
       "JACARÉ DOS HOMENS         26\n",
       "CACIMBINHAS               24\n",
       "PINDOBA                   24\n",
       "Name: NM_UE, Length: 102, dtype: int64"
      ]
     },
     "execution_count": 50,
     "metadata": {},
     "output_type": "execute_result"
    }
   ],
   "source": [
    "consulta_Vereador_2016['NM_UE'].value_counts()"
   ]
  },
  {
   "cell_type": "code",
   "execution_count": 52,
   "metadata": {
    "collapsed": true
   },
   "outputs": [
    {
     "data": {
      "text/plain": [
       "count    6635.000000\n",
       "mean       42.187038\n",
       "std        11.331155\n",
       "min        18.000000\n",
       "25%        34.000000\n",
       "50%        41.000000\n",
       "75%        50.000000\n",
       "max        82.000000\n",
       "Name: NR_IDADE_DATA_POSSE, dtype: float64"
      ]
     },
     "execution_count": 52,
     "metadata": {},
     "output_type": "execute_result"
    }
   ],
   "source": [
    "consulta_Vereador_2016['NR_IDADE_DATA_POSSE'].describe()"
   ]
  },
  {
   "cell_type": "code",
   "execution_count": 3,
   "metadata": {
    "collapsed": true
   },
   "outputs": [
    {
     "data": {
      "text/plain": [
       "MASCULINO    67.927707\n",
       "FEMININO     33.695819\n",
       "Name: DS_GENERO, dtype: float64"
      ]
     },
     "execution_count": 3,
     "metadata": {},
     "output_type": "execute_result"
    }
   ],
   "source": [
    "#Distribuição de Gênero\n",
    "consulta_Vereador_2016['DS_GENERO'].value_counts()*100/6529"
   ]
  },
  {
   "cell_type": "code",
   "execution_count": 16,
   "metadata": {
    "collapsed": true
   },
   "outputs": [
    {
     "data": {
      "text/plain": [
       "MASCULINO    4435\n",
       "FEMININO     2200\n",
       "Name: DS_GENERO, dtype: int64"
      ]
     },
     "execution_count": 16,
     "metadata": {},
     "output_type": "execute_result"
    }
   ],
   "source": [
    "consulta_Vereador_2016['DS_GENERO'].value_counts()"
   ]
  },
  {
   "cell_type": "code",
   "execution_count": 45,
   "metadata": {
    "collapsed": true
   },
   "outputs": [
    {
     "data": {
      "text/plain": [
       "ENSINO MÉDIO COMPLETO            39.684485\n",
       "SUPERIOR COMPLETO                18.685863\n",
       "ENSINO FUNDAMENTAL INCOMPLETO    16.005514\n",
       "ENSINO FUNDAMENTAL COMPLETO      12.191760\n",
       "ENSINO MÉDIO INCOMPLETO           6.570685\n",
       "SUPERIOR INCOMPLETO               5.575126\n",
       "LÊ E ESCREVE                      2.910093\n",
       "Name: DS_GRAU_INSTRUCAO, dtype: float64"
      ]
     },
     "execution_count": 45,
     "metadata": {},
     "output_type": "execute_result"
    }
   ],
   "source": [
    "consulta_Vereador_2016['DS_GRAU_INSTRUCAO'].value_counts()*100/6529"
   ]
  },
  {
   "cell_type": "markdown",
   "metadata": {},
   "source": [
    "### Relação de Raca e Gênero com os partidos e unidade eleitorais: Como é a representatividade em Alagoas?"
   ]
  },
  {
   "cell_type": "markdown",
   "metadata": {},
   "source": [
    "O Partido com maior número de candidatas de ambos os sexos é o PARTIDO DO MOVIMENTO DEMOCRÁTICO BRASILEIRO e assim como o partido com menor candidatura, PARTIDO SOCIALISTA DOS TRABALHADORES UNIFICADO.\n",
    "\n",
    "Maceió é a unidade eleitoral com maior número de candidatos de ambos os sexo ao cargo de vereador, já BELO MONTE,JACARÉ DOS HOMENS,JARAMATAIA e PINDOBA são as unidades eleitorais com apenas 8  mulheres candidatas. CACIMBINHAS é unidade eleitoral com o menor número de homens. Maceió tem a maioria dos candidatos de ambos os sexos declarados brancos, diferente de Araparica que tem sua maioria declarados; seja homem ou mulher, negros.\n",
    "\n",
    "Quanto a candidatas, 68% são negras e em média tem 41 anos  . Já homens são a maioria negra, 73.6%, com a mesma média de idade que as candidatas. Em ambos os sexos tem aproximadamente 39% dos candidatos com ensino médio completo e em torno de 2% que apenas lê  escreve.\n"
   ]
  },
  {
   "cell_type": "markdown",
   "metadata": {},
   "source": [
    "*feminino*"
   ]
  },
  {
   "cell_type": "code",
   "execution_count": 9,
   "metadata": {},
   "outputs": [],
   "source": [
    "# Criando um novo Dataframe só com mulheres\n",
    "fem = pd.DataFrame(consulta_Vereador_2016.loc[consulta_Vereador_2016['DS_GENERO'] == 'FEMININO'])"
   ]
  },
  {
   "cell_type": "code",
   "execution_count": 21,
   "metadata": {
    "collapsed": true
   },
   "outputs": [
    {
     "data": {
      "text/plain": [
       "PARTIDO DO MOVIMENTO DEMOCRÁTICO BRASILEIRO       278\n",
       "PARTIDO PROGRESSISTA                              145\n",
       "PARTIDO DA SOCIAL DEMOCRACIA BRASILEIRA           140\n",
       "PARTIDO SOCIAL DEMOCRÁTICO                        121\n",
       "DEMOCRATAS                                        106\n",
       "PARTIDO POPULAR SOCIALISTA                        101\n",
       "PARTIDO DEMOCRÁTICO TRABALHISTA                    93\n",
       "PARTIDO SOCIALISTA BRASILEIRO                      90\n",
       "PARTIDO SOCIAL CRISTÃO                             84\n",
       "PARTIDO REPUBLICANO PROGRESSISTA                   84\n",
       "PARTIDO REPUBLICANO BRASILEIRO                     82\n",
       "PARTIDO SOCIAL LIBERAL                             80\n",
       "PARTIDO DOS TRABALHADORES                          79\n",
       "SOLIDARIEDADE                                      73\n",
       "PARTIDO HUMANISTA DA SOLIDARIEDADE                 70\n",
       "PARTIDO DA MOBILIZAÇÃO NACIONAL                    69\n",
       "PARTIDO RENOVADOR TRABALHISTA BRASILEIRO           69\n",
       "PARTIDO DA REPÚBLICA                               67\n",
       "PARTIDO VERDE                                      53\n",
       "PARTIDO PÁTRIA LIVRE                               42\n",
       "PARTIDO REPUBLICANO DA ORDEM SOCIAL                35\n",
       "PARTIDO COMUNISTA DO BRASIL                        33\n",
       "PARTIDO TRABALHISTA CRISTÃO                        33\n",
       "PARTIDO SOCIAL DEMOCRATA CRISTÃO                   31\n",
       "PARTIDO ECOLÓGICO NACIONAL                         28\n",
       "PARTIDO TRABALHISTA DO BRASIL                      26\n",
       "PARTIDO TRABALHISTA NACIONAL                       26\n",
       "PARTIDO SOCIALISMO E LIBERDADE                     23\n",
       "PARTIDO DA MULHER BRASILEIRA                       16\n",
       "PARTIDO TRABALHISTA BRASILEIRO                     14\n",
       "REDE SUSTENTABILIDADE                               8\n",
       "PARTIDO SOCIALISTA DOS TRABALHADORES UNIFICADO      1\n",
       "Name: NM_PARTIDO, dtype: int64"
      ]
     },
     "execution_count": 21,
     "metadata": {},
     "output_type": "execute_result"
    }
   ],
   "source": [
    "# Distribuição dos Partidos\n",
    "fem['NM_PARTIDO'].value_counts()"
   ]
  },
  {
   "cell_type": "code",
   "execution_count": 37,
   "metadata": {
    "collapsed": true
   },
   "outputs": [
    {
     "data": {
      "text/plain": [
       "<AxesSubplot:title={'center':'DISTRIBUIÇÃO DE PARTIDOS POR GÊNERO - FEMININO'}>"
      ]
     },
     "execution_count": 37,
     "metadata": {},
     "output_type": "execute_result"
    },
    {
     "data": {
      "image/png": "[encoded data removed]",
      "text/plain": [
       "<Figure size 1080x720 with 1 Axes>"
      ]
     },
     "metadata": {
      "needs_background": "light"
     },
     "output_type": "display_data"
    }
   ],
   "source": [
    "fem['NM_PARTIDO'].value_counts().plot(kind='barh', title= 'DISTRIBUIÇÃO DE PARTIDOS POR GÊNERO - FEMININO', figsize=(15,10))"
   ]
  },
  {
   "cell_type": "code",
   "execution_count": 22,
   "metadata": {
    "collapsed": true
   },
   "outputs": [
    {
     "data": {
      "text/plain": [
       "MACEIÓ                   79\n",
       "ARAPIRACA                68\n",
       "UNIÃO DOS PALMARES       57\n",
       "SÃO MIGUEL DOS CAMPOS    49\n",
       "RIO LARGO                48\n",
       "                         ..\n",
       "SENADOR RUI PALMEIRA      9\n",
       "JACARÉ DOS HOMENS         8\n",
       "PINDOBA                   8\n",
       "BELO MONTE                8\n",
       "JARAMATAIA                8\n",
       "Name: NM_UE, Length: 102, dtype: int64"
      ]
     },
     "execution_count": 22,
     "metadata": {},
     "output_type": "execute_result"
    }
   ],
   "source": [
    "# Distribuição por unidade eleitoral\n",
    "fem['NM_UE'].value_counts()"
   ]
  },
  {
   "cell_type": "code",
   "execution_count": 29,
   "metadata": {
    "collapsed": true
   },
   "outputs": [
    {
     "data": {
      "text/plain": [
       "NEGRA       68.181818\n",
       "BRANCA      30.681818\n",
       "AMARELA      0.772727\n",
       "INDÍGENA     0.363636\n",
       "Name: DS_COR_RACA, dtype: float64"
      ]
     },
     "execution_count": 29,
     "metadata": {},
     "output_type": "execute_result"
    }
   ],
   "source": [
    "# Distribuição racial\n",
    "fem['DS_COR_RACA'].value_counts()*100/2200"
   ]
  },
  {
   "cell_type": "code",
   "execution_count": 10,
   "metadata": {
    "collapsed": true
   },
   "outputs": [
    {
     "data": {
      "text/plain": [
       "count    2200.000000\n",
       "mean       41.482727\n",
       "std        12.178178\n",
       "min        18.000000\n",
       "25%        32.000000\n",
       "50%        41.000000\n",
       "75%        50.000000\n",
       "max        82.000000\n",
       "Name: NR_IDADE_DATA_POSSE, dtype: float64"
      ]
     },
     "execution_count": 10,
     "metadata": {},
     "output_type": "execute_result"
    }
   ],
   "source": [
    "fem['NR_IDADE_DATA_POSSE'].describe()"
   ]
  },
  {
   "cell_type": "code",
   "execution_count": 25,
   "metadata": {
    "collapsed": true
   },
   "outputs": [
    {
     "data": {
      "text/plain": [
       "ENSINO MÉDIO COMPLETO            39.409091\n",
       "SUPERIOR COMPLETO                23.318182\n",
       "ENSINO FUNDAMENTAL INCOMPLETO    13.363636\n",
       "ENSINO FUNDAMENTAL COMPLETO       9.681818\n",
       "ENSINO MÉDIO INCOMPLETO           6.227273\n",
       "SUPERIOR INCOMPLETO               5.590909\n",
       "LÊ E ESCREVE                      2.409091\n",
       "Name: DS_GRAU_INSTRUCAO, dtype: float64"
      ]
     },
     "execution_count": 25,
     "metadata": {},
     "output_type": "execute_result"
    }
   ],
   "source": [
    "fem['DS_GRAU_INSTRUCAO'].value_counts()*100/2200"
   ]
  },
  {
   "cell_type": "code",
   "execution_count": 14,
   "metadata": {
    "collapsed": true
   },
   "outputs": [
    {
     "data": {
      "text/html": [
       "<div>\n",
       "<style scoped>\n",
       "    .dataframe tbody tr th:only-of-type {\n",
       "        vertical-align: middle;\n",
       "    }\n",
       "\n",
       "    .dataframe tbody tr th {\n",
       "        vertical-align: top;\n",
       "    }\n",
       "\n",
       "    .dataframe thead tr th {\n",
       "        text-align: left;\n",
       "    }\n",
       "\n",
       "    .dataframe thead tr:last-of-type th {\n",
       "        text-align: right;\n",
       "    }\n",
       "</style>\n",
       "<table border=\"1\" class=\"dataframe\">\n",
       "  <thead>\n",
       "    <tr>\n",
       "      <th></th>\n",
       "      <th colspan=\"4\" halign=\"left\">DS_GRAU_INSTRUCAO</th>\n",
       "    </tr>\n",
       "    <tr>\n",
       "      <th></th>\n",
       "      <th>count</th>\n",
       "      <th>unique</th>\n",
       "      <th>top</th>\n",
       "      <th>freq</th>\n",
       "    </tr>\n",
       "    <tr>\n",
       "      <th>DS_COR_RACA</th>\n",
       "      <th></th>\n",
       "      <th></th>\n",
       "      <th></th>\n",
       "      <th></th>\n",
       "    </tr>\n",
       "  </thead>\n",
       "  <tbody>\n",
       "    <tr>\n",
       "      <th>AMARELA</th>\n",
       "      <td>17</td>\n",
       "      <td>6</td>\n",
       "      <td>ENSINO MÉDIO COMPLETO</td>\n",
       "      <td>8</td>\n",
       "    </tr>\n",
       "    <tr>\n",
       "      <th>BRANCA</th>\n",
       "      <td>675</td>\n",
       "      <td>7</td>\n",
       "      <td>ENSINO MÉDIO COMPLETO</td>\n",
       "      <td>262</td>\n",
       "    </tr>\n",
       "    <tr>\n",
       "      <th>INDÍGENA</th>\n",
       "      <td>8</td>\n",
       "      <td>3</td>\n",
       "      <td>ENSINO FUNDAMENTAL INCOMPLETO</td>\n",
       "      <td>5</td>\n",
       "    </tr>\n",
       "    <tr>\n",
       "      <th>NEGRA</th>\n",
       "      <td>1500</td>\n",
       "      <td>7</td>\n",
       "      <td>ENSINO MÉDIO COMPLETO</td>\n",
       "      <td>595</td>\n",
       "    </tr>\n",
       "  </tbody>\n",
       "</table>\n",
       "</div>"
      ],
      "text/plain": [
       "            DS_GRAU_INSTRUCAO                                           \n",
       "                        count unique                            top freq\n",
       "DS_COR_RACA                                                             \n",
       "AMARELA                    17      6          ENSINO MÉDIO COMPLETO    8\n",
       "BRANCA                    675      7          ENSINO MÉDIO COMPLETO  262\n",
       "INDÍGENA                    8      3  ENSINO FUNDAMENTAL INCOMPLETO    5\n",
       "NEGRA                    1500      7          ENSINO MÉDIO COMPLETO  595"
      ]
     },
     "execution_count": 14,
     "metadata": {},
     "output_type": "execute_result"
    }
   ],
   "source": [
    "fem.filter(items=['DS_GRAU_INSTRUCAO']).groupby(fem['DS_COR_RACA']).describe()"
   ]
  },
  {
   "cell_type": "code",
   "execution_count": 18,
   "metadata": {
    "collapsed": true
   },
   "outputs": [
    {
     "data": {
      "text/html": [
       "<div>\n",
       "<style scoped>\n",
       "    .dataframe tbody tr th:only-of-type {\n",
       "        vertical-align: middle;\n",
       "    }\n",
       "\n",
       "    .dataframe tbody tr th {\n",
       "        vertical-align: top;\n",
       "    }\n",
       "\n",
       "    .dataframe thead tr th {\n",
       "        text-align: left;\n",
       "    }\n",
       "\n",
       "    .dataframe thead tr:last-of-type th {\n",
       "        text-align: right;\n",
       "    }\n",
       "</style>\n",
       "<table border=\"1\" class=\"dataframe\">\n",
       "  <thead>\n",
       "    <tr>\n",
       "      <th></th>\n",
       "      <th colspan=\"4\" halign=\"left\">NM_UE</th>\n",
       "    </tr>\n",
       "    <tr>\n",
       "      <th></th>\n",
       "      <th>count</th>\n",
       "      <th>unique</th>\n",
       "      <th>top</th>\n",
       "      <th>freq</th>\n",
       "    </tr>\n",
       "    <tr>\n",
       "      <th>DS_COR_RACA</th>\n",
       "      <th></th>\n",
       "      <th></th>\n",
       "      <th></th>\n",
       "      <th></th>\n",
       "    </tr>\n",
       "  </thead>\n",
       "  <tbody>\n",
       "    <tr>\n",
       "      <th>AMARELA</th>\n",
       "      <td>17</td>\n",
       "      <td>10</td>\n",
       "      <td>CAMPESTRE</td>\n",
       "      <td>4</td>\n",
       "    </tr>\n",
       "    <tr>\n",
       "      <th>BRANCA</th>\n",
       "      <td>675</td>\n",
       "      <td>97</td>\n",
       "      <td>MACEIÓ</td>\n",
       "      <td>35</td>\n",
       "    </tr>\n",
       "    <tr>\n",
       "      <th>INDÍGENA</th>\n",
       "      <td>8</td>\n",
       "      <td>5</td>\n",
       "      <td>PARICONHA</td>\n",
       "      <td>4</td>\n",
       "    </tr>\n",
       "    <tr>\n",
       "      <th>NEGRA</th>\n",
       "      <td>1500</td>\n",
       "      <td>102</td>\n",
       "      <td>ARAPIRACA</td>\n",
       "      <td>51</td>\n",
       "    </tr>\n",
       "  </tbody>\n",
       "</table>\n",
       "</div>"
      ],
      "text/plain": [
       "            NM_UE                       \n",
       "            count unique        top freq\n",
       "DS_COR_RACA                             \n",
       "AMARELA        17     10  CAMPESTRE    4\n",
       "BRANCA        675     97     MACEIÓ   35\n",
       "INDÍGENA        8      5  PARICONHA    4\n",
       "NEGRA        1500    102  ARAPIRACA   51"
      ]
     },
     "execution_count": 18,
     "metadata": {},
     "output_type": "execute_result"
    }
   ],
   "source": [
    "fem.filter(items=['NM_UE']).groupby(fem['DS_COR_RACA']).describe()"
   ]
  },
  {
   "cell_type": "markdown",
   "metadata": {},
   "source": [
    "*Masculino*"
   ]
  },
  {
   "cell_type": "code",
   "execution_count": 20,
   "metadata": {},
   "outputs": [],
   "source": [
    "#Criando DataFrame\n",
    "masc = pd.DataFrame(consulta_Vereador_2016.loc[consulta_Vereador_2016['DS_GENERO'] == 'MASCULINO'])"
   ]
  },
  {
   "cell_type": "code",
   "execution_count": 31,
   "metadata": {
    "collapsed": true
   },
   "outputs": [
    {
     "data": {
      "text/plain": [
       "PARTIDO DO MOVIMENTO DEMOCRÁTICO BRASILEIRO       553\n",
       "PARTIDO PROGRESSISTA                              278\n",
       "PARTIDO DA SOCIAL DEMOCRACIA BRASILEIRA           238\n",
       "PARTIDO SOCIAL DEMOCRÁTICO                        232\n",
       "PARTIDO DEMOCRÁTICO TRABALHISTA                   222\n",
       "PARTIDO SOCIALISTA BRASILEIRO                     209\n",
       "DEMOCRATAS                                        185\n",
       "PARTIDO POPULAR SOCIALISTA                        185\n",
       "PARTIDO SOCIAL CRISTÃO                            184\n",
       "PARTIDO REPUBLICANO PROGRESSISTA                  180\n",
       "PARTIDO REPUBLICANO BRASILEIRO                    171\n",
       "PARTIDO SOCIAL LIBERAL                            154\n",
       "PARTIDO HUMANISTA DA SOLIDARIEDADE                150\n",
       "PARTIDO DOS TRABALHADORES                         150\n",
       "PARTIDO DA MOBILIZAÇÃO NACIONAL                   143\n",
       "PARTIDO DA REPÚBLICA                              140\n",
       "SOLIDARIEDADE                                     133\n",
       "PARTIDO RENOVADOR TRABALHISTA BRASILEIRO          123\n",
       "PARTIDO PÁTRIA LIVRE                              104\n",
       "PARTIDO VERDE                                      88\n",
       "PARTIDO TRABALHISTA CRISTÃO                        87\n",
       "PARTIDO SOCIAL DEMOCRATA CRISTÃO                   77\n",
       "PARTIDO ECOLÓGICO NACIONAL                         72\n",
       "PARTIDO TRABALHISTA DO BRASIL                      69\n",
       "PARTIDO COMUNISTA DO BRASIL                        65\n",
       "PARTIDO REPUBLICANO DA ORDEM SOCIAL                63\n",
       "PARTIDO TRABALHISTA NACIONAL                       56\n",
       "PARTIDO TRABALHISTA BRASILEIRO                     55\n",
       "PARTIDO SOCIALISMO E LIBERDADE                     33\n",
       "PARTIDO DA MULHER BRASILEIRA                       22\n",
       "REDE SUSTENTABILIDADE                              12\n",
       "PARTIDO SOCIALISTA DOS TRABALHADORES UNIFICADO      2\n",
       "Name: NM_PARTIDO, dtype: int64"
      ]
     },
     "execution_count": 31,
     "metadata": {},
     "output_type": "execute_result"
    }
   ],
   "source": [
    "# Distribuição dos Partidos\n",
    "masc['NM_PARTIDO'].value_counts()"
   ]
  },
  {
   "cell_type": "code",
   "execution_count": 38,
   "metadata": {
    "collapsed": true
   },
   "outputs": [
    {
     "data": {
      "text/plain": [
       "MACEIÓ                   154\n",
       "ARAPIRACA                148\n",
       "UNIÃO DOS PALMARES       120\n",
       "SÃO MIGUEL DOS CAMPOS    110\n",
       "RIO LARGO                 94\n",
       "                        ... \n",
       "MAR VERMELHO              18\n",
       "JACARÉ DOS HOMENS         18\n",
       "CAMPO GRANDE              17\n",
       "PINDOBA                   16\n",
       "CACIMBINHAS               15\n",
       "Name: NM_UE, Length: 102, dtype: int64"
      ]
     },
     "execution_count": 38,
     "metadata": {},
     "output_type": "execute_result"
    }
   ],
   "source": [
    "# Distribuição por unidade eleitoral\n",
    "masc['NM_UE'].value_counts()"
   ]
  },
  {
   "cell_type": "code",
   "execution_count": 40,
   "metadata": {
    "collapsed": true
   },
   "outputs": [
    {
     "data": {
      "text/plain": [
       "NEGRA       73.596392\n",
       "BRANCA      25.659526\n",
       "AMARELA      0.450958\n",
       "INDÍGENA     0.293123\n",
       "Name: DS_COR_RACA, dtype: float64"
      ]
     },
     "execution_count": 40,
     "metadata": {},
     "output_type": "execute_result"
    }
   ],
   "source": [
    "masc['DS_COR_RACA'].value_counts()*100/4435"
   ]
  },
  {
   "cell_type": "code",
   "execution_count": 42,
   "metadata": {
    "collapsed": true
   },
   "outputs": [
    {
     "data": {
      "text/plain": [
       "ENSINO MÉDIO COMPLETO            38.872604\n",
       "ENSINO FUNDAMENTAL INCOMPLETO    16.933484\n",
       "SUPERIOR COMPLETO                15.941375\n",
       "ENSINO FUNDAMENTAL COMPLETO      13.145434\n",
       "ENSINO MÉDIO INCOMPLETO           6.583991\n",
       "SUPERIOR INCOMPLETO               5.434047\n",
       "LÊ E ESCREVE                      3.089064\n",
       "Name: DS_GRAU_INSTRUCAO, dtype: float64"
      ]
     },
     "execution_count": 42,
     "metadata": {},
     "output_type": "execute_result"
    }
   ],
   "source": [
    "masc['DS_GRAU_INSTRUCAO'].value_counts()*100/4435"
   ]
  },
  {
   "cell_type": "code",
   "execution_count": 22,
   "metadata": {
    "collapsed": true
   },
   "outputs": [
    {
     "data": {
      "text/html": [
       "<div>\n",
       "<style scoped>\n",
       "    .dataframe tbody tr th:only-of-type {\n",
       "        vertical-align: middle;\n",
       "    }\n",
       "\n",
       "    .dataframe tbody tr th {\n",
       "        vertical-align: top;\n",
       "    }\n",
       "\n",
       "    .dataframe thead tr th {\n",
       "        text-align: left;\n",
       "    }\n",
       "\n",
       "    .dataframe thead tr:last-of-type th {\n",
       "        text-align: right;\n",
       "    }\n",
       "</style>\n",
       "<table border=\"1\" class=\"dataframe\">\n",
       "  <thead>\n",
       "    <tr>\n",
       "      <th></th>\n",
       "      <th colspan=\"4\" halign=\"left\">DS_GRAU_INSTRUCAO</th>\n",
       "    </tr>\n",
       "    <tr>\n",
       "      <th></th>\n",
       "      <th>count</th>\n",
       "      <th>unique</th>\n",
       "      <th>top</th>\n",
       "      <th>freq</th>\n",
       "    </tr>\n",
       "    <tr>\n",
       "      <th>DS_COR_RACA</th>\n",
       "      <th></th>\n",
       "      <th></th>\n",
       "      <th></th>\n",
       "      <th></th>\n",
       "    </tr>\n",
       "  </thead>\n",
       "  <tbody>\n",
       "    <tr>\n",
       "      <th>AMARELA</th>\n",
       "      <td>20</td>\n",
       "      <td>5</td>\n",
       "      <td>ENSINO MÉDIO COMPLETO</td>\n",
       "      <td>10</td>\n",
       "    </tr>\n",
       "    <tr>\n",
       "      <th>BRANCA</th>\n",
       "      <td>1138</td>\n",
       "      <td>7</td>\n",
       "      <td>ENSINO MÉDIO COMPLETO</td>\n",
       "      <td>413</td>\n",
       "    </tr>\n",
       "    <tr>\n",
       "      <th>INDÍGENA</th>\n",
       "      <td>13</td>\n",
       "      <td>5</td>\n",
       "      <td>ENSINO MÉDIO COMPLETO</td>\n",
       "      <td>6</td>\n",
       "    </tr>\n",
       "    <tr>\n",
       "      <th>NEGRA</th>\n",
       "      <td>3264</td>\n",
       "      <td>7</td>\n",
       "      <td>ENSINO MÉDIO COMPLETO</td>\n",
       "      <td>1295</td>\n",
       "    </tr>\n",
       "  </tbody>\n",
       "</table>\n",
       "</div>"
      ],
      "text/plain": [
       "            DS_GRAU_INSTRUCAO                                    \n",
       "                        count unique                    top  freq\n",
       "DS_COR_RACA                                                      \n",
       "AMARELA                    20      5  ENSINO MÉDIO COMPLETO    10\n",
       "BRANCA                   1138      7  ENSINO MÉDIO COMPLETO   413\n",
       "INDÍGENA                   13      5  ENSINO MÉDIO COMPLETO     6\n",
       "NEGRA                    3264      7  ENSINO MÉDIO COMPLETO  1295"
      ]
     },
     "execution_count": 22,
     "metadata": {},
     "output_type": "execute_result"
    }
   ],
   "source": [
    "masc.filter(items=['DS_GRAU_INSTRUCAO']).groupby(masc['DS_COR_RACA']).describe()"
   ]
  },
  {
   "cell_type": "code",
   "execution_count": 21,
   "metadata": {
    "collapsed": true
   },
   "outputs": [
    {
     "data": {
      "text/html": [
       "<div>\n",
       "<style scoped>\n",
       "    .dataframe tbody tr th:only-of-type {\n",
       "        vertical-align: middle;\n",
       "    }\n",
       "\n",
       "    .dataframe tbody tr th {\n",
       "        vertical-align: top;\n",
       "    }\n",
       "\n",
       "    .dataframe thead tr th {\n",
       "        text-align: left;\n",
       "    }\n",
       "\n",
       "    .dataframe thead tr:last-of-type th {\n",
       "        text-align: right;\n",
       "    }\n",
       "</style>\n",
       "<table border=\"1\" class=\"dataframe\">\n",
       "  <thead>\n",
       "    <tr>\n",
       "      <th></th>\n",
       "      <th colspan=\"4\" halign=\"left\">NM_UE</th>\n",
       "    </tr>\n",
       "    <tr>\n",
       "      <th></th>\n",
       "      <th>count</th>\n",
       "      <th>unique</th>\n",
       "      <th>top</th>\n",
       "      <th>freq</th>\n",
       "    </tr>\n",
       "    <tr>\n",
       "      <th>DS_COR_RACA</th>\n",
       "      <th></th>\n",
       "      <th></th>\n",
       "      <th></th>\n",
       "      <th></th>\n",
       "    </tr>\n",
       "  </thead>\n",
       "  <tbody>\n",
       "    <tr>\n",
       "      <th>AMARELA</th>\n",
       "      <td>20</td>\n",
       "      <td>15</td>\n",
       "      <td>PORTO REAL DO COLÉGIO</td>\n",
       "      <td>3</td>\n",
       "    </tr>\n",
       "    <tr>\n",
       "      <th>BRANCA</th>\n",
       "      <td>1138</td>\n",
       "      <td>97</td>\n",
       "      <td>MACEIÓ</td>\n",
       "      <td>62</td>\n",
       "    </tr>\n",
       "    <tr>\n",
       "      <th>INDÍGENA</th>\n",
       "      <td>13</td>\n",
       "      <td>8</td>\n",
       "      <td>PORTO REAL DO COLÉGIO</td>\n",
       "      <td>3</td>\n",
       "    </tr>\n",
       "    <tr>\n",
       "      <th>NEGRA</th>\n",
       "      <td>3264</td>\n",
       "      <td>102</td>\n",
       "      <td>ARAPIRACA</td>\n",
       "      <td>111</td>\n",
       "    </tr>\n",
       "  </tbody>\n",
       "</table>\n",
       "</div>"
      ],
      "text/plain": [
       "            NM_UE                                   \n",
       "            count unique                    top freq\n",
       "DS_COR_RACA                                         \n",
       "AMARELA        20     15  PORTO REAL DO COLÉGIO    3\n",
       "BRANCA       1138     97                 MACEIÓ   62\n",
       "INDÍGENA       13      8  PORTO REAL DO COLÉGIO    3\n",
       "NEGRA        3264    102              ARAPIRACA  111"
      ]
     },
     "execution_count": 21,
     "metadata": {},
     "output_type": "execute_result"
    }
   ],
   "source": [
    "masc.filter(items=['NM_UE']).groupby(masc['DS_COR_RACA']).describe()"
   ]
  },
  {
   "cell_type": "markdown",
   "metadata": {},
   "source": [
    " #### RAÇA\n"
   ]
  },
  {
   "cell_type": "code",
   "execution_count": 51,
   "metadata": {
    "collapsed": true
   },
   "outputs": [
    {
     "data": {
      "text/plain": [
       "NEGRA       72.966764\n",
       "BRANCA      27.768418\n",
       "AMARELA      0.566702\n",
       "INDÍGENA     0.321642\n",
       "Name: DS_COR_RACA, dtype: float64"
      ]
     },
     "execution_count": 51,
     "metadata": {},
     "output_type": "execute_result"
    }
   ],
   "source": [
    "# distribuição racial\n",
    "consulta_Vereador_2016['DS_COR_RACA'].value_counts()*100/6529"
   ]
  },
  {
   "cell_type": "code",
   "execution_count": 23,
   "metadata": {},
   "outputs": [],
   "source": [
    "# Criando novas colunas boleanas para raça\n",
    "consulta_Vereador_2016['NEGRA'] = consulta_Vereador_2016['DS_COR_RACA'].str.contains('NEGRA')\n",
    "consulta_Vereador_2016['BRANCA'] = consulta_Vereador_2016['DS_COR_RACA'].str.contains('BRANCA')\n",
    "consulta_Vereador_2016['AMARELA'] = consulta_Vereador_2016['DS_COR_RACA'].str.contains('AMARELA')\n",
    "consulta_Vereador_2016['INDÍGENA'] = consulta_Vereador_2016['DS_COR_RACA'].str.contains('INDÍGENA')\n"
   ]
  },
  {
   "cell_type": "code",
   "execution_count": 24,
   "metadata": {},
   "outputs": [],
   "source": [
    "# Criando dataframes por raça \n",
    "raca_cor = consulta_Vereador_2016['DS_COR_RACA'].unique().tolist()\n",
    "dfs = {}\n",
    "\n",
    "for raca in raca_cor:\n",
    "    selected_rows = consulta_Vereador_2016[consulta_Vereador_2016[raca] == True]\n",
    "    dfs[f'df_{raca}'] = selected_rows\n",
    "    print"
   ]
  },
  {
   "cell_type": "code",
   "execution_count": 53,
   "metadata": {},
   "outputs": [],
   "source": [
    "df_NEGRA = pd.DataFrame(dfs['df_NEGRA'])\n",
    "df_BRANCA = pd.DataFrame(dfs['df_BRANCA'])\n",
    "df_AMARELA = pd.DataFrame(dfs['df_AMARELA'])\n",
    "df_INDIGENA = pd.DataFrame(dfs['df_INDÍGENA'])"
   ]
  },
  {
   "cell_type": "markdown",
   "metadata": {},
   "source": [
    "*Negros*"
   ]
  },
  {
   "cell_type": "code",
   "execution_count": 56,
   "metadata": {
    "collapsed": true
   },
   "outputs": [
    {
     "data": {
      "text/plain": [
       "count          4764\n",
       "unique          102\n",
       "top       ARAPIRACA\n",
       "freq            162\n",
       "Name: NM_UE, dtype: object"
      ]
     },
     "execution_count": 56,
     "metadata": {},
     "output_type": "execute_result"
    }
   ],
   "source": [
    "df_NEGRA['NM_UE'].describe()"
   ]
  },
  {
   "cell_type": "code",
   "execution_count": 57,
   "metadata": {
    "scrolled": true
   },
   "outputs": [
    {
     "data": {
      "text/plain": [
       "'ANADIA'"
      ]
     },
     "execution_count": 57,
     "metadata": {},
     "output_type": "execute_result"
    }
   ],
   "source": [
    "df_NEGRA['NM_UE'].min()"
   ]
  },
  {
   "cell_type": "code",
   "execution_count": 58,
   "metadata": {
    "collapsed": true
   },
   "outputs": [
    {
     "data": {
      "text/plain": [
       "count                                            4764\n",
       "unique                                             32\n",
       "top       PARTIDO DO MOVIMENTO DEMOCRÁTICO BRASILEIRO\n",
       "freq                                              562\n",
       "Name: NM_PARTIDO, dtype: object"
      ]
     },
     "execution_count": 58,
     "metadata": {},
     "output_type": "execute_result"
    }
   ],
   "source": [
    "df_NEGRA['NM_PARTIDO'].describe()"
   ]
  },
  {
   "cell_type": "code",
   "execution_count": 59,
   "metadata": {
    "collapsed": true
   },
   "outputs": [
    {
     "data": {
      "text/plain": [
       "'DEMOCRATAS'"
      ]
     },
     "execution_count": 59,
     "metadata": {},
     "output_type": "execute_result"
    }
   ],
   "source": [
    "df_NEGRA['NM_PARTIDO'].min()"
   ]
  },
  {
   "cell_type": "markdown",
   "metadata": {},
   "source": [
    "*Branco*"
   ]
  },
  {
   "cell_type": "code",
   "execution_count": 64,
   "metadata": {
    "collapsed": true
   },
   "outputs": [
    {
     "data": {
      "text/plain": [
       "count       1813\n",
       "unique        99\n",
       "top       MACEIÓ\n",
       "freq          97\n",
       "Name: NM_UE, dtype: object"
      ]
     },
     "execution_count": 64,
     "metadata": {},
     "output_type": "execute_result"
    }
   ],
   "source": [
    "df_BRANCA['NM_UE'].describe()"
   ]
  },
  {
   "cell_type": "code",
   "execution_count": 66,
   "metadata": {
    "collapsed": true
   },
   "outputs": [
    {
     "data": {
      "text/plain": [
       "'ANADIA'"
      ]
     },
     "execution_count": 66,
     "metadata": {},
     "output_type": "execute_result"
    }
   ],
   "source": [
    "df_BRANCA['NM_UE'].min()"
   ]
  },
  {
   "cell_type": "code",
   "execution_count": 67,
   "metadata": {
    "collapsed": true
   },
   "outputs": [
    {
     "data": {
      "text/plain": [
       "count                                            1813\n",
       "unique                                             32\n",
       "top       PARTIDO DO MOVIMENTO DEMOCRÁTICO BRASILEIRO\n",
       "freq                                              265\n",
       "Name: NM_PARTIDO, dtype: object"
      ]
     },
     "execution_count": 67,
     "metadata": {},
     "output_type": "execute_result"
    }
   ],
   "source": [
    "df_BRANCA['NM_PARTIDO'].describe()"
   ]
  },
  {
   "cell_type": "code",
   "execution_count": 68,
   "metadata": {
    "collapsed": true
   },
   "outputs": [
    {
     "data": {
      "text/plain": [
       "'DEMOCRATAS'"
      ]
     },
     "execution_count": 68,
     "metadata": {},
     "output_type": "execute_result"
    }
   ],
   "source": [
    "df_BRANCA['NM_PARTIDO'].min()"
   ]
  },
  {
   "cell_type": "markdown",
   "metadata": {},
   "source": [
    "*Amarelos e Indigenas* "
   ]
  },
  {
   "cell_type": "code",
   "execution_count": 70,
   "metadata": {
    "collapsed": true
   },
   "outputs": [
    {
     "data": {
      "text/plain": [
       "count          37\n",
       "unique         20\n",
       "top       JACUÍPE\n",
       "freq            6\n",
       "Name: NM_UE, dtype: object"
      ]
     },
     "execution_count": 70,
     "metadata": {},
     "output_type": "execute_result"
    }
   ],
   "source": [
    "df_AMARELA['NM_UE'].describe()"
   ]
  },
  {
   "cell_type": "code",
   "execution_count": 71,
   "metadata": {
    "collapsed": true
   },
   "outputs": [
    {
     "data": {
      "text/plain": [
       "count                       37\n",
       "unique                      18\n",
       "top       PARTIDO PROGRESSISTA\n",
       "freq                         7\n",
       "Name: NM_PARTIDO, dtype: object"
      ]
     },
     "execution_count": 71,
     "metadata": {},
     "output_type": "execute_result"
    }
   ],
   "source": [
    "df_AMARELA['NM_PARTIDO'].describe()"
   ]
  },
  {
   "cell_type": "code",
   "execution_count": 72,
   "metadata": {
    "collapsed": true
   },
   "outputs": [
    {
     "data": {
      "text/plain": [
       "count            21\n",
       "unique            9\n",
       "top       PARICONHA\n",
       "freq              6\n",
       "Name: NM_UE, dtype: object"
      ]
     },
     "execution_count": 72,
     "metadata": {},
     "output_type": "execute_result"
    }
   ],
   "source": [
    "df_INDIGENA['NM_UE'].describe()"
   ]
  },
  {
   "cell_type": "code",
   "execution_count": 73,
   "metadata": {
    "collapsed": true
   },
   "outputs": [
    {
     "data": {
      "text/plain": [
       "count             21\n",
       "unique             9\n",
       "top       DEMOCRATAS\n",
       "freq               4\n",
       "Name: NM_PARTIDO, dtype: object"
      ]
     },
     "execution_count": 73,
     "metadata": {},
     "output_type": "execute_result"
    }
   ],
   "source": [
    "df_INDIGENA['NM_PARTIDO'].describe()"
   ]
  },
  {
   "cell_type": "markdown",
   "metadata": {},
   "source": [
    " - GRAU DE INSTRUÇÃO"
   ]
  },
  {
   "cell_type": "code",
   "execution_count": 62,
   "metadata": {
    "collapsed": true
   },
   "outputs": [
    {
     "data": {
      "text/html": [
       "<div>\n",
       "<style scoped>\n",
       "    .dataframe tbody tr th:only-of-type {\n",
       "        vertical-align: middle;\n",
       "    }\n",
       "\n",
       "    .dataframe tbody tr th {\n",
       "        vertical-align: top;\n",
       "    }\n",
       "\n",
       "    .dataframe thead tr th {\n",
       "        text-align: left;\n",
       "    }\n",
       "\n",
       "    .dataframe thead tr:last-of-type th {\n",
       "        text-align: right;\n",
       "    }\n",
       "</style>\n",
       "<table border=\"1\" class=\"dataframe\">\n",
       "  <thead>\n",
       "    <tr>\n",
       "      <th></th>\n",
       "      <th colspan=\"4\" halign=\"left\">NM_UE</th>\n",
       "    </tr>\n",
       "    <tr>\n",
       "      <th></th>\n",
       "      <th>count</th>\n",
       "      <th>unique</th>\n",
       "      <th>top</th>\n",
       "      <th>freq</th>\n",
       "    </tr>\n",
       "    <tr>\n",
       "      <th>DS_GRAU_INSTRUCAO</th>\n",
       "      <th></th>\n",
       "      <th></th>\n",
       "      <th></th>\n",
       "      <th></th>\n",
       "    </tr>\n",
       "  </thead>\n",
       "  <tbody>\n",
       "    <tr>\n",
       "      <th>ENSINO FUNDAMENTAL COMPLETO</th>\n",
       "      <td>796</td>\n",
       "      <td>100</td>\n",
       "      <td>ARAPIRACA</td>\n",
       "      <td>32</td>\n",
       "    </tr>\n",
       "    <tr>\n",
       "      <th>ENSINO FUNDAMENTAL INCOMPLETO</th>\n",
       "      <td>1045</td>\n",
       "      <td>101</td>\n",
       "      <td>UNIÃO DOS PALMARES</td>\n",
       "      <td>28</td>\n",
       "    </tr>\n",
       "    <tr>\n",
       "      <th>ENSINO MÉDIO COMPLETO</th>\n",
       "      <td>2591</td>\n",
       "      <td>102</td>\n",
       "      <td>ARAPIRACA</td>\n",
       "      <td>80</td>\n",
       "    </tr>\n",
       "    <tr>\n",
       "      <th>ENSINO MÉDIO INCOMPLETO</th>\n",
       "      <td>429</td>\n",
       "      <td>95</td>\n",
       "      <td>CORURIPE</td>\n",
       "      <td>22</td>\n",
       "    </tr>\n",
       "    <tr>\n",
       "      <th>LÊ E ESCREVE</th>\n",
       "      <td>190</td>\n",
       "      <td>64</td>\n",
       "      <td>SÃO LUÍS DO QUITUNDE</td>\n",
       "      <td>19</td>\n",
       "    </tr>\n",
       "    <tr>\n",
       "      <th>SUPERIOR COMPLETO</th>\n",
       "      <td>1220</td>\n",
       "      <td>101</td>\n",
       "      <td>MACEIÓ</td>\n",
       "      <td>103</td>\n",
       "    </tr>\n",
       "    <tr>\n",
       "      <th>SUPERIOR INCOMPLETO</th>\n",
       "      <td>364</td>\n",
       "      <td>87</td>\n",
       "      <td>MACEIÓ</td>\n",
       "      <td>23</td>\n",
       "    </tr>\n",
       "  </tbody>\n",
       "</table>\n",
       "</div>"
      ],
      "text/plain": [
       "                              NM_UE                                  \n",
       "                              count unique                   top freq\n",
       "DS_GRAU_INSTRUCAO                                                    \n",
       "ENSINO FUNDAMENTAL COMPLETO     796    100             ARAPIRACA   32\n",
       "ENSINO FUNDAMENTAL INCOMPLETO  1045    101    UNIÃO DOS PALMARES   28\n",
       "ENSINO MÉDIO COMPLETO          2591    102             ARAPIRACA   80\n",
       "ENSINO MÉDIO INCOMPLETO         429     95              CORURIPE   22\n",
       "LÊ E ESCREVE                    190     64  SÃO LUÍS DO QUITUNDE   19\n",
       "SUPERIOR COMPLETO              1220    101                MACEIÓ  103\n",
       "SUPERIOR INCOMPLETO             364     87                MACEIÓ   23"
      ]
     },
     "execution_count": 62,
     "metadata": {},
     "output_type": "execute_result"
    }
   ],
   "source": [
    "consulta_Vereador_2016.filter(items=['NM_UE']).groupby(consulta_Vereador_2016['DS_GRAU_INSTRUCAO']).describe()"
   ]
  },
  {
   "cell_type": "code",
   "execution_count": 63,
   "metadata": {
    "collapsed": true
   },
   "outputs": [
    {
     "data": {
      "text/html": [
       "<div>\n",
       "<style scoped>\n",
       "    .dataframe tbody tr th:only-of-type {\n",
       "        vertical-align: middle;\n",
       "    }\n",
       "\n",
       "    .dataframe tbody tr th {\n",
       "        vertical-align: top;\n",
       "    }\n",
       "\n",
       "    .dataframe thead tr th {\n",
       "        text-align: left;\n",
       "    }\n",
       "\n",
       "    .dataframe thead tr:last-of-type th {\n",
       "        text-align: right;\n",
       "    }\n",
       "</style>\n",
       "<table border=\"1\" class=\"dataframe\">\n",
       "  <thead>\n",
       "    <tr>\n",
       "      <th></th>\n",
       "      <th colspan=\"4\" halign=\"left\">NM_PARTIDO</th>\n",
       "    </tr>\n",
       "    <tr>\n",
       "      <th></th>\n",
       "      <th>count</th>\n",
       "      <th>unique</th>\n",
       "      <th>top</th>\n",
       "      <th>freq</th>\n",
       "    </tr>\n",
       "    <tr>\n",
       "      <th>DS_GRAU_INSTRUCAO</th>\n",
       "      <th></th>\n",
       "      <th></th>\n",
       "      <th></th>\n",
       "      <th></th>\n",
       "    </tr>\n",
       "  </thead>\n",
       "  <tbody>\n",
       "    <tr>\n",
       "      <th>ENSINO FUNDAMENTAL COMPLETO</th>\n",
       "      <td>796</td>\n",
       "      <td>31</td>\n",
       "      <td>PARTIDO DO MOVIMENTO DEMOCRÁTICO BRASILEIRO</td>\n",
       "      <td>90</td>\n",
       "    </tr>\n",
       "    <tr>\n",
       "      <th>ENSINO FUNDAMENTAL INCOMPLETO</th>\n",
       "      <td>1045</td>\n",
       "      <td>31</td>\n",
       "      <td>PARTIDO DO MOVIMENTO DEMOCRÁTICO BRASILEIRO</td>\n",
       "      <td>109</td>\n",
       "    </tr>\n",
       "    <tr>\n",
       "      <th>ENSINO MÉDIO COMPLETO</th>\n",
       "      <td>2591</td>\n",
       "      <td>31</td>\n",
       "      <td>PARTIDO DO MOVIMENTO DEMOCRÁTICO BRASILEIRO</td>\n",
       "      <td>341</td>\n",
       "    </tr>\n",
       "    <tr>\n",
       "      <th>ENSINO MÉDIO INCOMPLETO</th>\n",
       "      <td>429</td>\n",
       "      <td>31</td>\n",
       "      <td>PARTIDO DO MOVIMENTO DEMOCRÁTICO BRASILEIRO</td>\n",
       "      <td>52</td>\n",
       "    </tr>\n",
       "    <tr>\n",
       "      <th>LÊ E ESCREVE</th>\n",
       "      <td>190</td>\n",
       "      <td>28</td>\n",
       "      <td>PARTIDO DO MOVIMENTO DEMOCRÁTICO BRASILEIRO</td>\n",
       "      <td>29</td>\n",
       "    </tr>\n",
       "    <tr>\n",
       "      <th>SUPERIOR COMPLETO</th>\n",
       "      <td>1220</td>\n",
       "      <td>32</td>\n",
       "      <td>PARTIDO DO MOVIMENTO DEMOCRÁTICO BRASILEIRO</td>\n",
       "      <td>167</td>\n",
       "    </tr>\n",
       "    <tr>\n",
       "      <th>SUPERIOR INCOMPLETO</th>\n",
       "      <td>364</td>\n",
       "      <td>32</td>\n",
       "      <td>PARTIDO DO MOVIMENTO DEMOCRÁTICO BRASILEIRO</td>\n",
       "      <td>43</td>\n",
       "    </tr>\n",
       "  </tbody>\n",
       "</table>\n",
       "</div>"
      ],
      "text/plain": [
       "                              NM_PARTIDO         \\\n",
       "                                   count unique   \n",
       "DS_GRAU_INSTRUCAO                                 \n",
       "ENSINO FUNDAMENTAL COMPLETO          796     31   \n",
       "ENSINO FUNDAMENTAL INCOMPLETO       1045     31   \n",
       "ENSINO MÉDIO COMPLETO               2591     31   \n",
       "ENSINO MÉDIO INCOMPLETO              429     31   \n",
       "LÊ E ESCREVE                         190     28   \n",
       "SUPERIOR COMPLETO                   1220     32   \n",
       "SUPERIOR INCOMPLETO                  364     32   \n",
       "\n",
       "                                                                            \\\n",
       "                                                                       top   \n",
       "DS_GRAU_INSTRUCAO                                                            \n",
       "ENSINO FUNDAMENTAL COMPLETO    PARTIDO DO MOVIMENTO DEMOCRÁTICO BRASILEIRO   \n",
       "ENSINO FUNDAMENTAL INCOMPLETO  PARTIDO DO MOVIMENTO DEMOCRÁTICO BRASILEIRO   \n",
       "ENSINO MÉDIO COMPLETO          PARTIDO DO MOVIMENTO DEMOCRÁTICO BRASILEIRO   \n",
       "ENSINO MÉDIO INCOMPLETO        PARTIDO DO MOVIMENTO DEMOCRÁTICO BRASILEIRO   \n",
       "LÊ E ESCREVE                   PARTIDO DO MOVIMENTO DEMOCRÁTICO BRASILEIRO   \n",
       "SUPERIOR COMPLETO              PARTIDO DO MOVIMENTO DEMOCRÁTICO BRASILEIRO   \n",
       "SUPERIOR INCOMPLETO            PARTIDO DO MOVIMENTO DEMOCRÁTICO BRASILEIRO   \n",
       "\n",
       "                                    \n",
       "                              freq  \n",
       "DS_GRAU_INSTRUCAO                   \n",
       "ENSINO FUNDAMENTAL COMPLETO     90  \n",
       "ENSINO FUNDAMENTAL INCOMPLETO  109  \n",
       "ENSINO MÉDIO COMPLETO          341  \n",
       "ENSINO MÉDIO INCOMPLETO         52  \n",
       "LÊ E ESCREVE                    29  \n",
       "SUPERIOR COMPLETO              167  \n",
       "SUPERIOR INCOMPLETO             43  "
      ]
     },
     "execution_count": 63,
     "metadata": {},
     "output_type": "execute_result"
    }
   ],
   "source": [
    "consulta_Vereador_2016.filter(items=['NM_PARTIDO']).groupby(consulta_Vereador_2016['DS_GRAU_INSTRUCAO']).describe()"
   ]
  },
  {
   "cell_type": "markdown",
   "metadata": {},
   "source": [
    "### Criando DataFrame\n",
    " \n"
   ]
  },
  {
   "cell_type": "markdown",
   "metadata": {},
   "source": [
    "*Partido*"
   ]
  },
  {
   "cell_type": "code",
   "execution_count": 83,
   "metadata": {
    "collapsed": true
   },
   "outputs": [
    {
     "data": {
      "text/plain": [
       "PARTIDO DO MOVIMENTO DEMOCRÁTICO BRASILEIRO       553\n",
       "PARTIDO PROGRESSISTA                              278\n",
       "PARTIDO DA SOCIAL DEMOCRACIA BRASILEIRA           238\n",
       "PARTIDO SOCIAL DEMOCRÁTICO                        232\n",
       "PARTIDO DEMOCRÁTICO TRABALHISTA                   222\n",
       "PARTIDO SOCIALISTA BRASILEIRO                     209\n",
       "DEMOCRATAS                                        185\n",
       "PARTIDO POPULAR SOCIALISTA                        185\n",
       "PARTIDO SOCIAL CRISTÃO                            184\n",
       "PARTIDO REPUBLICANO PROGRESSISTA                  180\n",
       "PARTIDO REPUBLICANO BRASILEIRO                    171\n",
       "PARTIDO SOCIAL LIBERAL                            154\n",
       "PARTIDO HUMANISTA DA SOLIDARIEDADE                150\n",
       "PARTIDO DOS TRABALHADORES                         150\n",
       "PARTIDO DA MOBILIZAÇÃO NACIONAL                   143\n",
       "PARTIDO DA REPÚBLICA                              140\n",
       "SOLIDARIEDADE                                     133\n",
       "PARTIDO RENOVADOR TRABALHISTA BRASILEIRO          123\n",
       "PARTIDO PÁTRIA LIVRE                              104\n",
       "PARTIDO VERDE                                      88\n",
       "PARTIDO TRABALHISTA CRISTÃO                        87\n",
       "PARTIDO SOCIAL DEMOCRATA CRISTÃO                   77\n",
       "PARTIDO ECOLÓGICO NACIONAL                         72\n",
       "PARTIDO TRABALHISTA DO BRASIL                      69\n",
       "PARTIDO COMUNISTA DO BRASIL                        65\n",
       "PARTIDO REPUBLICANO DA ORDEM SOCIAL                63\n",
       "PARTIDO TRABALHISTA NACIONAL                       56\n",
       "PARTIDO TRABALHISTA BRASILEIRO                     55\n",
       "PARTIDO SOCIALISMO E LIBERDADE                     33\n",
       "PARTIDO DA MULHER BRASILEIRA                       22\n",
       "REDE SUSTENTABILIDADE                              12\n",
       "PARTIDO SOCIALISTA DOS TRABALHADORES UNIFICADO      2\n",
       "Name: NM_PARTIDO, dtype: int64"
      ]
     },
     "execution_count": 83,
     "metadata": {},
     "output_type": "execute_result"
    }
   ],
   "source": [
    "masc['NM_PARTIDO'].value_counts()"
   ]
  },
  {
   "cell_type": "code",
   "execution_count": 89,
   "metadata": {},
   "outputs": [],
   "source": [
    "# Variaveis de Gênero \n",
    "fem_partido = fem['NM_PARTIDO'].value_counts()\n",
    "masc_partido = masc['NM_PARTIDO'].value_counts()\n"
   ]
  },
  {
   "cell_type": "code",
   "execution_count": 90,
   "metadata": {},
   "outputs": [],
   "source": [
    "total_gen_partido = fem_partido + masc_partido"
   ]
  },
  {
   "cell_type": "code",
   "execution_count": 92,
   "metadata": {},
   "outputs": [],
   "source": [
    "percent_fem_partido = fem_partido * 100/total_gen_partido\n",
    "percent_masc_partido = masc_partido * 100/total_gen_partido"
   ]
  },
  {
   "cell_type": "code",
   "execution_count": 93,
   "metadata": {},
   "outputs": [],
   "source": [
    "percent_masc_partido = percent_masc_partido.apply(lambda x: round(x, decimais))\n",
    "percent_fem_partido = percent_fem_partido.apply(lambda x: round(x, decimais))"
   ]
  },
  {
   "cell_type": "code",
   "execution_count": 133,
   "metadata": {},
   "outputs": [],
   "source": [
    "# Variaveis de raça\n",
    "negra = df_NEGRA['NM_PARTIDO'].value_counts()\n",
    "branca = df_BRANCA['NM_PARTIDO'].value_counts()\n",
    "amarela = df_AMARELA['NM_PARTIDO'].value_counts()\n",
    "indigena = df_INDIGENA['NM_PARTIDO'].value_counts()"
   ]
  },
  {
   "cell_type": "code",
   "execution_count": 148,
   "metadata": {
    "collapsed": true
   },
   "outputs": [
    {
     "data": {
      "text/plain": [
       "PARTIDO DO MOVIMENTO DEMOCRÁTICO BRASILEIRO       831\n",
       "PARTIDO PROGRESSISTA                              423\n",
       "PARTIDO DA SOCIAL DEMOCRACIA BRASILEIRA           378\n",
       "PARTIDO SOCIAL DEMOCRÁTICO                        353\n",
       "PARTIDO DEMOCRÁTICO TRABALHISTA                   315\n",
       "PARTIDO SOCIALISTA BRASILEIRO                     299\n",
       "DEMOCRATAS                                        291\n",
       "PARTIDO POPULAR SOCIALISTA                        286\n",
       "PARTIDO SOCIAL CRISTÃO                            268\n",
       "PARTIDO REPUBLICANO PROGRESSISTA                  264\n",
       "PARTIDO REPUBLICANO BRASILEIRO                    253\n",
       "PARTIDO SOCIAL LIBERAL                            234\n",
       "PARTIDO DOS TRABALHADORES                         229\n",
       "PARTIDO HUMANISTA DA SOLIDARIEDADE                220\n",
       "PARTIDO DA MOBILIZAÇÃO NACIONAL                   212\n",
       "PARTIDO DA REPÚBLICA                              207\n",
       "SOLIDARIEDADE                                     206\n",
       "PARTIDO RENOVADOR TRABALHISTA BRASILEIRO          192\n",
       "PARTIDO PÁTRIA LIVRE                              146\n",
       "PARTIDO VERDE                                     141\n",
       "PARTIDO TRABALHISTA CRISTÃO                       120\n",
       "PARTIDO SOCIAL DEMOCRATA CRISTÃO                  108\n",
       "PARTIDO ECOLÓGICO NACIONAL                        100\n",
       "PARTIDO REPUBLICANO DA ORDEM SOCIAL                98\n",
       "PARTIDO COMUNISTA DO BRASIL                        98\n",
       "PARTIDO TRABALHISTA DO BRASIL                      95\n",
       "PARTIDO TRABALHISTA NACIONAL                       82\n",
       "PARTIDO TRABALHISTA BRASILEIRO                     69\n",
       "PARTIDO SOCIALISMO E LIBERDADE                     56\n",
       "PARTIDO DA MULHER BRASILEIRA                       38\n",
       "REDE SUSTENTABILIDADE                              20\n",
       "PARTIDO SOCIALISTA DOS TRABALHADORES UNIFICADO      3\n",
       "Name: NM_PARTIDO, dtype: int64"
      ]
     },
     "execution_count": 148,
     "metadata": {},
     "output_type": "execute_result"
    }
   ],
   "source": [
    "consulta_Vereador_2016['NM_PARTIDO'].value_counts()"
   ]
  },
  {
   "cell_type": "code",
   "execution_count": 150,
   "metadata": {},
   "outputs": [],
   "source": [
    "total_raca_partido = consulta_Vereador_2016['NM_PARTIDO'].value_counts()"
   ]
  },
  {
   "cell_type": "code",
   "execution_count": 153,
   "metadata": {},
   "outputs": [],
   "source": [
    "percent_negra = negra *100/total_raca_partido\n",
    "percent_branca = branca *100/total_raca_partido\n",
    "percent_amarela = amarela *100/total_raca_partido\n",
    "percent_indigena = indigena *100/total_raca_partido"
   ]
  },
  {
   "cell_type": "code",
   "execution_count": 158,
   "metadata": {},
   "outputs": [],
   "source": [
    "percent_negra = percent_negra.apply(lambda x: round(x, decimais))\n",
    "percent_branca = percent_branca.apply(lambda x: round(x, decimais))\n",
    "percent_amarela = percent_amarela.apply(lambda x: round(x, decimais))\n",
    "percent_indigena = percent_indigena.apply(lambda x: round(x, decimais))"
   ]
  },
  {
   "cell_type": "code",
   "execution_count": 124,
   "metadata": {},
   "outputs": [],
   "source": [
    "# Variaveis de Grau de instrucao\n",
    "\n",
    "ens_Med = consulta_Vereador_2016.loc[(consulta_Vereador_2016['DS_GRAU_INSTRUCAO'] == 'ENSINO MÉDIO COMPLETO') + (consulta_Vereador_2016['DS_GRAU_INSTRUCAO'] == 'ENSINO MÉDIO INCOMPLETO')]\n",
    "ens_Fund = consulta_Vereador_2016.loc[(consulta_Vereador_2016['DS_GRAU_INSTRUCAO'] == 'ENSINO FUNDAMENTAL COMPLETO') + (consulta_Vereador_2016['DS_GRAU_INSTRUCAO'] == 'ENSINO FUNDAMENTAL INCOMPLETO')]\n",
    "ens_Sup = consulta_Vereador_2016.loc[(consulta_Vereador_2016['DS_GRAU_INSTRUCAO'] == 'SUPERIOR COMPLETO') + (consulta_Vereador_2016['DS_GRAU_INSTRUCAO'] == 'SUPERIOR INCOMPLETO')]\n",
    "ens_Le = consulta_Vereador_2016.loc[consulta_Vereador_2016['DS_GRAU_INSTRUCAO'] == 'LÊ E ESCREVE']\n"
   ]
  },
  {
   "cell_type": "code",
   "execution_count": 162,
   "metadata": {},
   "outputs": [],
   "source": [
    "fundamental = ens_Fund['NM_PARTIDO'].value_counts() \n",
    "medio = ens_Med['NM_PARTIDO'].value_counts() \n",
    "superior = ens_Sup['NM_PARTIDO'].value_counts() \n",
    "le_escreve = ens_Le['NM_PARTIDO'].value_counts()"
   ]
  },
  {
   "cell_type": "code",
   "execution_count": 161,
   "metadata": {},
   "outputs": [],
   "source": [
    "total_ens_partido = consulta_Vereador_2016['NM_PARTIDO'].value_counts() "
   ]
  },
  {
   "cell_type": "code",
   "execution_count": 164,
   "metadata": {},
   "outputs": [],
   "source": [
    "percent_ens_Med = medio*100/total_ens_partido\n",
    "percent_ens_Fund = fundamental*100/total_ens_partido\n",
    "percent_ens_Sup = superior*100/total_ens_partido \n",
    "percent_ens_Le = le_escreve*100/total_ens_partido\n"
   ]
  },
  {
   "cell_type": "code",
   "execution_count": 166,
   "metadata": {},
   "outputs": [],
   "source": [
    "percent_ens_Med= percent_ens_Med.apply(lambda x: round(x, decimais))\n",
    "percent_ens_Fund= percent_ens_Fund.apply(lambda x: round(x, decimais))\n",
    "percent_ens_Sup = percent_ens_Sup.apply(lambda x: round(x, decimais))\n",
    "percent_ens_Le = percent_ens_Le.apply(lambda x: round(x, decimais))\n"
   ]
  },
  {
   "cell_type": "code",
   "execution_count": 170,
   "metadata": {},
   "outputs": [],
   "source": [
    "# Criando Data Frame \n",
    "\n",
    "dic1 = {'FEMININO': fem_partido, '%FEMININO': percent_fem_partido , 'MASCULINO':masc_partido,'%MASCULINO': percent_masc_partido ,\n",
    "          'BRANCA': branca , '%BRANCA': percent_branca , 'NEGRA': negra, '%NEGRA': percent_negra, 'AMARELA': amarela, '%AMARELA': percent_amarela, \n",
    "         'INDÍGENA': indigena ,'%INDÍGENA': percent_indigena, 'ENSINO MÉDIO': medio ,'%ENSINO MÉDIO': percent_ens_Med , 'ENSINO FUNDAMENTAL': fundamental, '%ENSINO FUNDAMENTAL': percent_ens_Fund,\n",
    "          'ENSINO SUPERIOR': superior, '%ENSINO SUPERIOR': percent_ens_Sup, 'LÊ E ESCREVE': le_escreve, '%LÊ E ESCREVE':percent_ens_Le\n",
    "       }\n"
   ]
  },
  {
   "cell_type": "code",
   "execution_count": 171,
   "metadata": {},
   "outputs": [],
   "source": [
    "df_partidos = pd.DataFrame(dic1)"
   ]
  },
  {
   "cell_type": "code",
   "execution_count": 174,
   "metadata": {},
   "outputs": [],
   "source": [
    "df_partidos = df_partidos.fillna(0)"
   ]
  },
  {
   "cell_type": "code",
   "execution_count": 175,
   "metadata": {},
   "outputs": [],
   "source": [
    "df_partidos.to_csv('consultaVereador_AL_partidos.csv')"
   ]
  },
  {
   "cell_type": "code",
   "execution_count": 176,
   "metadata": {
    "collapsed": true
   },
   "outputs": [
    {
     "data": {
      "text/html": [
       "<div>\n",
       "<style scoped>\n",
       "    .dataframe tbody tr th:only-of-type {\n",
       "        vertical-align: middle;\n",
       "    }\n",
       "\n",
       "    .dataframe tbody tr th {\n",
       "        vertical-align: top;\n",
       "    }\n",
       "\n",
       "    .dataframe thead th {\n",
       "        text-align: right;\n",
       "    }\n",
       "</style>\n",
       "<table border=\"1\" class=\"dataframe\">\n",
       "  <thead>\n",
       "    <tr style=\"text-align: right;\">\n",
       "      <th></th>\n",
       "      <th>FEMININO</th>\n",
       "      <th>%FEMININO</th>\n",
       "      <th>MASCULINO</th>\n",
       "      <th>%MASCULINO</th>\n",
       "      <th>BRANCA</th>\n",
       "      <th>%BRANCA</th>\n",
       "      <th>NEGRA</th>\n",
       "      <th>%NEGRA</th>\n",
       "      <th>AMARELA</th>\n",
       "      <th>%AMARELA</th>\n",
       "      <th>INDÍGENA</th>\n",
       "      <th>%INDÍGENA</th>\n",
       "      <th>ENSINO MÉDIO</th>\n",
       "      <th>%ENSINO MÉDIO</th>\n",
       "      <th>ENSINO FUNDAMENTAL</th>\n",
       "      <th>%ENSINO FUNDAMENTAL</th>\n",
       "      <th>ENSINO SUPERIOR</th>\n",
       "      <th>%ENSINO SUPERIOR</th>\n",
       "      <th>LÊ E ESCREVE</th>\n",
       "      <th>%LÊ E ESCREVE</th>\n",
       "    </tr>\n",
       "  </thead>\n",
       "  <tbody>\n",
       "    <tr>\n",
       "      <th>DEMOCRATAS</th>\n",
       "      <td>106</td>\n",
       "      <td>36.4</td>\n",
       "      <td>185</td>\n",
       "      <td>63.6</td>\n",
       "      <td>95</td>\n",
       "      <td>32.6</td>\n",
       "      <td>192</td>\n",
       "      <td>66.0</td>\n",
       "      <td>0.0</td>\n",
       "      <td>0.0</td>\n",
       "      <td>4.0</td>\n",
       "      <td>1.4</td>\n",
       "      <td>142.0</td>\n",
       "      <td>48.8</td>\n",
       "      <td>64.0</td>\n",
       "      <td>22.0</td>\n",
       "      <td>81</td>\n",
       "      <td>27.8</td>\n",
       "      <td>4.0</td>\n",
       "      <td>1.4</td>\n",
       "    </tr>\n",
       "    <tr>\n",
       "      <th>PARTIDO COMUNISTA DO BRASIL</th>\n",
       "      <td>33</td>\n",
       "      <td>33.7</td>\n",
       "      <td>65</td>\n",
       "      <td>66.3</td>\n",
       "      <td>22</td>\n",
       "      <td>22.4</td>\n",
       "      <td>71</td>\n",
       "      <td>72.4</td>\n",
       "      <td>1.0</td>\n",
       "      <td>1.0</td>\n",
       "      <td>4.0</td>\n",
       "      <td>4.1</td>\n",
       "      <td>51.0</td>\n",
       "      <td>52.0</td>\n",
       "      <td>15.0</td>\n",
       "      <td>15.3</td>\n",
       "      <td>32</td>\n",
       "      <td>32.7</td>\n",
       "      <td>0.0</td>\n",
       "      <td>0.0</td>\n",
       "    </tr>\n",
       "    <tr>\n",
       "      <th>PARTIDO DA MOBILIZAÇÃO NACIONAL</th>\n",
       "      <td>69</td>\n",
       "      <td>32.5</td>\n",
       "      <td>143</td>\n",
       "      <td>67.5</td>\n",
       "      <td>56</td>\n",
       "      <td>26.4</td>\n",
       "      <td>156</td>\n",
       "      <td>73.6</td>\n",
       "      <td>0.0</td>\n",
       "      <td>0.0</td>\n",
       "      <td>0.0</td>\n",
       "      <td>0.0</td>\n",
       "      <td>94.0</td>\n",
       "      <td>44.3</td>\n",
       "      <td>66.0</td>\n",
       "      <td>31.1</td>\n",
       "      <td>47</td>\n",
       "      <td>22.2</td>\n",
       "      <td>5.0</td>\n",
       "      <td>2.4</td>\n",
       "    </tr>\n",
       "    <tr>\n",
       "      <th>PARTIDO DA MULHER BRASILEIRA</th>\n",
       "      <td>16</td>\n",
       "      <td>42.1</td>\n",
       "      <td>22</td>\n",
       "      <td>57.9</td>\n",
       "      <td>17</td>\n",
       "      <td>44.7</td>\n",
       "      <td>21</td>\n",
       "      <td>55.3</td>\n",
       "      <td>0.0</td>\n",
       "      <td>0.0</td>\n",
       "      <td>0.0</td>\n",
       "      <td>0.0</td>\n",
       "      <td>17.0</td>\n",
       "      <td>44.7</td>\n",
       "      <td>10.0</td>\n",
       "      <td>26.3</td>\n",
       "      <td>9</td>\n",
       "      <td>23.7</td>\n",
       "      <td>2.0</td>\n",
       "      <td>5.3</td>\n",
       "    </tr>\n",
       "    <tr>\n",
       "      <th>PARTIDO DA REPÚBLICA</th>\n",
       "      <td>67</td>\n",
       "      <td>32.4</td>\n",
       "      <td>140</td>\n",
       "      <td>67.6</td>\n",
       "      <td>56</td>\n",
       "      <td>27.1</td>\n",
       "      <td>146</td>\n",
       "      <td>70.5</td>\n",
       "      <td>3.0</td>\n",
       "      <td>1.4</td>\n",
       "      <td>2.0</td>\n",
       "      <td>1.0</td>\n",
       "      <td>104.0</td>\n",
       "      <td>50.2</td>\n",
       "      <td>58.0</td>\n",
       "      <td>28.0</td>\n",
       "      <td>41</td>\n",
       "      <td>19.8</td>\n",
       "      <td>4.0</td>\n",
       "      <td>1.9</td>\n",
       "    </tr>\n",
       "    <tr>\n",
       "      <th>PARTIDO DA SOCIAL DEMOCRACIA BRASILEIRA</th>\n",
       "      <td>140</td>\n",
       "      <td>37.0</td>\n",
       "      <td>238</td>\n",
       "      <td>63.0</td>\n",
       "      <td>101</td>\n",
       "      <td>26.7</td>\n",
       "      <td>270</td>\n",
       "      <td>71.4</td>\n",
       "      <td>5.0</td>\n",
       "      <td>1.3</td>\n",
       "      <td>2.0</td>\n",
       "      <td>0.5</td>\n",
       "      <td>165.0</td>\n",
       "      <td>43.7</td>\n",
       "      <td>102.0</td>\n",
       "      <td>27.0</td>\n",
       "      <td>98</td>\n",
       "      <td>25.9</td>\n",
       "      <td>13.0</td>\n",
       "      <td>3.4</td>\n",
       "    </tr>\n",
       "    <tr>\n",
       "      <th>PARTIDO DEMOCRÁTICO TRABALHISTA</th>\n",
       "      <td>93</td>\n",
       "      <td>29.5</td>\n",
       "      <td>222</td>\n",
       "      <td>70.5</td>\n",
       "      <td>101</td>\n",
       "      <td>32.1</td>\n",
       "      <td>214</td>\n",
       "      <td>67.9</td>\n",
       "      <td>0.0</td>\n",
       "      <td>0.0</td>\n",
       "      <td>0.0</td>\n",
       "      <td>0.0</td>\n",
       "      <td>153.0</td>\n",
       "      <td>48.6</td>\n",
       "      <td>71.0</td>\n",
       "      <td>22.5</td>\n",
       "      <td>81</td>\n",
       "      <td>25.7</td>\n",
       "      <td>10.0</td>\n",
       "      <td>3.2</td>\n",
       "    </tr>\n",
       "    <tr>\n",
       "      <th>PARTIDO DO MOVIMENTO DEMOCRÁTICO BRASILEIRO</th>\n",
       "      <td>278</td>\n",
       "      <td>33.5</td>\n",
       "      <td>553</td>\n",
       "      <td>66.5</td>\n",
       "      <td>265</td>\n",
       "      <td>31.9</td>\n",
       "      <td>562</td>\n",
       "      <td>67.6</td>\n",
       "      <td>4.0</td>\n",
       "      <td>0.5</td>\n",
       "      <td>0.0</td>\n",
       "      <td>0.0</td>\n",
       "      <td>393.0</td>\n",
       "      <td>47.3</td>\n",
       "      <td>199.0</td>\n",
       "      <td>23.9</td>\n",
       "      <td>210</td>\n",
       "      <td>25.3</td>\n",
       "      <td>29.0</td>\n",
       "      <td>3.5</td>\n",
       "    </tr>\n",
       "    <tr>\n",
       "      <th>PARTIDO DOS TRABALHADORES</th>\n",
       "      <td>79</td>\n",
       "      <td>34.5</td>\n",
       "      <td>150</td>\n",
       "      <td>65.5</td>\n",
       "      <td>60</td>\n",
       "      <td>26.2</td>\n",
       "      <td>168</td>\n",
       "      <td>73.4</td>\n",
       "      <td>1.0</td>\n",
       "      <td>0.4</td>\n",
       "      <td>0.0</td>\n",
       "      <td>0.0</td>\n",
       "      <td>82.0</td>\n",
       "      <td>35.8</td>\n",
       "      <td>63.0</td>\n",
       "      <td>27.5</td>\n",
       "      <td>77</td>\n",
       "      <td>33.6</td>\n",
       "      <td>7.0</td>\n",
       "      <td>3.1</td>\n",
       "    </tr>\n",
       "    <tr>\n",
       "      <th>PARTIDO ECOLÓGICO NACIONAL</th>\n",
       "      <td>28</td>\n",
       "      <td>28.0</td>\n",
       "      <td>72</td>\n",
       "      <td>72.0</td>\n",
       "      <td>35</td>\n",
       "      <td>35.0</td>\n",
       "      <td>64</td>\n",
       "      <td>64.0</td>\n",
       "      <td>1.0</td>\n",
       "      <td>1.0</td>\n",
       "      <td>0.0</td>\n",
       "      <td>0.0</td>\n",
       "      <td>50.0</td>\n",
       "      <td>50.0</td>\n",
       "      <td>25.0</td>\n",
       "      <td>25.0</td>\n",
       "      <td>21</td>\n",
       "      <td>21.0</td>\n",
       "      <td>4.0</td>\n",
       "      <td>4.0</td>\n",
       "    </tr>\n",
       "    <tr>\n",
       "      <th>PARTIDO HUMANISTA DA SOLIDARIEDADE</th>\n",
       "      <td>70</td>\n",
       "      <td>31.8</td>\n",
       "      <td>150</td>\n",
       "      <td>68.2</td>\n",
       "      <td>57</td>\n",
       "      <td>25.9</td>\n",
       "      <td>160</td>\n",
       "      <td>72.7</td>\n",
       "      <td>1.0</td>\n",
       "      <td>0.5</td>\n",
       "      <td>2.0</td>\n",
       "      <td>0.9</td>\n",
       "      <td>100.0</td>\n",
       "      <td>45.5</td>\n",
       "      <td>71.0</td>\n",
       "      <td>32.3</td>\n",
       "      <td>43</td>\n",
       "      <td>19.5</td>\n",
       "      <td>6.0</td>\n",
       "      <td>2.7</td>\n",
       "    </tr>\n",
       "    <tr>\n",
       "      <th>PARTIDO POPULAR SOCIALISTA</th>\n",
       "      <td>101</td>\n",
       "      <td>35.3</td>\n",
       "      <td>185</td>\n",
       "      <td>64.7</td>\n",
       "      <td>82</td>\n",
       "      <td>28.7</td>\n",
       "      <td>202</td>\n",
       "      <td>70.6</td>\n",
       "      <td>0.0</td>\n",
       "      <td>0.0</td>\n",
       "      <td>2.0</td>\n",
       "      <td>0.7</td>\n",
       "      <td>140.0</td>\n",
       "      <td>49.0</td>\n",
       "      <td>79.0</td>\n",
       "      <td>27.6</td>\n",
       "      <td>62</td>\n",
       "      <td>21.7</td>\n",
       "      <td>5.0</td>\n",
       "      <td>1.7</td>\n",
       "    </tr>\n",
       "    <tr>\n",
       "      <th>PARTIDO PROGRESSISTA</th>\n",
       "      <td>145</td>\n",
       "      <td>34.3</td>\n",
       "      <td>278</td>\n",
       "      <td>65.7</td>\n",
       "      <td>116</td>\n",
       "      <td>27.4</td>\n",
       "      <td>300</td>\n",
       "      <td>70.9</td>\n",
       "      <td>7.0</td>\n",
       "      <td>1.7</td>\n",
       "      <td>0.0</td>\n",
       "      <td>0.0</td>\n",
       "      <td>168.0</td>\n",
       "      <td>39.7</td>\n",
       "      <td>153.0</td>\n",
       "      <td>36.2</td>\n",
       "      <td>87</td>\n",
       "      <td>20.6</td>\n",
       "      <td>15.0</td>\n",
       "      <td>3.5</td>\n",
       "    </tr>\n",
       "    <tr>\n",
       "      <th>PARTIDO PÁTRIA LIVRE</th>\n",
       "      <td>42</td>\n",
       "      <td>28.8</td>\n",
       "      <td>104</td>\n",
       "      <td>71.2</td>\n",
       "      <td>38</td>\n",
       "      <td>26.0</td>\n",
       "      <td>107</td>\n",
       "      <td>73.3</td>\n",
       "      <td>1.0</td>\n",
       "      <td>0.7</td>\n",
       "      <td>0.0</td>\n",
       "      <td>0.0</td>\n",
       "      <td>71.0</td>\n",
       "      <td>48.6</td>\n",
       "      <td>37.0</td>\n",
       "      <td>25.3</td>\n",
       "      <td>36</td>\n",
       "      <td>24.7</td>\n",
       "      <td>2.0</td>\n",
       "      <td>1.4</td>\n",
       "    </tr>\n",
       "    <tr>\n",
       "      <th>PARTIDO RENOVADOR TRABALHISTA BRASILEIRO</th>\n",
       "      <td>69</td>\n",
       "      <td>35.9</td>\n",
       "      <td>123</td>\n",
       "      <td>64.1</td>\n",
       "      <td>48</td>\n",
       "      <td>25.0</td>\n",
       "      <td>142</td>\n",
       "      <td>74.0</td>\n",
       "      <td>2.0</td>\n",
       "      <td>1.0</td>\n",
       "      <td>0.0</td>\n",
       "      <td>0.0</td>\n",
       "      <td>85.0</td>\n",
       "      <td>44.3</td>\n",
       "      <td>53.0</td>\n",
       "      <td>27.6</td>\n",
       "      <td>50</td>\n",
       "      <td>26.0</td>\n",
       "      <td>4.0</td>\n",
       "      <td>2.1</td>\n",
       "    </tr>\n",
       "    <tr>\n",
       "      <th>PARTIDO REPUBLICANO BRASILEIRO</th>\n",
       "      <td>82</td>\n",
       "      <td>32.4</td>\n",
       "      <td>171</td>\n",
       "      <td>67.6</td>\n",
       "      <td>49</td>\n",
       "      <td>19.4</td>\n",
       "      <td>202</td>\n",
       "      <td>79.8</td>\n",
       "      <td>2.0</td>\n",
       "      <td>0.8</td>\n",
       "      <td>0.0</td>\n",
       "      <td>0.0</td>\n",
       "      <td>130.0</td>\n",
       "      <td>51.4</td>\n",
       "      <td>74.0</td>\n",
       "      <td>29.2</td>\n",
       "      <td>44</td>\n",
       "      <td>17.4</td>\n",
       "      <td>5.0</td>\n",
       "      <td>2.0</td>\n",
       "    </tr>\n",
       "    <tr>\n",
       "      <th>PARTIDO REPUBLICANO DA ORDEM SOCIAL</th>\n",
       "      <td>35</td>\n",
       "      <td>35.7</td>\n",
       "      <td>63</td>\n",
       "      <td>64.3</td>\n",
       "      <td>32</td>\n",
       "      <td>32.7</td>\n",
       "      <td>66</td>\n",
       "      <td>67.3</td>\n",
       "      <td>0.0</td>\n",
       "      <td>0.0</td>\n",
       "      <td>0.0</td>\n",
       "      <td>0.0</td>\n",
       "      <td>54.0</td>\n",
       "      <td>55.1</td>\n",
       "      <td>20.0</td>\n",
       "      <td>20.4</td>\n",
       "      <td>22</td>\n",
       "      <td>22.4</td>\n",
       "      <td>2.0</td>\n",
       "      <td>2.0</td>\n",
       "    </tr>\n",
       "    <tr>\n",
       "      <th>PARTIDO REPUBLICANO PROGRESSISTA</th>\n",
       "      <td>84</td>\n",
       "      <td>31.8</td>\n",
       "      <td>180</td>\n",
       "      <td>68.2</td>\n",
       "      <td>71</td>\n",
       "      <td>26.9</td>\n",
       "      <td>189</td>\n",
       "      <td>71.6</td>\n",
       "      <td>2.0</td>\n",
       "      <td>0.8</td>\n",
       "      <td>2.0</td>\n",
       "      <td>0.8</td>\n",
       "      <td>108.0</td>\n",
       "      <td>40.9</td>\n",
       "      <td>95.0</td>\n",
       "      <td>36.0</td>\n",
       "      <td>55</td>\n",
       "      <td>20.8</td>\n",
       "      <td>6.0</td>\n",
       "      <td>2.3</td>\n",
       "    </tr>\n",
       "    <tr>\n",
       "      <th>PARTIDO SOCIAL CRISTÃO</th>\n",
       "      <td>84</td>\n",
       "      <td>31.3</td>\n",
       "      <td>184</td>\n",
       "      <td>68.7</td>\n",
       "      <td>63</td>\n",
       "      <td>23.5</td>\n",
       "      <td>204</td>\n",
       "      <td>76.1</td>\n",
       "      <td>1.0</td>\n",
       "      <td>0.4</td>\n",
       "      <td>0.0</td>\n",
       "      <td>0.0</td>\n",
       "      <td>117.0</td>\n",
       "      <td>43.7</td>\n",
       "      <td>68.0</td>\n",
       "      <td>25.4</td>\n",
       "      <td>73</td>\n",
       "      <td>27.2</td>\n",
       "      <td>10.0</td>\n",
       "      <td>3.7</td>\n",
       "    </tr>\n",
       "    <tr>\n",
       "      <th>PARTIDO SOCIAL DEMOCRATA CRISTÃO</th>\n",
       "      <td>31</td>\n",
       "      <td>28.7</td>\n",
       "      <td>77</td>\n",
       "      <td>71.3</td>\n",
       "      <td>34</td>\n",
       "      <td>31.5</td>\n",
       "      <td>74</td>\n",
       "      <td>68.5</td>\n",
       "      <td>0.0</td>\n",
       "      <td>0.0</td>\n",
       "      <td>0.0</td>\n",
       "      <td>0.0</td>\n",
       "      <td>66.0</td>\n",
       "      <td>61.1</td>\n",
       "      <td>21.0</td>\n",
       "      <td>19.4</td>\n",
       "      <td>20</td>\n",
       "      <td>18.5</td>\n",
       "      <td>1.0</td>\n",
       "      <td>0.9</td>\n",
       "    </tr>\n",
       "    <tr>\n",
       "      <th>PARTIDO SOCIAL DEMOCRÁTICO</th>\n",
       "      <td>121</td>\n",
       "      <td>34.3</td>\n",
       "      <td>232</td>\n",
       "      <td>65.7</td>\n",
       "      <td>88</td>\n",
       "      <td>24.9</td>\n",
       "      <td>263</td>\n",
       "      <td>74.5</td>\n",
       "      <td>2.0</td>\n",
       "      <td>0.6</td>\n",
       "      <td>0.0</td>\n",
       "      <td>0.0</td>\n",
       "      <td>148.0</td>\n",
       "      <td>41.9</td>\n",
       "      <td>112.0</td>\n",
       "      <td>31.7</td>\n",
       "      <td>79</td>\n",
       "      <td>22.4</td>\n",
       "      <td>14.0</td>\n",
       "      <td>4.0</td>\n",
       "    </tr>\n",
       "    <tr>\n",
       "      <th>PARTIDO SOCIAL LIBERAL</th>\n",
       "      <td>80</td>\n",
       "      <td>34.2</td>\n",
       "      <td>154</td>\n",
       "      <td>65.8</td>\n",
       "      <td>58</td>\n",
       "      <td>24.8</td>\n",
       "      <td>175</td>\n",
       "      <td>74.8</td>\n",
       "      <td>1.0</td>\n",
       "      <td>0.4</td>\n",
       "      <td>0.0</td>\n",
       "      <td>0.0</td>\n",
       "      <td>112.0</td>\n",
       "      <td>47.9</td>\n",
       "      <td>65.0</td>\n",
       "      <td>27.8</td>\n",
       "      <td>47</td>\n",
       "      <td>20.1</td>\n",
       "      <td>10.0</td>\n",
       "      <td>4.3</td>\n",
       "    </tr>\n",
       "    <tr>\n",
       "      <th>PARTIDO SOCIALISMO E LIBERDADE</th>\n",
       "      <td>23</td>\n",
       "      <td>41.1</td>\n",
       "      <td>33</td>\n",
       "      <td>58.9</td>\n",
       "      <td>7</td>\n",
       "      <td>12.5</td>\n",
       "      <td>49</td>\n",
       "      <td>87.5</td>\n",
       "      <td>0.0</td>\n",
       "      <td>0.0</td>\n",
       "      <td>0.0</td>\n",
       "      <td>0.0</td>\n",
       "      <td>30.0</td>\n",
       "      <td>53.6</td>\n",
       "      <td>16.0</td>\n",
       "      <td>28.6</td>\n",
       "      <td>10</td>\n",
       "      <td>17.9</td>\n",
       "      <td>0.0</td>\n",
       "      <td>0.0</td>\n",
       "    </tr>\n",
       "    <tr>\n",
       "      <th>PARTIDO SOCIALISTA BRASILEIRO</th>\n",
       "      <td>90</td>\n",
       "      <td>30.1</td>\n",
       "      <td>209</td>\n",
       "      <td>69.9</td>\n",
       "      <td>78</td>\n",
       "      <td>26.1</td>\n",
       "      <td>220</td>\n",
       "      <td>73.6</td>\n",
       "      <td>0.0</td>\n",
       "      <td>0.0</td>\n",
       "      <td>1.0</td>\n",
       "      <td>0.3</td>\n",
       "      <td>119.0</td>\n",
       "      <td>39.8</td>\n",
       "      <td>81.0</td>\n",
       "      <td>27.1</td>\n",
       "      <td>89</td>\n",
       "      <td>29.8</td>\n",
       "      <td>10.0</td>\n",
       "      <td>3.3</td>\n",
       "    </tr>\n",
       "    <tr>\n",
       "      <th>PARTIDO SOCIALISTA DOS TRABALHADORES UNIFICADO</th>\n",
       "      <td>1</td>\n",
       "      <td>33.3</td>\n",
       "      <td>2</td>\n",
       "      <td>66.7</td>\n",
       "      <td>1</td>\n",
       "      <td>33.3</td>\n",
       "      <td>2</td>\n",
       "      <td>66.7</td>\n",
       "      <td>0.0</td>\n",
       "      <td>0.0</td>\n",
       "      <td>0.0</td>\n",
       "      <td>0.0</td>\n",
       "      <td>0.0</td>\n",
       "      <td>0.0</td>\n",
       "      <td>0.0</td>\n",
       "      <td>0.0</td>\n",
       "      <td>3</td>\n",
       "      <td>100.0</td>\n",
       "      <td>0.0</td>\n",
       "      <td>0.0</td>\n",
       "    </tr>\n",
       "    <tr>\n",
       "      <th>PARTIDO TRABALHISTA BRASILEIRO</th>\n",
       "      <td>14</td>\n",
       "      <td>20.3</td>\n",
       "      <td>55</td>\n",
       "      <td>79.7</td>\n",
       "      <td>20</td>\n",
       "      <td>29.0</td>\n",
       "      <td>48</td>\n",
       "      <td>69.6</td>\n",
       "      <td>1.0</td>\n",
       "      <td>1.4</td>\n",
       "      <td>0.0</td>\n",
       "      <td>0.0</td>\n",
       "      <td>31.0</td>\n",
       "      <td>44.9</td>\n",
       "      <td>21.0</td>\n",
       "      <td>30.4</td>\n",
       "      <td>15</td>\n",
       "      <td>21.7</td>\n",
       "      <td>2.0</td>\n",
       "      <td>2.9</td>\n",
       "    </tr>\n",
       "    <tr>\n",
       "      <th>PARTIDO TRABALHISTA CRISTÃO</th>\n",
       "      <td>33</td>\n",
       "      <td>27.5</td>\n",
       "      <td>87</td>\n",
       "      <td>72.5</td>\n",
       "      <td>26</td>\n",
       "      <td>21.7</td>\n",
       "      <td>94</td>\n",
       "      <td>78.3</td>\n",
       "      <td>0.0</td>\n",
       "      <td>0.0</td>\n",
       "      <td>0.0</td>\n",
       "      <td>0.0</td>\n",
       "      <td>52.0</td>\n",
       "      <td>43.3</td>\n",
       "      <td>37.0</td>\n",
       "      <td>30.8</td>\n",
       "      <td>30</td>\n",
       "      <td>25.0</td>\n",
       "      <td>1.0</td>\n",
       "      <td>0.8</td>\n",
       "    </tr>\n",
       "    <tr>\n",
       "      <th>PARTIDO TRABALHISTA DO BRASIL</th>\n",
       "      <td>26</td>\n",
       "      <td>27.4</td>\n",
       "      <td>69</td>\n",
       "      <td>72.6</td>\n",
       "      <td>27</td>\n",
       "      <td>28.4</td>\n",
       "      <td>68</td>\n",
       "      <td>71.6</td>\n",
       "      <td>0.0</td>\n",
       "      <td>0.0</td>\n",
       "      <td>0.0</td>\n",
       "      <td>0.0</td>\n",
       "      <td>46.0</td>\n",
       "      <td>48.4</td>\n",
       "      <td>28.0</td>\n",
       "      <td>29.5</td>\n",
       "      <td>16</td>\n",
       "      <td>16.8</td>\n",
       "      <td>5.0</td>\n",
       "      <td>5.3</td>\n",
       "    </tr>\n",
       "    <tr>\n",
       "      <th>PARTIDO TRABALHISTA NACIONAL</th>\n",
       "      <td>26</td>\n",
       "      <td>31.7</td>\n",
       "      <td>56</td>\n",
       "      <td>68.3</td>\n",
       "      <td>22</td>\n",
       "      <td>26.8</td>\n",
       "      <td>59</td>\n",
       "      <td>72.0</td>\n",
       "      <td>1.0</td>\n",
       "      <td>1.2</td>\n",
       "      <td>0.0</td>\n",
       "      <td>0.0</td>\n",
       "      <td>38.0</td>\n",
       "      <td>46.3</td>\n",
       "      <td>20.0</td>\n",
       "      <td>24.4</td>\n",
       "      <td>20</td>\n",
       "      <td>24.4</td>\n",
       "      <td>4.0</td>\n",
       "      <td>4.9</td>\n",
       "    </tr>\n",
       "    <tr>\n",
       "      <th>PARTIDO VERDE</th>\n",
       "      <td>53</td>\n",
       "      <td>37.6</td>\n",
       "      <td>88</td>\n",
       "      <td>62.4</td>\n",
       "      <td>33</td>\n",
       "      <td>23.4</td>\n",
       "      <td>108</td>\n",
       "      <td>76.6</td>\n",
       "      <td>0.0</td>\n",
       "      <td>0.0</td>\n",
       "      <td>0.0</td>\n",
       "      <td>0.0</td>\n",
       "      <td>70.0</td>\n",
       "      <td>49.6</td>\n",
       "      <td>32.0</td>\n",
       "      <td>22.7</td>\n",
       "      <td>37</td>\n",
       "      <td>26.2</td>\n",
       "      <td>2.0</td>\n",
       "      <td>1.4</td>\n",
       "    </tr>\n",
       "    <tr>\n",
       "      <th>REDE SUSTENTABILIDADE</th>\n",
       "      <td>8</td>\n",
       "      <td>40.0</td>\n",
       "      <td>12</td>\n",
       "      <td>60.0</td>\n",
       "      <td>2</td>\n",
       "      <td>10.0</td>\n",
       "      <td>18</td>\n",
       "      <td>90.0</td>\n",
       "      <td>0.0</td>\n",
       "      <td>0.0</td>\n",
       "      <td>0.0</td>\n",
       "      <td>0.0</td>\n",
       "      <td>5.0</td>\n",
       "      <td>25.0</td>\n",
       "      <td>5.0</td>\n",
       "      <td>25.0</td>\n",
       "      <td>10</td>\n",
       "      <td>50.0</td>\n",
       "      <td>0.0</td>\n",
       "      <td>0.0</td>\n",
       "    </tr>\n",
       "    <tr>\n",
       "      <th>SOLIDARIEDADE</th>\n",
       "      <td>73</td>\n",
       "      <td>35.4</td>\n",
       "      <td>133</td>\n",
       "      <td>64.6</td>\n",
       "      <td>53</td>\n",
       "      <td>25.7</td>\n",
       "      <td>150</td>\n",
       "      <td>72.8</td>\n",
       "      <td>1.0</td>\n",
       "      <td>0.5</td>\n",
       "      <td>2.0</td>\n",
       "      <td>1.0</td>\n",
       "      <td>79.0</td>\n",
       "      <td>38.3</td>\n",
       "      <td>80.0</td>\n",
       "      <td>38.8</td>\n",
       "      <td>39</td>\n",
       "      <td>18.9</td>\n",
       "      <td>8.0</td>\n",
       "      <td>3.9</td>\n",
       "    </tr>\n",
       "  </tbody>\n",
       "</table>\n",
       "</div>"
      ],
      "text/plain": [
       "                                                FEMININO  %FEMININO  \\\n",
       "DEMOCRATAS                                           106       36.4   \n",
       "PARTIDO COMUNISTA DO BRASIL                           33       33.7   \n",
       "PARTIDO DA MOBILIZAÇÃO NACIONAL                       69       32.5   \n",
       "PARTIDO DA MULHER BRASILEIRA                          16       42.1   \n",
       "PARTIDO DA REPÚBLICA                                  67       32.4   \n",
       "PARTIDO DA SOCIAL DEMOCRACIA BRASILEIRA              140       37.0   \n",
       "PARTIDO DEMOCRÁTICO TRABALHISTA                       93       29.5   \n",
       "PARTIDO DO MOVIMENTO DEMOCRÁTICO BRASILEIRO          278       33.5   \n",
       "PARTIDO DOS TRABALHADORES                             79       34.5   \n",
       "PARTIDO ECOLÓGICO NACIONAL                            28       28.0   \n",
       "PARTIDO HUMANISTA DA SOLIDARIEDADE                    70       31.8   \n",
       "PARTIDO POPULAR SOCIALISTA                           101       35.3   \n",
       "PARTIDO PROGRESSISTA                                 145       34.3   \n",
       "PARTIDO PÁTRIA LIVRE                                  42       28.8   \n",
       "PARTIDO RENOVADOR TRABALHISTA BRASILEIRO              69       35.9   \n",
       "PARTIDO REPUBLICANO BRASILEIRO                        82       32.4   \n",
       "PARTIDO REPUBLICANO DA ORDEM SOCIAL                   35       35.7   \n",
       "PARTIDO REPUBLICANO PROGRESSISTA                      84       31.8   \n",
       "PARTIDO SOCIAL CRISTÃO                                84       31.3   \n",
       "PARTIDO SOCIAL DEMOCRATA CRISTÃO                      31       28.7   \n",
       "PARTIDO SOCIAL DEMOCRÁTICO                           121       34.3   \n",
       "PARTIDO SOCIAL LIBERAL                                80       34.2   \n",
       "PARTIDO SOCIALISMO E LIBERDADE                        23       41.1   \n",
       "PARTIDO SOCIALISTA BRASILEIRO                         90       30.1   \n",
       "PARTIDO SOCIALISTA DOS TRABALHADORES UNIFICADO         1       33.3   \n",
       "PARTIDO TRABALHISTA BRASILEIRO                        14       20.3   \n",
       "PARTIDO TRABALHISTA CRISTÃO                           33       27.5   \n",
       "PARTIDO TRABALHISTA DO BRASIL                         26       27.4   \n",
       "PARTIDO TRABALHISTA NACIONAL                          26       31.7   \n",
       "PARTIDO VERDE                                         53       37.6   \n",
       "REDE SUSTENTABILIDADE                                  8       40.0   \n",
       "SOLIDARIEDADE                                         73       35.4   \n",
       "\n",
       "                                                MASCULINO  %MASCULINO  BRANCA  \\\n",
       "DEMOCRATAS                                            185        63.6      95   \n",
       "PARTIDO COMUNISTA DO BRASIL                            65        66.3      22   \n",
       "PARTIDO DA MOBILIZAÇÃO NACIONAL                       143        67.5      56   \n",
       "PARTIDO DA MULHER BRASILEIRA                           22        57.9      17   \n",
       "PARTIDO DA REPÚBLICA                                  140        67.6      56   \n",
       "PARTIDO DA SOCIAL DEMOCRACIA BRASILEIRA               238        63.0     101   \n",
       "PARTIDO DEMOCRÁTICO TRABALHISTA                       222        70.5     101   \n",
       "PARTIDO DO MOVIMENTO DEMOCRÁTICO BRASILEIRO           553        66.5     265   \n",
       "PARTIDO DOS TRABALHADORES                             150        65.5      60   \n",
       "PARTIDO ECOLÓGICO NACIONAL                             72        72.0      35   \n",
       "PARTIDO HUMANISTA DA SOLIDARIEDADE                    150        68.2      57   \n",
       "PARTIDO POPULAR SOCIALISTA                            185        64.7      82   \n",
       "PARTIDO PROGRESSISTA                                  278        65.7     116   \n",
       "PARTIDO PÁTRIA LIVRE                                  104        71.2      38   \n",
       "PARTIDO RENOVADOR TRABALHISTA BRASILEIRO              123        64.1      48   \n",
       "PARTIDO REPUBLICANO BRASILEIRO                        171        67.6      49   \n",
       "PARTIDO REPUBLICANO DA ORDEM SOCIAL                    63        64.3      32   \n",
       "PARTIDO REPUBLICANO PROGRESSISTA                      180        68.2      71   \n",
       "PARTIDO SOCIAL CRISTÃO                                184        68.7      63   \n",
       "PARTIDO SOCIAL DEMOCRATA CRISTÃO                       77        71.3      34   \n",
       "PARTIDO SOCIAL DEMOCRÁTICO                            232        65.7      88   \n",
       "PARTIDO SOCIAL LIBERAL                                154        65.8      58   \n",
       "PARTIDO SOCIALISMO E LIBERDADE                         33        58.9       7   \n",
       "PARTIDO SOCIALISTA BRASILEIRO                         209        69.9      78   \n",
       "PARTIDO SOCIALISTA DOS TRABALHADORES UNIFICADO          2        66.7       1   \n",
       "PARTIDO TRABALHISTA BRASILEIRO                         55        79.7      20   \n",
       "PARTIDO TRABALHISTA CRISTÃO                            87        72.5      26   \n",
       "PARTIDO TRABALHISTA DO BRASIL                          69        72.6      27   \n",
       "PARTIDO TRABALHISTA NACIONAL                           56        68.3      22   \n",
       "PARTIDO VERDE                                          88        62.4      33   \n",
       "REDE SUSTENTABILIDADE                                  12        60.0       2   \n",
       "SOLIDARIEDADE                                         133        64.6      53   \n",
       "\n",
       "                                                %BRANCA  NEGRA  %NEGRA  \\\n",
       "DEMOCRATAS                                         32.6    192    66.0   \n",
       "PARTIDO COMUNISTA DO BRASIL                        22.4     71    72.4   \n",
       "PARTIDO DA MOBILIZAÇÃO NACIONAL                    26.4    156    73.6   \n",
       "PARTIDO DA MULHER BRASILEIRA                       44.7     21    55.3   \n",
       "PARTIDO DA REPÚBLICA                               27.1    146    70.5   \n",
       "PARTIDO DA SOCIAL DEMOCRACIA BRASILEIRA            26.7    270    71.4   \n",
       "PARTIDO DEMOCRÁTICO TRABALHISTA                    32.1    214    67.9   \n",
       "PARTIDO DO MOVIMENTO DEMOCRÁTICO BRASILEIRO        31.9    562    67.6   \n",
       "PARTIDO DOS TRABALHADORES                          26.2    168    73.4   \n",
       "PARTIDO ECOLÓGICO NACIONAL                         35.0     64    64.0   \n",
       "PARTIDO HUMANISTA DA SOLIDARIEDADE                 25.9    160    72.7   \n",
       "PARTIDO POPULAR SOCIALISTA                         28.7    202    70.6   \n",
       "PARTIDO PROGRESSISTA                               27.4    300    70.9   \n",
       "PARTIDO PÁTRIA LIVRE                               26.0    107    73.3   \n",
       "PARTIDO RENOVADOR TRABALHISTA BRASILEIRO           25.0    142    74.0   \n",
       "PARTIDO REPUBLICANO BRASILEIRO                     19.4    202    79.8   \n",
       "PARTIDO REPUBLICANO DA ORDEM SOCIAL                32.7     66    67.3   \n",
       "PARTIDO REPUBLICANO PROGRESSISTA                   26.9    189    71.6   \n",
       "PARTIDO SOCIAL CRISTÃO                             23.5    204    76.1   \n",
       "PARTIDO SOCIAL DEMOCRATA CRISTÃO                   31.5     74    68.5   \n",
       "PARTIDO SOCIAL DEMOCRÁTICO                         24.9    263    74.5   \n",
       "PARTIDO SOCIAL LIBERAL                             24.8    175    74.8   \n",
       "PARTIDO SOCIALISMO E LIBERDADE                     12.5     49    87.5   \n",
       "PARTIDO SOCIALISTA BRASILEIRO                      26.1    220    73.6   \n",
       "PARTIDO SOCIALISTA DOS TRABALHADORES UNIFICADO     33.3      2    66.7   \n",
       "PARTIDO TRABALHISTA BRASILEIRO                     29.0     48    69.6   \n",
       "PARTIDO TRABALHISTA CRISTÃO                        21.7     94    78.3   \n",
       "PARTIDO TRABALHISTA DO BRASIL                      28.4     68    71.6   \n",
       "PARTIDO TRABALHISTA NACIONAL                       26.8     59    72.0   \n",
       "PARTIDO VERDE                                      23.4    108    76.6   \n",
       "REDE SUSTENTABILIDADE                              10.0     18    90.0   \n",
       "SOLIDARIEDADE                                      25.7    150    72.8   \n",
       "\n",
       "                                                AMARELA  %AMARELA  INDÍGENA  \\\n",
       "DEMOCRATAS                                          0.0       0.0       4.0   \n",
       "PARTIDO COMUNISTA DO BRASIL                         1.0       1.0       4.0   \n",
       "PARTIDO DA MOBILIZAÇÃO NACIONAL                     0.0       0.0       0.0   \n",
       "PARTIDO DA MULHER BRASILEIRA                        0.0       0.0       0.0   \n",
       "PARTIDO DA REPÚBLICA                                3.0       1.4       2.0   \n",
       "PARTIDO DA SOCIAL DEMOCRACIA BRASILEIRA             5.0       1.3       2.0   \n",
       "PARTIDO DEMOCRÁTICO TRABALHISTA                     0.0       0.0       0.0   \n",
       "PARTIDO DO MOVIMENTO DEMOCRÁTICO BRASILEIRO         4.0       0.5       0.0   \n",
       "PARTIDO DOS TRABALHADORES                           1.0       0.4       0.0   \n",
       "PARTIDO ECOLÓGICO NACIONAL                          1.0       1.0       0.0   \n",
       "PARTIDO HUMANISTA DA SOLIDARIEDADE                  1.0       0.5       2.0   \n",
       "PARTIDO POPULAR SOCIALISTA                          0.0       0.0       2.0   \n",
       "PARTIDO PROGRESSISTA                                7.0       1.7       0.0   \n",
       "PARTIDO PÁTRIA LIVRE                                1.0       0.7       0.0   \n",
       "PARTIDO RENOVADOR TRABALHISTA BRASILEIRO            2.0       1.0       0.0   \n",
       "PARTIDO REPUBLICANO BRASILEIRO                      2.0       0.8       0.0   \n",
       "PARTIDO REPUBLICANO DA ORDEM SOCIAL                 0.0       0.0       0.0   \n",
       "PARTIDO REPUBLICANO PROGRESSISTA                    2.0       0.8       2.0   \n",
       "PARTIDO SOCIAL CRISTÃO                              1.0       0.4       0.0   \n",
       "PARTIDO SOCIAL DEMOCRATA CRISTÃO                    0.0       0.0       0.0   \n",
       "PARTIDO SOCIAL DEMOCRÁTICO                          2.0       0.6       0.0   \n",
       "PARTIDO SOCIAL LIBERAL                              1.0       0.4       0.0   \n",
       "PARTIDO SOCIALISMO E LIBERDADE                      0.0       0.0       0.0   \n",
       "PARTIDO SOCIALISTA BRASILEIRO                       0.0       0.0       1.0   \n",
       "PARTIDO SOCIALISTA DOS TRABALHADORES UNIFICADO      0.0       0.0       0.0   \n",
       "PARTIDO TRABALHISTA BRASILEIRO                      1.0       1.4       0.0   \n",
       "PARTIDO TRABALHISTA CRISTÃO                         0.0       0.0       0.0   \n",
       "PARTIDO TRABALHISTA DO BRASIL                       0.0       0.0       0.0   \n",
       "PARTIDO TRABALHISTA NACIONAL                        1.0       1.2       0.0   \n",
       "PARTIDO VERDE                                       0.0       0.0       0.0   \n",
       "REDE SUSTENTABILIDADE                               0.0       0.0       0.0   \n",
       "SOLIDARIEDADE                                       1.0       0.5       2.0   \n",
       "\n",
       "                                                %INDÍGENA  ENSINO MÉDIO  \\\n",
       "DEMOCRATAS                                            1.4         142.0   \n",
       "PARTIDO COMUNISTA DO BRASIL                           4.1          51.0   \n",
       "PARTIDO DA MOBILIZAÇÃO NACIONAL                       0.0          94.0   \n",
       "PARTIDO DA MULHER BRASILEIRA                          0.0          17.0   \n",
       "PARTIDO DA REPÚBLICA                                  1.0         104.0   \n",
       "PARTIDO DA SOCIAL DEMOCRACIA BRASILEIRA               0.5         165.0   \n",
       "PARTIDO DEMOCRÁTICO TRABALHISTA                       0.0         153.0   \n",
       "PARTIDO DO MOVIMENTO DEMOCRÁTICO BRASILEIRO           0.0         393.0   \n",
       "PARTIDO DOS TRABALHADORES                             0.0          82.0   \n",
       "PARTIDO ECOLÓGICO NACIONAL                            0.0          50.0   \n",
       "PARTIDO HUMANISTA DA SOLIDARIEDADE                    0.9         100.0   \n",
       "PARTIDO POPULAR SOCIALISTA                            0.7         140.0   \n",
       "PARTIDO PROGRESSISTA                                  0.0         168.0   \n",
       "PARTIDO PÁTRIA LIVRE                                  0.0          71.0   \n",
       "PARTIDO RENOVADOR TRABALHISTA BRASILEIRO              0.0          85.0   \n",
       "PARTIDO REPUBLICANO BRASILEIRO                        0.0         130.0   \n",
       "PARTIDO REPUBLICANO DA ORDEM SOCIAL                   0.0          54.0   \n",
       "PARTIDO REPUBLICANO PROGRESSISTA                      0.8         108.0   \n",
       "PARTIDO SOCIAL CRISTÃO                                0.0         117.0   \n",
       "PARTIDO SOCIAL DEMOCRATA CRISTÃO                      0.0          66.0   \n",
       "PARTIDO SOCIAL DEMOCRÁTICO                            0.0         148.0   \n",
       "PARTIDO SOCIAL LIBERAL                                0.0         112.0   \n",
       "PARTIDO SOCIALISMO E LIBERDADE                        0.0          30.0   \n",
       "PARTIDO SOCIALISTA BRASILEIRO                         0.3         119.0   \n",
       "PARTIDO SOCIALISTA DOS TRABALHADORES UNIFICADO        0.0           0.0   \n",
       "PARTIDO TRABALHISTA BRASILEIRO                        0.0          31.0   \n",
       "PARTIDO TRABALHISTA CRISTÃO                           0.0          52.0   \n",
       "PARTIDO TRABALHISTA DO BRASIL                         0.0          46.0   \n",
       "PARTIDO TRABALHISTA NACIONAL                          0.0          38.0   \n",
       "PARTIDO VERDE                                         0.0          70.0   \n",
       "REDE SUSTENTABILIDADE                                 0.0           5.0   \n",
       "SOLIDARIEDADE                                         1.0          79.0   \n",
       "\n",
       "                                                %ENSINO MÉDIO  \\\n",
       "DEMOCRATAS                                               48.8   \n",
       "PARTIDO COMUNISTA DO BRASIL                              52.0   \n",
       "PARTIDO DA MOBILIZAÇÃO NACIONAL                          44.3   \n",
       "PARTIDO DA MULHER BRASILEIRA                             44.7   \n",
       "PARTIDO DA REPÚBLICA                                     50.2   \n",
       "PARTIDO DA SOCIAL DEMOCRACIA BRASILEIRA                  43.7   \n",
       "PARTIDO DEMOCRÁTICO TRABALHISTA                          48.6   \n",
       "PARTIDO DO MOVIMENTO DEMOCRÁTICO BRASILEIRO              47.3   \n",
       "PARTIDO DOS TRABALHADORES                                35.8   \n",
       "PARTIDO ECOLÓGICO NACIONAL                               50.0   \n",
       "PARTIDO HUMANISTA DA SOLIDARIEDADE                       45.5   \n",
       "PARTIDO POPULAR SOCIALISTA                               49.0   \n",
       "PARTIDO PROGRESSISTA                                     39.7   \n",
       "PARTIDO PÁTRIA LIVRE                                     48.6   \n",
       "PARTIDO RENOVADOR TRABALHISTA BRASILEIRO                 44.3   \n",
       "PARTIDO REPUBLICANO BRASILEIRO                           51.4   \n",
       "PARTIDO REPUBLICANO DA ORDEM SOCIAL                      55.1   \n",
       "PARTIDO REPUBLICANO PROGRESSISTA                         40.9   \n",
       "PARTIDO SOCIAL CRISTÃO                                   43.7   \n",
       "PARTIDO SOCIAL DEMOCRATA CRISTÃO                         61.1   \n",
       "PARTIDO SOCIAL DEMOCRÁTICO                               41.9   \n",
       "PARTIDO SOCIAL LIBERAL                                   47.9   \n",
       "PARTIDO SOCIALISMO E LIBERDADE                           53.6   \n",
       "PARTIDO SOCIALISTA BRASILEIRO                            39.8   \n",
       "PARTIDO SOCIALISTA DOS TRABALHADORES UNIFICADO            0.0   \n",
       "PARTIDO TRABALHISTA BRASILEIRO                           44.9   \n",
       "PARTIDO TRABALHISTA CRISTÃO                              43.3   \n",
       "PARTIDO TRABALHISTA DO BRASIL                            48.4   \n",
       "PARTIDO TRABALHISTA NACIONAL                             46.3   \n",
       "PARTIDO VERDE                                            49.6   \n",
       "REDE SUSTENTABILIDADE                                    25.0   \n",
       "SOLIDARIEDADE                                            38.3   \n",
       "\n",
       "                                                ENSINO FUNDAMENTAL  \\\n",
       "DEMOCRATAS                                                    64.0   \n",
       "PARTIDO COMUNISTA DO BRASIL                                   15.0   \n",
       "PARTIDO DA MOBILIZAÇÃO NACIONAL                               66.0   \n",
       "PARTIDO DA MULHER BRASILEIRA                                  10.0   \n",
       "PARTIDO DA REPÚBLICA                                          58.0   \n",
       "PARTIDO DA SOCIAL DEMOCRACIA BRASILEIRA                      102.0   \n",
       "PARTIDO DEMOCRÁTICO TRABALHISTA                               71.0   \n",
       "PARTIDO DO MOVIMENTO DEMOCRÁTICO BRASILEIRO                  199.0   \n",
       "PARTIDO DOS TRABALHADORES                                     63.0   \n",
       "PARTIDO ECOLÓGICO NACIONAL                                    25.0   \n",
       "PARTIDO HUMANISTA DA SOLIDARIEDADE                            71.0   \n",
       "PARTIDO POPULAR SOCIALISTA                                    79.0   \n",
       "PARTIDO PROGRESSISTA                                         153.0   \n",
       "PARTIDO PÁTRIA LIVRE                                          37.0   \n",
       "PARTIDO RENOVADOR TRABALHISTA BRASILEIRO                      53.0   \n",
       "PARTIDO REPUBLICANO BRASILEIRO                                74.0   \n",
       "PARTIDO REPUBLICANO DA ORDEM SOCIAL                           20.0   \n",
       "PARTIDO REPUBLICANO PROGRESSISTA                              95.0   \n",
       "PARTIDO SOCIAL CRISTÃO                                        68.0   \n",
       "PARTIDO SOCIAL DEMOCRATA CRISTÃO                              21.0   \n",
       "PARTIDO SOCIAL DEMOCRÁTICO                                   112.0   \n",
       "PARTIDO SOCIAL LIBERAL                                        65.0   \n",
       "PARTIDO SOCIALISMO E LIBERDADE                                16.0   \n",
       "PARTIDO SOCIALISTA BRASILEIRO                                 81.0   \n",
       "PARTIDO SOCIALISTA DOS TRABALHADORES UNIFICADO                 0.0   \n",
       "PARTIDO TRABALHISTA BRASILEIRO                                21.0   \n",
       "PARTIDO TRABALHISTA CRISTÃO                                   37.0   \n",
       "PARTIDO TRABALHISTA DO BRASIL                                 28.0   \n",
       "PARTIDO TRABALHISTA NACIONAL                                  20.0   \n",
       "PARTIDO VERDE                                                 32.0   \n",
       "REDE SUSTENTABILIDADE                                          5.0   \n",
       "SOLIDARIEDADE                                                 80.0   \n",
       "\n",
       "                                                %ENSINO FUNDAMENTAL  \\\n",
       "DEMOCRATAS                                                     22.0   \n",
       "PARTIDO COMUNISTA DO BRASIL                                    15.3   \n",
       "PARTIDO DA MOBILIZAÇÃO NACIONAL                                31.1   \n",
       "PARTIDO DA MULHER BRASILEIRA                                   26.3   \n",
       "PARTIDO DA REPÚBLICA                                           28.0   \n",
       "PARTIDO DA SOCIAL DEMOCRACIA BRASILEIRA                        27.0   \n",
       "PARTIDO DEMOCRÁTICO TRABALHISTA                                22.5   \n",
       "PARTIDO DO MOVIMENTO DEMOCRÁTICO BRASILEIRO                    23.9   \n",
       "PARTIDO DOS TRABALHADORES                                      27.5   \n",
       "PARTIDO ECOLÓGICO NACIONAL                                     25.0   \n",
       "PARTIDO HUMANISTA DA SOLIDARIEDADE                             32.3   \n",
       "PARTIDO POPULAR SOCIALISTA                                     27.6   \n",
       "PARTIDO PROGRESSISTA                                           36.2   \n",
       "PARTIDO PÁTRIA LIVRE                                           25.3   \n",
       "PARTIDO RENOVADOR TRABALHISTA BRASILEIRO                       27.6   \n",
       "PARTIDO REPUBLICANO BRASILEIRO                                 29.2   \n",
       "PARTIDO REPUBLICANO DA ORDEM SOCIAL                            20.4   \n",
       "PARTIDO REPUBLICANO PROGRESSISTA                               36.0   \n",
       "PARTIDO SOCIAL CRISTÃO                                         25.4   \n",
       "PARTIDO SOCIAL DEMOCRATA CRISTÃO                               19.4   \n",
       "PARTIDO SOCIAL DEMOCRÁTICO                                     31.7   \n",
       "PARTIDO SOCIAL LIBERAL                                         27.8   \n",
       "PARTIDO SOCIALISMO E LIBERDADE                                 28.6   \n",
       "PARTIDO SOCIALISTA BRASILEIRO                                  27.1   \n",
       "PARTIDO SOCIALISTA DOS TRABALHADORES UNIFICADO                  0.0   \n",
       "PARTIDO TRABALHISTA BRASILEIRO                                 30.4   \n",
       "PARTIDO TRABALHISTA CRISTÃO                                    30.8   \n",
       "PARTIDO TRABALHISTA DO BRASIL                                  29.5   \n",
       "PARTIDO TRABALHISTA NACIONAL                                   24.4   \n",
       "PARTIDO VERDE                                                  22.7   \n",
       "REDE SUSTENTABILIDADE                                          25.0   \n",
       "SOLIDARIEDADE                                                  38.8   \n",
       "\n",
       "                                                ENSINO SUPERIOR  \\\n",
       "DEMOCRATAS                                                   81   \n",
       "PARTIDO COMUNISTA DO BRASIL                                  32   \n",
       "PARTIDO DA MOBILIZAÇÃO NACIONAL                              47   \n",
       "PARTIDO DA MULHER BRASILEIRA                                  9   \n",
       "PARTIDO DA REPÚBLICA                                         41   \n",
       "PARTIDO DA SOCIAL DEMOCRACIA BRASILEIRA                      98   \n",
       "PARTIDO DEMOCRÁTICO TRABALHISTA                              81   \n",
       "PARTIDO DO MOVIMENTO DEMOCRÁTICO BRASILEIRO                 210   \n",
       "PARTIDO DOS TRABALHADORES                                    77   \n",
       "PARTIDO ECOLÓGICO NACIONAL                                   21   \n",
       "PARTIDO HUMANISTA DA SOLIDARIEDADE                           43   \n",
       "PARTIDO POPULAR SOCIALISTA                                   62   \n",
       "PARTIDO PROGRESSISTA                                         87   \n",
       "PARTIDO PÁTRIA LIVRE                                         36   \n",
       "PARTIDO RENOVADOR TRABALHISTA BRASILEIRO                     50   \n",
       "PARTIDO REPUBLICANO BRASILEIRO                               44   \n",
       "PARTIDO REPUBLICANO DA ORDEM SOCIAL                          22   \n",
       "PARTIDO REPUBLICANO PROGRESSISTA                             55   \n",
       "PARTIDO SOCIAL CRISTÃO                                       73   \n",
       "PARTIDO SOCIAL DEMOCRATA CRISTÃO                             20   \n",
       "PARTIDO SOCIAL DEMOCRÁTICO                                   79   \n",
       "PARTIDO SOCIAL LIBERAL                                       47   \n",
       "PARTIDO SOCIALISMO E LIBERDADE                               10   \n",
       "PARTIDO SOCIALISTA BRASILEIRO                                89   \n",
       "PARTIDO SOCIALISTA DOS TRABALHADORES UNIFICADO                3   \n",
       "PARTIDO TRABALHISTA BRASILEIRO                               15   \n",
       "PARTIDO TRABALHISTA CRISTÃO                                  30   \n",
       "PARTIDO TRABALHISTA DO BRASIL                                16   \n",
       "PARTIDO TRABALHISTA NACIONAL                                 20   \n",
       "PARTIDO VERDE                                                37   \n",
       "REDE SUSTENTABILIDADE                                        10   \n",
       "SOLIDARIEDADE                                                39   \n",
       "\n",
       "                                                %ENSINO SUPERIOR  \\\n",
       "DEMOCRATAS                                                  27.8   \n",
       "PARTIDO COMUNISTA DO BRASIL                                 32.7   \n",
       "PARTIDO DA MOBILIZAÇÃO NACIONAL                             22.2   \n",
       "PARTIDO DA MULHER BRASILEIRA                                23.7   \n",
       "PARTIDO DA REPÚBLICA                                        19.8   \n",
       "PARTIDO DA SOCIAL DEMOCRACIA BRASILEIRA                     25.9   \n",
       "PARTIDO DEMOCRÁTICO TRABALHISTA                             25.7   \n",
       "PARTIDO DO MOVIMENTO DEMOCRÁTICO BRASILEIRO                 25.3   \n",
       "PARTIDO DOS TRABALHADORES                                   33.6   \n",
       "PARTIDO ECOLÓGICO NACIONAL                                  21.0   \n",
       "PARTIDO HUMANISTA DA SOLIDARIEDADE                          19.5   \n",
       "PARTIDO POPULAR SOCIALISTA                                  21.7   \n",
       "PARTIDO PROGRESSISTA                                        20.6   \n",
       "PARTIDO PÁTRIA LIVRE                                        24.7   \n",
       "PARTIDO RENOVADOR TRABALHISTA BRASILEIRO                    26.0   \n",
       "PARTIDO REPUBLICANO BRASILEIRO                              17.4   \n",
       "PARTIDO REPUBLICANO DA ORDEM SOCIAL                         22.4   \n",
       "PARTIDO REPUBLICANO PROGRESSISTA                            20.8   \n",
       "PARTIDO SOCIAL CRISTÃO                                      27.2   \n",
       "PARTIDO SOCIAL DEMOCRATA CRISTÃO                            18.5   \n",
       "PARTIDO SOCIAL DEMOCRÁTICO                                  22.4   \n",
       "PARTIDO SOCIAL LIBERAL                                      20.1   \n",
       "PARTIDO SOCIALISMO E LIBERDADE                              17.9   \n",
       "PARTIDO SOCIALISTA BRASILEIRO                               29.8   \n",
       "PARTIDO SOCIALISTA DOS TRABALHADORES UNIFICADO             100.0   \n",
       "PARTIDO TRABALHISTA BRASILEIRO                              21.7   \n",
       "PARTIDO TRABALHISTA CRISTÃO                                 25.0   \n",
       "PARTIDO TRABALHISTA DO BRASIL                               16.8   \n",
       "PARTIDO TRABALHISTA NACIONAL                                24.4   \n",
       "PARTIDO VERDE                                               26.2   \n",
       "REDE SUSTENTABILIDADE                                       50.0   \n",
       "SOLIDARIEDADE                                               18.9   \n",
       "\n",
       "                                                LÊ E ESCREVE  %LÊ E ESCREVE  \n",
       "DEMOCRATAS                                               4.0            1.4  \n",
       "PARTIDO COMUNISTA DO BRASIL                              0.0            0.0  \n",
       "PARTIDO DA MOBILIZAÇÃO NACIONAL                          5.0            2.4  \n",
       "PARTIDO DA MULHER BRASILEIRA                             2.0            5.3  \n",
       "PARTIDO DA REPÚBLICA                                     4.0            1.9  \n",
       "PARTIDO DA SOCIAL DEMOCRACIA BRASILEIRA                 13.0            3.4  \n",
       "PARTIDO DEMOCRÁTICO TRABALHISTA                         10.0            3.2  \n",
       "PARTIDO DO MOVIMENTO DEMOCRÁTICO BRASILEIRO             29.0            3.5  \n",
       "PARTIDO DOS TRABALHADORES                                7.0            3.1  \n",
       "PARTIDO ECOLÓGICO NACIONAL                               4.0            4.0  \n",
       "PARTIDO HUMANISTA DA SOLIDARIEDADE                       6.0            2.7  \n",
       "PARTIDO POPULAR SOCIALISTA                               5.0            1.7  \n",
       "PARTIDO PROGRESSISTA                                    15.0            3.5  \n",
       "PARTIDO PÁTRIA LIVRE                                     2.0            1.4  \n",
       "PARTIDO RENOVADOR TRABALHISTA BRASILEIRO                 4.0            2.1  \n",
       "PARTIDO REPUBLICANO BRASILEIRO                           5.0            2.0  \n",
       "PARTIDO REPUBLICANO DA ORDEM SOCIAL                      2.0            2.0  \n",
       "PARTIDO REPUBLICANO PROGRESSISTA                         6.0            2.3  \n",
       "PARTIDO SOCIAL CRISTÃO                                  10.0            3.7  \n",
       "PARTIDO SOCIAL DEMOCRATA CRISTÃO                         1.0            0.9  \n",
       "PARTIDO SOCIAL DEMOCRÁTICO                              14.0            4.0  \n",
       "PARTIDO SOCIAL LIBERAL                                  10.0            4.3  \n",
       "PARTIDO SOCIALISMO E LIBERDADE                           0.0            0.0  \n",
       "PARTIDO SOCIALISTA BRASILEIRO                           10.0            3.3  \n",
       "PARTIDO SOCIALISTA DOS TRABALHADORES UNIFICADO           0.0            0.0  \n",
       "PARTIDO TRABALHISTA BRASILEIRO                           2.0            2.9  \n",
       "PARTIDO TRABALHISTA CRISTÃO                              1.0            0.8  \n",
       "PARTIDO TRABALHISTA DO BRASIL                            5.0            5.3  \n",
       "PARTIDO TRABALHISTA NACIONAL                             4.0            4.9  \n",
       "PARTIDO VERDE                                            2.0            1.4  \n",
       "REDE SUSTENTABILIDADE                                    0.0            0.0  \n",
       "SOLIDARIEDADE                                            8.0            3.9  "
      ]
     },
     "execution_count": 176,
     "metadata": {},
     "output_type": "execute_result"
    }
   ],
   "source": [
    "df_partidos"
   ]
  },
  {
   "cell_type": "markdown",
   "metadata": {},
   "source": [
    "*Unidade Eleitoral*"
   ]
  },
  {
   "cell_type": "code",
   "execution_count": 184,
   "metadata": {},
   "outputs": [],
   "source": [
    "# Variaveis de Gênero \n",
    "fem_ue = fem['NM_UE'].value_counts()\n",
    "masc_ue = masc['NM_UE'].value_counts()\n"
   ]
  },
  {
   "cell_type": "code",
   "execution_count": 185,
   "metadata": {},
   "outputs": [],
   "source": [
    "total_gen_ue = fem_ue + masc_ue"
   ]
  },
  {
   "cell_type": "code",
   "execution_count": 188,
   "metadata": {
    "collapsed": true
   },
   "outputs": [
    {
     "data": {
      "text/plain": [
       "MACEIÓ                   154\n",
       "ARAPIRACA                148\n",
       "UNIÃO DOS PALMARES       120\n",
       "SÃO MIGUEL DOS CAMPOS    110\n",
       "RIO LARGO                 94\n",
       "                        ... \n",
       "MAR VERMELHO              18\n",
       "JACARÉ DOS HOMENS         18\n",
       "CAMPO GRANDE              17\n",
       "PINDOBA                   16\n",
       "CACIMBINHAS               15\n",
       "Name: NM_UE, Length: 102, dtype: int64"
      ]
     },
     "execution_count": 188,
     "metadata": {},
     "output_type": "execute_result"
    }
   ],
   "source": [
    "masc_ue"
   ]
  },
  {
   "cell_type": "code",
   "execution_count": 189,
   "metadata": {},
   "outputs": [],
   "source": [
    "percent_fem_ue = fem_ue * 100/total_gen_ue\n",
    "percent_masc_ue = masc_ue * 100/total_gen_ue"
   ]
  },
  {
   "cell_type": "code",
   "execution_count": 190,
   "metadata": {
    "collapsed": true
   },
   "outputs": [
    {
     "data": {
      "text/plain": [
       "ANADIA                    66.666667\n",
       "ARAPIRACA                 68.518519\n",
       "ATALAIA                   66.292135\n",
       "BARRA DE SANTO ANTÔNIO    65.957447\n",
       "BARRA DE SÃO MIGUEL       69.014085\n",
       "                            ...    \n",
       "TEOTÔNIO VILELA           68.376068\n",
       "TRAIPU                    67.741935\n",
       "UNIÃO DOS PALMARES        67.796610\n",
       "VIÇOSA                    65.714286\n",
       "ÁGUA BRANCA               66.666667\n",
       "Name: NM_UE, Length: 102, dtype: float64"
      ]
     },
     "execution_count": 190,
     "metadata": {},
     "output_type": "execute_result"
    }
   ],
   "source": [
    "percent_masc_ue"
   ]
  },
  {
   "cell_type": "code",
   "execution_count": 191,
   "metadata": {},
   "outputs": [],
   "source": [
    "percent_masc_ue = percent_masc_ue.apply(lambda x: round(x, decimais))\n",
    "percent_fem_ue = percent_fem_ue.apply(lambda x: round(x, decimais))"
   ]
  },
  {
   "cell_type": "code",
   "execution_count": 194,
   "metadata": {},
   "outputs": [],
   "source": [
    "# Variaveis de raça\n",
    "negra_ue = df_NEGRA['NM_UE'].value_counts()\n",
    "branca_ue = df_BRANCA['NM_UE'].value_counts()\n",
    "amarela_ue = df_AMARELA['NM_UE'].value_counts()\n",
    "indigena_ue = df_INDIGENA['NM_UE'].value_counts()"
   ]
  },
  {
   "cell_type": "code",
   "execution_count": 195,
   "metadata": {},
   "outputs": [],
   "source": [
    "total_raca_ue = consulta_Vereador_2016['NM_UE'].value_counts()"
   ]
  },
  {
   "cell_type": "code",
   "execution_count": 197,
   "metadata": {},
   "outputs": [],
   "source": [
    "percent_negra_ue = negra_ue *100/total_raca_ue\n",
    "percent_branca_ue = branca_ue *100/total_raca_ue\n",
    "percent_amarela_ue = amarela_ue *100/total_raca_ue\n",
    "percent_indigena_ue = indigena_ue *100/total_raca_ue"
   ]
  },
  {
   "cell_type": "code",
   "execution_count": 200,
   "metadata": {},
   "outputs": [],
   "source": [
    "percent_negra_ue = percent_negra_ue.apply(lambda x: round(x, decimais))\n",
    "percent_branca_ue = percent_branca_ue.apply(lambda x: round(x, decimais))\n",
    "percent_amarela_ue = percent_amarela_ue.apply(lambda x: round(x, decimais))\n",
    "percent_indigena_ue = percent_indigena_ue.apply(lambda x: round(x, decimais))"
   ]
  },
  {
   "cell_type": "code",
   "execution_count": 202,
   "metadata": {},
   "outputs": [],
   "source": [
    "# Variaveis de Grau de instrucao\n",
    "\n",
    "ens_Med_UE = ens_Med['NM_UE'].value_counts()\n",
    "ens_Fund_UE = ens_Fund['NM_UE'].value_counts()\n",
    "ens_Sup_UE = ens_Sup['NM_UE'].value_counts()\n",
    "ens_Le_UE = ens_Le['NM_UE'].value_counts()\n"
   ]
  },
  {
   "cell_type": "code",
   "execution_count": 203,
   "metadata": {},
   "outputs": [],
   "source": [
    "total_ens_ue = consulta_Vereador_2016['NM_UE'].value_counts()"
   ]
  },
  {
   "cell_type": "code",
   "execution_count": 204,
   "metadata": {},
   "outputs": [],
   "source": [
    "percent_ens_Med_UE = ens_Med_UE *100/total_ens_ue\n",
    "percent_ens_Fund_UE = ens_Fund_UE *100/total_ens_ue\n",
    "percent_ens_Sup_UE = ens_Sup_UE *100/total_ens_ue\n",
    "percent_ens_Le_UE = ens_Le_UE*100/total_ens_ue\n"
   ]
  },
  {
   "cell_type": "code",
   "execution_count": 205,
   "metadata": {},
   "outputs": [],
   "source": [
    "percent_ens_Med_UE= percent_ens_Med_UE.apply(lambda x: round(x, decimais))\n",
    "percent_ens_Fund_UE= percent_ens_Fund_UE.apply(lambda x: round(x, decimais))\n",
    "percent_ens_Sup_UE =percent_ens_Sup_UE.apply(lambda x: round(x, decimais))\n",
    "percent_ens_Le_UE = percent_ens_Le_UE.apply(lambda x: round(x, decimais))\n"
   ]
  },
  {
   "cell_type": "code",
   "execution_count": 208,
   "metadata": {},
   "outputs": [],
   "source": [
    "# Criando Data Frame \n",
    "\n",
    "dic2 = {'FEMININO': fem_ue, '%FEMININO': percent_fem_ue , 'MASCULINO':masc_ue,'%MASCULINO': percent_masc_ue ,\n",
    "          'BRANCA': branca_ue , '%BRANCA': percent_branca_ue , 'NEGRA': negra_ue, '%NEGRA': percent_negra_ue, 'AMARELA': amarela_ue, '%AMARELA': percent_amarela_ue, \n",
    "         'INDÍGENA': indigena_ue ,'%INDÍGENA': percent_indigena_ue, 'ENSINO MÉDIO': ens_Med_UE ,'%ENSINO MÉDIO': percent_ens_Med_UE , \n",
    "          'ENSINO FUNDAMENTAL': ens_Fund_UE, '%ENSINO FUNDAMENTAL': percent_ens_Fund_UE,\n",
    "          'ENSINO SUPERIOR': ens_Sup_UE, '%ENSINO SUPERIOR': percent_ens_Sup_UE, 'LÊ E ESCREVE': ens_Le_UE, '%LÊ E ESCREVE':percent_ens_Le_UE}\n"
   ]
  },
  {
   "cell_type": "code",
   "execution_count": 209,
   "metadata": {},
   "outputs": [],
   "source": [
    "df_ue = pd.DataFrame(dic2)"
   ]
  },
  {
   "cell_type": "code",
   "execution_count": 211,
   "metadata": {},
   "outputs": [],
   "source": [
    "df_ue = df_ue.fillna(0)"
   ]
  },
  {
   "cell_type": "code",
   "execution_count": 212,
   "metadata": {
    "collapsed": true
   },
   "outputs": [
    {
     "data": {
      "text/html": [
       "<div>\n",
       "<style scoped>\n",
       "    .dataframe tbody tr th:only-of-type {\n",
       "        vertical-align: middle;\n",
       "    }\n",
       "\n",
       "    .dataframe tbody tr th {\n",
       "        vertical-align: top;\n",
       "    }\n",
       "\n",
       "    .dataframe thead th {\n",
       "        text-align: right;\n",
       "    }\n",
       "</style>\n",
       "<table border=\"1\" class=\"dataframe\">\n",
       "  <thead>\n",
       "    <tr style=\"text-align: right;\">\n",
       "      <th></th>\n",
       "      <th>FEMININO</th>\n",
       "      <th>%FEMININO</th>\n",
       "      <th>MASCULINO</th>\n",
       "      <th>%MASCULINO</th>\n",
       "      <th>BRANCA</th>\n",
       "      <th>%BRANCA</th>\n",
       "      <th>NEGRA</th>\n",
       "      <th>%NEGRA</th>\n",
       "      <th>AMARELA</th>\n",
       "      <th>%AMARELA</th>\n",
       "      <th>INDÍGENA</th>\n",
       "      <th>%INDÍGENA</th>\n",
       "      <th>ENSINO MÉDIO</th>\n",
       "      <th>%ENSINO MÉDIO</th>\n",
       "      <th>ENSINO FUNDAMENTAL</th>\n",
       "      <th>%ENSINO FUNDAMENTAL</th>\n",
       "      <th>ENSINO SUPERIOR</th>\n",
       "      <th>%ENSINO SUPERIOR</th>\n",
       "      <th>LÊ E ESCREVE</th>\n",
       "      <th>%LÊ E ESCREVE</th>\n",
       "    </tr>\n",
       "  </thead>\n",
       "  <tbody>\n",
       "    <tr>\n",
       "      <th>ANADIA</th>\n",
       "      <td>13</td>\n",
       "      <td>33.3</td>\n",
       "      <td>26</td>\n",
       "      <td>66.7</td>\n",
       "      <td>14.0</td>\n",
       "      <td>35.9</td>\n",
       "      <td>25</td>\n",
       "      <td>64.1</td>\n",
       "      <td>0.0</td>\n",
       "      <td>0.0</td>\n",
       "      <td>0.0</td>\n",
       "      <td>0.0</td>\n",
       "      <td>14</td>\n",
       "      <td>35.9</td>\n",
       "      <td>3</td>\n",
       "      <td>7.7</td>\n",
       "      <td>17</td>\n",
       "      <td>43.6</td>\n",
       "      <td>5.0</td>\n",
       "      <td>12.8</td>\n",
       "    </tr>\n",
       "    <tr>\n",
       "      <th>ARAPIRACA</th>\n",
       "      <td>68</td>\n",
       "      <td>31.5</td>\n",
       "      <td>148</td>\n",
       "      <td>68.5</td>\n",
       "      <td>54.0</td>\n",
       "      <td>25.0</td>\n",
       "      <td>162</td>\n",
       "      <td>75.0</td>\n",
       "      <td>0.0</td>\n",
       "      <td>0.0</td>\n",
       "      <td>0.0</td>\n",
       "      <td>0.0</td>\n",
       "      <td>93</td>\n",
       "      <td>43.1</td>\n",
       "      <td>58</td>\n",
       "      <td>26.9</td>\n",
       "      <td>64</td>\n",
       "      <td>29.6</td>\n",
       "      <td>1.0</td>\n",
       "      <td>0.5</td>\n",
       "    </tr>\n",
       "    <tr>\n",
       "      <th>ATALAIA</th>\n",
       "      <td>30</td>\n",
       "      <td>33.7</td>\n",
       "      <td>59</td>\n",
       "      <td>66.3</td>\n",
       "      <td>21.0</td>\n",
       "      <td>23.6</td>\n",
       "      <td>68</td>\n",
       "      <td>76.4</td>\n",
       "      <td>0.0</td>\n",
       "      <td>0.0</td>\n",
       "      <td>0.0</td>\n",
       "      <td>0.0</td>\n",
       "      <td>39</td>\n",
       "      <td>43.8</td>\n",
       "      <td>19</td>\n",
       "      <td>21.3</td>\n",
       "      <td>29</td>\n",
       "      <td>32.6</td>\n",
       "      <td>2.0</td>\n",
       "      <td>2.2</td>\n",
       "    </tr>\n",
       "    <tr>\n",
       "      <th>BARRA DE SANTO ANTÔNIO</th>\n",
       "      <td>32</td>\n",
       "      <td>34.0</td>\n",
       "      <td>62</td>\n",
       "      <td>66.0</td>\n",
       "      <td>26.0</td>\n",
       "      <td>27.7</td>\n",
       "      <td>68</td>\n",
       "      <td>72.3</td>\n",
       "      <td>0.0</td>\n",
       "      <td>0.0</td>\n",
       "      <td>0.0</td>\n",
       "      <td>0.0</td>\n",
       "      <td>45</td>\n",
       "      <td>47.9</td>\n",
       "      <td>28</td>\n",
       "      <td>29.8</td>\n",
       "      <td>18</td>\n",
       "      <td>19.1</td>\n",
       "      <td>3.0</td>\n",
       "      <td>3.2</td>\n",
       "    </tr>\n",
       "    <tr>\n",
       "      <th>BARRA DE SÃO MIGUEL</th>\n",
       "      <td>22</td>\n",
       "      <td>31.0</td>\n",
       "      <td>49</td>\n",
       "      <td>69.0</td>\n",
       "      <td>29.0</td>\n",
       "      <td>40.8</td>\n",
       "      <td>41</td>\n",
       "      <td>57.7</td>\n",
       "      <td>1.0</td>\n",
       "      <td>1.4</td>\n",
       "      <td>0.0</td>\n",
       "      <td>0.0</td>\n",
       "      <td>26</td>\n",
       "      <td>36.6</td>\n",
       "      <td>23</td>\n",
       "      <td>32.4</td>\n",
       "      <td>21</td>\n",
       "      <td>29.6</td>\n",
       "      <td>1.0</td>\n",
       "      <td>1.4</td>\n",
       "    </tr>\n",
       "    <tr>\n",
       "      <th>...</th>\n",
       "      <td>...</td>\n",
       "      <td>...</td>\n",
       "      <td>...</td>\n",
       "      <td>...</td>\n",
       "      <td>...</td>\n",
       "      <td>...</td>\n",
       "      <td>...</td>\n",
       "      <td>...</td>\n",
       "      <td>...</td>\n",
       "      <td>...</td>\n",
       "      <td>...</td>\n",
       "      <td>...</td>\n",
       "      <td>...</td>\n",
       "      <td>...</td>\n",
       "      <td>...</td>\n",
       "      <td>...</td>\n",
       "      <td>...</td>\n",
       "      <td>...</td>\n",
       "      <td>...</td>\n",
       "      <td>...</td>\n",
       "    </tr>\n",
       "    <tr>\n",
       "      <th>TEOTÔNIO VILELA</th>\n",
       "      <td>37</td>\n",
       "      <td>31.6</td>\n",
       "      <td>80</td>\n",
       "      <td>68.4</td>\n",
       "      <td>12.0</td>\n",
       "      <td>10.3</td>\n",
       "      <td>105</td>\n",
       "      <td>89.7</td>\n",
       "      <td>0.0</td>\n",
       "      <td>0.0</td>\n",
       "      <td>0.0</td>\n",
       "      <td>0.0</td>\n",
       "      <td>57</td>\n",
       "      <td>48.7</td>\n",
       "      <td>28</td>\n",
       "      <td>23.9</td>\n",
       "      <td>25</td>\n",
       "      <td>21.4</td>\n",
       "      <td>7.0</td>\n",
       "      <td>6.0</td>\n",
       "    </tr>\n",
       "    <tr>\n",
       "      <th>TRAIPU</th>\n",
       "      <td>20</td>\n",
       "      <td>32.3</td>\n",
       "      <td>42</td>\n",
       "      <td>67.7</td>\n",
       "      <td>5.0</td>\n",
       "      <td>8.1</td>\n",
       "      <td>57</td>\n",
       "      <td>91.9</td>\n",
       "      <td>0.0</td>\n",
       "      <td>0.0</td>\n",
       "      <td>0.0</td>\n",
       "      <td>0.0</td>\n",
       "      <td>25</td>\n",
       "      <td>40.3</td>\n",
       "      <td>15</td>\n",
       "      <td>24.2</td>\n",
       "      <td>19</td>\n",
       "      <td>30.6</td>\n",
       "      <td>3.0</td>\n",
       "      <td>4.8</td>\n",
       "    </tr>\n",
       "    <tr>\n",
       "      <th>UNIÃO DOS PALMARES</th>\n",
       "      <td>57</td>\n",
       "      <td>32.2</td>\n",
       "      <td>120</td>\n",
       "      <td>67.8</td>\n",
       "      <td>54.0</td>\n",
       "      <td>30.5</td>\n",
       "      <td>122</td>\n",
       "      <td>68.9</td>\n",
       "      <td>1.0</td>\n",
       "      <td>0.6</td>\n",
       "      <td>0.0</td>\n",
       "      <td>0.0</td>\n",
       "      <td>71</td>\n",
       "      <td>40.1</td>\n",
       "      <td>59</td>\n",
       "      <td>33.3</td>\n",
       "      <td>41</td>\n",
       "      <td>23.2</td>\n",
       "      <td>6.0</td>\n",
       "      <td>3.4</td>\n",
       "    </tr>\n",
       "    <tr>\n",
       "      <th>VIÇOSA</th>\n",
       "      <td>24</td>\n",
       "      <td>34.3</td>\n",
       "      <td>46</td>\n",
       "      <td>65.7</td>\n",
       "      <td>25.0</td>\n",
       "      <td>35.7</td>\n",
       "      <td>44</td>\n",
       "      <td>62.9</td>\n",
       "      <td>1.0</td>\n",
       "      <td>1.4</td>\n",
       "      <td>0.0</td>\n",
       "      <td>0.0</td>\n",
       "      <td>24</td>\n",
       "      <td>34.3</td>\n",
       "      <td>20</td>\n",
       "      <td>28.6</td>\n",
       "      <td>20</td>\n",
       "      <td>28.6</td>\n",
       "      <td>6.0</td>\n",
       "      <td>8.6</td>\n",
       "    </tr>\n",
       "    <tr>\n",
       "      <th>ÁGUA BRANCA</th>\n",
       "      <td>22</td>\n",
       "      <td>33.3</td>\n",
       "      <td>44</td>\n",
       "      <td>66.7</td>\n",
       "      <td>1.0</td>\n",
       "      <td>1.5</td>\n",
       "      <td>65</td>\n",
       "      <td>98.5</td>\n",
       "      <td>0.0</td>\n",
       "      <td>0.0</td>\n",
       "      <td>0.0</td>\n",
       "      <td>0.0</td>\n",
       "      <td>31</td>\n",
       "      <td>47.0</td>\n",
       "      <td>20</td>\n",
       "      <td>30.3</td>\n",
       "      <td>15</td>\n",
       "      <td>22.7</td>\n",
       "      <td>0.0</td>\n",
       "      <td>0.0</td>\n",
       "    </tr>\n",
       "  </tbody>\n",
       "</table>\n",
       "<p>102 rows × 20 columns</p>\n",
       "</div>"
      ],
      "text/plain": [
       "                        FEMININO  %FEMININO  MASCULINO  %MASCULINO  BRANCA  \\\n",
       "ANADIA                        13       33.3         26        66.7    14.0   \n",
       "ARAPIRACA                     68       31.5        148        68.5    54.0   \n",
       "ATALAIA                       30       33.7         59        66.3    21.0   \n",
       "BARRA DE SANTO ANTÔNIO        32       34.0         62        66.0    26.0   \n",
       "BARRA DE SÃO MIGUEL           22       31.0         49        69.0    29.0   \n",
       "...                          ...        ...        ...         ...     ...   \n",
       "TEOTÔNIO VILELA               37       31.6         80        68.4    12.0   \n",
       "TRAIPU                        20       32.3         42        67.7     5.0   \n",
       "UNIÃO DOS PALMARES            57       32.2        120        67.8    54.0   \n",
       "VIÇOSA                        24       34.3         46        65.7    25.0   \n",
       "ÁGUA BRANCA                   22       33.3         44        66.7     1.0   \n",
       "\n",
       "                        %BRANCA  NEGRA  %NEGRA  AMARELA  %AMARELA  INDÍGENA  \\\n",
       "ANADIA                     35.9     25    64.1      0.0       0.0       0.0   \n",
       "ARAPIRACA                  25.0    162    75.0      0.0       0.0       0.0   \n",
       "ATALAIA                    23.6     68    76.4      0.0       0.0       0.0   \n",
       "BARRA DE SANTO ANTÔNIO     27.7     68    72.3      0.0       0.0       0.0   \n",
       "BARRA DE SÃO MIGUEL        40.8     41    57.7      1.0       1.4       0.0   \n",
       "...                         ...    ...     ...      ...       ...       ...   \n",
       "TEOTÔNIO VILELA            10.3    105    89.7      0.0       0.0       0.0   \n",
       "TRAIPU                      8.1     57    91.9      0.0       0.0       0.0   \n",
       "UNIÃO DOS PALMARES         30.5    122    68.9      1.0       0.6       0.0   \n",
       "VIÇOSA                     35.7     44    62.9      1.0       1.4       0.0   \n",
       "ÁGUA BRANCA                 1.5     65    98.5      0.0       0.0       0.0   \n",
       "\n",
       "                        %INDÍGENA  ENSINO MÉDIO  %ENSINO MÉDIO  \\\n",
       "ANADIA                        0.0            14           35.9   \n",
       "ARAPIRACA                     0.0            93           43.1   \n",
       "ATALAIA                       0.0            39           43.8   \n",
       "BARRA DE SANTO ANTÔNIO        0.0            45           47.9   \n",
       "BARRA DE SÃO MIGUEL           0.0            26           36.6   \n",
       "...                           ...           ...            ...   \n",
       "TEOTÔNIO VILELA               0.0            57           48.7   \n",
       "TRAIPU                        0.0            25           40.3   \n",
       "UNIÃO DOS PALMARES            0.0            71           40.1   \n",
       "VIÇOSA                        0.0            24           34.3   \n",
       "ÁGUA BRANCA                   0.0            31           47.0   \n",
       "\n",
       "                        ENSINO FUNDAMENTAL  %ENSINO FUNDAMENTAL  \\\n",
       "ANADIA                                   3                  7.7   \n",
       "ARAPIRACA                               58                 26.9   \n",
       "ATALAIA                                 19                 21.3   \n",
       "BARRA DE SANTO ANTÔNIO                  28                 29.8   \n",
       "BARRA DE SÃO MIGUEL                     23                 32.4   \n",
       "...                                    ...                  ...   \n",
       "TEOTÔNIO VILELA                         28                 23.9   \n",
       "TRAIPU                                  15                 24.2   \n",
       "UNIÃO DOS PALMARES                      59                 33.3   \n",
       "VIÇOSA                                  20                 28.6   \n",
       "ÁGUA BRANCA                             20                 30.3   \n",
       "\n",
       "                        ENSINO SUPERIOR  %ENSINO SUPERIOR  LÊ E ESCREVE  \\\n",
       "ANADIA                               17              43.6           5.0   \n",
       "ARAPIRACA                            64              29.6           1.0   \n",
       "ATALAIA                              29              32.6           2.0   \n",
       "BARRA DE SANTO ANTÔNIO               18              19.1           3.0   \n",
       "BARRA DE SÃO MIGUEL                  21              29.6           1.0   \n",
       "...                                 ...               ...           ...   \n",
       "TEOTÔNIO VILELA                      25              21.4           7.0   \n",
       "TRAIPU                               19              30.6           3.0   \n",
       "UNIÃO DOS PALMARES                   41              23.2           6.0   \n",
       "VIÇOSA                               20              28.6           6.0   \n",
       "ÁGUA BRANCA                          15              22.7           0.0   \n",
       "\n",
       "                        %LÊ E ESCREVE  \n",
       "ANADIA                           12.8  \n",
       "ARAPIRACA                         0.5  \n",
       "ATALAIA                           2.2  \n",
       "BARRA DE SANTO ANTÔNIO            3.2  \n",
       "BARRA DE SÃO MIGUEL               1.4  \n",
       "...                               ...  \n",
       "TEOTÔNIO VILELA                   6.0  \n",
       "TRAIPU                            4.8  \n",
       "UNIÃO DOS PALMARES                3.4  \n",
       "VIÇOSA                            8.6  \n",
       "ÁGUA BRANCA                       0.0  \n",
       "\n",
       "[102 rows x 20 columns]"
      ]
     },
     "execution_count": 212,
     "metadata": {},
     "output_type": "execute_result"
    }
   ],
   "source": [
    "df_ue"
   ]
  },
  {
   "cell_type": "code",
   "execution_count": 213,
   "metadata": {},
   "outputs": [],
   "source": [
    "df_ue.to_csv('consultaVereador_AL_municipios.csv')"
   ]
  }
 ],
 "metadata": {
  "kernelspec": {
   "display_name": "Python 3",
   "language": "python",
   "name": "python3"
  },
  "language_info": {
   "codemirror_mode": {
    "name": "ipython",
    "version": 3
   },
   "file_extension": ".py",
   "mimetype": "text/x-python",
   "name": "python",
   "nbconvert_exporter": "python",
   "pygments_lexer": "ipython3",
   "version": "3.8.10"
  }
 },
 "nbformat": 4,
 "nbformat_minor": 4
}
